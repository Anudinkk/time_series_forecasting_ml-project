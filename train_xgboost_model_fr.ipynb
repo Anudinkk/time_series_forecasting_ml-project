{
 "cells": [
  {
   "cell_type": "code",
   "execution_count": null,
   "id": "a30cdd31",
   "metadata": {},
   "outputs": [
    {
     "name": "stdout",
     "output_type": "stream",
     "text": [
      "Base directory for models: 'Models'\n",
      "Loading data from ../Data/3mon.csv...\n",
      "Initial data shape: (1088132, 10)\n",
      "Date range: 2025-04-01 00:00:00 to 2025-06-16 15:00:00\n",
      "Number of unique meters: 161\n",
      "Data loaded and preprocessed successfully.\n",
      "Found 161 unique meters to process.\n",
      "\n",
      "----------------------------------------------------------------------------------------------------\n",
      "STARTING XGBOOST MODEL TRAINING\n",
      "----------------------------------------------------------------------------------------------------\n"
     ]
    },
    {
     "name": "stderr",
     "output_type": "stream",
     "text": [
      "Processing Meters:   0%|          | 0/161 [00:11<?, ?it/s]"
     ]
    },
    {
     "name": "stdout",
     "output_type": "stream",
     "text": [
      "\n",
      "Best parameters for BFM 19 (Daily): {'subsample': 0.9, 'reg_lambda': 1.5, 'reg_alpha': 0.5, 'n_estimators': 500, 'max_depth': 5, 'learning_rate': 0.01, 'gamma': 0.1, 'colsample_bytree': 0.7}\n"
     ]
    },
    {
     "name": "stderr",
     "output_type": "stream",
     "text": [
      "Processing Meters:   0%|          | 0/161 [00:13<?, ?it/s]"
     ]
    },
    {
     "name": "stdout",
     "output_type": "stream",
     "text": [
      "Performance Metrics for BFM 19 (Daily): {'train_RMSE': np.float64(0.0), 'train_MAE': 0.0, 'test_RMSE': np.float64(0.0), 'test_MAE': 0.0}\n"
     ]
    },
    {
     "name": "stderr",
     "output_type": "stream",
     "text": [
      "Processing Meters:   0%|          | 0/161 [00:23<?, ?it/s]"
     ]
    },
    {
     "name": "stdout",
     "output_type": "stream",
     "text": [
      "\n",
      "Best parameters for BFM 19 (Hourly): {'subsample': 0.9, 'reg_lambda': 1.5, 'reg_alpha': 0.5, 'n_estimators': 500, 'max_depth': 5, 'learning_rate': 0.01, 'gamma': 0.1, 'colsample_bytree': 0.7}\n"
     ]
    },
    {
     "name": "stderr",
     "output_type": "stream",
     "text": [
      "Processing Meters:   1%|          | 1/161 [00:27<1:13:55, 27.72s/it]"
     ]
    },
    {
     "name": "stdout",
     "output_type": "stream",
     "text": [
      "Performance Metrics for BFM 19 (Hourly): {'train_RMSE': np.float64(0.0), 'train_MAE': 0.0, 'test_RMSE': np.float64(0.0), 'test_MAE': 0.0}\n"
     ]
    },
    {
     "name": "stderr",
     "output_type": "stream",
     "text": [
      "Processing Meters:   1%|          | 1/161 [01:03<1:13:55, 27.72s/it]"
     ]
    },
    {
     "name": "stdout",
     "output_type": "stream",
     "text": [
      "\n",
      "Best parameters for AMR-05 (Daily): {'subsample': 0.8, 'reg_lambda': 1, 'reg_alpha': 0.1, 'n_estimators': 1000, 'max_depth': 5, 'learning_rate': 0.1, 'gamma': 0.1, 'colsample_bytree': 0.9}\n"
     ]
    },
    {
     "name": "stderr",
     "output_type": "stream",
     "text": [
      "Processing Meters:   1%|          | 1/161 [01:05<1:13:55, 27.72s/it]"
     ]
    },
    {
     "name": "stdout",
     "output_type": "stream",
     "text": [
      "Performance Metrics for AMR-05 (Daily): {'train_RMSE': np.float64(0.14770944491148164), 'train_MAE': 0.112576943943019, 'test_RMSE': np.float64(0.9579658281695878), 'test_MAE': 0.7001408529677455}\n"
     ]
    },
    {
     "name": "stderr",
     "output_type": "stream",
     "text": [
      "Processing Meters:   1%|          | 1/161 [04:48<1:13:55, 27.72s/it]"
     ]
    },
    {
     "name": "stdout",
     "output_type": "stream",
     "text": [
      "\n",
      "Best parameters for AMR-05 (Hourly): {'subsample': 0.9, 'reg_lambda': 2, 'reg_alpha': 0.1, 'n_estimators': 500, 'max_depth': 3, 'learning_rate': 0.05, 'gamma': 0.1, 'colsample_bytree': 0.9}\n"
     ]
    },
    {
     "name": "stderr",
     "output_type": "stream",
     "text": [
      "Processing Meters:   1%|          | 2/161 [04:52<7:22:52, 167.12s/it]"
     ]
    },
    {
     "name": "stdout",
     "output_type": "stream",
     "text": [
      "Performance Metrics for AMR-05 (Hourly): {'train_RMSE': np.float64(0.22285965905121213), 'train_MAE': 0.1130753615412117, 'test_RMSE': np.float64(0.7967397332276622), 'test_MAE': 0.3432666717517176}\n"
     ]
    },
    {
     "name": "stderr",
     "output_type": "stream",
     "text": [
      "Processing Meters:   1%|          | 2/161 [05:41<7:22:52, 167.12s/it]"
     ]
    },
    {
     "name": "stdout",
     "output_type": "stream",
     "text": [
      "\n",
      "Best parameters for AMR-08 (Daily): {'subsample': 0.7, 'reg_lambda': 1.5, 'reg_alpha': 0.5, 'n_estimators': 1000, 'max_depth': 5, 'learning_rate': 0.05, 'gamma': 0.5, 'colsample_bytree': 0.9}\n"
     ]
    },
    {
     "name": "stderr",
     "output_type": "stream",
     "text": [
      "Processing Meters:   1%|          | 2/161 [05:42<7:22:52, 167.12s/it]"
     ]
    },
    {
     "name": "stdout",
     "output_type": "stream",
     "text": [
      "Performance Metrics for AMR-08 (Daily): {'train_RMSE': np.float64(0.37164144052546166), 'train_MAE': 0.2661719910597883, 'test_RMSE': np.float64(0.37362215283009403), 'test_MAE': 0.37005714972813925}\n"
     ]
    },
    {
     "name": "stderr",
     "output_type": "stream",
     "text": [
      "Processing Meters:   1%|          | 2/161 [08:25<7:22:52, 167.12s/it]"
     ]
    },
    {
     "name": "stdout",
     "output_type": "stream",
     "text": [
      "\n",
      "Best parameters for AMR-08 (Hourly): {'subsample': 0.7, 'reg_lambda': 1.5, 'reg_alpha': 0.5, 'n_estimators': 100, 'max_depth': 5, 'learning_rate': 0.1, 'gamma': 0.5, 'colsample_bytree': 0.9}\n"
     ]
    },
    {
     "name": "stderr",
     "output_type": "stream",
     "text": [
      "Processing Meters:   2%|▏         | 3/161 [08:29<8:19:55, 189.85s/it]"
     ]
    },
    {
     "name": "stdout",
     "output_type": "stream",
     "text": [
      "Performance Metrics for AMR-08 (Hourly): {'train_RMSE': np.float64(0.20249585311367027), 'train_MAE': 0.06964321003265053, 'test_RMSE': np.float64(0.007106733658520156), 'test_MAE': 0.006035155750831346}\n"
     ]
    },
    {
     "name": "stderr",
     "output_type": "stream",
     "text": [
      "Processing Meters:   2%|▏         | 3/161 [08:37<8:19:55, 189.85s/it]"
     ]
    },
    {
     "name": "stdout",
     "output_type": "stream",
     "text": [
      "\n",
      "Best parameters for AMR-101 (Daily): {'subsample': 0.8, 'reg_lambda': 1, 'reg_alpha': 0, 'n_estimators': 500, 'max_depth': 7, 'learning_rate': 0.05, 'gamma': 0.5, 'colsample_bytree': 0.9}\n"
     ]
    },
    {
     "name": "stderr",
     "output_type": "stream",
     "text": [
      "Processing Meters:   2%|▏         | 3/161 [08:39<8:19:55, 189.85s/it]"
     ]
    },
    {
     "name": "stdout",
     "output_type": "stream",
     "text": [
      "Performance Metrics for AMR-101 (Daily): {'train_RMSE': np.float64(0.00027395568740303243), 'train_MAE': 8.526721557977722e-05, 'test_RMSE': np.float64(3.2985688449116424e-05), 'test_MAE': 3.2985688449116424e-05}\n"
     ]
    },
    {
     "name": "stderr",
     "output_type": "stream",
     "text": [
      "Processing Meters:   2%|▏         | 3/161 [08:49<8:19:55, 189.85s/it]"
     ]
    },
    {
     "name": "stdout",
     "output_type": "stream",
     "text": [
      "\n",
      "Best parameters for AMR-101 (Hourly): {'subsample': 0.9, 'reg_lambda': 1, 'reg_alpha': 0, 'n_estimators': 500, 'max_depth': 7, 'learning_rate': 0.1, 'gamma': 0, 'colsample_bytree': 0.9}\n"
     ]
    },
    {
     "name": "stderr",
     "output_type": "stream",
     "text": [
      "Processing Meters:   2%|▏         | 4/161 [08:52<5:24:49, 124.14s/it]"
     ]
    },
    {
     "name": "stdout",
     "output_type": "stream",
     "text": [
      "Performance Metrics for AMR-101 (Hourly): {'train_RMSE': np.float64(0.00023280473943326126), 'train_MAE': 1.4421308210640945e-05, 'test_RMSE': np.float64(1.6406982439320927e-09), 'test_MAE': 1.6406982439320927e-09}\n"
     ]
    },
    {
     "name": "stderr",
     "output_type": "stream",
     "text": [
      "Processing Meters:   2%|▏         | 4/161 [09:16<5:24:49, 124.14s/it]"
     ]
    },
    {
     "name": "stdout",
     "output_type": "stream",
     "text": [
      "\n",
      "Best parameters for AMR-103 (Daily): {'subsample': 0.8, 'reg_lambda': 1, 'reg_alpha': 0.1, 'n_estimators': 1000, 'max_depth': 5, 'learning_rate': 0.1, 'gamma': 0.1, 'colsample_bytree': 0.9}\n"
     ]
    },
    {
     "name": "stderr",
     "output_type": "stream",
     "text": [
      "Processing Meters:   2%|▏         | 4/161 [09:18<5:24:49, 124.14s/it]"
     ]
    },
    {
     "name": "stdout",
     "output_type": "stream",
     "text": [
      "Performance Metrics for AMR-103 (Daily): {'train_RMSE': np.float64(0.16226918149520758), 'train_MAE': 0.12174583513459057, 'test_RMSE': np.float64(1.423920059282716), 'test_MAE': 1.032386158232818}\n"
     ]
    },
    {
     "name": "stderr",
     "output_type": "stream",
     "text": [
      "Processing Meters:   2%|▏         | 4/161 [12:05<5:24:49, 124.14s/it]"
     ]
    },
    {
     "name": "stdout",
     "output_type": "stream",
     "text": [
      "\n",
      "Best parameters for AMR-103 (Hourly): {'subsample': 0.8, 'reg_lambda': 1.5, 'reg_alpha': 0.5, 'n_estimators': 100, 'max_depth': 3, 'learning_rate': 0.1, 'gamma': 0.1, 'colsample_bytree': 0.9}\n"
     ]
    },
    {
     "name": "stderr",
     "output_type": "stream",
     "text": [
      "Processing Meters:   3%|▎         | 5/161 [12:09<6:30:47, 150.30s/it]"
     ]
    },
    {
     "name": "stdout",
     "output_type": "stream",
     "text": [
      "Performance Metrics for AMR-103 (Hourly): {'train_RMSE': np.float64(0.15965501590957606), 'train_MAE': 0.08009490579260972, 'test_RMSE': np.float64(0.4264404854270956), 'test_MAE': 0.24310566011064624}\n"
     ]
    },
    {
     "name": "stderr",
     "output_type": "stream",
     "text": [
      "Processing Meters:   3%|▎         | 5/161 [12:51<6:30:47, 150.30s/it]"
     ]
    },
    {
     "name": "stdout",
     "output_type": "stream",
     "text": [
      "\n",
      "Best parameters for AMR-104 (Daily): {'subsample': 0.8, 'reg_lambda': 1, 'reg_alpha': 0.1, 'n_estimators': 1000, 'max_depth': 5, 'learning_rate': 0.1, 'gamma': 0.1, 'colsample_bytree': 0.9}\n"
     ]
    },
    {
     "name": "stderr",
     "output_type": "stream",
     "text": [
      "Processing Meters:   3%|▎         | 5/161 [12:53<6:30:47, 150.30s/it]"
     ]
    },
    {
     "name": "stdout",
     "output_type": "stream",
     "text": [
      "Performance Metrics for AMR-104 (Daily): {'train_RMSE': np.float64(0.14351498366419363), 'train_MAE': 0.10487553487886746, 'test_RMSE': np.float64(3.2595696503276352), 'test_MAE': 2.631809140893021}\n"
     ]
    },
    {
     "name": "stderr",
     "output_type": "stream",
     "text": [
      "Processing Meters:   3%|▎         | 5/161 [17:05<6:30:47, 150.30s/it]"
     ]
    },
    {
     "name": "stdout",
     "output_type": "stream",
     "text": [
      "\n",
      "Best parameters for AMR-104 (Hourly): {'subsample': 0.9, 'reg_lambda': 2, 'reg_alpha': 0.1, 'n_estimators': 500, 'max_depth': 3, 'learning_rate': 0.05, 'gamma': 0.1, 'colsample_bytree': 0.9}\n"
     ]
    },
    {
     "name": "stderr",
     "output_type": "stream",
     "text": [
      "Processing Meters:   4%|▎         | 6/161 [17:09<8:39:57, 201.28s/it]"
     ]
    },
    {
     "name": "stdout",
     "output_type": "stream",
     "text": [
      "Performance Metrics for AMR-104 (Hourly): {'train_RMSE': np.float64(0.2576160628804642), 'train_MAE': 0.18723367089954043, 'test_RMSE': np.float64(0.5553149017144546), 'test_MAE': 0.3802091255591444}\n"
     ]
    },
    {
     "name": "stderr",
     "output_type": "stream",
     "text": [
      "Processing Meters:   4%|▎         | 6/161 [18:02<8:39:57, 201.28s/it]"
     ]
    },
    {
     "name": "stdout",
     "output_type": "stream",
     "text": [
      "\n",
      "Best parameters for AMR-111 (Daily): {'subsample': 0.7, 'reg_lambda': 2, 'reg_alpha': 0.1, 'n_estimators': 500, 'max_depth': 3, 'learning_rate': 0.1, 'gamma': 0.1, 'colsample_bytree': 0.8}\n"
     ]
    },
    {
     "name": "stderr",
     "output_type": "stream",
     "text": [
      "Processing Meters:   4%|▎         | 6/161 [18:04<8:39:57, 201.28s/it]"
     ]
    },
    {
     "name": "stdout",
     "output_type": "stream",
     "text": [
      "Performance Metrics for AMR-111 (Daily): {'train_RMSE': np.float64(0.1629529690793182), 'train_MAE': 0.12616514557893274, 'test_RMSE': np.float64(4.478298779057461), 'test_MAE': 3.214265625198104}\n"
     ]
    },
    {
     "name": "stderr",
     "output_type": "stream",
     "text": [
      "Processing Meters:   4%|▎         | 6/161 [21:33<8:39:57, 201.28s/it]"
     ]
    },
    {
     "name": "stdout",
     "output_type": "stream",
     "text": [
      "\n",
      "Best parameters for AMR-111 (Hourly): {'subsample': 0.7, 'reg_lambda': 2, 'reg_alpha': 0.1, 'n_estimators': 500, 'max_depth': 3, 'learning_rate': 0.1, 'gamma': 0.1, 'colsample_bytree': 0.8}\n"
     ]
    },
    {
     "name": "stderr",
     "output_type": "stream",
     "text": [
      "Processing Meters:   4%|▍         | 7/161 [21:37<9:32:34, 223.08s/it]"
     ]
    },
    {
     "name": "stdout",
     "output_type": "stream",
     "text": [
      "Performance Metrics for AMR-111 (Hourly): {'train_RMSE': np.float64(0.3138497384361578), 'train_MAE': 0.23149183897582465, 'test_RMSE': np.float64(2.3701215330648497), 'test_MAE': 1.4064948546108993}\n"
     ]
    },
    {
     "name": "stderr",
     "output_type": "stream",
     "text": [
      "Processing Meters:   4%|▍         | 7/161 [22:14<9:32:34, 223.08s/it]"
     ]
    },
    {
     "name": "stdout",
     "output_type": "stream",
     "text": [
      "\n",
      "Best parameters for AMR-110 (Daily): {'subsample': 0.9, 'reg_lambda': 2, 'reg_alpha': 0.1, 'n_estimators': 500, 'max_depth': 3, 'learning_rate': 0.05, 'gamma': 0.1, 'colsample_bytree': 0.9}\n"
     ]
    },
    {
     "name": "stderr",
     "output_type": "stream",
     "text": [
      "Processing Meters:   4%|▍         | 7/161 [22:16<9:32:34, 223.08s/it]"
     ]
    },
    {
     "name": "stdout",
     "output_type": "stream",
     "text": [
      "Performance Metrics for AMR-110 (Daily): {'train_RMSE': np.float64(7.467054203768699), 'train_MAE': 3.9743218385464485, 'test_RMSE': np.float64(3.644396848088343), 'test_MAE': 2.3895182713381207}\n"
     ]
    },
    {
     "name": "stderr",
     "output_type": "stream",
     "text": [
      "Processing Meters:   4%|▍         | 7/161 [25:25<9:32:34, 223.08s/it]"
     ]
    },
    {
     "name": "stdout",
     "output_type": "stream",
     "text": [
      "\n",
      "Best parameters for AMR-110 (Hourly): {'subsample': 0.8, 'reg_lambda': 2, 'reg_alpha': 0, 'n_estimators': 1000, 'max_depth': 7, 'learning_rate': 0.05, 'gamma': 0, 'colsample_bytree': 0.7}\n"
     ]
    },
    {
     "name": "stderr",
     "output_type": "stream",
     "text": [
      "Processing Meters:   5%|▍         | 8/161 [25:29<9:35:53, 225.84s/it]"
     ]
    },
    {
     "name": "stdout",
     "output_type": "stream",
     "text": [
      "Performance Metrics for AMR-110 (Hourly): {'train_RMSE': np.float64(1.0946031030341126), 'train_MAE': 0.38235434754418407, 'test_RMSE': np.float64(6.572770422295396), 'test_MAE': 1.5238891544549362}\n"
     ]
    },
    {
     "name": "stderr",
     "output_type": "stream",
     "text": [
      "Processing Meters:   5%|▍         | 8/161 [26:32<9:35:53, 225.84s/it]"
     ]
    },
    {
     "name": "stdout",
     "output_type": "stream",
     "text": [
      "\n",
      "Best parameters for AMR-11 (Daily): {'subsample': 0.9, 'reg_lambda': 1, 'reg_alpha': 0, 'n_estimators': 500, 'max_depth': 7, 'learning_rate': 0.1, 'gamma': 0, 'colsample_bytree': 0.9}\n"
     ]
    },
    {
     "name": "stderr",
     "output_type": "stream",
     "text": [
      "Processing Meters:   5%|▍         | 8/161 [26:34<9:35:53, 225.84s/it]"
     ]
    },
    {
     "name": "stdout",
     "output_type": "stream",
     "text": [
      "Performance Metrics for AMR-11 (Daily): {'train_RMSE': np.float64(10.67849719026984), 'train_MAE': 6.070629191317076, 'test_RMSE': np.float64(31.219117078006043), 'test_MAE': 25.822406020953327}\n"
     ]
    },
    {
     "name": "stderr",
     "output_type": "stream",
     "text": [
      "Processing Meters:   5%|▍         | 8/161 [30:05<9:35:53, 225.84s/it]"
     ]
    },
    {
     "name": "stdout",
     "output_type": "stream",
     "text": [
      "\n",
      "Best parameters for AMR-11 (Hourly): {'subsample': 0.9, 'reg_lambda': 2, 'reg_alpha': 0.1, 'n_estimators': 500, 'max_depth': 3, 'learning_rate': 0.05, 'gamma': 0.1, 'colsample_bytree': 0.9}\n"
     ]
    },
    {
     "name": "stderr",
     "output_type": "stream",
     "text": [
      "Processing Meters:   6%|▌         | 9/161 [30:10<10:16:19, 243.28s/it]"
     ]
    },
    {
     "name": "stdout",
     "output_type": "stream",
     "text": [
      "Performance Metrics for AMR-11 (Hourly): {'train_RMSE': np.float64(3.104059753641728), 'train_MAE': 1.2602872904637352, 'test_RMSE': np.float64(18.87939481758637), 'test_MAE': 8.749431651383233}\n"
     ]
    },
    {
     "name": "stderr",
     "output_type": "stream",
     "text": [
      "Processing Meters:   6%|▌         | 9/161 [31:00<10:16:19, 243.28s/it]"
     ]
    },
    {
     "name": "stdout",
     "output_type": "stream",
     "text": [
      "\n",
      "Best parameters for AMR-115 (Daily): {'subsample': 0.7, 'reg_lambda': 2, 'reg_alpha': 0.1, 'n_estimators': 500, 'max_depth': 3, 'learning_rate': 0.1, 'gamma': 0.1, 'colsample_bytree': 0.8}\n"
     ]
    },
    {
     "name": "stderr",
     "output_type": "stream",
     "text": [
      "Processing Meters:   6%|▌         | 9/161 [31:02<10:16:19, 243.28s/it]"
     ]
    },
    {
     "name": "stdout",
     "output_type": "stream",
     "text": [
      "Performance Metrics for AMR-115 (Daily): {'train_RMSE': np.float64(0.15949032715861147), 'train_MAE': 0.12219655654240488, 'test_RMSE': np.float64(4.366966517842171), 'test_MAE': 3.1810566832223044}\n"
     ]
    },
    {
     "name": "stderr",
     "output_type": "stream",
     "text": [
      "Processing Meters:   6%|▌         | 9/161 [36:02<10:16:19, 243.28s/it]"
     ]
    },
    {
     "name": "stdout",
     "output_type": "stream",
     "text": [
      "\n",
      "Best parameters for AMR-115 (Hourly): {'subsample': 0.8, 'reg_lambda': 1.5, 'reg_alpha': 0.5, 'n_estimators': 100, 'max_depth': 3, 'learning_rate': 0.1, 'gamma': 0.1, 'colsample_bytree': 0.9}\n"
     ]
    },
    {
     "name": "stderr",
     "output_type": "stream",
     "text": [
      "Processing Meters:   6%|▌         | 10/161 [36:07<11:40:25, 278.31s/it]"
     ]
    },
    {
     "name": "stdout",
     "output_type": "stream",
     "text": [
      "Performance Metrics for AMR-115 (Hourly): {'train_RMSE': np.float64(0.29045405558860626), 'train_MAE': 0.21917768362719012, 'test_RMSE': np.float64(3.911186435457516), 'test_MAE': 1.5500749684216968}\n"
     ]
    },
    {
     "name": "stderr",
     "output_type": "stream",
     "text": [
      "Processing Meters:   6%|▌         | 10/161 [36:55<11:40:25, 278.31s/it]"
     ]
    },
    {
     "name": "stdout",
     "output_type": "stream",
     "text": [
      "\n",
      "Best parameters for AMR-116 (Daily): {'subsample': 0.8, 'reg_lambda': 1.5, 'reg_alpha': 0.5, 'n_estimators': 100, 'max_depth': 3, 'learning_rate': 0.1, 'gamma': 0.1, 'colsample_bytree': 0.9}\n"
     ]
    },
    {
     "name": "stderr",
     "output_type": "stream",
     "text": [
      "Processing Meters:   6%|▌         | 10/161 [36:57<11:40:25, 278.31s/it]"
     ]
    },
    {
     "name": "stdout",
     "output_type": "stream",
     "text": [
      "Performance Metrics for AMR-116 (Daily): {'train_RMSE': np.float64(0.18484888864954663), 'train_MAE': 0.13650355543835707, 'test_RMSE': np.float64(0.9741633376357287), 'test_MAE': 0.6267751285265579}\n"
     ]
    },
    {
     "name": "stderr",
     "output_type": "stream",
     "text": [
      "Processing Meters:   6%|▌         | 10/161 [41:38<11:40:25, 278.31s/it]"
     ]
    },
    {
     "name": "stdout",
     "output_type": "stream",
     "text": [
      "\n",
      "Best parameters for AMR-116 (Hourly): {'subsample': 0.9, 'reg_lambda': 2, 'reg_alpha': 0.1, 'n_estimators': 500, 'max_depth': 3, 'learning_rate': 0.05, 'gamma': 0.1, 'colsample_bytree': 0.9}\n"
     ]
    },
    {
     "name": "stderr",
     "output_type": "stream",
     "text": [
      "Processing Meters:   7%|▋         | 11/161 [41:42<12:18:42, 295.49s/it]"
     ]
    },
    {
     "name": "stdout",
     "output_type": "stream",
     "text": [
      "Performance Metrics for AMR-116 (Hourly): {'train_RMSE': np.float64(0.1439802554775099), 'train_MAE': 0.10889323376853903, 'test_RMSE': np.float64(0.2210709796670851), 'test_MAE': 0.17777456215069887}\n"
     ]
    },
    {
     "name": "stderr",
     "output_type": "stream",
     "text": [
      "Processing Meters:   7%|▋         | 11/161 [42:18<12:18:42, 295.49s/it]"
     ]
    },
    {
     "name": "stdout",
     "output_type": "stream",
     "text": [
      "\n",
      "Best parameters for AMR-134 (Daily): {'subsample': 0.9, 'reg_lambda': 1, 'reg_alpha': 0.1, 'n_estimators': 1000, 'max_depth': 7, 'learning_rate': 0.01, 'gamma': 0.5, 'colsample_bytree': 0.7}\n"
     ]
    },
    {
     "name": "stderr",
     "output_type": "stream",
     "text": [
      "Processing Meters:   7%|▋         | 11/161 [42:21<12:18:42, 295.49s/it]"
     ]
    },
    {
     "name": "stdout",
     "output_type": "stream",
     "text": [
      "Performance Metrics for AMR-134 (Daily): {'train_RMSE': np.float64(55.07809270522485), 'train_MAE': 26.03538280313982, 'test_RMSE': np.float64(151.36868134813096), 'test_MAE': 127.73786471347447}\n"
     ]
    },
    {
     "name": "stderr",
     "output_type": "stream",
     "text": [
      "Processing Meters:   7%|▋         | 11/161 [47:40<12:18:42, 295.49s/it]"
     ]
    },
    {
     "name": "stdout",
     "output_type": "stream",
     "text": [
      "\n",
      "Best parameters for AMR-134 (Hourly): {'subsample': 0.7, 'reg_lambda': 1.5, 'reg_alpha': 0.1, 'n_estimators': 100, 'max_depth': 3, 'learning_rate': 0.05, 'gamma': 0.1, 'colsample_bytree': 0.8}\n"
     ]
    },
    {
     "name": "stderr",
     "output_type": "stream",
     "text": [
      "Processing Meters:   7%|▋         | 12/161 [47:44<13:04:08, 315.77s/it]"
     ]
    },
    {
     "name": "stdout",
     "output_type": "stream",
     "text": [
      "Performance Metrics for AMR-134 (Hourly): {'train_RMSE': np.float64(10.740508033897493), 'train_MAE': 4.190950600226828, 'test_RMSE': np.float64(68.05835604162979), 'test_MAE': 36.61828841732896}\n"
     ]
    },
    {
     "name": "stderr",
     "output_type": "stream",
     "text": [
      "Processing Meters:   7%|▋         | 12/161 [48:26<13:04:08, 315.77s/it]"
     ]
    },
    {
     "name": "stdout",
     "output_type": "stream",
     "text": [
      "\n",
      "Best parameters for AMR-135 (Daily): {'subsample': 0.9, 'reg_lambda': 2, 'reg_alpha': 0.1, 'n_estimators': 500, 'max_depth': 3, 'learning_rate': 0.05, 'gamma': 0.1, 'colsample_bytree': 0.9}\n"
     ]
    },
    {
     "name": "stderr",
     "output_type": "stream",
     "text": [
      "Processing Meters:   7%|▋         | 12/161 [48:28<13:04:08, 315.77s/it]"
     ]
    },
    {
     "name": "stdout",
     "output_type": "stream",
     "text": [
      "Performance Metrics for AMR-135 (Daily): {'train_RMSE': np.float64(0.3322911993399172), 'train_MAE': 0.25167587654981827, 'test_RMSE': np.float64(3.280765526582894), 'test_MAE': 2.3010379126305245}\n"
     ]
    },
    {
     "name": "stderr",
     "output_type": "stream",
     "text": [
      "Processing Meters:   7%|▋         | 12/161 [53:33<13:04:08, 315.77s/it]"
     ]
    },
    {
     "name": "stdout",
     "output_type": "stream",
     "text": [
      "\n",
      "Best parameters for AMR-135 (Hourly): {'subsample': 0.7, 'reg_lambda': 2, 'reg_alpha': 0.1, 'n_estimators': 500, 'max_depth': 3, 'learning_rate': 0.1, 'gamma': 0.1, 'colsample_bytree': 0.8}\n"
     ]
    },
    {
     "name": "stderr",
     "output_type": "stream",
     "text": [
      "Processing Meters:   8%|▊         | 13/161 [53:37<13:26:35, 327.00s/it]"
     ]
    },
    {
     "name": "stdout",
     "output_type": "stream",
     "text": [
      "Performance Metrics for AMR-135 (Hourly): {'train_RMSE': np.float64(2.8849577556385975), 'train_MAE': 1.7033723571088393, 'test_RMSE': np.float64(7.289525127668071), 'test_MAE': 2.7036019957079076}\n"
     ]
    },
    {
     "name": "stderr",
     "output_type": "stream",
     "text": [
      "Processing Meters:   8%|▊         | 13/161 [54:26<13:26:35, 327.00s/it]"
     ]
    },
    {
     "name": "stdout",
     "output_type": "stream",
     "text": [
      "\n",
      "Best parameters for AMR-123 (Daily): {'subsample': 0.8, 'reg_lambda': 1, 'reg_alpha': 0.5, 'n_estimators': 500, 'max_depth': 5, 'learning_rate': 0.01, 'gamma': 0.5, 'colsample_bytree': 0.8}\n"
     ]
    },
    {
     "name": "stderr",
     "output_type": "stream",
     "text": [
      "Processing Meters:   8%|▊         | 13/161 [54:29<13:26:35, 327.00s/it]"
     ]
    },
    {
     "name": "stdout",
     "output_type": "stream",
     "text": [
      "Performance Metrics for AMR-123 (Daily): {'train_RMSE': np.float64(1.099228264828502), 'train_MAE': 0.5851971610106511, 'test_RMSE': np.float64(1.7928928281201792), 'test_MAE': 1.1248145955403643}\n"
     ]
    },
    {
     "name": "stderr",
     "output_type": "stream",
     "text": [
      "Processing Meters:   8%|▊         | 13/161 [59:29<13:26:35, 327.00s/it]"
     ]
    },
    {
     "name": "stdout",
     "output_type": "stream",
     "text": [
      "\n",
      "Best parameters for AMR-123 (Hourly): {'subsample': 0.9, 'reg_lambda': 2, 'reg_alpha': 0.1, 'n_estimators': 500, 'max_depth': 3, 'learning_rate': 0.05, 'gamma': 0.1, 'colsample_bytree': 0.9}\n"
     ]
    },
    {
     "name": "stderr",
     "output_type": "stream",
     "text": [
      "Processing Meters:   9%|▊         | 14/161 [59:33<13:42:32, 335.73s/it]"
     ]
    },
    {
     "name": "stdout",
     "output_type": "stream",
     "text": [
      "Performance Metrics for AMR-123 (Hourly): {'train_RMSE': np.float64(0.21708123003569876), 'train_MAE': 0.12373332149111749, 'test_RMSE': np.float64(0.07821678971625207), 'test_MAE': 0.023807170579726165}\n"
     ]
    },
    {
     "name": "stderr",
     "output_type": "stream",
     "text": [
      "Processing Meters:   9%|▊         | 14/161 [1:01:14<13:42:32, 335.73s/it]"
     ]
    },
    {
     "name": "stdout",
     "output_type": "stream",
     "text": [
      "\n",
      "Best parameters for AMR-126 (Daily): {'subsample': 0.8, 'reg_lambda': 2, 'reg_alpha': 0.1, 'n_estimators': 1000, 'max_depth': 7, 'learning_rate': 0.05, 'gamma': 0.1, 'colsample_bytree': 0.9}\n"
     ]
    },
    {
     "name": "stderr",
     "output_type": "stream",
     "text": [
      "Processing Meters:   9%|▊         | 14/161 [1:01:16<13:42:32, 335.73s/it]"
     ]
    },
    {
     "name": "stdout",
     "output_type": "stream",
     "text": [
      "Performance Metrics for AMR-126 (Daily): {'train_RMSE': np.float64(1.0338676211278002), 'train_MAE': 0.6148486099404105, 'test_RMSE': np.float64(15.829370847479977), 'test_MAE': 14.811481747049246}\n"
     ]
    },
    {
     "name": "stderr",
     "output_type": "stream",
     "text": [
      "Processing Meters:   9%|▊         | 14/161 [1:06:17<13:42:32, 335.73s/it]"
     ]
    },
    {
     "name": "stdout",
     "output_type": "stream",
     "text": [
      "\n",
      "Best parameters for AMR-126 (Hourly): {'subsample': 0.8, 'reg_lambda': 1, 'reg_alpha': 0.5, 'n_estimators': 500, 'max_depth': 5, 'learning_rate': 0.01, 'gamma': 0.5, 'colsample_bytree': 0.8}\n"
     ]
    },
    {
     "name": "stderr",
     "output_type": "stream",
     "text": [
      "Processing Meters:   9%|▉         | 15/161 [1:06:22<14:31:08, 358.01s/it]"
     ]
    },
    {
     "name": "stdout",
     "output_type": "stream",
     "text": [
      "Performance Metrics for AMR-126 (Hourly): {'train_RMSE': np.float64(0.3927701750265631), 'train_MAE': 0.17305951143001447, 'test_RMSE': np.float64(3.7508696122831164), 'test_MAE': 2.401875813206577}\n"
     ]
    },
    {
     "name": "stderr",
     "output_type": "stream",
     "text": [
      "Processing Meters:   9%|▉         | 15/161 [1:07:19<14:31:08, 358.01s/it]"
     ]
    },
    {
     "name": "stdout",
     "output_type": "stream",
     "text": [
      "\n",
      "Best parameters for AMR-129 (Daily): {'subsample': 0.9, 'reg_lambda': 1, 'reg_alpha': 0, 'n_estimators': 500, 'max_depth': 7, 'learning_rate': 0.1, 'gamma': 0, 'colsample_bytree': 0.9}\n"
     ]
    },
    {
     "name": "stderr",
     "output_type": "stream",
     "text": [
      "Processing Meters:   9%|▉         | 15/161 [1:07:22<14:31:08, 358.01s/it]"
     ]
    },
    {
     "name": "stdout",
     "output_type": "stream",
     "text": [
      "Performance Metrics for AMR-129 (Daily): {'train_RMSE': np.float64(0.0005417233915585043), 'train_MAE': 0.0004089862538609538, 'test_RMSE': np.float64(0.5541883438550489), 'test_MAE': 0.34673660564422615}\n"
     ]
    },
    {
     "name": "stderr",
     "output_type": "stream",
     "text": [
      "Processing Meters:   9%|▉         | 15/161 [1:12:33<14:31:08, 358.01s/it]"
     ]
    },
    {
     "name": "stdout",
     "output_type": "stream",
     "text": [
      "\n",
      "Best parameters for AMR-129 (Hourly): {'subsample': 0.7, 'reg_lambda': 2, 'reg_alpha': 0.1, 'n_estimators': 500, 'max_depth': 5, 'learning_rate': 0.01, 'gamma': 0.1, 'colsample_bytree': 0.9}\n"
     ]
    },
    {
     "name": "stderr",
     "output_type": "stream",
     "text": [
      "Processing Meters:  10%|▉         | 16/161 [1:12:38<14:37:52, 363.26s/it]"
     ]
    },
    {
     "name": "stdout",
     "output_type": "stream",
     "text": [
      "Performance Metrics for AMR-129 (Hourly): {'train_RMSE': np.float64(0.13746112537761074), 'train_MAE': 0.08651158117358505, 'test_RMSE': np.float64(0.06401584046346631), 'test_MAE': 0.02990735300857088}\n"
     ]
    },
    {
     "name": "stderr",
     "output_type": "stream",
     "text": [
      "Processing Meters:  10%|▉         | 16/161 [1:13:09<14:37:52, 363.26s/it]"
     ]
    },
    {
     "name": "stdout",
     "output_type": "stream",
     "text": [
      "\n",
      "Best parameters for AMR-118 (Daily): {'subsample': 0.7, 'reg_lambda': 1.5, 'reg_alpha': 0.1, 'n_estimators': 100, 'max_depth': 3, 'learning_rate': 0.05, 'gamma': 0.1, 'colsample_bytree': 0.8}\n"
     ]
    },
    {
     "name": "stderr",
     "output_type": "stream",
     "text": [
      "Processing Meters:  10%|▉         | 16/161 [1:13:11<14:37:52, 363.26s/it]"
     ]
    },
    {
     "name": "stdout",
     "output_type": "stream",
     "text": [
      "Performance Metrics for AMR-118 (Daily): {'train_RMSE': np.float64(0.135170828557582), 'train_MAE': 0.10793504693910162, 'test_RMSE': np.float64(0.980043828530449), 'test_MAE': 0.6285269762674967}\n"
     ]
    },
    {
     "name": "stderr",
     "output_type": "stream",
     "text": [
      "Processing Meters:  10%|▉         | 16/161 [1:18:07<14:37:52, 363.26s/it]"
     ]
    },
    {
     "name": "stdout",
     "output_type": "stream",
     "text": [
      "\n",
      "Best parameters for AMR-118 (Hourly): {'subsample': 0.7, 'reg_lambda': 2, 'reg_alpha': 0.1, 'n_estimators': 1000, 'max_depth': 7, 'learning_rate': 0.01, 'gamma': 0.1, 'colsample_bytree': 0.9}\n"
     ]
    },
    {
     "name": "stderr",
     "output_type": "stream",
     "text": [
      "Processing Meters:  11%|█         | 17/161 [1:18:11<14:10:04, 354.20s/it]"
     ]
    },
    {
     "name": "stdout",
     "output_type": "stream",
     "text": [
      "Performance Metrics for AMR-118 (Hourly): {'train_RMSE': np.float64(0.09345415347065034), 'train_MAE': 0.06294135306318596, 'test_RMSE': np.float64(0.1151743647712786), 'test_MAE': 0.04465151142065772}\n"
     ]
    },
    {
     "name": "stderr",
     "output_type": "stream",
     "text": [
      "Processing Meters:  11%|█         | 17/161 [1:18:45<14:10:04, 354.20s/it]"
     ]
    },
    {
     "name": "stdout",
     "output_type": "stream",
     "text": [
      "\n",
      "Best parameters for AMR-138 (Daily): {'subsample': 0.9, 'reg_lambda': 1, 'reg_alpha': 0, 'n_estimators': 500, 'max_depth': 7, 'learning_rate': 0.1, 'gamma': 0, 'colsample_bytree': 0.9}\n"
     ]
    },
    {
     "name": "stderr",
     "output_type": "stream",
     "text": [
      "Processing Meters:  11%|█         | 17/161 [1:18:47<14:10:04, 354.20s/it]"
     ]
    },
    {
     "name": "stdout",
     "output_type": "stream",
     "text": [
      "Performance Metrics for AMR-138 (Daily): {'train_RMSE': np.float64(0.0033161020416672734), 'train_MAE': 0.0018344932179831055, 'test_RMSE': np.float64(0.993065848358346), 'test_MAE': 0.86300182963981}\n"
     ]
    },
    {
     "name": "stderr",
     "output_type": "stream",
     "text": [
      "Processing Meters:  11%|█         | 17/161 [1:22:36<14:10:04, 354.20s/it]"
     ]
    },
    {
     "name": "stdout",
     "output_type": "stream",
     "text": [
      "\n",
      "Best parameters for AMR-138 (Hourly): {'subsample': 0.9, 'reg_lambda': 1, 'reg_alpha': 0.1, 'n_estimators': 1000, 'max_depth': 7, 'learning_rate': 0.01, 'gamma': 0.5, 'colsample_bytree': 0.7}\n"
     ]
    },
    {
     "name": "stderr",
     "output_type": "stream",
     "text": [
      "Processing Meters:  11%|█         | 18/161 [1:22:40<13:03:36, 328.79s/it]"
     ]
    },
    {
     "name": "stdout",
     "output_type": "stream",
     "text": [
      "Performance Metrics for AMR-138 (Hourly): {'train_RMSE': np.float64(0.2424953374379224), 'train_MAE': 0.10621880961837175, 'test_RMSE': np.float64(0.3253378890281236), 'test_MAE': 0.17316462982199204}\n"
     ]
    },
    {
     "name": "stderr",
     "output_type": "stream",
     "text": [
      "Processing Meters:  11%|█         | 18/161 [1:24:00<13:03:36, 328.79s/it]"
     ]
    },
    {
     "name": "stdout",
     "output_type": "stream",
     "text": [
      "\n",
      "Best parameters for AMR-137 (Daily): {'subsample': 0.9, 'reg_lambda': 1, 'reg_alpha': 0, 'n_estimators': 500, 'max_depth': 7, 'learning_rate': 0.1, 'gamma': 0, 'colsample_bytree': 0.9}\n"
     ]
    },
    {
     "name": "stderr",
     "output_type": "stream",
     "text": [
      "Processing Meters:  11%|█         | 18/161 [1:24:02<13:03:36, 328.79s/it]"
     ]
    },
    {
     "name": "stdout",
     "output_type": "stream",
     "text": [
      "Performance Metrics for AMR-137 (Daily): {'train_RMSE': np.float64(0.000475160534067248), 'train_MAE': 0.00034787160255047504, 'test_RMSE': np.float64(6.357928223595898), 'test_MAE': 3.575134861050533}\n"
     ]
    },
    {
     "name": "stderr",
     "output_type": "stream",
     "text": [
      "Processing Meters:  11%|█         | 18/161 [1:30:33<13:03:36, 328.79s/it]"
     ]
    },
    {
     "name": "stdout",
     "output_type": "stream",
     "text": [
      "\n",
      "Best parameters for AMR-137 (Hourly): {'subsample': 0.9, 'reg_lambda': 1, 'reg_alpha': 0.1, 'n_estimators': 1000, 'max_depth': 7, 'learning_rate': 0.01, 'gamma': 0.5, 'colsample_bytree': 0.7}\n"
     ]
    },
    {
     "name": "stderr",
     "output_type": "stream",
     "text": [
      "Processing Meters:  12%|█▏        | 19/161 [1:30:38<14:43:38, 373.37s/it]"
     ]
    },
    {
     "name": "stdout",
     "output_type": "stream",
     "text": [
      "Performance Metrics for AMR-137 (Hourly): {'train_RMSE': np.float64(0.24406670629726987), 'train_MAE': 0.17735059407268455, 'test_RMSE': np.float64(0.9253980773133846), 'test_MAE': 0.5412925967837446}\n"
     ]
    },
    {
     "name": "stderr",
     "output_type": "stream",
     "text": [
      "Processing Meters:  12%|█▏        | 19/161 [1:30:56<14:43:38, 373.37s/it]"
     ]
    },
    {
     "name": "stdout",
     "output_type": "stream",
     "text": [
      "\n",
      "Best parameters for AMR-139 (Daily): {'subsample': 0.8, 'reg_lambda': 2, 'reg_alpha': 0.5, 'n_estimators': 500, 'max_depth': 3, 'learning_rate': 0.01, 'gamma': 0, 'colsample_bytree': 0.9}\n"
     ]
    },
    {
     "name": "stderr",
     "output_type": "stream",
     "text": [
      "Processing Meters:  12%|█▏        | 19/161 [1:30:58<14:43:38, 373.37s/it]"
     ]
    },
    {
     "name": "stdout",
     "output_type": "stream",
     "text": [
      "Performance Metrics for AMR-139 (Daily): {'train_RMSE': np.float64(0.09541589737393952), 'train_MAE': 0.06841678262404047, 'test_RMSE': np.float64(0.06738221469757633), 'test_MAE': 0.06300634567536749}\n"
     ]
    },
    {
     "name": "stderr",
     "output_type": "stream",
     "text": [
      "Processing Meters:  12%|█▏        | 19/161 [1:33:41<14:43:38, 373.37s/it]"
     ]
    },
    {
     "name": "stdout",
     "output_type": "stream",
     "text": [
      "\n",
      "Best parameters for AMR-139 (Hourly): {'subsample': 0.8, 'reg_lambda': 2, 'reg_alpha': 0, 'n_estimators': 1000, 'max_depth': 7, 'learning_rate': 0.05, 'gamma': 0, 'colsample_bytree': 0.7}\n"
     ]
    },
    {
     "name": "stderr",
     "output_type": "stream",
     "text": [
      "Processing Meters:  12%|█▏        | 20/161 [1:33:44<12:25:40, 317.31s/it]"
     ]
    },
    {
     "name": "stdout",
     "output_type": "stream",
     "text": [
      "Performance Metrics for AMR-139 (Hourly): {'train_RMSE': np.float64(0.002120724663242596), 'train_MAE': 0.0010989859720062446, 'test_RMSE': np.float64(0.037798842671401676), 'test_MAE': 0.007439351247396934}\n"
     ]
    },
    {
     "name": "stderr",
     "output_type": "stream",
     "text": [
      "Processing Meters:  12%|█▏        | 20/161 [1:34:01<12:25:40, 317.31s/it]"
     ]
    },
    {
     "name": "stdout",
     "output_type": "stream",
     "text": [
      "\n",
      "Best parameters for AMR-13 (Daily): {'subsample': 0.7, 'reg_lambda': 1.5, 'reg_alpha': 0.5, 'n_estimators': 100, 'max_depth': 5, 'learning_rate': 0.1, 'gamma': 0.5, 'colsample_bytree': 0.9}\n"
     ]
    },
    {
     "name": "stderr",
     "output_type": "stream",
     "text": [
      "Processing Meters:  12%|█▏        | 20/161 [1:34:02<12:25:40, 317.31s/it]"
     ]
    },
    {
     "name": "stdout",
     "output_type": "stream",
     "text": [
      "Performance Metrics for AMR-13 (Daily): {'train_RMSE': np.float64(0.6060296161636096), 'train_MAE': 0.3898292871070422, 'test_RMSE': np.float64(5.689560108464421), 'test_MAE': 4.8013989486694335}\n"
     ]
    },
    {
     "name": "stderr",
     "output_type": "stream",
     "text": [
      "Processing Meters:  12%|█▏        | 20/161 [1:39:23<12:25:40, 317.31s/it]"
     ]
    },
    {
     "name": "stdout",
     "output_type": "stream",
     "text": [
      "\n",
      "Best parameters for AMR-13 (Hourly): {'subsample': 0.9, 'reg_lambda': 2, 'reg_alpha': 0.1, 'n_estimators': 500, 'max_depth': 3, 'learning_rate': 0.05, 'gamma': 0.1, 'colsample_bytree': 0.9}\n"
     ]
    },
    {
     "name": "stderr",
     "output_type": "stream",
     "text": [
      "Processing Meters:  13%|█▎        | 21/161 [1:39:28<12:38:46, 325.19s/it]"
     ]
    },
    {
     "name": "stdout",
     "output_type": "stream",
     "text": [
      "Performance Metrics for AMR-13 (Hourly): {'train_RMSE': np.float64(0.6999581921217449), 'train_MAE': 0.5093967034030926, 'test_RMSE': np.float64(0.8447700573855489), 'test_MAE': 0.5821297152915402}\n"
     ]
    },
    {
     "name": "stderr",
     "output_type": "stream",
     "text": [
      "Processing Meters:  13%|█▎        | 21/161 [1:39:37<12:38:46, 325.19s/it]"
     ]
    },
    {
     "name": "stdout",
     "output_type": "stream",
     "text": [
      "\n",
      "Best parameters for AMR-130 (Daily): {'subsample': 0.9, 'reg_lambda': 1.5, 'reg_alpha': 0.5, 'n_estimators': 500, 'max_depth': 5, 'learning_rate': 0.01, 'gamma': 0.1, 'colsample_bytree': 0.7}\n"
     ]
    },
    {
     "name": "stderr",
     "output_type": "stream",
     "text": [
      "Processing Meters:  13%|█▎        | 21/161 [1:39:39<12:38:46, 325.19s/it]"
     ]
    },
    {
     "name": "stdout",
     "output_type": "stream",
     "text": [
      "Performance Metrics for AMR-130 (Daily): {'train_RMSE': np.float64(0.0), 'train_MAE': 0.0, 'test_RMSE': np.float64(0.0), 'test_MAE': 0.0}\n"
     ]
    },
    {
     "name": "stderr",
     "output_type": "stream",
     "text": [
      "Processing Meters:  13%|█▎        | 21/161 [1:39:49<12:38:46, 325.19s/it]"
     ]
    },
    {
     "name": "stdout",
     "output_type": "stream",
     "text": [
      "\n",
      "Best parameters for AMR-130 (Hourly): {'subsample': 0.9, 'reg_lambda': 1.5, 'reg_alpha': 0.5, 'n_estimators': 500, 'max_depth': 5, 'learning_rate': 0.01, 'gamma': 0.1, 'colsample_bytree': 0.7}\n"
     ]
    },
    {
     "name": "stderr",
     "output_type": "stream",
     "text": [
      "Processing Meters:  14%|█▎        | 22/161 [1:39:53<9:04:39, 235.11s/it] "
     ]
    },
    {
     "name": "stdout",
     "output_type": "stream",
     "text": [
      "Performance Metrics for AMR-130 (Hourly): {'train_RMSE': np.float64(0.0), 'train_MAE': 0.0, 'test_RMSE': np.float64(0.0), 'test_MAE': 0.0}\n"
     ]
    },
    {
     "name": "stderr",
     "output_type": "stream",
     "text": [
      "Processing Meters:  14%|█▎        | 22/161 [1:40:23<9:04:39, 235.11s/it]"
     ]
    },
    {
     "name": "stdout",
     "output_type": "stream",
     "text": [
      "\n",
      "Best parameters for AMR-156 (Daily): {'subsample': 0.8, 'reg_lambda': 1, 'reg_alpha': 0.1, 'n_estimators': 1000, 'max_depth': 5, 'learning_rate': 0.1, 'gamma': 0.1, 'colsample_bytree': 0.9}\n"
     ]
    },
    {
     "name": "stderr",
     "output_type": "stream",
     "text": [
      "Processing Meters:  14%|█▎        | 22/161 [1:40:25<9:04:39, 235.11s/it]"
     ]
    },
    {
     "name": "stdout",
     "output_type": "stream",
     "text": [
      "Performance Metrics for AMR-156 (Daily): {'train_RMSE': np.float64(0.46194975946926625), 'train_MAE': 0.22533495064054435, 'test_RMSE': np.float64(0.43905626745236637), 'test_MAE': 0.328502484366162}\n"
     ]
    },
    {
     "name": "stderr",
     "output_type": "stream",
     "text": [
      "Processing Meters:  14%|█▎        | 22/161 [1:44:04<9:04:39, 235.11s/it]"
     ]
    },
    {
     "name": "stdout",
     "output_type": "stream",
     "text": [
      "\n",
      "Best parameters for AMR-156 (Hourly): {'subsample': 0.7, 'reg_lambda': 2, 'reg_alpha': 0.1, 'n_estimators': 1000, 'max_depth': 7, 'learning_rate': 0.01, 'gamma': 0.1, 'colsample_bytree': 0.9}\n"
     ]
    },
    {
     "name": "stderr",
     "output_type": "stream",
     "text": [
      "Processing Meters:  14%|█▍        | 23/161 [1:44:08<9:14:36, 241.14s/it]"
     ]
    },
    {
     "name": "stdout",
     "output_type": "stream",
     "text": [
      "Performance Metrics for AMR-156 (Hourly): {'train_RMSE': np.float64(0.30389195331309343), 'train_MAE': 0.049072939683437664, 'test_RMSE': np.float64(0.21500924171600935), 'test_MAE': 0.07199647490264159}\n"
     ]
    },
    {
     "name": "stderr",
     "output_type": "stream",
     "text": [
      "Processing Meters:  14%|█▍        | 23/161 [1:44:36<9:14:36, 241.14s/it]"
     ]
    },
    {
     "name": "stdout",
     "output_type": "stream",
     "text": [
      "\n",
      "Best parameters for AMR-154 (Daily): {'subsample': 0.7, 'reg_lambda': 2, 'reg_alpha': 0.1, 'n_estimators': 500, 'max_depth': 3, 'learning_rate': 0.1, 'gamma': 0.1, 'colsample_bytree': 0.8}\n"
     ]
    },
    {
     "name": "stderr",
     "output_type": "stream",
     "text": [
      "Processing Meters:  14%|█▍        | 23/161 [1:44:40<9:14:36, 241.14s/it]"
     ]
    },
    {
     "name": "stdout",
     "output_type": "stream",
     "text": [
      "Performance Metrics for AMR-154 (Daily): {'train_RMSE': np.float64(0.1575807967779458), 'train_MAE': 0.11103208179068917, 'test_RMSE': np.float64(1.0395391705215016), 'test_MAE': 0.6094129429309215}\n"
     ]
    },
    {
     "name": "stderr",
     "output_type": "stream",
     "text": [
      "Processing Meters:  14%|█▍        | 23/161 [1:48:40<9:14:36, 241.14s/it]"
     ]
    },
    {
     "name": "stdout",
     "output_type": "stream",
     "text": [
      "\n",
      "Best parameters for AMR-154 (Hourly): {'subsample': 0.9, 'reg_lambda': 2, 'reg_alpha': 0.1, 'n_estimators': 500, 'max_depth': 3, 'learning_rate': 0.05, 'gamma': 0.1, 'colsample_bytree': 0.9}\n"
     ]
    },
    {
     "name": "stderr",
     "output_type": "stream",
     "text": [
      "Processing Meters:  15%|█▍        | 24/161 [1:48:44<9:34:15, 251.50s/it]"
     ]
    },
    {
     "name": "stdout",
     "output_type": "stream",
     "text": [
      "Performance Metrics for AMR-154 (Hourly): {'train_RMSE': np.float64(0.39884685633504513), 'train_MAE': 0.24562990191787873, 'test_RMSE': np.float64(1.3489306125229696), 'test_MAE': 0.46284771440289596}\n"
     ]
    },
    {
     "name": "stderr",
     "output_type": "stream",
     "text": [
      "Processing Meters:  15%|█▍        | 24/161 [1:49:10<9:34:15, 251.50s/it]"
     ]
    },
    {
     "name": "stdout",
     "output_type": "stream",
     "text": [
      "\n",
      "Best parameters for AMR-160 (Daily): {'subsample': 0.8, 'reg_lambda': 2, 'reg_alpha': 0, 'n_estimators': 1000, 'max_depth': 7, 'learning_rate': 0.05, 'gamma': 0, 'colsample_bytree': 0.7}\n"
     ]
    },
    {
     "name": "stderr",
     "output_type": "stream",
     "text": [
      "Processing Meters:  15%|█▍        | 24/161 [1:49:12<9:34:15, 251.50s/it]"
     ]
    },
    {
     "name": "stdout",
     "output_type": "stream",
     "text": [
      "Performance Metrics for AMR-160 (Daily): {'train_RMSE': np.float64(0.004962419304223386), 'train_MAE': 0.0013711086874747204, 'test_RMSE': np.float64(5.3091826358522975e-05), 'test_MAE': 4.55090305270763e-05}\n"
     ]
    },
    {
     "name": "stderr",
     "output_type": "stream",
     "text": [
      "Processing Meters:  15%|█▍        | 24/161 [1:51:19<9:34:15, 251.50s/it]"
     ]
    },
    {
     "name": "stdout",
     "output_type": "stream",
     "text": [
      "\n",
      "Best parameters for AMR-160 (Hourly): {'subsample': 0.9, 'reg_lambda': 1, 'reg_alpha': 0, 'n_estimators': 500, 'max_depth': 7, 'learning_rate': 0.1, 'gamma': 0, 'colsample_bytree': 0.9}\n"
     ]
    },
    {
     "name": "stderr",
     "output_type": "stream",
     "text": [
      "Processing Meters:  16%|█▌        | 25/161 [1:51:21<8:25:59, 223.23s/it]"
     ]
    },
    {
     "name": "stdout",
     "output_type": "stream",
     "text": [
      "Performance Metrics for AMR-160 (Hourly): {'train_RMSE': np.float64(0.001066633795458211), 'train_MAE': 0.00033985852463440147, 'test_RMSE': np.float64(2.0363029307191027e-06), 'test_MAE': 2.0363029307191027e-06}\n"
     ]
    },
    {
     "name": "stderr",
     "output_type": "stream",
     "text": [
      "Processing Meters:  16%|█▌        | 25/161 [1:51:51<8:25:59, 223.23s/it]"
     ]
    },
    {
     "name": "stdout",
     "output_type": "stream",
     "text": [
      "\n",
      "Best parameters for AMR-149 (Daily): {'subsample': 0.7, 'reg_lambda': 2, 'reg_alpha': 0.1, 'n_estimators': 500, 'max_depth': 3, 'learning_rate': 0.1, 'gamma': 0.1, 'colsample_bytree': 0.8}\n"
     ]
    },
    {
     "name": "stderr",
     "output_type": "stream",
     "text": [
      "Processing Meters:  16%|█▌        | 25/161 [1:51:53<8:25:59, 223.23s/it]"
     ]
    },
    {
     "name": "stdout",
     "output_type": "stream",
     "text": [
      "Performance Metrics for AMR-149 (Daily): {'train_RMSE': np.float64(0.17395347558250807), 'train_MAE': 0.13643062067212255, 'test_RMSE': np.float64(0.7411163483239602), 'test_MAE': 0.4754299467380844}\n"
     ]
    },
    {
     "name": "stderr",
     "output_type": "stream",
     "text": [
      "Processing Meters:  16%|█▌        | 25/161 [1:55:56<8:25:59, 223.23s/it]"
     ]
    },
    {
     "name": "stdout",
     "output_type": "stream",
     "text": [
      "\n",
      "Best parameters for AMR-149 (Hourly): {'subsample': 0.9, 'reg_lambda': 2, 'reg_alpha': 0.1, 'n_estimators': 500, 'max_depth': 3, 'learning_rate': 0.05, 'gamma': 0.1, 'colsample_bytree': 0.9}\n"
     ]
    },
    {
     "name": "stderr",
     "output_type": "stream",
     "text": [
      "Processing Meters:  16%|█▌        | 26/161 [1:55:59<8:59:18, 239.69s/it]"
     ]
    },
    {
     "name": "stdout",
     "output_type": "stream",
     "text": [
      "Performance Metrics for AMR-149 (Hourly): {'train_RMSE': np.float64(0.1250325161371846), 'train_MAE': 0.09447951875592349, 'test_RMSE': np.float64(0.22238195902183966), 'test_MAE': 0.1456957789489694}\n"
     ]
    },
    {
     "name": "stderr",
     "output_type": "stream",
     "text": [
      "Processing Meters:  16%|█▌        | 26/161 [1:56:21<8:59:18, 239.69s/it]"
     ]
    },
    {
     "name": "stdout",
     "output_type": "stream",
     "text": [
      "\n",
      "Best parameters for AMR-152 (Daily): {'subsample': 0.9, 'reg_lambda': 1, 'reg_alpha': 0.1, 'n_estimators': 1000, 'max_depth': 7, 'learning_rate': 0.01, 'gamma': 0.5, 'colsample_bytree': 0.7}\n"
     ]
    },
    {
     "name": "stderr",
     "output_type": "stream",
     "text": [
      "Processing Meters:  16%|█▌        | 26/161 [1:56:23<8:59:18, 239.69s/it]"
     ]
    },
    {
     "name": "stdout",
     "output_type": "stream",
     "text": [
      "Performance Metrics for AMR-152 (Daily): {'train_RMSE': np.float64(0.4231821204448621), 'train_MAE': 0.32239190725084066, 'test_RMSE': np.float64(1.2424286822034447), 'test_MAE': 1.0953429990249037}\n"
     ]
    },
    {
     "name": "stderr",
     "output_type": "stream",
     "text": [
      "Processing Meters:  16%|█▌        | 26/161 [1:59:19<8:59:18, 239.69s/it]"
     ]
    },
    {
     "name": "stdout",
     "output_type": "stream",
     "text": [
      "\n",
      "Best parameters for AMR-152 (Hourly): {'subsample': 0.9, 'reg_lambda': 2, 'reg_alpha': 0.1, 'n_estimators': 500, 'max_depth': 3, 'learning_rate': 0.05, 'gamma': 0.1, 'colsample_bytree': 0.9}\n"
     ]
    },
    {
     "name": "stderr",
     "output_type": "stream",
     "text": [
      "Processing Meters:  17%|█▋        | 27/161 [1:59:22<8:30:27, 228.56s/it]"
     ]
    },
    {
     "name": "stdout",
     "output_type": "stream",
     "text": [
      "Performance Metrics for AMR-152 (Hourly): {'train_RMSE': np.float64(0.15175272343455887), 'train_MAE': 0.0984772534205762, 'test_RMSE': np.float64(0.22891480561215297), 'test_MAE': 0.1321323316693388}\n"
     ]
    },
    {
     "name": "stderr",
     "output_type": "stream",
     "text": [
      "Processing Meters:  17%|█▋        | 27/161 [1:59:44<8:30:27, 228.56s/it]"
     ]
    },
    {
     "name": "stdout",
     "output_type": "stream",
     "text": [
      "\n",
      "Best parameters for AMR-150 (Daily): {'subsample': 0.8, 'reg_lambda': 2, 'reg_alpha': 0, 'n_estimators': 1000, 'max_depth': 7, 'learning_rate': 0.05, 'gamma': 0, 'colsample_bytree': 0.7}\n"
     ]
    },
    {
     "name": "stderr",
     "output_type": "stream",
     "text": [
      "Processing Meters:  17%|█▋        | 27/161 [1:59:46<8:30:27, 228.56s/it]"
     ]
    },
    {
     "name": "stdout",
     "output_type": "stream",
     "text": [
      "Performance Metrics for AMR-150 (Daily): {'train_RMSE': np.float64(0.00045511353189113486), 'train_MAE': 0.00033671476325256293, 'test_RMSE': np.float64(3.2555267863794746), 'test_MAE': 1.5345533686602657}\n"
     ]
    },
    {
     "name": "stderr",
     "output_type": "stream",
     "text": [
      "Processing Meters:  17%|█▋        | 27/161 [2:01:59<8:30:27, 228.56s/it]"
     ]
    },
    {
     "name": "stdout",
     "output_type": "stream",
     "text": [
      "\n",
      "Best parameters for AMR-150 (Hourly): {'subsample': 0.9, 'reg_lambda': 1, 'reg_alpha': 0, 'n_estimators': 500, 'max_depth': 7, 'learning_rate': 0.1, 'gamma': 0, 'colsample_bytree': 0.9}\n"
     ]
    },
    {
     "name": "stderr",
     "output_type": "stream",
     "text": [
      "Processing Meters:  17%|█▋        | 28/161 [2:02:02<7:40:58, 207.96s/it]"
     ]
    },
    {
     "name": "stdout",
     "output_type": "stream",
     "text": [
      "Performance Metrics for AMR-150 (Hourly): {'train_RMSE': np.float64(0.01401014265806334), 'train_MAE': 0.008750154246420916, 'test_RMSE': np.float64(3.0540782699526727), 'test_MAE': 1.5270282552812409}\n"
     ]
    },
    {
     "name": "stderr",
     "output_type": "stream",
     "text": [
      "Processing Meters:  17%|█▋        | 28/161 [2:02:39<7:40:58, 207.96s/it]"
     ]
    },
    {
     "name": "stdout",
     "output_type": "stream",
     "text": [
      "\n",
      "Best parameters for AMR-151 (Daily): {'subsample': 0.8, 'reg_lambda': 2, 'reg_alpha': 0, 'n_estimators': 1000, 'max_depth': 7, 'learning_rate': 0.05, 'gamma': 0, 'colsample_bytree': 0.7}\n"
     ]
    },
    {
     "name": "stderr",
     "output_type": "stream",
     "text": [
      "Processing Meters:  17%|█▋        | 28/161 [2:02:41<7:40:58, 207.96s/it]"
     ]
    },
    {
     "name": "stdout",
     "output_type": "stream",
     "text": [
      "Performance Metrics for AMR-151 (Daily): {'train_RMSE': np.float64(0.10741875462163289), 'train_MAE': 0.05948822379567129, 'test_RMSE': np.float64(1.748641594602308), 'test_MAE': 1.0613529328795426}\n"
     ]
    },
    {
     "name": "stderr",
     "output_type": "stream",
     "text": [
      "Processing Meters:  17%|█▋        | 28/161 [2:06:38<7:40:58, 207.96s/it]"
     ]
    },
    {
     "name": "stdout",
     "output_type": "stream",
     "text": [
      "\n",
      "Best parameters for AMR-151 (Hourly): {'subsample': 0.9, 'reg_lambda': 2, 'reg_alpha': 0.1, 'n_estimators': 500, 'max_depth': 3, 'learning_rate': 0.05, 'gamma': 0.1, 'colsample_bytree': 0.9}\n"
     ]
    },
    {
     "name": "stderr",
     "output_type": "stream",
     "text": [
      "Processing Meters:  18%|█▊        | 29/161 [2:06:41<8:24:49, 229.47s/it]"
     ]
    },
    {
     "name": "stdout",
     "output_type": "stream",
     "text": [
      "Performance Metrics for AMR-151 (Hourly): {'train_RMSE': np.float64(0.2342629838183879), 'train_MAE': 0.16437962995984878, 'test_RMSE': np.float64(0.30267732318813256), 'test_MAE': 0.20905936456469745}\n"
     ]
    },
    {
     "name": "stderr",
     "output_type": "stream",
     "text": [
      "Processing Meters:  18%|█▊        | 29/161 [2:06:50<8:24:49, 229.47s/it]"
     ]
    },
    {
     "name": "stdout",
     "output_type": "stream",
     "text": [
      "\n",
      "Best parameters for AMR-142 (Daily): {'subsample': 0.9, 'reg_lambda': 1.5, 'reg_alpha': 0.5, 'n_estimators': 500, 'max_depth': 5, 'learning_rate': 0.01, 'gamma': 0.1, 'colsample_bytree': 0.7}\n"
     ]
    },
    {
     "name": "stderr",
     "output_type": "stream",
     "text": [
      "Processing Meters:  18%|█▊        | 29/161 [2:06:52<8:24:49, 229.47s/it]"
     ]
    },
    {
     "name": "stdout",
     "output_type": "stream",
     "text": [
      "Performance Metrics for AMR-142 (Daily): {'train_RMSE': np.float64(0.0), 'train_MAE': 0.0, 'test_RMSE': np.float64(0.0), 'test_MAE': 0.0}\n"
     ]
    },
    {
     "name": "stderr",
     "output_type": "stream",
     "text": [
      "Processing Meters:  18%|█▊        | 29/161 [2:07:01<8:24:49, 229.47s/it]"
     ]
    },
    {
     "name": "stdout",
     "output_type": "stream",
     "text": [
      "\n",
      "Best parameters for AMR-142 (Hourly): {'subsample': 0.9, 'reg_lambda': 1.5, 'reg_alpha': 0.5, 'n_estimators': 500, 'max_depth': 5, 'learning_rate': 0.01, 'gamma': 0.1, 'colsample_bytree': 0.7}\n"
     ]
    },
    {
     "name": "stderr",
     "output_type": "stream",
     "text": [
      "Processing Meters:  19%|█▊        | 30/161 [2:07:03<6:05:07, 167.23s/it]"
     ]
    },
    {
     "name": "stdout",
     "output_type": "stream",
     "text": [
      "Performance Metrics for AMR-142 (Hourly): {'train_RMSE': np.float64(0.0), 'train_MAE': 0.0, 'test_RMSE': np.float64(0.0), 'test_MAE': 0.0}\n"
     ]
    },
    {
     "name": "stderr",
     "output_type": "stream",
     "text": [
      "Processing Meters:  19%|█▊        | 30/161 [2:07:21<6:05:07, 167.23s/it]"
     ]
    },
    {
     "name": "stdout",
     "output_type": "stream",
     "text": [
      "\n",
      "Best parameters for AMR-147 (Daily): {'subsample': 0.7, 'reg_lambda': 2, 'reg_alpha': 0.1, 'n_estimators': 500, 'max_depth': 3, 'learning_rate': 0.1, 'gamma': 0.1, 'colsample_bytree': 0.8}\n"
     ]
    },
    {
     "name": "stderr",
     "output_type": "stream",
     "text": [
      "Processing Meters:  19%|█▊        | 30/161 [2:07:22<6:05:07, 167.23s/it]"
     ]
    },
    {
     "name": "stdout",
     "output_type": "stream",
     "text": [
      "Performance Metrics for AMR-147 (Daily): {'train_RMSE': np.float64(1.3705528014378094), 'train_MAE': 0.9199706091418913, 'test_RMSE': np.float64(2.653762572986174), 'test_MAE': 1.7930864170956913}\n"
     ]
    },
    {
     "name": "stderr",
     "output_type": "stream",
     "text": [
      "Processing Meters:  19%|█▊        | 30/161 [2:12:06<6:05:07, 167.23s/it]"
     ]
    },
    {
     "name": "stdout",
     "output_type": "stream",
     "text": [
      "\n",
      "Best parameters for AMR-147 (Hourly): {'subsample': 0.7, 'reg_lambda': 2, 'reg_alpha': 0.1, 'n_estimators': 500, 'max_depth': 3, 'learning_rate': 0.1, 'gamma': 0.1, 'colsample_bytree': 0.8}\n"
     ]
    },
    {
     "name": "stderr",
     "output_type": "stream",
     "text": [
      "Processing Meters:  19%|█▉        | 31/161 [2:12:12<7:34:36, 209.82s/it]"
     ]
    },
    {
     "name": "stdout",
     "output_type": "stream",
     "text": [
      "Performance Metrics for AMR-147 (Hourly): {'train_RMSE': np.float64(0.7502696082360355), 'train_MAE': 0.5380060268522253, 'test_RMSE': np.float64(0.7367768469513443), 'test_MAE': 0.5194629379549482}\n"
     ]
    },
    {
     "name": "stderr",
     "output_type": "stream",
     "text": [
      "Processing Meters:  19%|█▉        | 31/161 [2:13:09<7:34:36, 209.82s/it]"
     ]
    },
    {
     "name": "stdout",
     "output_type": "stream",
     "text": [
      "\n",
      "Best parameters for AMR-141 (Daily): {'subsample': 0.7, 'reg_lambda': 2, 'reg_alpha': 0.1, 'n_estimators': 500, 'max_depth': 7, 'learning_rate': 0.01, 'gamma': 0, 'colsample_bytree': 0.8}\n"
     ]
    },
    {
     "name": "stderr",
     "output_type": "stream",
     "text": [
      "Processing Meters:  19%|█▉        | 31/161 [2:13:11<7:34:36, 209.82s/it]"
     ]
    },
    {
     "name": "stdout",
     "output_type": "stream",
     "text": [
      "Performance Metrics for AMR-141 (Daily): {'train_RMSE': np.float64(0.07954597147715398), 'train_MAE': 0.047676041765432664, 'test_RMSE': np.float64(1.1028172725066216), 'test_MAE': 0.6947543938981651}\n"
     ]
    },
    {
     "name": "stderr",
     "output_type": "stream",
     "text": [
      "Processing Meters:  19%|█▉        | 31/161 [2:17:54<7:34:36, 209.82s/it]"
     ]
    },
    {
     "name": "stdout",
     "output_type": "stream",
     "text": [
      "\n",
      "Best parameters for AMR-141 (Hourly): {'subsample': 0.7, 'reg_lambda': 2, 'reg_alpha': 0.1, 'n_estimators': 1000, 'max_depth': 7, 'learning_rate': 0.01, 'gamma': 0.1, 'colsample_bytree': 0.9}\n"
     ]
    },
    {
     "name": "stderr",
     "output_type": "stream",
     "text": [
      "Processing Meters:  20%|█▉        | 32/161 [2:17:59<8:59:02, 250.72s/it]"
     ]
    },
    {
     "name": "stdout",
     "output_type": "stream",
     "text": [
      "Performance Metrics for AMR-141 (Hourly): {'train_RMSE': np.float64(0.10524526217965666), 'train_MAE': 0.07503199130691189, 'test_RMSE': np.float64(0.25888931909672197), 'test_MAE': 0.18142326372498443}\n"
     ]
    },
    {
     "name": "stderr",
     "output_type": "stream",
     "text": [
      "Processing Meters:  20%|█▉        | 32/161 [2:18:51<8:59:02, 250.72s/it]"
     ]
    },
    {
     "name": "stdout",
     "output_type": "stream",
     "text": [
      "\n",
      "Best parameters for AMR-04 (Daily): {'subsample': 0.7, 'reg_lambda': 2, 'reg_alpha': 0.1, 'n_estimators': 500, 'max_depth': 3, 'learning_rate': 0.1, 'gamma': 0.1, 'colsample_bytree': 0.8}\n"
     ]
    },
    {
     "name": "stderr",
     "output_type": "stream",
     "text": [
      "Processing Meters:  20%|█▉        | 32/161 [2:18:54<8:59:02, 250.72s/it]"
     ]
    },
    {
     "name": "stdout",
     "output_type": "stream",
     "text": [
      "Performance Metrics for AMR-04 (Daily): {'train_RMSE': np.float64(0.1721250219953571), 'train_MAE': 0.12789110238876963, 'test_RMSE': np.float64(3.364447529543577), 'test_MAE': 2.284738444261596}\n"
     ]
    },
    {
     "name": "stderr",
     "output_type": "stream",
     "text": [
      "Processing Meters:  20%|█▉        | 32/161 [2:23:10<8:59:02, 250.72s/it]"
     ]
    },
    {
     "name": "stdout",
     "output_type": "stream",
     "text": [
      "\n",
      "Best parameters for AMR-04 (Hourly): {'subsample': 0.8, 'reg_lambda': 1, 'reg_alpha': 0.1, 'n_estimators': 1000, 'max_depth': 5, 'learning_rate': 0.1, 'gamma': 0.1, 'colsample_bytree': 0.9}\n"
     ]
    },
    {
     "name": "stderr",
     "output_type": "stream",
     "text": [
      "Processing Meters:  20%|██        | 33/161 [2:23:13<9:35:38, 269.83s/it]"
     ]
    },
    {
     "name": "stdout",
     "output_type": "stream",
     "text": [
      "Performance Metrics for AMR-04 (Hourly): {'train_RMSE': np.float64(0.1445842230014229), 'train_MAE': 0.08099116853126388, 'test_RMSE': np.float64(10.300032468179834), 'test_MAE': 1.9936927986517545}\n"
     ]
    },
    {
     "name": "stderr",
     "output_type": "stream",
     "text": [
      "Processing Meters:  20%|██        | 33/161 [2:23:46<9:35:38, 269.83s/it]"
     ]
    },
    {
     "name": "stdout",
     "output_type": "stream",
     "text": [
      "\n",
      "Best parameters for BFM 9 (Daily): {'subsample': 0.8, 'reg_lambda': 1.5, 'reg_alpha': 0.5, 'n_estimators': 100, 'max_depth': 3, 'learning_rate': 0.1, 'gamma': 0.1, 'colsample_bytree': 0.9}\n"
     ]
    },
    {
     "name": "stderr",
     "output_type": "stream",
     "text": [
      "Processing Meters:  20%|██        | 33/161 [2:23:47<9:35:38, 269.83s/it]"
     ]
    },
    {
     "name": "stdout",
     "output_type": "stream",
     "text": [
      "Performance Metrics for BFM 9 (Daily): {'train_RMSE': np.float64(12.15075632413973), 'train_MAE': 9.205213473234254, 'test_RMSE': np.float64(72.20254241484137), 'test_MAE': 49.723682266782355}\n"
     ]
    },
    {
     "name": "stderr",
     "output_type": "stream",
     "text": [
      "Processing Meters:  20%|██        | 33/161 [2:29:52<9:35:38, 269.83s/it]"
     ]
    },
    {
     "name": "stdout",
     "output_type": "stream",
     "text": [
      "\n",
      "Best parameters for BFM 9 (Hourly): {'subsample': 0.7, 'reg_lambda': 2, 'reg_alpha': 0.1, 'n_estimators': 500, 'max_depth': 3, 'learning_rate': 0.1, 'gamma': 0.1, 'colsample_bytree': 0.8}\n"
     ]
    },
    {
     "name": "stderr",
     "output_type": "stream",
     "text": [
      "Processing Meters:  21%|██        | 34/161 [2:29:55<10:55:08, 309.52s/it]"
     ]
    },
    {
     "name": "stdout",
     "output_type": "stream",
     "text": [
      "Performance Metrics for BFM 9 (Hourly): {'train_RMSE': np.float64(7.646151822012389), 'train_MAE': 5.491923574295934, 'test_RMSE': np.float64(15.700538667963993), 'test_MAE': 10.46285657323573}\n"
     ]
    },
    {
     "name": "stderr",
     "output_type": "stream",
     "text": [
      "Processing Meters:  21%|██        | 34/161 [2:30:28<10:55:08, 309.52s/it]"
     ]
    },
    {
     "name": "stdout",
     "output_type": "stream",
     "text": [
      "\n",
      "Best parameters for BFM 8 (Daily): {'subsample': 0.7, 'reg_lambda': 2, 'reg_alpha': 0.1, 'n_estimators': 500, 'max_depth': 3, 'learning_rate': 0.1, 'gamma': 0.1, 'colsample_bytree': 0.8}\n"
     ]
    },
    {
     "name": "stderr",
     "output_type": "stream",
     "text": [
      "Processing Meters:  21%|██        | 34/161 [2:30:31<10:55:08, 309.52s/it]"
     ]
    },
    {
     "name": "stdout",
     "output_type": "stream",
     "text": [
      "Performance Metrics for BFM 8 (Daily): {'train_RMSE': np.float64(3.777125027117233), 'train_MAE': 2.456613344901221, 'test_RMSE': np.float64(31.655521017805107), 'test_MAE': 15.652458902994782}\n"
     ]
    },
    {
     "name": "stderr",
     "output_type": "stream",
     "text": [
      "Processing Meters:  21%|██        | 34/161 [2:32:53<10:55:08, 309.52s/it]"
     ]
    },
    {
     "name": "stdout",
     "output_type": "stream",
     "text": [
      "\n",
      "Best parameters for BFM 8 (Hourly): {'subsample': 0.9, 'reg_lambda': 1, 'reg_alpha': 0, 'n_estimators': 500, 'max_depth': 7, 'learning_rate': 0.1, 'gamma': 0, 'colsample_bytree': 0.9}\n"
     ]
    },
    {
     "name": "stderr",
     "output_type": "stream",
     "text": [
      "Processing Meters:  22%|██▏       | 35/161 [2:32:57<9:29:15, 271.08s/it] "
     ]
    },
    {
     "name": "stdout",
     "output_type": "stream",
     "text": [
      "Performance Metrics for BFM 8 (Hourly): {'train_RMSE': np.float64(3.966976166795241), 'train_MAE': 2.5106895332751056, 'test_RMSE': np.float64(12.793123178153968), 'test_MAE': 5.650947989380876}\n"
     ]
    },
    {
     "name": "stderr",
     "output_type": "stream",
     "text": [
      "Processing Meters:  22%|██▏       | 35/161 [2:33:06<9:29:15, 271.08s/it]"
     ]
    },
    {
     "name": "stdout",
     "output_type": "stream",
     "text": [
      "\n",
      "Best parameters for BFM 2 (Daily): {'subsample': 0.9, 'reg_lambda': 1.5, 'reg_alpha': 0.5, 'n_estimators': 500, 'max_depth': 5, 'learning_rate': 0.01, 'gamma': 0.1, 'colsample_bytree': 0.7}\n"
     ]
    },
    {
     "name": "stderr",
     "output_type": "stream",
     "text": [
      "Processing Meters:  22%|██▏       | 35/161 [2:33:08<9:29:15, 271.08s/it]"
     ]
    },
    {
     "name": "stdout",
     "output_type": "stream",
     "text": [
      "Performance Metrics for BFM 2 (Daily): {'train_RMSE': np.float64(0.0), 'train_MAE': 0.0, 'test_RMSE': np.float64(0.0), 'test_MAE': 0.0}\n"
     ]
    },
    {
     "name": "stderr",
     "output_type": "stream",
     "text": [
      "Processing Meters:  22%|██▏       | 35/161 [2:33:17<9:29:15, 271.08s/it]"
     ]
    },
    {
     "name": "stdout",
     "output_type": "stream",
     "text": [
      "\n",
      "Best parameters for BFM 2 (Hourly): {'subsample': 0.9, 'reg_lambda': 1.5, 'reg_alpha': 0.5, 'n_estimators': 500, 'max_depth': 5, 'learning_rate': 0.01, 'gamma': 0.1, 'colsample_bytree': 0.7}\n"
     ]
    },
    {
     "name": "stderr",
     "output_type": "stream",
     "text": [
      "Processing Meters:  22%|██▏       | 36/161 [2:33:20<6:50:09, 196.87s/it]"
     ]
    },
    {
     "name": "stdout",
     "output_type": "stream",
     "text": [
      "Performance Metrics for BFM 2 (Hourly): {'train_RMSE': np.float64(0.0), 'train_MAE': 0.0, 'test_RMSE': np.float64(0.0), 'test_MAE': 0.0}\n"
     ]
    },
    {
     "name": "stderr",
     "output_type": "stream",
     "text": [
      "Processing Meters:  22%|██▏       | 36/161 [2:34:46<6:50:09, 196.87s/it]"
     ]
    },
    {
     "name": "stdout",
     "output_type": "stream",
     "text": [
      "\n",
      "Best parameters for BFM 20 (Daily): {'subsample': 0.9, 'reg_lambda': 1, 'reg_alpha': 0.1, 'n_estimators': 1000, 'max_depth': 7, 'learning_rate': 0.01, 'gamma': 0.5, 'colsample_bytree': 0.7}\n"
     ]
    },
    {
     "name": "stderr",
     "output_type": "stream",
     "text": [
      "Processing Meters:  22%|██▏       | 36/161 [2:34:48<6:50:09, 196.87s/it]"
     ]
    },
    {
     "name": "stdout",
     "output_type": "stream",
     "text": [
      "Performance Metrics for BFM 20 (Daily): {'train_RMSE': np.float64(0.4036260296297403), 'train_MAE': 0.2710487253071706, 'test_RMSE': np.float64(42.67810045487987), 'test_MAE': 27.851658002553208}\n"
     ]
    },
    {
     "name": "stderr",
     "output_type": "stream",
     "text": [
      "Processing Meters:  22%|██▏       | 36/161 [2:40:55<6:50:09, 196.87s/it]"
     ]
    },
    {
     "name": "stdout",
     "output_type": "stream",
     "text": [
      "\n",
      "Best parameters for BFM 20 (Hourly): {'subsample': 0.7, 'reg_lambda': 1.5, 'reg_alpha': 0.5, 'n_estimators': 1000, 'max_depth': 5, 'learning_rate': 0.05, 'gamma': 0.5, 'colsample_bytree': 0.9}\n"
     ]
    },
    {
     "name": "stderr",
     "output_type": "stream",
     "text": [
      "Processing Meters:  23%|██▎       | 37/161 [2:40:59<9:29:07, 275.38s/it]"
     ]
    },
    {
     "name": "stdout",
     "output_type": "stream",
     "text": [
      "Performance Metrics for BFM 20 (Hourly): {'train_RMSE': np.float64(3.393620352060412), 'train_MAE': 2.401101236386238, 'test_RMSE': np.float64(13.406705702809047), 'test_MAE': 8.180050762127275}\n"
     ]
    },
    {
     "name": "stderr",
     "output_type": "stream",
     "text": [
      "Processing Meters:  23%|██▎       | 37/161 [2:41:41<9:29:07, 275.38s/it]"
     ]
    },
    {
     "name": "stdout",
     "output_type": "stream",
     "text": [
      "\n",
      "Best parameters for BFM 21 (Daily): {'subsample': 0.8, 'reg_lambda': 2, 'reg_alpha': 0.1, 'n_estimators': 1000, 'max_depth': 7, 'learning_rate': 0.05, 'gamma': 0.1, 'colsample_bytree': 0.9}\n"
     ]
    },
    {
     "name": "stderr",
     "output_type": "stream",
     "text": [
      "Processing Meters:  23%|██▎       | 37/161 [2:41:43<9:29:07, 275.38s/it]"
     ]
    },
    {
     "name": "stdout",
     "output_type": "stream",
     "text": [
      "Performance Metrics for BFM 21 (Daily): {'train_RMSE': np.float64(0.2556877705102502), 'train_MAE': 0.17400291651628522, 'test_RMSE': np.float64(3.113797284159517), 'test_MAE': 2.645912089237588}\n"
     ]
    },
    {
     "name": "stderr",
     "output_type": "stream",
     "text": [
      "Processing Meters:  23%|██▎       | 37/161 [2:46:01<9:29:07, 275.38s/it]"
     ]
    },
    {
     "name": "stdout",
     "output_type": "stream",
     "text": [
      "\n",
      "Best parameters for BFM 21 (Hourly): {'subsample': 0.9, 'reg_lambda': 1, 'reg_alpha': 0, 'n_estimators': 500, 'max_depth': 7, 'learning_rate': 0.1, 'gamma': 0, 'colsample_bytree': 0.9}\n"
     ]
    },
    {
     "name": "stderr",
     "output_type": "stream",
     "text": [
      "Processing Meters:  24%|██▎       | 38/161 [2:46:04<9:43:05, 284.44s/it]"
     ]
    },
    {
     "name": "stdout",
     "output_type": "stream",
     "text": [
      "Performance Metrics for BFM 21 (Hourly): {'train_RMSE': np.float64(0.10662585506863888), 'train_MAE': 0.07314972677804717, 'test_RMSE': np.float64(0.8640107393550411), 'test_MAE': 0.46817305452615515}\n"
     ]
    },
    {
     "name": "stderr",
     "output_type": "stream",
     "text": [
      "Processing Meters:  24%|██▎       | 38/161 [2:46:52<9:43:05, 284.44s/it]"
     ]
    },
    {
     "name": "stdout",
     "output_type": "stream",
     "text": [
      "\n",
      "Best parameters for BFM 1 (Daily): {'subsample': 0.8, 'reg_lambda': 1.5, 'reg_alpha': 0.5, 'n_estimators': 100, 'max_depth': 3, 'learning_rate': 0.1, 'gamma': 0.1, 'colsample_bytree': 0.9}\n"
     ]
    },
    {
     "name": "stderr",
     "output_type": "stream",
     "text": [
      "Processing Meters:  24%|██▎       | 38/161 [2:46:54<9:43:05, 284.44s/it]"
     ]
    },
    {
     "name": "stdout",
     "output_type": "stream",
     "text": [
      "Performance Metrics for BFM 1 (Daily): {'train_RMSE': np.float64(8.52773715999095), 'train_MAE': 5.667797405073222, 'test_RMSE': np.float64(101.14465645343734), 'test_MAE': 51.945581095377605}\n"
     ]
    },
    {
     "name": "stderr",
     "output_type": "stream",
     "text": [
      "Processing Meters:  24%|██▎       | 38/161 [2:51:16<9:43:05, 284.44s/it]"
     ]
    },
    {
     "name": "stdout",
     "output_type": "stream",
     "text": [
      "\n",
      "Best parameters for BFM 1 (Hourly): {'subsample': 0.7, 'reg_lambda': 1.5, 'reg_alpha': 0.5, 'n_estimators': 1000, 'max_depth': 5, 'learning_rate': 0.05, 'gamma': 0.5, 'colsample_bytree': 0.9}\n"
     ]
    },
    {
     "name": "stderr",
     "output_type": "stream",
     "text": [
      "Processing Meters:  24%|██▍       | 39/161 [2:51:20<9:57:20, 293.77s/it]"
     ]
    },
    {
     "name": "stdout",
     "output_type": "stream",
     "text": [
      "Performance Metrics for BFM 1 (Hourly): {'train_RMSE': np.float64(5.78916825151475), 'train_MAE': 3.6638539279809064, 'test_RMSE': np.float64(18.918421294945105), 'test_MAE': 8.644038049449092}\n"
     ]
    },
    {
     "name": "stderr",
     "output_type": "stream",
     "text": [
      "Processing Meters:  24%|██▍       | 39/161 [2:51:48<9:57:20, 293.77s/it]"
     ]
    },
    {
     "name": "stdout",
     "output_type": "stream",
     "text": [
      "\n",
      "Best parameters for BFM 11 (Daily): {'subsample': 0.8, 'reg_lambda': 1, 'reg_alpha': 0.1, 'n_estimators': 1000, 'max_depth': 5, 'learning_rate': 0.1, 'gamma': 0.1, 'colsample_bytree': 0.9}\n"
     ]
    },
    {
     "name": "stderr",
     "output_type": "stream",
     "text": [
      "Processing Meters:  24%|██▍       | 39/161 [2:51:52<9:57:20, 293.77s/it]"
     ]
    },
    {
     "name": "stdout",
     "output_type": "stream",
     "text": [
      "Performance Metrics for BFM 11 (Daily): {'train_RMSE': np.float64(6.18099594355764), 'train_MAE': 4.881811639842603, 'test_RMSE': np.float64(7.154033270486139), 'test_MAE': 5.170672373045739}\n"
     ]
    },
    {
     "name": "stderr",
     "output_type": "stream",
     "text": [
      "Processing Meters:  24%|██▍       | 39/161 [2:56:38<9:57:20, 293.77s/it]"
     ]
    },
    {
     "name": "stdout",
     "output_type": "stream",
     "text": [
      "\n",
      "Best parameters for BFM 11 (Hourly): {'subsample': 0.9, 'reg_lambda': 1, 'reg_alpha': 0.1, 'n_estimators': 1000, 'max_depth': 7, 'learning_rate': 0.01, 'gamma': 0.5, 'colsample_bytree': 0.7}\n"
     ]
    },
    {
     "name": "stderr",
     "output_type": "stream",
     "text": [
      "Processing Meters:  25%|██▍       | 40/161 [2:56:40<10:08:36, 301.79s/it]"
     ]
    },
    {
     "name": "stdout",
     "output_type": "stream",
     "text": [
      "Performance Metrics for BFM 11 (Hourly): {'train_RMSE': np.float64(0.24156425070229684), 'train_MAE': 0.15459375591290608, 'test_RMSE': np.float64(2.726975000521152), 'test_MAE': 0.8346983754450616}\n"
     ]
    },
    {
     "name": "stderr",
     "output_type": "stream",
     "text": [
      "Processing Meters:  25%|██▍       | 40/161 [2:57:20<10:08:36, 301.79s/it]"
     ]
    },
    {
     "name": "stdout",
     "output_type": "stream",
     "text": [
      "\n",
      "Best parameters for AMR-91 (Daily): {'subsample': 0.7, 'reg_lambda': 2, 'reg_alpha': 0.1, 'n_estimators': 500, 'max_depth': 3, 'learning_rate': 0.1, 'gamma': 0.1, 'colsample_bytree': 0.8}\n"
     ]
    },
    {
     "name": "stderr",
     "output_type": "stream",
     "text": [
      "Processing Meters:  25%|██▍       | 40/161 [2:57:22<10:08:36, 301.79s/it]"
     ]
    },
    {
     "name": "stdout",
     "output_type": "stream",
     "text": [
      "Performance Metrics for AMR-91 (Daily): {'train_RMSE': np.float64(0.128081083567918), 'train_MAE': 0.10581608982103832, 'test_RMSE': np.float64(4.2451702302198555), 'test_MAE': 2.1693290767385087}\n"
     ]
    },
    {
     "name": "stderr",
     "output_type": "stream",
     "text": [
      "Processing Meters:  25%|██▍       | 40/161 [3:02:18<10:08:36, 301.79s/it]"
     ]
    },
    {
     "name": "stdout",
     "output_type": "stream",
     "text": [
      "\n",
      "Best parameters for AMR-91 (Hourly): {'subsample': 0.8, 'reg_lambda': 1, 'reg_alpha': 0.1, 'n_estimators': 1000, 'max_depth': 5, 'learning_rate': 0.1, 'gamma': 0.1, 'colsample_bytree': 0.9}\n"
     ]
    },
    {
     "name": "stderr",
     "output_type": "stream",
     "text": [
      "Processing Meters:  25%|██▌       | 41/161 [3:02:21<10:26:45, 313.38s/it]"
     ]
    },
    {
     "name": "stdout",
     "output_type": "stream",
     "text": [
      "Performance Metrics for AMR-91 (Hourly): {'train_RMSE': np.float64(0.1685084333230037), 'train_MAE': 0.12225647665283547, 'test_RMSE': np.float64(1.3907678539487673), 'test_MAE': 0.7681723124231551}\n"
     ]
    },
    {
     "name": "stderr",
     "output_type": "stream",
     "text": [
      "Processing Meters:  25%|██▌       | 41/161 [3:03:19<10:26:45, 313.38s/it]"
     ]
    },
    {
     "name": "stdout",
     "output_type": "stream",
     "text": [
      "\n",
      "Best parameters for BFM 14 (Daily): {'subsample': 0.8, 'reg_lambda': 1.5, 'reg_alpha': 0.1, 'n_estimators': 500, 'max_depth': 3, 'learning_rate': 0.01, 'gamma': 0.1, 'colsample_bytree': 0.7}\n"
     ]
    },
    {
     "name": "stderr",
     "output_type": "stream",
     "text": [
      "Processing Meters:  25%|██▌       | 41/161 [3:03:21<10:26:45, 313.38s/it]"
     ]
    },
    {
     "name": "stdout",
     "output_type": "stream",
     "text": [
      "Performance Metrics for BFM 14 (Daily): {'train_RMSE': np.float64(18.450159865553395), 'train_MAE': 12.53807289222044, 'test_RMSE': np.float64(29.270307804850617), 'test_MAE': 25.45692771019973}\n"
     ]
    },
    {
     "name": "stderr",
     "output_type": "stream",
     "text": [
      "Processing Meters:  25%|██▌       | 41/161 [3:08:06<10:26:45, 313.38s/it]"
     ]
    },
    {
     "name": "stdout",
     "output_type": "stream",
     "text": [
      "\n",
      "Best parameters for BFM 14 (Hourly): {'subsample': 0.8, 'reg_lambda': 1, 'reg_alpha': 0.1, 'n_estimators': 1000, 'max_depth': 5, 'learning_rate': 0.1, 'gamma': 0.1, 'colsample_bytree': 0.9}\n"
     ]
    },
    {
     "name": "stderr",
     "output_type": "stream",
     "text": [
      "Processing Meters:  26%|██▌       | 42/161 [3:08:10<10:42:48, 324.11s/it]"
     ]
    },
    {
     "name": "stdout",
     "output_type": "stream",
     "text": [
      "Performance Metrics for BFM 14 (Hourly): {'train_RMSE': np.float64(1.2751835924484878), 'train_MAE': 0.7982597841200124, 'test_RMSE': np.float64(8.473981500039645), 'test_MAE': 2.50817046660012}\n"
     ]
    },
    {
     "name": "stderr",
     "output_type": "stream",
     "text": [
      "Processing Meters:  26%|██▌       | 42/161 [3:08:37<10:42:48, 324.11s/it]"
     ]
    },
    {
     "name": "stdout",
     "output_type": "stream",
     "text": [
      "\n",
      "Best parameters for BFM 15 (Daily): {'subsample': 0.8, 'reg_lambda': 1.5, 'reg_alpha': 0.1, 'n_estimators': 500, 'max_depth': 3, 'learning_rate': 0.01, 'gamma': 0.1, 'colsample_bytree': 0.7}\n"
     ]
    },
    {
     "name": "stderr",
     "output_type": "stream",
     "text": [
      "Processing Meters:  26%|██▌       | 42/161 [3:08:39<10:42:48, 324.11s/it]"
     ]
    },
    {
     "name": "stdout",
     "output_type": "stream",
     "text": [
      "Performance Metrics for BFM 15 (Daily): {'train_RMSE': np.float64(120.53087836740286), 'train_MAE': 91.01009538884517, 'test_RMSE': np.float64(228.8517588623374), 'test_MAE': 205.8075927957837}\n"
     ]
    },
    {
     "name": "stderr",
     "output_type": "stream",
     "text": [
      "Processing Meters:  26%|██▌       | 42/161 [3:10:54<10:42:48, 324.11s/it]"
     ]
    },
    {
     "name": "stdout",
     "output_type": "stream",
     "text": [
      "\n",
      "Best parameters for BFM 15 (Hourly): {'subsample': 0.7, 'reg_lambda': 2, 'reg_alpha': 0.1, 'n_estimators': 500, 'max_depth': 3, 'learning_rate': 0.1, 'gamma': 0.1, 'colsample_bytree': 0.8}\n"
     ]
    },
    {
     "name": "stderr",
     "output_type": "stream",
     "text": [
      "Processing Meters:  27%|██▋       | 43/161 [3:10:57<9:04:57, 277.09s/it] "
     ]
    },
    {
     "name": "stdout",
     "output_type": "stream",
     "text": [
      "Performance Metrics for BFM 15 (Hourly): {'train_RMSE': np.float64(135.85479857586245), 'train_MAE': 60.973021928494184, 'test_RMSE': np.float64(64.8181144031605), 'test_MAE': 26.61626873405083}\n"
     ]
    },
    {
     "name": "stderr",
     "output_type": "stream",
     "text": [
      "Processing Meters:  27%|██▋       | 43/161 [3:11:06<9:04:57, 277.09s/it]"
     ]
    },
    {
     "name": "stdout",
     "output_type": "stream",
     "text": [
      "\n",
      "Best parameters for BFM 12 (Daily): {'subsample': 0.9, 'reg_lambda': 1.5, 'reg_alpha': 0.5, 'n_estimators': 500, 'max_depth': 5, 'learning_rate': 0.01, 'gamma': 0.1, 'colsample_bytree': 0.7}\n"
     ]
    },
    {
     "name": "stderr",
     "output_type": "stream",
     "text": [
      "Processing Meters:  27%|██▋       | 43/161 [3:11:08<9:04:57, 277.09s/it]"
     ]
    },
    {
     "name": "stdout",
     "output_type": "stream",
     "text": [
      "Performance Metrics for BFM 12 (Daily): {'train_RMSE': np.float64(0.0), 'train_MAE': 0.0, 'test_RMSE': np.float64(0.0), 'test_MAE': 0.0}\n"
     ]
    },
    {
     "name": "stderr",
     "output_type": "stream",
     "text": [
      "Processing Meters:  27%|██▋       | 43/161 [3:11:17<9:04:57, 277.09s/it]"
     ]
    },
    {
     "name": "stdout",
     "output_type": "stream",
     "text": [
      "\n",
      "Best parameters for BFM 12 (Hourly): {'subsample': 0.9, 'reg_lambda': 1.5, 'reg_alpha': 0.5, 'n_estimators': 500, 'max_depth': 5, 'learning_rate': 0.01, 'gamma': 0.1, 'colsample_bytree': 0.7}\n"
     ]
    },
    {
     "name": "stderr",
     "output_type": "stream",
     "text": [
      "Processing Meters:  27%|██▋       | 44/161 [3:11:20<6:31:33, 200.80s/it]"
     ]
    },
    {
     "name": "stdout",
     "output_type": "stream",
     "text": [
      "Performance Metrics for BFM 12 (Hourly): {'train_RMSE': np.float64(0.0), 'train_MAE': 0.0, 'test_RMSE': np.float64(0.0), 'test_MAE': 0.0}\n"
     ]
    },
    {
     "name": "stderr",
     "output_type": "stream",
     "text": [
      "Processing Meters:  27%|██▋       | 44/161 [3:11:41<6:31:33, 200.80s/it]"
     ]
    },
    {
     "name": "stdout",
     "output_type": "stream",
     "text": [
      "\n",
      "Best parameters for AMR-157 (Daily): {'subsample': 0.7, 'reg_lambda': 2, 'reg_alpha': 0.1, 'n_estimators': 500, 'max_depth': 3, 'learning_rate': 0.1, 'gamma': 0.1, 'colsample_bytree': 0.8}\n"
     ]
    },
    {
     "name": "stderr",
     "output_type": "stream",
     "text": [
      "Processing Meters:  27%|██▋       | 44/161 [3:11:43<6:31:33, 200.80s/it]"
     ]
    },
    {
     "name": "stdout",
     "output_type": "stream",
     "text": [
      "Performance Metrics for AMR-157 (Daily): {'train_RMSE': np.float64(0.13499683030256523), 'train_MAE': 0.10624993819244684, 'test_RMSE': np.float64(0.14522900772219804), 'test_MAE': 0.11505897103439502}\n"
     ]
    },
    {
     "name": "stderr",
     "output_type": "stream",
     "text": [
      "Processing Meters:  27%|██▋       | 44/161 [3:13:56<6:31:33, 200.80s/it]"
     ]
    },
    {
     "name": "stdout",
     "output_type": "stream",
     "text": [
      "\n",
      "Best parameters for AMR-157 (Hourly): {'subsample': 0.9, 'reg_lambda': 1, 'reg_alpha': 0, 'n_estimators': 500, 'max_depth': 7, 'learning_rate': 0.1, 'gamma': 0, 'colsample_bytree': 0.9}\n"
     ]
    },
    {
     "name": "stderr",
     "output_type": "stream",
     "text": [
      "Processing Meters:  28%|██▊       | 45/161 [3:14:00<6:04:20, 188.45s/it]"
     ]
    },
    {
     "name": "stdout",
     "output_type": "stream",
     "text": [
      "Performance Metrics for AMR-157 (Hourly): {'train_RMSE': np.float64(0.005790742981635707), 'train_MAE': 0.00375843841380982, 'test_RMSE': np.float64(0.05752444951532582), 'test_MAE': 0.020526347945339706}\n"
     ]
    },
    {
     "name": "stderr",
     "output_type": "stream",
     "text": [
      "Processing Meters:  28%|██▊       | 45/161 [3:14:36<6:04:20, 188.45s/it]"
     ]
    },
    {
     "name": "stdout",
     "output_type": "stream",
     "text": [
      "\n",
      "Best parameters for AMR-162 (Daily): {'subsample': 0.7, 'reg_lambda': 2, 'reg_alpha': 0.1, 'n_estimators': 500, 'max_depth': 3, 'learning_rate': 0.1, 'gamma': 0.1, 'colsample_bytree': 0.8}\n"
     ]
    },
    {
     "name": "stderr",
     "output_type": "stream",
     "text": [
      "Processing Meters:  28%|██▊       | 45/161 [3:14:38<6:04:20, 188.45s/it]"
     ]
    },
    {
     "name": "stdout",
     "output_type": "stream",
     "text": [
      "Performance Metrics for AMR-162 (Daily): {'train_RMSE': np.float64(0.1513245978858416), 'train_MAE': 0.11744940211845957, 'test_RMSE': np.float64(0.8256197447688726), 'test_MAE': 0.5588048150744803}\n"
     ]
    },
    {
     "name": "stderr",
     "output_type": "stream",
     "text": [
      "Processing Meters:  28%|██▊       | 45/161 [3:18:02<6:04:20, 188.45s/it]"
     ]
    },
    {
     "name": "stdout",
     "output_type": "stream",
     "text": [
      "\n",
      "Best parameters for AMR-162 (Hourly): {'subsample': 0.9, 'reg_lambda': 1, 'reg_alpha': 0, 'n_estimators': 500, 'max_depth': 7, 'learning_rate': 0.1, 'gamma': 0, 'colsample_bytree': 0.9}\n"
     ]
    },
    {
     "name": "stderr",
     "output_type": "stream",
     "text": [
      "Processing Meters:  29%|██▊       | 46/161 [3:18:05<6:33:46, 205.44s/it]"
     ]
    },
    {
     "name": "stdout",
     "output_type": "stream",
     "text": [
      "Performance Metrics for AMR-162 (Hourly): {'train_RMSE': np.float64(0.006931578501828123), 'train_MAE': 0.0052110966815802915, 'test_RMSE': np.float64(0.2566566521672037), 'test_MAE': 0.16656522214574657}\n"
     ]
    },
    {
     "name": "stderr",
     "output_type": "stream",
     "text": [
      "Processing Meters:  29%|██▊       | 46/161 [3:18:25<6:33:46, 205.44s/it]"
     ]
    },
    {
     "name": "stdout",
     "output_type": "stream",
     "text": [
      "\n",
      "Best parameters for AMR-188 (Daily): {'subsample': 0.7, 'reg_lambda': 1.5, 'reg_alpha': 0.5, 'n_estimators': 100, 'max_depth': 5, 'learning_rate': 0.1, 'gamma': 0.5, 'colsample_bytree': 0.9}\n"
     ]
    },
    {
     "name": "stderr",
     "output_type": "stream",
     "text": [
      "Processing Meters:  29%|██▊       | 46/161 [3:18:27<6:33:46, 205.44s/it]"
     ]
    },
    {
     "name": "stdout",
     "output_type": "stream",
     "text": [
      "Performance Metrics for AMR-188 (Daily): {'train_RMSE': np.float64(5.549963706053681), 'train_MAE': 2.33849584906315, 'test_RMSE': np.float64(90.99188515091905), 'test_MAE': 47.13887016707705}\n"
     ]
    },
    {
     "name": "stderr",
     "output_type": "stream",
     "text": [
      "Processing Meters:  29%|██▊       | 46/161 [3:20:15<6:33:46, 205.44s/it]"
     ]
    },
    {
     "name": "stdout",
     "output_type": "stream",
     "text": [
      "\n",
      "Best parameters for AMR-188 (Hourly): {'subsample': 0.9, 'reg_lambda': 1, 'reg_alpha': 0, 'n_estimators': 500, 'max_depth': 7, 'learning_rate': 0.1, 'gamma': 0, 'colsample_bytree': 0.9}\n"
     ]
    },
    {
     "name": "stderr",
     "output_type": "stream",
     "text": [
      "Processing Meters:  29%|██▉       | 47/161 [3:20:18<5:49:10, 183.78s/it]"
     ]
    },
    {
     "name": "stdout",
     "output_type": "stream",
     "text": [
      "Performance Metrics for AMR-188 (Hourly): {'train_RMSE': np.float64(1.346067786241446), 'train_MAE': 0.2288621362159029, 'test_RMSE': np.float64(96.80672530001696), 'test_MAE': 38.58187390413702}\n"
     ]
    },
    {
     "name": "stderr",
     "output_type": "stream",
     "text": [
      "Processing Meters:  29%|██▉       | 47/161 [3:20:41<5:49:10, 183.78s/it]"
     ]
    },
    {
     "name": "stdout",
     "output_type": "stream",
     "text": [
      "\n",
      "Best parameters for AMR-17 (Daily): {'subsample': 0.7, 'reg_lambda': 1.5, 'reg_alpha': 0.1, 'n_estimators': 100, 'max_depth': 3, 'learning_rate': 0.05, 'gamma': 0.1, 'colsample_bytree': 0.8}\n"
     ]
    },
    {
     "name": "stderr",
     "output_type": "stream",
     "text": [
      "Processing Meters:  29%|██▉       | 47/161 [3:20:42<5:49:10, 183.78s/it]"
     ]
    },
    {
     "name": "stdout",
     "output_type": "stream",
     "text": [
      "Performance Metrics for AMR-17 (Daily): {'train_RMSE': np.float64(3.5075791245492316), 'train_MAE': 2.410844905212284, 'test_RMSE': np.float64(5.9882809935006565), 'test_MAE': 4.58879881804236}\n"
     ]
    },
    {
     "name": "stderr",
     "output_type": "stream",
     "text": [
      "Processing Meters:  29%|██▉       | 47/161 [3:25:12<5:49:10, 183.78s/it]"
     ]
    },
    {
     "name": "stdout",
     "output_type": "stream",
     "text": [
      "\n",
      "Best parameters for AMR-17 (Hourly): {'subsample': 0.7, 'reg_lambda': 2, 'reg_alpha': 0.1, 'n_estimators': 500, 'max_depth': 3, 'learning_rate': 0.1, 'gamma': 0.1, 'colsample_bytree': 0.8}\n"
     ]
    },
    {
     "name": "stderr",
     "output_type": "stream",
     "text": [
      "Processing Meters:  30%|██▉       | 48/161 [3:25:16<6:50:21, 217.89s/it]"
     ]
    },
    {
     "name": "stdout",
     "output_type": "stream",
     "text": [
      "Performance Metrics for AMR-17 (Hourly): {'train_RMSE': np.float64(0.9582203495085284), 'train_MAE': 0.6550619244194873, 'test_RMSE': np.float64(1.438228109406767), 'test_MAE': 1.0582306552070964}\n"
     ]
    },
    {
     "name": "stderr",
     "output_type": "stream",
     "text": [
      "Processing Meters:  30%|██▉       | 48/161 [3:25:45<6:50:21, 217.89s/it]"
     ]
    },
    {
     "name": "stdout",
     "output_type": "stream",
     "text": [
      "\n",
      "Best parameters for AMR-153 (Daily): {'subsample': 0.7, 'reg_lambda': 2, 'reg_alpha': 0.1, 'n_estimators': 500, 'max_depth': 7, 'learning_rate': 0.01, 'gamma': 0, 'colsample_bytree': 0.8}\n"
     ]
    },
    {
     "name": "stderr",
     "output_type": "stream",
     "text": [
      "Processing Meters:  30%|██▉       | 48/161 [3:25:47<6:50:21, 217.89s/it]"
     ]
    },
    {
     "name": "stdout",
     "output_type": "stream",
     "text": [
      "Performance Metrics for AMR-153 (Daily): {'train_RMSE': np.float64(0.33638137850184285), 'train_MAE': 0.12556029619855788, 'test_RMSE': np.float64(0.006975368344658039), 'test_MAE': 0.005781590628127257}\n"
     ]
    },
    {
     "name": "stderr",
     "output_type": "stream",
     "text": [
      "Processing Meters:  30%|██▉       | 48/161 [3:28:16<6:50:21, 217.89s/it]"
     ]
    },
    {
     "name": "stdout",
     "output_type": "stream",
     "text": [
      "\n",
      "Best parameters for AMR-153 (Hourly): {'subsample': 0.9, 'reg_lambda': 1, 'reg_alpha': 0.1, 'n_estimators': 1000, 'max_depth': 7, 'learning_rate': 0.01, 'gamma': 0.5, 'colsample_bytree': 0.7}\n"
     ]
    },
    {
     "name": "stderr",
     "output_type": "stream",
     "text": [
      "Processing Meters:  30%|███       | 49/161 [3:28:19<6:27:26, 207.56s/it]"
     ]
    },
    {
     "name": "stdout",
     "output_type": "stream",
     "text": [
      "Performance Metrics for AMR-153 (Hourly): {'train_RMSE': np.float64(0.14361794882369874), 'train_MAE': 0.05777444469555134, 'test_RMSE': np.float64(7.581738827866502e-06), 'test_MAE': 7.581738827866502e-06}\n"
     ]
    },
    {
     "name": "stderr",
     "output_type": "stream",
     "text": [
      "Processing Meters:  30%|███       | 49/161 [3:28:28<6:27:26, 207.56s/it]"
     ]
    },
    {
     "name": "stdout",
     "output_type": "stream",
     "text": [
      "\n",
      "Best parameters for AMR-181 (Daily): {'subsample': 0.9, 'reg_lambda': 1.5, 'reg_alpha': 0.5, 'n_estimators': 500, 'max_depth': 5, 'learning_rate': 0.01, 'gamma': 0.1, 'colsample_bytree': 0.7}\n"
     ]
    },
    {
     "name": "stderr",
     "output_type": "stream",
     "text": [
      "Processing Meters:  30%|███       | 49/161 [3:28:32<6:27:26, 207.56s/it]"
     ]
    },
    {
     "name": "stdout",
     "output_type": "stream",
     "text": [
      "Performance Metrics for AMR-181 (Daily): {'train_RMSE': np.float64(0.0), 'train_MAE': 0.0, 'test_RMSE': np.float64(0.0), 'test_MAE': 0.0}\n"
     ]
    },
    {
     "name": "stderr",
     "output_type": "stream",
     "text": [
      "Processing Meters:  30%|███       | 49/161 [3:28:42<6:27:26, 207.56s/it]"
     ]
    },
    {
     "name": "stdout",
     "output_type": "stream",
     "text": [
      "\n",
      "Best parameters for AMR-181 (Hourly): {'subsample': 0.9, 'reg_lambda': 1.5, 'reg_alpha': 0.5, 'n_estimators': 500, 'max_depth': 5, 'learning_rate': 0.01, 'gamma': 0.1, 'colsample_bytree': 0.7}\n"
     ]
    },
    {
     "name": "stderr",
     "output_type": "stream",
     "text": [
      "Processing Meters:  31%|███       | 50/161 [3:28:45<4:42:54, 152.92s/it]"
     ]
    },
    {
     "name": "stdout",
     "output_type": "stream",
     "text": [
      "Performance Metrics for AMR-181 (Hourly): {'train_RMSE': np.float64(0.0), 'train_MAE': 0.0, 'test_RMSE': np.float64(0.0), 'test_MAE': 0.0}\n"
     ]
    },
    {
     "name": "stderr",
     "output_type": "stream",
     "text": [
      "Processing Meters:  31%|███       | 50/161 [3:29:01<4:42:54, 152.92s/it]"
     ]
    },
    {
     "name": "stdout",
     "output_type": "stream",
     "text": [
      "\n",
      "Best parameters for AMR-180 (Daily): {'subsample': 0.9, 'reg_lambda': 1, 'reg_alpha': 0, 'n_estimators': 500, 'max_depth': 7, 'learning_rate': 0.1, 'gamma': 0, 'colsample_bytree': 0.9}\n"
     ]
    },
    {
     "name": "stderr",
     "output_type": "stream",
     "text": [
      "Processing Meters:  31%|███       | 50/161 [3:29:02<4:42:54, 152.92s/it]"
     ]
    },
    {
     "name": "stdout",
     "output_type": "stream",
     "text": [
      "Performance Metrics for AMR-180 (Daily): {'train_RMSE': np.float64(1.3898837851502084), 'train_MAE': 0.8181023920497021, 'test_RMSE': np.float64(5.843725398665788), 'test_MAE': 3.3984548746049947}\n"
     ]
    },
    {
     "name": "stderr",
     "output_type": "stream",
     "text": [
      "Processing Meters:  31%|███       | 50/161 [19:02:02<4:42:54, 152.92s/it]"
     ]
    },
    {
     "name": "stdout",
     "output_type": "stream",
     "text": [
      "\n",
      "Best parameters for AMR-180 (Hourly): {'subsample': 0.7, 'reg_lambda': 1.5, 'reg_alpha': 0.5, 'n_estimators': 1000, 'max_depth': 5, 'learning_rate': 0.05, 'gamma': 0.5, 'colsample_bytree': 0.9}\n"
     ]
    },
    {
     "name": "stderr",
     "output_type": "stream",
     "text": [
      "Processing Meters:  32%|███▏      | 51/161 [19:02:05<516:36:24, 16907.13s/it]"
     ]
    },
    {
     "name": "stdout",
     "output_type": "stream",
     "text": [
      "Performance Metrics for AMR-180 (Hourly): {'train_RMSE': np.float64(0.32009217195510803), 'train_MAE': 0.19014497727095364, 'test_RMSE': np.float64(0.8946964842957925), 'test_MAE': 0.5574291669060009}\n"
     ]
    },
    {
     "name": "stderr",
     "output_type": "stream",
     "text": [
      "Processing Meters:  32%|███▏      | 51/161 [19:02:25<516:36:24, 16907.13s/it]"
     ]
    },
    {
     "name": "stdout",
     "output_type": "stream",
     "text": [
      "\n",
      "Best parameters for AMR-179 (Daily): {'subsample': 0.7, 'reg_lambda': 1.5, 'reg_alpha': 0.1, 'n_estimators': 100, 'max_depth': 3, 'learning_rate': 0.05, 'gamma': 0.1, 'colsample_bytree': 0.8}\n"
     ]
    },
    {
     "name": "stderr",
     "output_type": "stream",
     "text": [
      "Processing Meters:  32%|███▏      | 51/161 [19:02:26<516:36:24, 16907.13s/it]"
     ]
    },
    {
     "name": "stdout",
     "output_type": "stream",
     "text": [
      "Performance Metrics for AMR-179 (Daily): {'train_RMSE': np.float64(0.34639237029160974), 'train_MAE': 0.19587438953108502, 'test_RMSE': np.float64(0.7561535693537836), 'test_MAE': 0.6072040787567414}\n"
     ]
    },
    {
     "name": "stderr",
     "output_type": "stream",
     "text": [
      "Processing Meters:  32%|███▏      | 51/161 [19:05:27<516:36:24, 16907.13s/it]"
     ]
    },
    {
     "name": "stdout",
     "output_type": "stream",
     "text": [
      "\n",
      "Best parameters for AMR-179 (Hourly): {'subsample': 0.7, 'reg_lambda': 1.5, 'reg_alpha': 0.5, 'n_estimators': 1000, 'max_depth': 5, 'learning_rate': 0.05, 'gamma': 0.5, 'colsample_bytree': 0.9}\n"
     ]
    },
    {
     "name": "stderr",
     "output_type": "stream",
     "text": [
      "Processing Meters:  32%|███▏      | 52/161 [19:05:30<360:11:54, 11896.46s/it]"
     ]
    },
    {
     "name": "stdout",
     "output_type": "stream",
     "text": [
      "Performance Metrics for AMR-179 (Hourly): {'train_RMSE': np.float64(0.2482536208666336), 'train_MAE': 0.12368137476759951, 'test_RMSE': np.float64(0.24417792815813483), 'test_MAE': 0.1284509665838382}\n"
     ]
    },
    {
     "name": "stderr",
     "output_type": "stream",
     "text": [
      "Processing Meters:  32%|███▏      | 52/161 [19:06:25<360:11:54, 11896.46s/it]"
     ]
    },
    {
     "name": "stdout",
     "output_type": "stream",
     "text": [
      "\n",
      "Best parameters for AMR-189 (Daily): {'subsample': 0.8, 'reg_lambda': 2, 'reg_alpha': 0, 'n_estimators': 1000, 'max_depth': 7, 'learning_rate': 0.05, 'gamma': 0, 'colsample_bytree': 0.7}\n"
     ]
    },
    {
     "name": "stderr",
     "output_type": "stream",
     "text": [
      "Processing Meters:  32%|███▏      | 52/161 [19:06:27<360:11:54, 11896.46s/it]"
     ]
    },
    {
     "name": "stdout",
     "output_type": "stream",
     "text": [
      "Performance Metrics for AMR-189 (Daily): {'train_RMSE': np.float64(0.0016592261470606013), 'train_MAE': 0.0006932923328854982, 'test_RMSE': np.float64(0.9542561506338704), 'test_MAE': 0.7985925285816192}\n"
     ]
    },
    {
     "name": "stderr",
     "output_type": "stream",
     "text": [
      "Processing Meters:  32%|███▏      | 52/161 [19:09:30<360:11:54, 11896.46s/it]"
     ]
    },
    {
     "name": "stdout",
     "output_type": "stream",
     "text": [
      "\n",
      "Best parameters for AMR-189 (Hourly): {'subsample': 0.9, 'reg_lambda': 2, 'reg_alpha': 0.1, 'n_estimators': 500, 'max_depth': 3, 'learning_rate': 0.05, 'gamma': 0.1, 'colsample_bytree': 0.9}\n"
     ]
    },
    {
     "name": "stderr",
     "output_type": "stream",
     "text": [
      "Processing Meters:  33%|███▎      | 53/161 [19:09:35<252:01:53, 8401.05s/it] "
     ]
    },
    {
     "name": "stdout",
     "output_type": "stream",
     "text": [
      "Performance Metrics for AMR-189 (Hourly): {'train_RMSE': np.float64(0.14155679970015383), 'train_MAE': 0.0738701178878269, 'test_RMSE': np.float64(0.18127203306994813), 'test_MAE': 0.07082634866627537}\n"
     ]
    },
    {
     "name": "stderr",
     "output_type": "stream",
     "text": [
      "Processing Meters:  33%|███▎      | 53/161 [19:10:01<252:01:53, 8401.05s/it]"
     ]
    },
    {
     "name": "stdout",
     "output_type": "stream",
     "text": [
      "\n",
      "Best parameters for AMR-176 (Daily): {'subsample': 0.7, 'reg_lambda': 2, 'reg_alpha': 0.1, 'n_estimators': 500, 'max_depth': 3, 'learning_rate': 0.1, 'gamma': 0.1, 'colsample_bytree': 0.8}\n"
     ]
    },
    {
     "name": "stderr",
     "output_type": "stream",
     "text": [
      "Processing Meters:  33%|███▎      | 53/161 [19:10:03<252:01:53, 8401.05s/it]"
     ]
    },
    {
     "name": "stdout",
     "output_type": "stream",
     "text": [
      "Performance Metrics for AMR-176 (Daily): {'train_RMSE': np.float64(0.09476658814966761), 'train_MAE': 0.029084147231112564, 'test_RMSE': np.float64(0.0076034097000956535), 'test_MAE': 0.0076034097000956535}\n"
     ]
    },
    {
     "name": "stderr",
     "output_type": "stream",
     "text": [
      "Processing Meters:  33%|███▎      | 53/161 [19:11:35<252:01:53, 8401.05s/it]"
     ]
    },
    {
     "name": "stdout",
     "output_type": "stream",
     "text": [
      "\n",
      "Best parameters for AMR-176 (Hourly): {'subsample': 0.8, 'reg_lambda': 1, 'reg_alpha': 0.1, 'n_estimators': 1000, 'max_depth': 5, 'learning_rate': 0.1, 'gamma': 0.1, 'colsample_bytree': 0.9}\n"
     ]
    },
    {
     "name": "stderr",
     "output_type": "stream",
     "text": [
      "Processing Meters:  34%|███▎      | 54/161 [19:11:39<175:53:46, 5918.00s/it]"
     ]
    },
    {
     "name": "stdout",
     "output_type": "stream",
     "text": [
      "Performance Metrics for AMR-176 (Hourly): {'train_RMSE': np.float64(0.027624473472085933), 'train_MAE': 0.0034662331066125356, 'test_RMSE': np.float64(0.0007651311461813748), 'test_MAE': 0.0007651311461813748}\n"
     ]
    }
   ],
   "source": [
    "import pandas as pd\n",
    "import xgboost as xgb\n",
    "import matplotlib.pyplot as plt\n",
    "from sklearn.metrics import mean_squared_error, mean_absolute_error\n",
    "from sklearn.model_selection import RandomizedSearchCV, TimeSeriesSplit\n",
    "import numpy as np\n",
    "import os\n",
    "import joblib\n",
    "import warnings\n",
    "from tqdm import tqdm\n",
    "\n",
    "# Suppress ignorable warnings\n",
    "warnings.filterwarnings('ignore')\n",
    "\n",
    "def load_data(file_path='../Data/3mon.csv'):\n",
    "\n",
    "    print(f\"Loading data from {file_path}...\")\n",
    "    try:\n",
    "        df = pd.read_csv(file_path, parse_dates=['created_datetime'])\n",
    "        if df.empty:\n",
    "            raise ValueError(\"Loaded dataset is empty\")\n",
    "\n",
    "        print(f\"Initial data shape: {df.shape}\")\n",
    "        \n",
    "        df = df.rename(columns={\n",
    "            'id': 'Id', 'created_datetime': 'local_time_col', 'water_meter_code': 'meter_code',\n",
    "            'flow_rate': 'fr', 'flow_volume': 'fv', 'flow_today': 'today', 'net_total': 'net_total'\n",
    "        })\n",
    "        \n",
    "        df = df.sort_values(['meter_code', 'local_time_col'])\n",
    "        df['fr'] = df.groupby('meter_code')['fr'].transform(lambda x: x.ffill())\n",
    "        df[['fr', 'fv', 'net_total', 'today']] = df[['fr', 'fv', 'net_total', 'today']].fillna(0)\n",
    "        \n",
    "        print(f\"Date range: {df['local_time_col'].min()} to {df['local_time_col'].max()}\")\n",
    "        print(f\"Number of unique meters: {df['meter_code'].nunique()}\")\n",
    "        \n",
    "        df = df.dropna(subset=['local_time_col', 'meter_code', 'fr'])\n",
    "        print(\"Data loaded and preprocessed successfully.\")\n",
    "        return df\n",
    "        \n",
    "    except Exception as e:\n",
    "        print(f\"Error loading data: {str(e)}\")\n",
    "        raise\n",
    "\n",
    "def create_features(df, target_col='fr'):\n",
    "\n",
    "    df = df.copy()\n",
    "    df['hour'] = df['local_time_col'].dt.hour\n",
    "    df['day_of_week'] = df['local_time_col'].dt.dayofweek\n",
    "    df['day_of_month'] = df['local_time_col'].dt.day\n",
    "    df['month'] = df['local_time_col'].dt.month\n",
    "    df['quarter'] = df['local_time_col'].dt.quarter\n",
    "    df['year'] = df['local_time_col'].dt.year\n",
    "    df['is_weekend'] = (df['local_time_col'].dt.dayofweek >= 5).astype(int)\n",
    "    \n",
    "    df['hour_sin'] = np.sin(2 * np.pi * df['hour'] / 24)\n",
    "    df['hour_cos'] = np.cos(2 * np.pi * df['hour'] / 24)\n",
    "    df['day_sin'] = np.sin(2 * np.pi * df['day_of_week'] / 7)\n",
    "    df['day_cos'] = np.cos(2 * np.pi * df['day_of_week'] / 7)\n",
    "    df['month_sin'] = np.sin(2 * np.pi * df['month'] / 12)\n",
    "    df['month_cos'] = np.cos(2 * np.pi * df['month'] / 12)\n",
    "    \n",
    "    return df\n",
    "\n",
    "def create_lag_rolling_features(df, target_col='fr'):\n",
    "\n",
    "    df = df.copy()\n",
    "    lags = [1, 2, 3, 6, 12, 24, 32]\n",
    "    for lag in lags:\n",
    "        df[f'{target_col}_lag_{lag}'] = df[target_col].shift(lag)\n",
    "        \n",
    "    windows = [3, 6, 12, 24]\n",
    "    for window in windows:\n",
    "        df[f'{target_col}_rolling_mean_{window}'] = df[target_col].rolling(window=window).mean()\n",
    "        df[f'{target_col}_rolling_std_{window}'] = df[target_col].rolling(window=window).std()\n",
    "        df[f'{target_col}_rolling_min_{window}'] = df[target_col].rolling(window=window).min()\n",
    "        df[f'{target_col}_rolling_max_{window}'] = df[target_col].rolling(window=window).max()\n",
    "        \n",
    "    return df\n",
    "\n",
    "def xgboost_forecast(df_original, meter_code, granularity, forecast_period=10, target_col='fr'):\n",
    "   \n",
    "    try:\n",
    "        freq = 'D' if granularity == \"Daily\" else 'H'\n",
    "        MIN_SAMPLES_FOR_TUNING = 20 if granularity == \"Daily\" else 240\n",
    "\n",
    "        # Data Preparation\n",
    "        df_resampled = df_original.set_index('local_time_col').resample(freq)[target_col].mean().fillna(0).reset_index()\n",
    "\n",
    "        if len(df_resampled) < MIN_SAMPLES_FOR_TUNING:\n",
    "            raise ValueError(f\"Insufficient data for meter {meter_code}.\")\n",
    "\n",
    "        df_with_features = create_features(df_resampled, target_col=target_col)\n",
    "        df_with_features = create_lag_rolling_features(df_with_features, target_col=target_col)\n",
    "        \n",
    "        # We keep rows with NaNs and let XGBoost handle them\n",
    "        \n",
    "        min_test_size = max(forecast_period, int(len(df_with_features) * 0.2))\n",
    "        split_point = len(df_with_features) - min_test_size\n",
    "        train_df = df_with_features.iloc[:split_point]\n",
    "        test_df = df_with_features.iloc[split_point:]\n",
    "\n",
    "        feature_cols = [col for col in train_df.columns if col not in ['local_time_col', target_col]]\n",
    "        X_train, y_train = train_df[feature_cols], train_df[target_col]\n",
    "        X_test, y_test = test_df[feature_cols], test_df[target_col]\n",
    "\n",
    "        # Check data size before tuning\n",
    "        # MIN_SAMPLES_FOR_TUNING = 20\n",
    "        if len(train_df) < MIN_SAMPLES_FOR_TUNING:\n",
    "            tqdm.write(f\"WARNING: Training data for {meter_code} ({granularity}) is too small ({len(train_df)} samples) for tuning. Using default parameters.\")\n",
    "            model_xgb = xgb.XGBRegressor(\n",
    "                n_estimators=500, max_depth=5, learning_rate=0.05, subsample=0.8,\n",
    "                colsample_bytree=0.8, random_state=42, n_jobs=-1, early_stopping_rounds=10\n",
    "            )\n",
    "            model_xgb.fit(X_train, y_train, eval_set=[(X_test, y_test)], verbose=False)\n",
    "        else:\n",
    "            # --- UPDATED PARAMETER GRID WITH REGULARIZATION ---\n",
    "            param_grid = {\n",
    "                'n_estimators': [100, 500, 1000],\n",
    "                'max_depth': [3, 5, 7],\n",
    "                'learning_rate': [0.01, 0.05, 0.1],\n",
    "                'subsample': [0.7, 0.8, 0.9],\n",
    "                'colsample_bytree': [0.7, 0.8, 0.9],\n",
    "                'gamma': [0, 0.1, 0.5],             # Added for regularization\n",
    "                'reg_alpha': [0, 0.1, 0.5],          # Added for L1 regularization\n",
    "                'reg_lambda': [1, 1.5, 2]            # Added for L2 regularization\n",
    "            }\n",
    "            tscv = TimeSeriesSplit(n_splits=5)\n",
    "            xgb_estimator = xgb.XGBRegressor(random_state=42, n_jobs=-1, early_stopping_rounds=10)\n",
    "            \n",
    "            random_search = RandomizedSearchCV(\n",
    "                estimator=xgb_estimator, param_distributions=param_grid, n_iter=25,\n",
    "                scoring='neg_root_mean_squared_error', cv=tscv, verbose=0, random_state=42\n",
    "            )\n",
    "            \n",
    "            fit_params = {\"eval_set\": [(X_test, y_test)], \"verbose\": False}\n",
    "            random_search.fit(X_train, y_train, **fit_params)\n",
    "            \n",
    "            tqdm.write(f\"\\nBest parameters for {meter_code} ({granularity}): {random_search.best_params_}\")\n",
    "            model_xgb = random_search.best_estimator_\n",
    "\n",
    "        # --- Forecasting ---\n",
    "        future_dates = pd.date_range(\n",
    "            start=df_with_features['local_time_col'].max() + pd.Timedelta(1, unit=freq),\n",
    "            periods=forecast_period, freq=freq\n",
    "        )\n",
    "        \n",
    "        forecast_results = []\n",
    "        history = df_with_features.copy()\n",
    "\n",
    "        for future_date in future_dates:\n",
    "            future_df = pd.DataFrame({'local_time_col': [future_date]})\n",
    "            temp_df = pd.concat([history, future_df], ignore_index=True)\n",
    "            temp_df_features = create_features(temp_df, target_col=target_col)\n",
    "            temp_df_features = create_lag_rolling_features(temp_df_features, target_col=target_col)\n",
    "\n",
    "           \n",
    "            X_future = temp_df_features.iloc[-1:][feature_cols]\n",
    "            y_pred = model_xgb.predict(X_future)[0]\n",
    "            forecast_results.append({'ds': future_date, 'yhat': y_pred})\n",
    "            # A more robust way to append to history\n",
    "            new_row = {col: np.nan for col in history.columns}\n",
    "            new_row['local_time_col'] = future_date\n",
    "            new_row[target_col] = y_pred\n",
    "            history = pd.concat([history, pd.DataFrame([new_row])], ignore_index=True)\n",
    "\n",
    "\n",
    "        forecast_df = pd.DataFrame(forecast_results)\n",
    "        \n",
    "        train_df['yhat'] = model_xgb.predict(X_train)\n",
    "        test_df['yhat'] = model_xgb.predict(X_test)\n",
    "        \n",
    "        # --- Plot Generation ---\n",
    "        if granularity == \"Daily\":\n",
    "            plt.figure(figsize=(14, 7))\n",
    "            plt.plot(train_df['local_time_col'], train_df[target_col], 'b-', label='Actual (Train)')\n",
    "            plt.plot(test_df['local_time_col'], test_df[target_col], 'g-', label='Actual (Test)')\n",
    "            plt.plot(train_df['local_time_col'], train_df['yhat'], 'r--', alpha=0.8, label='XGBoost Forecast')\n",
    "            plt.plot(test_df['local_time_col'], test_df['yhat'], 'r--', alpha=0.8)\n",
    "            plt.plot(forecast_df['ds'], forecast_df['yhat'], 'r--', alpha=0.8)\n",
    "            plt.axvline(train_df['local_time_col'].max(), color='k', linestyle=':', label='Train/Test Split')\n",
    "            plt.axvline(test_df['local_time_col'].max(), color='k', linestyle=':', label='Test/Forecast Split')\n",
    "            plt.xlabel('Date')\n",
    "            plt.ylabel(f'Flow Rate ({target_col})')\n",
    "            plt.title(f'XGBoost Forecast — {meter_code} in {granularity}')\n",
    "            plt.grid(alpha=0.3)\n",
    "            plt.legend()\n",
    "        else: # Hourly\n",
    "            fig, (ax1, ax2) = plt.subplots(2, 1, figsize=(16, 12), gridspec_kw={'height_ratios': [2, 1]})\n",
    "            ax1.plot(train_df['local_time_col'], train_df[target_col], 'b-', label='Actual (Train)')\n",
    "            ax1.plot(test_df['local_time_col'], test_df[target_col], 'g-', label='Actual (Test)')\n",
    "            ax1.plot(train_df['local_time_col'], train_df['yhat'], 'r-', alpha=0.8, label='XGBoost Forecast')\n",
    "            ax1.plot(test_df['local_time_col'], test_df['yhat'], 'r-', alpha=0.8)\n",
    "            ax1.plot(forecast_df['ds'], forecast_df['yhat'], 'r-', alpha=0.8)\n",
    "            ax1.axvline(train_df['local_time_col'].max(), color='k', linestyle='--', label='Train/Test Split')\n",
    "            ax1.axvline(test_df['local_time_col'].max(), color='k', linestyle='--', label='Test/Forecast Split')\n",
    "            ax1.set_title(f'XGBoost Forecast — {meter_code} (Full Hourly Data)')\n",
    "            ax1.set_xlabel('Date')\n",
    "            ax1.set_ylabel(f'Flow Rate ({target_col})')\n",
    "            ax1.legend()\n",
    "            ax1.grid(alpha=0.3)\n",
    "            \n",
    "            forecast_start = df_with_features['local_time_col'].max()\n",
    "            today_start = forecast_start.floor('D')\n",
    "            today_end = today_start + pd.Timedelta(days=1)\n",
    "            today_original = df_with_features[(df_with_features['local_time_col'] >= today_start) & (df_with_features['local_time_col'] <= forecast_start)]\n",
    "\n",
    "            remaining_hours_forecast = forecast_df[(forecast_df['ds'] > forecast_start) & (forecast_df['ds'] <= today_end)].copy()\n",
    "            std_dev = y_test.std()\n",
    "            remaining_hours_forecast['yhat_lower'] = remaining_hours_forecast['yhat'] - 1.96 * std_dev\n",
    "            remaining_hours_forecast['yhat_upper'] = remaining_hours_forecast['yhat'] + 1.96 * std_dev\n",
    "            ax2.plot(today_original['local_time_col'], today_original[target_col], 'b-o', label='Today Original Data')\n",
    "            ax2.plot(remaining_hours_forecast['ds'], remaining_hours_forecast['yhat'], 'r-s', label='Remaining Hours Forecast')\n",
    "            ax2.fill_between(remaining_hours_forecast['ds'], remaining_hours_forecast['yhat_lower'], remaining_hours_forecast['yhat_upper'], color='orange', alpha=0.3, label='95% Confidence Interval')\n",
    "            ax2.set_title(\"Today's Detail: Original Data + Remaining Hours Forecast\")\n",
    "            ax2.set_xlabel('Time (Hours)')\n",
    "            ax2.set_ylabel(f'Flow Rate ({target_col})')\n",
    "            ax2.grid(alpha=0.3)\n",
    "            ax2.legend()\n",
    "            hour_ticks = pd.date_range(start=today_start, end=today_end, freq='H')\n",
    "            ax2.set_xticks(hour_ticks)\n",
    "            ax2.set_xticklabels([dt.strftime('%H:%M') for dt in hour_ticks])\n",
    "            ax2.set_xlim(today_start, today_end)\n",
    "\n",
    "        output_dir = \"../Output/xgboost_plot/Fr\"\n",
    "        os.makedirs(output_dir, exist_ok=True)\n",
    "        safe_meter_code = meter_code.replace(\" \", \"_\").replace(\"/\", \"_\")\n",
    "        filepath = os.path.join(output_dir, f\"{safe_meter_code}_{granularity}_xgboost_forecast.png\")\n",
    "        plt.savefig(filepath, dpi=300, bbox_inches='tight')\n",
    "        \n",
    "        model_dir = \"../Models/xgboost_models/Fr\"\n",
    "        os.makedirs(model_dir, exist_ok=True)\n",
    "        model_filepath = os.path.join(model_dir, f\"{safe_meter_code}_{granularity}_xgboost_model.joblib\")\n",
    "        joblib.dump(model_xgb, model_filepath)\n",
    "        \n",
    "        metrics = {\n",
    "            'train_RMSE': np.sqrt(mean_squared_error(y_train, train_df['yhat'])),\n",
    "            'train_MAE': mean_absolute_error(y_train, train_df['yhat']),\n",
    "            'test_RMSE': np.sqrt(mean_squared_error(y_test, test_df['yhat'])),\n",
    "            'test_MAE': mean_absolute_error(y_test, test_df['yhat'])\n",
    "        }\n",
    "        \n",
    "        return forecast_df, plt, metrics\n",
    "        \n",
    "    except Exception as e:\n",
    "        tqdm.write(f\"\\n\\nError in xgboost_forecast for meter {meter_code} ({granularity}): {str(e)}\\n\")\n",
    "        return None, None, None\n",
    "\n",
    "def run_xgboost_training(df_original, unique_meters, base_path):\n",
    "    print(\"\\n\" + \"-\"*100)\n",
    "    print(\"STARTING XGBOOST MODEL TRAINING\")\n",
    "    print(\"-\"*100)\n",
    "    results = []\n",
    "    \n",
    "    for meter_code in tqdm(unique_meters, desc=\"Processing Meters\"):\n",
    "        try:\n",
    "            meter_data = df_original[df_original['meter_code'] == meter_code].copy()\n",
    "            if meter_data.empty:\n",
    "                tqdm.write(f\"No data found for meter {meter_code}\")\n",
    "                continue\n",
    "\n",
    "            for granularity in [\"Daily\", \"Hourly\"]:\n",
    "                forecast_result = xgboost_forecast(\n",
    "                    meter_data, meter_code, granularity, forecast_period=7\n",
    "                )\n",
    "                \n",
    "                if forecast_result and all(item is not None for item in forecast_result):\n",
    "                    forecast, plot, metrics = forecast_result\n",
    "                    tqdm.write(f\"Performance Metrics for {meter_code} ({granularity}): {metrics}\")\n",
    "                    \n",
    "                    safe_code = meter_code.replace(' ', '_').replace('/', '_')\n",
    "\n",
    "                    results.append({\n",
    "                        'meter_id': meter_code,\n",
    "                        'granularity': granularity,\n",
    "                        'forecast': forecast, \n",
    "                        'metrics': metrics,\n",
    "                        'plot_saved_path': f\"../Output/xgboost_plot/Fr/{safe_code}_{granularity}_xgboost_forecast.png\",\n",
    "                        'model_saved_path': f\"../Models/xgboost_models/Fr/{safe_code}_{granularity}_xgboost_model.joblib\",\n",
    "                        **metrics # Unpacks the metrics dict into this one\n",
    "                    })\n",
    "                    plt.close()\n",
    "\n",
    "        except Exception as e:\n",
    "            tqdm.write(f\"FATAL ERROR processing meter {meter_code}: {str(e)}\")\n",
    "            continue\n",
    "    return results\n",
    "\n",
    "def main():\n",
    "    BASE_PATH = 'Models'\n",
    "    print(f\"Base directory for models: '{BASE_PATH}'\")\n",
    "    \n",
    "    try:\n",
    "        df_original = load_data()\n",
    "        unique_meters = df_original['meter_code'].unique()\n",
    "        print(f\"Found {len(unique_meters)} unique meters to process.\")\n",
    "        \n",
    "        min_data_points = 100\n",
    "        meter_counts = df_original['meter_code'].value_counts()\n",
    "        sufficient_data_meters = meter_counts[meter_counts >= min_data_points].index.tolist()\n",
    "        \n",
    "        if len(sufficient_data_meters) < len(unique_meters):\n",
    "            print(f\"Filtered out {len(unique_meters) - len(sufficient_data_meters)} meters with insufficient data\")\n",
    "        \n",
    "        if sufficient_data_meters:\n",
    "            xgboost_results_list = run_xgboost_training(df_original, sufficient_data_meters, BASE_PATH)\n",
    "\n",
    "            if xgboost_results_list:\n",
    "                print(f\"\\nCompleted training for {len(xgboost_results_list)} meter-granularity combinations\")\n",
    "\n",
    "                # --- FIXED: Convert list of dicts to DataFrame ---\n",
    "                results_df = pd.DataFrame(xgboost_results_list)\n",
    "                \n",
    "                print(\"\\n\" + \"-\"*80 + \"\\nTRAINING SUMMARY\\n\" + \"-\"*80)\n",
    "                print(results_df)\n",
    "\n",
    "                # --- FIXED: Save the DataFrame to a CSV file ---\n",
    "                output_dir = \"../Output/forecast_result\"\n",
    "                os.makedirs(output_dir, exist_ok=True)\n",
    "                csv_path = os.path.join(output_dir, \"xgboost_fr_results.csv\")\n",
    "                results_df.to_csv(csv_path, index=False)\n",
    "                print(f\"\\nResults saved to {csv_path}\")\n",
    "\n",
    "            else:\n",
    "                print(\"\\nTraining run completed, but no models were successfully trained.\")\n",
    "        else:\n",
    "            print(\"No meters with sufficient data for training.\")\n",
    "            \n",
    "    except Exception as e:\n",
    "        print(f\"Error in main execution: {str(e)}\")\n",
    "        raise\n",
    "\n",
    "if __name__ == \"__main__\":\n",
    "    main()"
   ]
  },
  {
   "cell_type": "code",
   "execution_count": null,
   "id": "6f80793e",
   "metadata": {},
   "outputs": [],
   "source": []
  },
  {
   "cell_type": "code",
   "execution_count": null,
   "metadata": {},
   "outputs": [],
   "source": []
  }
 ],
 "metadata": {
  "kernelspec": {
   "display_name": "venv",
   "language": "python",
   "name": "python3"
  },
  "language_info": {
   "codemirror_mode": {
    "name": "ipython",
    "version": 3
   },
   "file_extension": ".py",
   "mimetype": "text/x-python",
   "name": "python",
   "nbconvert_exporter": "python",
   "pygments_lexer": "ipython3",
   "version": "3.13.2"
  }
 },
 "nbformat": 4,
 "nbformat_minor": 5
}
