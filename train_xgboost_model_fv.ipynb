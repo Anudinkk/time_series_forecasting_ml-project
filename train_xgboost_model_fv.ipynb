{
 "cells": [
  {
   "cell_type": "code",
   "execution_count": null,
   "id": "a30cdd31",
   "metadata": {},
   "outputs": [
    {
     "name": "stdout",
     "output_type": "stream",
     "text": [
      "Base directory for models: 'Models'\n",
      "Loading data from ../Data/3mon.csv...\n",
      "Initial data shape: (1088132, 10)\n",
      "Date range: 2025-04-01 00:00:00 to 2025-06-16 15:00:00\n",
      "Number of unique meters: 161\n",
      "Data loaded and preprocessed successfully.\n",
      "Found 161 unique meters to process.\n",
      "\n",
      "----------------------------------------------------------------------------------------------------\n",
      "STARTING XGBOOST MODEL TRAINING\n",
      "----------------------------------------------------------------------------------------------------\n"
     ]
    },
    {
     "name": "stderr",
     "output_type": "stream",
     "text": [
      "Processing Meters:   0%|          | 0/161 [00:11<?, ?it/s]"
     ]
    },
    {
     "name": "stdout",
     "output_type": "stream",
     "text": [
      "\n",
      "Best parameters for BFM 19 (Daily): {'subsample': 0.9, 'reg_lambda': 1.5, 'reg_alpha': 0.5, 'n_estimators': 500, 'max_depth': 5, 'learning_rate': 0.01, 'gamma': 0.1, 'colsample_bytree': 0.7}\n"
     ]
    },
    {
     "name": "stderr",
     "output_type": "stream",
     "text": [
      "Processing Meters:   0%|          | 0/161 [00:12<?, ?it/s]"
     ]
    },
    {
     "name": "stdout",
     "output_type": "stream",
     "text": [
      "Performance Metrics for BFM 19 (Daily): {'train_RMSE': np.float64(0.0), 'train_MAE': 0.0, 'test_RMSE': np.float64(0.0), 'test_MAE': 0.0}\n"
     ]
    },
    {
     "name": "stderr",
     "output_type": "stream",
     "text": [
      "Processing Meters:   0%|          | 0/161 [00:22<?, ?it/s]"
     ]
    },
    {
     "name": "stdout",
     "output_type": "stream",
     "text": [
      "\n",
      "Best parameters for BFM 19 (Hourly): {'subsample': 0.9, 'reg_lambda': 1.5, 'reg_alpha': 0.5, 'n_estimators': 500, 'max_depth': 5, 'learning_rate': 0.01, 'gamma': 0.1, 'colsample_bytree': 0.7}\n"
     ]
    },
    {
     "name": "stderr",
     "output_type": "stream",
     "text": [
      "Processing Meters:   1%|          | 1/161 [00:26<1:11:47, 26.92s/it]"
     ]
    },
    {
     "name": "stdout",
     "output_type": "stream",
     "text": [
      "Performance Metrics for BFM 19 (Hourly): {'train_RMSE': np.float64(0.0), 'train_MAE': 0.0, 'test_RMSE': np.float64(0.0), 'test_MAE': 0.0}\n"
     ]
    },
    {
     "name": "stderr",
     "output_type": "stream",
     "text": [
      "Processing Meters:   1%|          | 1/161 [00:35<1:11:47, 26.92s/it]"
     ]
    },
    {
     "name": "stdout",
     "output_type": "stream",
     "text": [
      "\n",
      "Best parameters for AMR-05 (Daily): {'subsample': 0.9, 'reg_lambda': 1.5, 'reg_alpha': 0.5, 'n_estimators': 500, 'max_depth': 5, 'learning_rate': 0.01, 'gamma': 0.1, 'colsample_bytree': 0.7}\n"
     ]
    },
    {
     "name": "stderr",
     "output_type": "stream",
     "text": [
      "Processing Meters:   1%|          | 1/161 [00:37<1:11:47, 26.92s/it]"
     ]
    },
    {
     "name": "stdout",
     "output_type": "stream",
     "text": [
      "Performance Metrics for AMR-05 (Daily): {'train_RMSE': np.float64(0.0), 'train_MAE': 0.0, 'test_RMSE': np.float64(0.0), 'test_MAE': 0.0}\n"
     ]
    },
    {
     "name": "stderr",
     "output_type": "stream",
     "text": [
      "Processing Meters:   1%|          | 1/161 [00:46<1:11:47, 26.92s/it]"
     ]
    },
    {
     "name": "stdout",
     "output_type": "stream",
     "text": [
      "\n",
      "Best parameters for AMR-05 (Hourly): {'subsample': 0.9, 'reg_lambda': 1.5, 'reg_alpha': 0.5, 'n_estimators': 500, 'max_depth': 5, 'learning_rate': 0.01, 'gamma': 0.1, 'colsample_bytree': 0.7}\n"
     ]
    },
    {
     "name": "stderr",
     "output_type": "stream",
     "text": [
      "Processing Meters:   1%|          | 2/161 [00:49<1:04:46, 24.44s/it]"
     ]
    },
    {
     "name": "stdout",
     "output_type": "stream",
     "text": [
      "Performance Metrics for AMR-05 (Hourly): {'train_RMSE': np.float64(0.0), 'train_MAE': 0.0, 'test_RMSE': np.float64(0.0), 'test_MAE': 0.0}\n"
     ]
    },
    {
     "name": "stderr",
     "output_type": "stream",
     "text": [
      "Processing Meters:   1%|          | 2/161 [00:57<1:04:46, 24.44s/it]"
     ]
    },
    {
     "name": "stdout",
     "output_type": "stream",
     "text": [
      "\n",
      "Best parameters for AMR-08 (Daily): {'subsample': 0.9, 'reg_lambda': 1.5, 'reg_alpha': 0.5, 'n_estimators': 500, 'max_depth': 5, 'learning_rate': 0.01, 'gamma': 0.1, 'colsample_bytree': 0.7}\n"
     ]
    },
    {
     "name": "stderr",
     "output_type": "stream",
     "text": [
      "Processing Meters:   1%|          | 2/161 [00:59<1:04:46, 24.44s/it]"
     ]
    },
    {
     "name": "stdout",
     "output_type": "stream",
     "text": [
      "Performance Metrics for AMR-08 (Daily): {'train_RMSE': np.float64(0.0), 'train_MAE': 0.0, 'test_RMSE': np.float64(0.0), 'test_MAE': 0.0}\n"
     ]
    },
    {
     "name": "stderr",
     "output_type": "stream",
     "text": [
      "Processing Meters:   1%|          | 2/161 [01:09<1:04:46, 24.44s/it]"
     ]
    },
    {
     "name": "stdout",
     "output_type": "stream",
     "text": [
      "\n",
      "Best parameters for AMR-08 (Hourly): {'subsample': 0.9, 'reg_lambda': 1.5, 'reg_alpha': 0.5, 'n_estimators': 500, 'max_depth': 5, 'learning_rate': 0.01, 'gamma': 0.1, 'colsample_bytree': 0.7}\n"
     ]
    },
    {
     "name": "stderr",
     "output_type": "stream",
     "text": [
      "Processing Meters:   2%|▏         | 3/161 [01:13<1:03:40, 24.18s/it]"
     ]
    },
    {
     "name": "stdout",
     "output_type": "stream",
     "text": [
      "Performance Metrics for AMR-08 (Hourly): {'train_RMSE': np.float64(0.0), 'train_MAE': 0.0, 'test_RMSE': np.float64(0.0), 'test_MAE': 0.0}\n"
     ]
    },
    {
     "name": "stderr",
     "output_type": "stream",
     "text": [
      "Processing Meters:   2%|▏         | 3/161 [01:25<1:03:40, 24.18s/it]"
     ]
    },
    {
     "name": "stdout",
     "output_type": "stream",
     "text": [
      "\n",
      "Best parameters for AMR-101 (Daily): {'subsample': 0.9, 'reg_lambda': 1.5, 'reg_alpha': 0.5, 'n_estimators': 500, 'max_depth': 5, 'learning_rate': 0.01, 'gamma': 0.1, 'colsample_bytree': 0.7}\n"
     ]
    },
    {
     "name": "stderr",
     "output_type": "stream",
     "text": [
      "Processing Meters:   2%|▏         | 3/161 [01:27<1:03:40, 24.18s/it]"
     ]
    },
    {
     "name": "stdout",
     "output_type": "stream",
     "text": [
      "Performance Metrics for AMR-101 (Daily): {'train_RMSE': np.float64(0.0), 'train_MAE': 0.0, 'test_RMSE': np.float64(0.0), 'test_MAE': 0.0}\n"
     ]
    },
    {
     "name": "stderr",
     "output_type": "stream",
     "text": [
      "Processing Meters:   2%|▏         | 3/161 [01:38<1:03:40, 24.18s/it]"
     ]
    },
    {
     "name": "stdout",
     "output_type": "stream",
     "text": [
      "\n",
      "Best parameters for AMR-101 (Hourly): {'subsample': 0.9, 'reg_lambda': 1.5, 'reg_alpha': 0.5, 'n_estimators': 500, 'max_depth': 5, 'learning_rate': 0.01, 'gamma': 0.1, 'colsample_bytree': 0.7}\n"
     ]
    },
    {
     "name": "stderr",
     "output_type": "stream",
     "text": [
      "Processing Meters:   2%|▏         | 4/161 [01:42<1:07:50, 25.92s/it]"
     ]
    },
    {
     "name": "stdout",
     "output_type": "stream",
     "text": [
      "Performance Metrics for AMR-101 (Hourly): {'train_RMSE': np.float64(0.0), 'train_MAE': 0.0, 'test_RMSE': np.float64(0.0), 'test_MAE': 0.0}\n"
     ]
    },
    {
     "name": "stderr",
     "output_type": "stream",
     "text": [
      "Processing Meters:   2%|▏         | 4/161 [01:50<1:07:50, 25.92s/it]"
     ]
    },
    {
     "name": "stdout",
     "output_type": "stream",
     "text": [
      "\n",
      "Best parameters for AMR-103 (Daily): {'subsample': 0.9, 'reg_lambda': 1.5, 'reg_alpha': 0.5, 'n_estimators': 500, 'max_depth': 5, 'learning_rate': 0.01, 'gamma': 0.1, 'colsample_bytree': 0.7}\n"
     ]
    },
    {
     "name": "stderr",
     "output_type": "stream",
     "text": [
      "Processing Meters:   2%|▏         | 4/161 [01:52<1:07:50, 25.92s/it]"
     ]
    },
    {
     "name": "stdout",
     "output_type": "stream",
     "text": [
      "Performance Metrics for AMR-103 (Daily): {'train_RMSE': np.float64(0.0), 'train_MAE': 0.0, 'test_RMSE': np.float64(0.0), 'test_MAE': 0.0}\n"
     ]
    },
    {
     "name": "stderr",
     "output_type": "stream",
     "text": [
      "Processing Meters:   2%|▏         | 4/161 [02:02<1:07:50, 25.92s/it]"
     ]
    },
    {
     "name": "stdout",
     "output_type": "stream",
     "text": [
      "\n",
      "Best parameters for AMR-103 (Hourly): {'subsample': 0.9, 'reg_lambda': 1.5, 'reg_alpha': 0.5, 'n_estimators': 500, 'max_depth': 5, 'learning_rate': 0.01, 'gamma': 0.1, 'colsample_bytree': 0.7}\n"
     ]
    },
    {
     "name": "stderr",
     "output_type": "stream",
     "text": [
      "Processing Meters:   3%|▎         | 5/161 [02:06<1:05:44, 25.29s/it]"
     ]
    },
    {
     "name": "stdout",
     "output_type": "stream",
     "text": [
      "Performance Metrics for AMR-103 (Hourly): {'train_RMSE': np.float64(0.0), 'train_MAE': 0.0, 'test_RMSE': np.float64(0.0), 'test_MAE': 0.0}\n"
     ]
    },
    {
     "name": "stderr",
     "output_type": "stream",
     "text": [
      "Processing Meters:   3%|▎         | 5/161 [02:16<1:05:44, 25.29s/it]"
     ]
    },
    {
     "name": "stdout",
     "output_type": "stream",
     "text": [
      "\n",
      "Best parameters for AMR-104 (Daily): {'subsample': 0.9, 'reg_lambda': 1.5, 'reg_alpha': 0.5, 'n_estimators': 500, 'max_depth': 5, 'learning_rate': 0.01, 'gamma': 0.1, 'colsample_bytree': 0.7}\n"
     ]
    },
    {
     "name": "stderr",
     "output_type": "stream",
     "text": [
      "Processing Meters:   3%|▎         | 5/161 [02:17<1:05:44, 25.29s/it]"
     ]
    },
    {
     "name": "stdout",
     "output_type": "stream",
     "text": [
      "Performance Metrics for AMR-104 (Daily): {'train_RMSE': np.float64(0.0), 'train_MAE': 0.0, 'test_RMSE': np.float64(0.0), 'test_MAE': 0.0}\n"
     ]
    },
    {
     "name": "stderr",
     "output_type": "stream",
     "text": [
      "Processing Meters:   3%|▎         | 5/161 [02:28<1:05:44, 25.29s/it]"
     ]
    },
    {
     "name": "stdout",
     "output_type": "stream",
     "text": [
      "\n",
      "Best parameters for AMR-104 (Hourly): {'subsample': 0.9, 'reg_lambda': 1.5, 'reg_alpha': 0.5, 'n_estimators': 500, 'max_depth': 5, 'learning_rate': 0.01, 'gamma': 0.1, 'colsample_bytree': 0.7}\n"
     ]
    },
    {
     "name": "stderr",
     "output_type": "stream",
     "text": [
      "Processing Meters:   4%|▎         | 6/161 [02:31<1:05:36, 25.39s/it]"
     ]
    },
    {
     "name": "stdout",
     "output_type": "stream",
     "text": [
      "Performance Metrics for AMR-104 (Hourly): {'train_RMSE': np.float64(0.0), 'train_MAE': 0.0, 'test_RMSE': np.float64(0.0), 'test_MAE': 0.0}\n"
     ]
    },
    {
     "name": "stderr",
     "output_type": "stream",
     "text": [
      "Processing Meters:   4%|▎         | 6/161 [02:41<1:05:36, 25.39s/it]"
     ]
    },
    {
     "name": "stdout",
     "output_type": "stream",
     "text": [
      "\n",
      "Best parameters for AMR-111 (Daily): {'subsample': 0.9, 'reg_lambda': 1.5, 'reg_alpha': 0.5, 'n_estimators': 500, 'max_depth': 5, 'learning_rate': 0.01, 'gamma': 0.1, 'colsample_bytree': 0.7}\n"
     ]
    },
    {
     "name": "stderr",
     "output_type": "stream",
     "text": [
      "Processing Meters:   4%|▎         | 6/161 [02:43<1:05:36, 25.39s/it]"
     ]
    },
    {
     "name": "stdout",
     "output_type": "stream",
     "text": [
      "Performance Metrics for AMR-111 (Daily): {'train_RMSE': np.float64(0.0), 'train_MAE': 0.0, 'test_RMSE': np.float64(0.0), 'test_MAE': 0.0}\n"
     ]
    },
    {
     "name": "stderr",
     "output_type": "stream",
     "text": [
      "Processing Meters:   4%|▎         | 6/161 [02:53<1:05:36, 25.39s/it]"
     ]
    },
    {
     "name": "stdout",
     "output_type": "stream",
     "text": [
      "\n",
      "Best parameters for AMR-111 (Hourly): {'subsample': 0.9, 'reg_lambda': 1.5, 'reg_alpha': 0.5, 'n_estimators': 500, 'max_depth': 5, 'learning_rate': 0.01, 'gamma': 0.1, 'colsample_bytree': 0.7}\n"
     ]
    },
    {
     "name": "stderr",
     "output_type": "stream",
     "text": [
      "Processing Meters:   4%|▍         | 7/161 [02:57<1:05:00, 25.33s/it]"
     ]
    },
    {
     "name": "stdout",
     "output_type": "stream",
     "text": [
      "Performance Metrics for AMR-111 (Hourly): {'train_RMSE': np.float64(0.0), 'train_MAE': 0.0, 'test_RMSE': np.float64(0.0), 'test_MAE': 0.0}\n"
     ]
    },
    {
     "name": "stderr",
     "output_type": "stream",
     "text": [
      "Processing Meters:   4%|▍         | 7/161 [03:06<1:05:00, 25.33s/it]"
     ]
    },
    {
     "name": "stdout",
     "output_type": "stream",
     "text": [
      "\n",
      "Best parameters for AMR-110 (Daily): {'subsample': 0.9, 'reg_lambda': 1.5, 'reg_alpha': 0.5, 'n_estimators': 500, 'max_depth': 5, 'learning_rate': 0.01, 'gamma': 0.1, 'colsample_bytree': 0.7}\n"
     ]
    },
    {
     "name": "stderr",
     "output_type": "stream",
     "text": [
      "Processing Meters:   4%|▍         | 7/161 [03:08<1:05:00, 25.33s/it]"
     ]
    },
    {
     "name": "stdout",
     "output_type": "stream",
     "text": [
      "Performance Metrics for AMR-110 (Daily): {'train_RMSE': np.float64(0.0), 'train_MAE': 0.0, 'test_RMSE': np.float64(0.0), 'test_MAE': 0.0}\n"
     ]
    },
    {
     "name": "stderr",
     "output_type": "stream",
     "text": [
      "Processing Meters:   4%|▍         | 7/161 [03:18<1:05:00, 25.33s/it]"
     ]
    },
    {
     "name": "stdout",
     "output_type": "stream",
     "text": [
      "\n",
      "Best parameters for AMR-110 (Hourly): {'subsample': 0.9, 'reg_lambda': 1.5, 'reg_alpha': 0.5, 'n_estimators': 500, 'max_depth': 5, 'learning_rate': 0.01, 'gamma': 0.1, 'colsample_bytree': 0.7}\n"
     ]
    },
    {
     "name": "stderr",
     "output_type": "stream",
     "text": [
      "Processing Meters:   5%|▍         | 8/161 [03:21<1:04:04, 25.13s/it]"
     ]
    },
    {
     "name": "stdout",
     "output_type": "stream",
     "text": [
      "Performance Metrics for AMR-110 (Hourly): {'train_RMSE': np.float64(0.0), 'train_MAE': 0.0, 'test_RMSE': np.float64(0.0), 'test_MAE': 0.0}\n"
     ]
    },
    {
     "name": "stderr",
     "output_type": "stream",
     "text": [
      "Processing Meters:   5%|▍         | 8/161 [03:32<1:04:04, 25.13s/it]"
     ]
    },
    {
     "name": "stdout",
     "output_type": "stream",
     "text": [
      "\n",
      "Best parameters for AMR-11 (Daily): {'subsample': 0.9, 'reg_lambda': 1.5, 'reg_alpha': 0.5, 'n_estimators': 500, 'max_depth': 5, 'learning_rate': 0.01, 'gamma': 0.1, 'colsample_bytree': 0.7}\n"
     ]
    },
    {
     "name": "stderr",
     "output_type": "stream",
     "text": [
      "Processing Meters:   5%|▍         | 8/161 [03:34<1:04:04, 25.13s/it]"
     ]
    },
    {
     "name": "stdout",
     "output_type": "stream",
     "text": [
      "Performance Metrics for AMR-11 (Daily): {'train_RMSE': np.float64(0.0), 'train_MAE': 0.0, 'test_RMSE': np.float64(0.0), 'test_MAE': 0.0}\n"
     ]
    },
    {
     "name": "stderr",
     "output_type": "stream",
     "text": [
      "Processing Meters:   5%|▍         | 8/161 [03:46<1:04:04, 25.13s/it]"
     ]
    },
    {
     "name": "stdout",
     "output_type": "stream",
     "text": [
      "\n",
      "Best parameters for AMR-11 (Hourly): {'subsample': 0.9, 'reg_lambda': 1.5, 'reg_alpha': 0.5, 'n_estimators': 500, 'max_depth': 5, 'learning_rate': 0.01, 'gamma': 0.1, 'colsample_bytree': 0.7}\n"
     ]
    },
    {
     "name": "stderr",
     "output_type": "stream",
     "text": [
      "Processing Meters:   6%|▌         | 9/161 [03:49<1:05:41, 25.93s/it]"
     ]
    },
    {
     "name": "stdout",
     "output_type": "stream",
     "text": [
      "Performance Metrics for AMR-11 (Hourly): {'train_RMSE': np.float64(0.0), 'train_MAE': 0.0, 'test_RMSE': np.float64(0.0), 'test_MAE': 0.0}\n"
     ]
    },
    {
     "name": "stderr",
     "output_type": "stream",
     "text": [
      "Processing Meters:   6%|▌         | 9/161 [04:00<1:05:41, 25.93s/it]"
     ]
    },
    {
     "name": "stdout",
     "output_type": "stream",
     "text": [
      "\n",
      "Best parameters for AMR-115 (Daily): {'subsample': 0.9, 'reg_lambda': 1.5, 'reg_alpha': 0.5, 'n_estimators': 500, 'max_depth': 5, 'learning_rate': 0.01, 'gamma': 0.1, 'colsample_bytree': 0.7}\n"
     ]
    },
    {
     "name": "stderr",
     "output_type": "stream",
     "text": [
      "Processing Meters:   6%|▌         | 9/161 [04:02<1:05:41, 25.93s/it]"
     ]
    },
    {
     "name": "stdout",
     "output_type": "stream",
     "text": [
      "Performance Metrics for AMR-115 (Daily): {'train_RMSE': np.float64(0.0), 'train_MAE': 0.0, 'test_RMSE': np.float64(0.0), 'test_MAE': 0.0}\n"
     ]
    },
    {
     "name": "stderr",
     "output_type": "stream",
     "text": [
      "Processing Meters:   6%|▌         | 9/161 [04:16<1:05:41, 25.93s/it]"
     ]
    },
    {
     "name": "stdout",
     "output_type": "stream",
     "text": [
      "\n",
      "Best parameters for AMR-115 (Hourly): {'subsample': 0.9, 'reg_lambda': 1.5, 'reg_alpha': 0.5, 'n_estimators': 500, 'max_depth': 5, 'learning_rate': 0.01, 'gamma': 0.1, 'colsample_bytree': 0.7}\n"
     ]
    },
    {
     "name": "stderr",
     "output_type": "stream",
     "text": [
      "Processing Meters:   6%|▌         | 10/161 [04:20<1:09:18, 27.54s/it]"
     ]
    },
    {
     "name": "stdout",
     "output_type": "stream",
     "text": [
      "Performance Metrics for AMR-115 (Hourly): {'train_RMSE': np.float64(0.0), 'train_MAE': 0.0, 'test_RMSE': np.float64(0.0), 'test_MAE': 0.0}\n"
     ]
    },
    {
     "name": "stderr",
     "output_type": "stream",
     "text": [
      "Processing Meters:   6%|▌         | 10/161 [04:29<1:09:18, 27.54s/it]"
     ]
    },
    {
     "name": "stdout",
     "output_type": "stream",
     "text": [
      "\n",
      "Best parameters for AMR-116 (Daily): {'subsample': 0.9, 'reg_lambda': 1.5, 'reg_alpha': 0.5, 'n_estimators': 500, 'max_depth': 5, 'learning_rate': 0.01, 'gamma': 0.1, 'colsample_bytree': 0.7}\n"
     ]
    },
    {
     "name": "stderr",
     "output_type": "stream",
     "text": [
      "Processing Meters:   6%|▌         | 10/161 [04:31<1:09:18, 27.54s/it]"
     ]
    },
    {
     "name": "stdout",
     "output_type": "stream",
     "text": [
      "Performance Metrics for AMR-116 (Daily): {'train_RMSE': np.float64(0.0), 'train_MAE': 0.0, 'test_RMSE': np.float64(0.0), 'test_MAE': 0.0}\n"
     ]
    },
    {
     "name": "stderr",
     "output_type": "stream",
     "text": [
      "Processing Meters:   6%|▌         | 10/161 [04:42<1:09:18, 27.54s/it]"
     ]
    },
    {
     "name": "stdout",
     "output_type": "stream",
     "text": [
      "\n",
      "Best parameters for AMR-116 (Hourly): {'subsample': 0.9, 'reg_lambda': 1.5, 'reg_alpha': 0.5, 'n_estimators': 500, 'max_depth': 5, 'learning_rate': 0.01, 'gamma': 0.1, 'colsample_bytree': 0.7}\n"
     ]
    },
    {
     "name": "stderr",
     "output_type": "stream",
     "text": [
      "Processing Meters:   7%|▋         | 11/161 [04:45<1:06:38, 26.65s/it]"
     ]
    },
    {
     "name": "stdout",
     "output_type": "stream",
     "text": [
      "Performance Metrics for AMR-116 (Hourly): {'train_RMSE': np.float64(0.0), 'train_MAE': 0.0, 'test_RMSE': np.float64(0.0), 'test_MAE': 0.0}\n"
     ]
    },
    {
     "name": "stderr",
     "output_type": "stream",
     "text": [
      "Processing Meters:   7%|▋         | 11/161 [04:54<1:06:38, 26.65s/it]"
     ]
    },
    {
     "name": "stdout",
     "output_type": "stream",
     "text": [
      "\n",
      "Best parameters for AMR-134 (Daily): {'subsample': 0.9, 'reg_lambda': 1.5, 'reg_alpha': 0.5, 'n_estimators': 500, 'max_depth': 5, 'learning_rate': 0.01, 'gamma': 0.1, 'colsample_bytree': 0.7}\n"
     ]
    },
    {
     "name": "stderr",
     "output_type": "stream",
     "text": [
      "Processing Meters:   7%|▋         | 11/161 [04:55<1:06:38, 26.65s/it]"
     ]
    },
    {
     "name": "stdout",
     "output_type": "stream",
     "text": [
      "Performance Metrics for AMR-134 (Daily): {'train_RMSE': np.float64(0.0), 'train_MAE': 0.0, 'test_RMSE': np.float64(0.0), 'test_MAE': 0.0}\n"
     ]
    },
    {
     "name": "stderr",
     "output_type": "stream",
     "text": [
      "Processing Meters:   7%|▋         | 11/161 [05:04<1:06:38, 26.65s/it]"
     ]
    },
    {
     "name": "stdout",
     "output_type": "stream",
     "text": [
      "\n",
      "Best parameters for AMR-134 (Hourly): {'subsample': 0.9, 'reg_lambda': 1.5, 'reg_alpha': 0.5, 'n_estimators': 500, 'max_depth': 5, 'learning_rate': 0.01, 'gamma': 0.1, 'colsample_bytree': 0.7}\n"
     ]
    },
    {
     "name": "stderr",
     "output_type": "stream",
     "text": [
      "Processing Meters:   7%|▋         | 12/161 [05:07<1:03:14, 25.47s/it]"
     ]
    },
    {
     "name": "stdout",
     "output_type": "stream",
     "text": [
      "Performance Metrics for AMR-134 (Hourly): {'train_RMSE': np.float64(0.0), 'train_MAE': 0.0, 'test_RMSE': np.float64(0.0), 'test_MAE': 0.0}\n"
     ]
    },
    {
     "name": "stderr",
     "output_type": "stream",
     "text": [
      "Processing Meters:   7%|▋         | 12/161 [05:16<1:03:14, 25.47s/it]"
     ]
    },
    {
     "name": "stdout",
     "output_type": "stream",
     "text": [
      "\n",
      "Best parameters for AMR-135 (Daily): {'subsample': 0.9, 'reg_lambda': 1.5, 'reg_alpha': 0.5, 'n_estimators': 500, 'max_depth': 5, 'learning_rate': 0.01, 'gamma': 0.1, 'colsample_bytree': 0.7}\n"
     ]
    },
    {
     "name": "stderr",
     "output_type": "stream",
     "text": [
      "Processing Meters:   7%|▋         | 12/161 [05:18<1:03:14, 25.47s/it]"
     ]
    },
    {
     "name": "stdout",
     "output_type": "stream",
     "text": [
      "Performance Metrics for AMR-135 (Daily): {'train_RMSE': np.float64(0.0), 'train_MAE': 0.0, 'test_RMSE': np.float64(0.0), 'test_MAE': 0.0}\n"
     ]
    },
    {
     "name": "stderr",
     "output_type": "stream",
     "text": [
      "Processing Meters:   7%|▋         | 12/161 [05:27<1:03:14, 25.47s/it]"
     ]
    },
    {
     "name": "stdout",
     "output_type": "stream",
     "text": [
      "\n",
      "Best parameters for AMR-135 (Hourly): {'subsample': 0.9, 'reg_lambda': 1.5, 'reg_alpha': 0.5, 'n_estimators': 500, 'max_depth': 5, 'learning_rate': 0.01, 'gamma': 0.1, 'colsample_bytree': 0.7}\n"
     ]
    },
    {
     "name": "stderr",
     "output_type": "stream",
     "text": [
      "Processing Meters:   8%|▊         | 13/161 [05:30<1:00:40, 24.60s/it]"
     ]
    },
    {
     "name": "stdout",
     "output_type": "stream",
     "text": [
      "Performance Metrics for AMR-135 (Hourly): {'train_RMSE': np.float64(0.0), 'train_MAE': 0.0, 'test_RMSE': np.float64(0.0), 'test_MAE': 0.0}\n"
     ]
    },
    {
     "name": "stderr",
     "output_type": "stream",
     "text": [
      "Processing Meters:   8%|▊         | 13/161 [05:38<1:00:40, 24.60s/it]"
     ]
    },
    {
     "name": "stdout",
     "output_type": "stream",
     "text": [
      "\n",
      "Best parameters for AMR-123 (Daily): {'subsample': 0.9, 'reg_lambda': 1.5, 'reg_alpha': 0.5, 'n_estimators': 500, 'max_depth': 5, 'learning_rate': 0.01, 'gamma': 0.1, 'colsample_bytree': 0.7}\n"
     ]
    },
    {
     "name": "stderr",
     "output_type": "stream",
     "text": [
      "Processing Meters:   8%|▊         | 13/161 [05:40<1:00:40, 24.60s/it]"
     ]
    },
    {
     "name": "stdout",
     "output_type": "stream",
     "text": [
      "Performance Metrics for AMR-123 (Daily): {'train_RMSE': np.float64(0.0), 'train_MAE': 0.0, 'test_RMSE': np.float64(0.0), 'test_MAE': 0.0}\n"
     ]
    },
    {
     "name": "stderr",
     "output_type": "stream",
     "text": [
      "Processing Meters:   8%|▊         | 13/161 [05:49<1:00:40, 24.60s/it]"
     ]
    },
    {
     "name": "stdout",
     "output_type": "stream",
     "text": [
      "\n",
      "Best parameters for AMR-123 (Hourly): {'subsample': 0.9, 'reg_lambda': 1.5, 'reg_alpha': 0.5, 'n_estimators': 500, 'max_depth': 5, 'learning_rate': 0.01, 'gamma': 0.1, 'colsample_bytree': 0.7}\n"
     ]
    },
    {
     "name": "stderr",
     "output_type": "stream",
     "text": [
      "Processing Meters:   9%|▊         | 14/161 [05:52<58:28, 23.87s/it]  "
     ]
    },
    {
     "name": "stdout",
     "output_type": "stream",
     "text": [
      "Performance Metrics for AMR-123 (Hourly): {'train_RMSE': np.float64(0.0), 'train_MAE': 0.0, 'test_RMSE': np.float64(0.0), 'test_MAE': 0.0}\n"
     ]
    },
    {
     "name": "stderr",
     "output_type": "stream",
     "text": [
      "Processing Meters:   9%|▊         | 14/161 [06:01<58:28, 23.87s/it]"
     ]
    },
    {
     "name": "stdout",
     "output_type": "stream",
     "text": [
      "\n",
      "Best parameters for AMR-126 (Daily): {'subsample': 0.9, 'reg_lambda': 1.5, 'reg_alpha': 0.5, 'n_estimators': 500, 'max_depth': 5, 'learning_rate': 0.01, 'gamma': 0.1, 'colsample_bytree': 0.7}\n"
     ]
    },
    {
     "name": "stderr",
     "output_type": "stream",
     "text": [
      "Processing Meters:   9%|▊         | 14/161 [06:03<58:28, 23.87s/it]"
     ]
    },
    {
     "name": "stdout",
     "output_type": "stream",
     "text": [
      "Performance Metrics for AMR-126 (Daily): {'train_RMSE': np.float64(0.0), 'train_MAE': 0.0, 'test_RMSE': np.float64(0.0), 'test_MAE': 0.0}\n"
     ]
    },
    {
     "name": "stderr",
     "output_type": "stream",
     "text": [
      "Processing Meters:   9%|▊         | 14/161 [06:13<58:28, 23.87s/it]"
     ]
    },
    {
     "name": "stdout",
     "output_type": "stream",
     "text": [
      "\n",
      "Best parameters for AMR-126 (Hourly): {'subsample': 0.9, 'reg_lambda': 1.5, 'reg_alpha': 0.5, 'n_estimators': 500, 'max_depth': 5, 'learning_rate': 0.01, 'gamma': 0.1, 'colsample_bytree': 0.7}\n"
     ]
    },
    {
     "name": "stderr",
     "output_type": "stream",
     "text": [
      "Processing Meters:   9%|▉         | 15/161 [06:17<58:48, 24.17s/it]"
     ]
    },
    {
     "name": "stdout",
     "output_type": "stream",
     "text": [
      "Performance Metrics for AMR-126 (Hourly): {'train_RMSE': np.float64(0.0), 'train_MAE': 0.0, 'test_RMSE': np.float64(0.0), 'test_MAE': 0.0}\n"
     ]
    },
    {
     "name": "stderr",
     "output_type": "stream",
     "text": [
      "Processing Meters:   9%|▉         | 15/161 [06:29<58:48, 24.17s/it]"
     ]
    },
    {
     "name": "stdout",
     "output_type": "stream",
     "text": [
      "\n",
      "Best parameters for AMR-129 (Daily): {'subsample': 0.9, 'reg_lambda': 1.5, 'reg_alpha': 0.5, 'n_estimators': 500, 'max_depth': 5, 'learning_rate': 0.01, 'gamma': 0.1, 'colsample_bytree': 0.7}\n"
     ]
    },
    {
     "name": "stderr",
     "output_type": "stream",
     "text": [
      "Processing Meters:   9%|▉         | 15/161 [06:31<58:48, 24.17s/it]"
     ]
    },
    {
     "name": "stdout",
     "output_type": "stream",
     "text": [
      "Performance Metrics for AMR-129 (Daily): {'train_RMSE': np.float64(0.0), 'train_MAE': 0.0, 'test_RMSE': np.float64(0.0), 'test_MAE': 0.0}\n"
     ]
    },
    {
     "name": "stderr",
     "output_type": "stream",
     "text": [
      "Processing Meters:   9%|▉         | 15/161 [06:43<58:48, 24.17s/it]"
     ]
    },
    {
     "name": "stdout",
     "output_type": "stream",
     "text": [
      "\n",
      "Best parameters for AMR-129 (Hourly): {'subsample': 0.9, 'reg_lambda': 1.5, 'reg_alpha': 0.5, 'n_estimators': 500, 'max_depth': 5, 'learning_rate': 0.01, 'gamma': 0.1, 'colsample_bytree': 0.7}\n"
     ]
    },
    {
     "name": "stderr",
     "output_type": "stream",
     "text": [
      "Processing Meters:  10%|▉         | 16/161 [06:47<1:02:31, 25.87s/it]"
     ]
    },
    {
     "name": "stdout",
     "output_type": "stream",
     "text": [
      "Performance Metrics for AMR-129 (Hourly): {'train_RMSE': np.float64(0.0), 'train_MAE': 0.0, 'test_RMSE': np.float64(0.0), 'test_MAE': 0.0}\n"
     ]
    },
    {
     "name": "stderr",
     "output_type": "stream",
     "text": [
      "Processing Meters:  10%|▉         | 16/161 [06:56<1:02:31, 25.87s/it]"
     ]
    },
    {
     "name": "stdout",
     "output_type": "stream",
     "text": [
      "\n",
      "Best parameters for AMR-118 (Daily): {'subsample': 0.9, 'reg_lambda': 1.5, 'reg_alpha': 0.5, 'n_estimators': 500, 'max_depth': 5, 'learning_rate': 0.01, 'gamma': 0.1, 'colsample_bytree': 0.7}\n"
     ]
    },
    {
     "name": "stderr",
     "output_type": "stream",
     "text": [
      "Processing Meters:  10%|▉         | 16/161 [06:58<1:02:31, 25.87s/it]"
     ]
    },
    {
     "name": "stdout",
     "output_type": "stream",
     "text": [
      "Performance Metrics for AMR-118 (Daily): {'train_RMSE': np.float64(0.0), 'train_MAE': 0.0, 'test_RMSE': np.float64(0.0), 'test_MAE': 0.0}\n"
     ]
    },
    {
     "name": "stderr",
     "output_type": "stream",
     "text": [
      "Processing Meters:  10%|▉         | 16/161 [07:06<1:02:31, 25.87s/it]"
     ]
    },
    {
     "name": "stdout",
     "output_type": "stream",
     "text": [
      "\n",
      "Best parameters for AMR-118 (Hourly): {'subsample': 0.9, 'reg_lambda': 1.5, 'reg_alpha': 0.5, 'n_estimators': 500, 'max_depth': 5, 'learning_rate': 0.01, 'gamma': 0.1, 'colsample_bytree': 0.7}\n"
     ]
    },
    {
     "name": "stderr",
     "output_type": "stream",
     "text": [
      "Processing Meters:  11%|█         | 17/161 [07:09<59:39, 24.86s/it]  "
     ]
    },
    {
     "name": "stdout",
     "output_type": "stream",
     "text": [
      "Performance Metrics for AMR-118 (Hourly): {'train_RMSE': np.float64(0.0), 'train_MAE': 0.0, 'test_RMSE': np.float64(0.0), 'test_MAE': 0.0}\n"
     ]
    },
    {
     "name": "stderr",
     "output_type": "stream",
     "text": [
      "Processing Meters:  11%|█         | 17/161 [07:18<59:39, 24.86s/it]"
     ]
    },
    {
     "name": "stdout",
     "output_type": "stream",
     "text": [
      "\n",
      "Best parameters for AMR-138 (Daily): {'subsample': 0.9, 'reg_lambda': 1.5, 'reg_alpha': 0.5, 'n_estimators': 500, 'max_depth': 5, 'learning_rate': 0.01, 'gamma': 0.1, 'colsample_bytree': 0.7}\n"
     ]
    },
    {
     "name": "stderr",
     "output_type": "stream",
     "text": [
      "Processing Meters:  11%|█         | 17/161 [07:20<59:39, 24.86s/it]"
     ]
    },
    {
     "name": "stdout",
     "output_type": "stream",
     "text": [
      "Performance Metrics for AMR-138 (Daily): {'train_RMSE': np.float64(0.0), 'train_MAE': 0.0, 'test_RMSE': np.float64(0.0), 'test_MAE': 0.0}\n"
     ]
    },
    {
     "name": "stderr",
     "output_type": "stream",
     "text": [
      "Processing Meters:  11%|█         | 17/161 [07:29<59:39, 24.86s/it]"
     ]
    },
    {
     "name": "stdout",
     "output_type": "stream",
     "text": [
      "\n",
      "Best parameters for AMR-138 (Hourly): {'subsample': 0.9, 'reg_lambda': 1.5, 'reg_alpha': 0.5, 'n_estimators': 500, 'max_depth': 5, 'learning_rate': 0.01, 'gamma': 0.1, 'colsample_bytree': 0.7}\n"
     ]
    },
    {
     "name": "stderr",
     "output_type": "stream",
     "text": [
      "Processing Meters:  11%|█         | 18/161 [07:32<57:25, 24.09s/it]"
     ]
    },
    {
     "name": "stdout",
     "output_type": "stream",
     "text": [
      "Performance Metrics for AMR-138 (Hourly): {'train_RMSE': np.float64(0.0), 'train_MAE': 0.0, 'test_RMSE': np.float64(0.0), 'test_MAE': 0.0}\n"
     ]
    },
    {
     "name": "stderr",
     "output_type": "stream",
     "text": [
      "Processing Meters:  11%|█         | 18/161 [07:40<57:25, 24.09s/it]"
     ]
    },
    {
     "name": "stdout",
     "output_type": "stream",
     "text": [
      "\n",
      "Best parameters for AMR-137 (Daily): {'subsample': 0.9, 'reg_lambda': 1.5, 'reg_alpha': 0.5, 'n_estimators': 500, 'max_depth': 5, 'learning_rate': 0.01, 'gamma': 0.1, 'colsample_bytree': 0.7}\n"
     ]
    },
    {
     "name": "stderr",
     "output_type": "stream",
     "text": [
      "Processing Meters:  11%|█         | 18/161 [07:42<57:25, 24.09s/it]"
     ]
    },
    {
     "name": "stdout",
     "output_type": "stream",
     "text": [
      "Performance Metrics for AMR-137 (Daily): {'train_RMSE': np.float64(0.0), 'train_MAE': 0.0, 'test_RMSE': np.float64(0.0), 'test_MAE': 0.0}\n"
     ]
    },
    {
     "name": "stderr",
     "output_type": "stream",
     "text": [
      "Processing Meters:  11%|█         | 18/161 [07:51<57:25, 24.09s/it]"
     ]
    },
    {
     "name": "stdout",
     "output_type": "stream",
     "text": [
      "\n",
      "Best parameters for AMR-137 (Hourly): {'subsample': 0.9, 'reg_lambda': 1.5, 'reg_alpha': 0.5, 'n_estimators': 500, 'max_depth': 5, 'learning_rate': 0.01, 'gamma': 0.1, 'colsample_bytree': 0.7}\n"
     ]
    },
    {
     "name": "stderr",
     "output_type": "stream",
     "text": [
      "Processing Meters:  12%|█▏        | 19/161 [07:54<55:56, 23.63s/it]"
     ]
    },
    {
     "name": "stdout",
     "output_type": "stream",
     "text": [
      "Performance Metrics for AMR-137 (Hourly): {'train_RMSE': np.float64(0.0), 'train_MAE': 0.0, 'test_RMSE': np.float64(0.0), 'test_MAE': 0.0}\n"
     ]
    },
    {
     "name": "stderr",
     "output_type": "stream",
     "text": [
      "Processing Meters:  12%|█▏        | 19/161 [08:03<55:56, 23.63s/it]"
     ]
    },
    {
     "name": "stdout",
     "output_type": "stream",
     "text": [
      "\n",
      "Best parameters for AMR-139 (Daily): {'subsample': 0.9, 'reg_lambda': 1.5, 'reg_alpha': 0.5, 'n_estimators': 500, 'max_depth': 5, 'learning_rate': 0.01, 'gamma': 0.1, 'colsample_bytree': 0.7}\n"
     ]
    },
    {
     "name": "stderr",
     "output_type": "stream",
     "text": [
      "Processing Meters:  12%|█▏        | 19/161 [08:05<55:56, 23.63s/it]"
     ]
    },
    {
     "name": "stdout",
     "output_type": "stream",
     "text": [
      "Performance Metrics for AMR-139 (Daily): {'train_RMSE': np.float64(0.0), 'train_MAE': 0.0, 'test_RMSE': np.float64(0.0), 'test_MAE': 0.0}\n"
     ]
    },
    {
     "name": "stderr",
     "output_type": "stream",
     "text": [
      "Processing Meters:  12%|█▏        | 19/161 [08:15<55:56, 23.63s/it]"
     ]
    },
    {
     "name": "stdout",
     "output_type": "stream",
     "text": [
      "\n",
      "Best parameters for AMR-139 (Hourly): {'subsample': 0.9, 'reg_lambda': 1.5, 'reg_alpha': 0.5, 'n_estimators': 500, 'max_depth': 5, 'learning_rate': 0.01, 'gamma': 0.1, 'colsample_bytree': 0.7}\n"
     ]
    },
    {
     "name": "stderr",
     "output_type": "stream",
     "text": [
      "Processing Meters:  12%|█▏        | 20/161 [08:18<55:33, 23.64s/it]"
     ]
    },
    {
     "name": "stdout",
     "output_type": "stream",
     "text": [
      "Performance Metrics for AMR-139 (Hourly): {'train_RMSE': np.float64(0.0), 'train_MAE': 0.0, 'test_RMSE': np.float64(0.0), 'test_MAE': 0.0}\n"
     ]
    },
    {
     "name": "stderr",
     "output_type": "stream",
     "text": [
      "Processing Meters:  12%|█▏        | 20/161 [08:27<55:33, 23.64s/it]"
     ]
    },
    {
     "name": "stdout",
     "output_type": "stream",
     "text": [
      "\n",
      "Best parameters for AMR-13 (Daily): {'subsample': 0.9, 'reg_lambda': 1.5, 'reg_alpha': 0.5, 'n_estimators': 500, 'max_depth': 5, 'learning_rate': 0.01, 'gamma': 0.1, 'colsample_bytree': 0.7}\n"
     ]
    },
    {
     "name": "stderr",
     "output_type": "stream",
     "text": [
      "Processing Meters:  12%|█▏        | 20/161 [08:28<55:33, 23.64s/it]"
     ]
    },
    {
     "name": "stdout",
     "output_type": "stream",
     "text": [
      "Performance Metrics for AMR-13 (Daily): {'train_RMSE': np.float64(0.0), 'train_MAE': 0.0, 'test_RMSE': np.float64(0.0), 'test_MAE': 0.0}\n"
     ]
    },
    {
     "name": "stderr",
     "output_type": "stream",
     "text": [
      "Processing Meters:  12%|█▏        | 20/161 [08:37<55:33, 23.64s/it]"
     ]
    },
    {
     "name": "stdout",
     "output_type": "stream",
     "text": [
      "\n",
      "Best parameters for AMR-13 (Hourly): {'subsample': 0.9, 'reg_lambda': 1.5, 'reg_alpha': 0.5, 'n_estimators': 500, 'max_depth': 5, 'learning_rate': 0.01, 'gamma': 0.1, 'colsample_bytree': 0.7}\n"
     ]
    },
    {
     "name": "stderr",
     "output_type": "stream",
     "text": [
      "Processing Meters:  13%|█▎        | 21/161 [08:40<54:02, 23.16s/it]"
     ]
    },
    {
     "name": "stdout",
     "output_type": "stream",
     "text": [
      "Performance Metrics for AMR-13 (Hourly): {'train_RMSE': np.float64(0.0), 'train_MAE': 0.0, 'test_RMSE': np.float64(0.0), 'test_MAE': 0.0}\n"
     ]
    },
    {
     "name": "stderr",
     "output_type": "stream",
     "text": [
      "Processing Meters:  13%|█▎        | 21/161 [08:48<54:02, 23.16s/it]"
     ]
    },
    {
     "name": "stdout",
     "output_type": "stream",
     "text": [
      "\n",
      "Best parameters for AMR-130 (Daily): {'subsample': 0.9, 'reg_lambda': 1.5, 'reg_alpha': 0.5, 'n_estimators': 500, 'max_depth': 5, 'learning_rate': 0.01, 'gamma': 0.1, 'colsample_bytree': 0.7}\n"
     ]
    },
    {
     "name": "stderr",
     "output_type": "stream",
     "text": [
      "Processing Meters:  13%|█▎        | 21/161 [08:50<54:02, 23.16s/it]"
     ]
    },
    {
     "name": "stdout",
     "output_type": "stream",
     "text": [
      "Performance Metrics for AMR-130 (Daily): {'train_RMSE': np.float64(0.0), 'train_MAE': 0.0, 'test_RMSE': np.float64(0.0), 'test_MAE': 0.0}\n"
     ]
    },
    {
     "name": "stderr",
     "output_type": "stream",
     "text": [
      "Processing Meters:  13%|█▎        | 21/161 [08:59<54:02, 23.16s/it]"
     ]
    },
    {
     "name": "stdout",
     "output_type": "stream",
     "text": [
      "\n",
      "Best parameters for AMR-130 (Hourly): {'subsample': 0.9, 'reg_lambda': 1.5, 'reg_alpha': 0.5, 'n_estimators': 500, 'max_depth': 5, 'learning_rate': 0.01, 'gamma': 0.1, 'colsample_bytree': 0.7}\n"
     ]
    },
    {
     "name": "stderr",
     "output_type": "stream",
     "text": [
      "Processing Meters:  14%|█▎        | 22/161 [09:03<53:12, 22.97s/it]"
     ]
    },
    {
     "name": "stdout",
     "output_type": "stream",
     "text": [
      "Performance Metrics for AMR-130 (Hourly): {'train_RMSE': np.float64(0.0), 'train_MAE': 0.0, 'test_RMSE': np.float64(0.0), 'test_MAE': 0.0}\n"
     ]
    },
    {
     "name": "stderr",
     "output_type": "stream",
     "text": [
      "Processing Meters:  14%|█▎        | 22/161 [09:11<53:12, 22.97s/it]"
     ]
    },
    {
     "name": "stdout",
     "output_type": "stream",
     "text": [
      "\n",
      "Best parameters for AMR-156 (Daily): {'subsample': 0.9, 'reg_lambda': 1.5, 'reg_alpha': 0.5, 'n_estimators': 500, 'max_depth': 5, 'learning_rate': 0.01, 'gamma': 0.1, 'colsample_bytree': 0.7}\n"
     ]
    },
    {
     "name": "stderr",
     "output_type": "stream",
     "text": [
      "Processing Meters:  14%|█▎        | 22/161 [09:13<53:12, 22.97s/it]"
     ]
    },
    {
     "name": "stdout",
     "output_type": "stream",
     "text": [
      "Performance Metrics for AMR-156 (Daily): {'train_RMSE': np.float64(0.0), 'train_MAE': 0.0, 'test_RMSE': np.float64(0.0), 'test_MAE': 0.0}\n"
     ]
    },
    {
     "name": "stderr",
     "output_type": "stream",
     "text": [
      "Processing Meters:  14%|█▎        | 22/161 [09:22<53:12, 22.97s/it]"
     ]
    },
    {
     "name": "stdout",
     "output_type": "stream",
     "text": [
      "\n",
      "Best parameters for AMR-156 (Hourly): {'subsample': 0.9, 'reg_lambda': 1.5, 'reg_alpha': 0.5, 'n_estimators': 500, 'max_depth': 5, 'learning_rate': 0.01, 'gamma': 0.1, 'colsample_bytree': 0.7}\n"
     ]
    },
    {
     "name": "stderr",
     "output_type": "stream",
     "text": [
      "Processing Meters:  14%|█▍        | 23/161 [09:26<52:49, 22.97s/it]"
     ]
    },
    {
     "name": "stdout",
     "output_type": "stream",
     "text": [
      "Performance Metrics for AMR-156 (Hourly): {'train_RMSE': np.float64(0.0), 'train_MAE': 0.0, 'test_RMSE': np.float64(0.0), 'test_MAE': 0.0}\n"
     ]
    },
    {
     "name": "stderr",
     "output_type": "stream",
     "text": [
      "Processing Meters:  14%|█▍        | 23/161 [09:34<52:49, 22.97s/it]"
     ]
    },
    {
     "name": "stdout",
     "output_type": "stream",
     "text": [
      "\n",
      "Best parameters for AMR-154 (Daily): {'subsample': 0.9, 'reg_lambda': 1.5, 'reg_alpha': 0.5, 'n_estimators': 500, 'max_depth': 5, 'learning_rate': 0.01, 'gamma': 0.1, 'colsample_bytree': 0.7}\n"
     ]
    },
    {
     "name": "stderr",
     "output_type": "stream",
     "text": [
      "Processing Meters:  14%|█▍        | 23/161 [09:35<52:49, 22.97s/it]"
     ]
    },
    {
     "name": "stdout",
     "output_type": "stream",
     "text": [
      "Performance Metrics for AMR-154 (Daily): {'train_RMSE': np.float64(0.0), 'train_MAE': 0.0, 'test_RMSE': np.float64(0.0), 'test_MAE': 0.0}\n"
     ]
    },
    {
     "name": "stderr",
     "output_type": "stream",
     "text": [
      "Processing Meters:  14%|█▍        | 23/161 [09:44<52:49, 22.97s/it]"
     ]
    },
    {
     "name": "stdout",
     "output_type": "stream",
     "text": [
      "\n",
      "Best parameters for AMR-154 (Hourly): {'subsample': 0.9, 'reg_lambda': 1.5, 'reg_alpha': 0.5, 'n_estimators': 500, 'max_depth': 5, 'learning_rate': 0.01, 'gamma': 0.1, 'colsample_bytree': 0.7}\n"
     ]
    },
    {
     "name": "stderr",
     "output_type": "stream",
     "text": [
      "Processing Meters:  15%|█▍        | 24/161 [09:48<51:53, 22.73s/it]"
     ]
    },
    {
     "name": "stdout",
     "output_type": "stream",
     "text": [
      "Performance Metrics for AMR-154 (Hourly): {'train_RMSE': np.float64(0.0), 'train_MAE': 0.0, 'test_RMSE': np.float64(0.0), 'test_MAE': 0.0}\n"
     ]
    },
    {
     "name": "stderr",
     "output_type": "stream",
     "text": [
      "Processing Meters:  15%|█▍        | 24/161 [09:56<51:53, 22.73s/it]"
     ]
    },
    {
     "name": "stdout",
     "output_type": "stream",
     "text": [
      "\n",
      "Best parameters for AMR-160 (Daily): {'subsample': 0.9, 'reg_lambda': 1.5, 'reg_alpha': 0.5, 'n_estimators': 500, 'max_depth': 5, 'learning_rate': 0.01, 'gamma': 0.1, 'colsample_bytree': 0.7}\n"
     ]
    },
    {
     "name": "stderr",
     "output_type": "stream",
     "text": [
      "Processing Meters:  15%|█▍        | 24/161 [09:58<51:53, 22.73s/it]"
     ]
    },
    {
     "name": "stdout",
     "output_type": "stream",
     "text": [
      "Performance Metrics for AMR-160 (Daily): {'train_RMSE': np.float64(0.0), 'train_MAE': 0.0, 'test_RMSE': np.float64(0.0), 'test_MAE': 0.0}\n"
     ]
    },
    {
     "name": "stderr",
     "output_type": "stream",
     "text": [
      "Processing Meters:  15%|█▍        | 24/161 [10:07<51:53, 22.73s/it]"
     ]
    },
    {
     "name": "stdout",
     "output_type": "stream",
     "text": [
      "\n",
      "Best parameters for AMR-160 (Hourly): {'subsample': 0.9, 'reg_lambda': 1.5, 'reg_alpha': 0.5, 'n_estimators': 500, 'max_depth': 5, 'learning_rate': 0.01, 'gamma': 0.1, 'colsample_bytree': 0.7}\n"
     ]
    },
    {
     "name": "stderr",
     "output_type": "stream",
     "text": [
      "Processing Meters:  16%|█▌        | 25/161 [10:10<51:16, 22.62s/it]"
     ]
    },
    {
     "name": "stdout",
     "output_type": "stream",
     "text": [
      "Performance Metrics for AMR-160 (Hourly): {'train_RMSE': np.float64(0.0), 'train_MAE': 0.0, 'test_RMSE': np.float64(0.0), 'test_MAE': 0.0}\n"
     ]
    },
    {
     "name": "stderr",
     "output_type": "stream",
     "text": [
      "Processing Meters:  16%|█▌        | 25/161 [10:19<51:16, 22.62s/it]"
     ]
    },
    {
     "name": "stdout",
     "output_type": "stream",
     "text": [
      "\n",
      "Best parameters for AMR-149 (Daily): {'subsample': 0.9, 'reg_lambda': 1.5, 'reg_alpha': 0.5, 'n_estimators': 500, 'max_depth': 5, 'learning_rate': 0.01, 'gamma': 0.1, 'colsample_bytree': 0.7}\n"
     ]
    },
    {
     "name": "stderr",
     "output_type": "stream",
     "text": [
      "Processing Meters:  16%|█▌        | 25/161 [10:21<51:16, 22.62s/it]"
     ]
    },
    {
     "name": "stdout",
     "output_type": "stream",
     "text": [
      "Performance Metrics for AMR-149 (Daily): {'train_RMSE': np.float64(0.0), 'train_MAE': 0.0, 'test_RMSE': np.float64(0.0), 'test_MAE': 0.0}\n"
     ]
    },
    {
     "name": "stderr",
     "output_type": "stream",
     "text": [
      "Processing Meters:  16%|█▌        | 25/161 [10:31<51:16, 22.62s/it]"
     ]
    },
    {
     "name": "stdout",
     "output_type": "stream",
     "text": [
      "\n",
      "Best parameters for AMR-149 (Hourly): {'subsample': 0.9, 'reg_lambda': 1.5, 'reg_alpha': 0.5, 'n_estimators': 500, 'max_depth': 5, 'learning_rate': 0.01, 'gamma': 0.1, 'colsample_bytree': 0.7}\n"
     ]
    },
    {
     "name": "stderr",
     "output_type": "stream",
     "text": [
      "Processing Meters:  16%|█▌        | 26/161 [10:34<51:56, 23.09s/it]"
     ]
    },
    {
     "name": "stdout",
     "output_type": "stream",
     "text": [
      "Performance Metrics for AMR-149 (Hourly): {'train_RMSE': np.float64(0.0), 'train_MAE': 0.0, 'test_RMSE': np.float64(0.0), 'test_MAE': 0.0}\n"
     ]
    },
    {
     "name": "stderr",
     "output_type": "stream",
     "text": [
      "Processing Meters:  16%|█▌        | 26/161 [10:43<51:56, 23.09s/it]"
     ]
    },
    {
     "name": "stdout",
     "output_type": "stream",
     "text": [
      "\n",
      "Best parameters for AMR-152 (Daily): {'subsample': 0.9, 'reg_lambda': 1.5, 'reg_alpha': 0.5, 'n_estimators': 500, 'max_depth': 5, 'learning_rate': 0.01, 'gamma': 0.1, 'colsample_bytree': 0.7}\n"
     ]
    },
    {
     "name": "stderr",
     "output_type": "stream",
     "text": [
      "Processing Meters:  16%|█▌        | 26/161 [10:45<51:56, 23.09s/it]"
     ]
    },
    {
     "name": "stdout",
     "output_type": "stream",
     "text": [
      "Performance Metrics for AMR-152 (Daily): {'train_RMSE': np.float64(0.0), 'train_MAE': 0.0, 'test_RMSE': np.float64(0.0), 'test_MAE': 0.0}\n"
     ]
    },
    {
     "name": "stderr",
     "output_type": "stream",
     "text": [
      "Processing Meters:  16%|█▌        | 26/161 [10:55<51:56, 23.09s/it]"
     ]
    },
    {
     "name": "stdout",
     "output_type": "stream",
     "text": [
      "\n",
      "Best parameters for AMR-152 (Hourly): {'subsample': 0.9, 'reg_lambda': 1.5, 'reg_alpha': 0.5, 'n_estimators': 500, 'max_depth': 5, 'learning_rate': 0.01, 'gamma': 0.1, 'colsample_bytree': 0.7}\n"
     ]
    },
    {
     "name": "stderr",
     "output_type": "stream",
     "text": [
      "Processing Meters:  17%|█▋        | 27/161 [10:58<52:10, 23.36s/it]"
     ]
    },
    {
     "name": "stdout",
     "output_type": "stream",
     "text": [
      "Performance Metrics for AMR-152 (Hourly): {'train_RMSE': np.float64(0.0), 'train_MAE': 0.0, 'test_RMSE': np.float64(0.0), 'test_MAE': 0.0}\n"
     ]
    },
    {
     "name": "stderr",
     "output_type": "stream",
     "text": [
      "Processing Meters:  17%|█▋        | 27/161 [11:10<52:10, 23.36s/it]"
     ]
    },
    {
     "name": "stdout",
     "output_type": "stream",
     "text": [
      "\n",
      "Best parameters for AMR-150 (Daily): {'subsample': 0.9, 'reg_lambda': 1.5, 'reg_alpha': 0.5, 'n_estimators': 500, 'max_depth': 5, 'learning_rate': 0.01, 'gamma': 0.1, 'colsample_bytree': 0.7}\n"
     ]
    },
    {
     "name": "stderr",
     "output_type": "stream",
     "text": [
      "Processing Meters:  17%|█▋        | 27/161 [11:14<52:10, 23.36s/it]"
     ]
    },
    {
     "name": "stdout",
     "output_type": "stream",
     "text": [
      "Performance Metrics for AMR-150 (Daily): {'train_RMSE': np.float64(0.0), 'train_MAE': 0.0, 'test_RMSE': np.float64(0.0), 'test_MAE': 0.0}\n"
     ]
    },
    {
     "name": "stderr",
     "output_type": "stream",
     "text": [
      "Processing Meters:  17%|█▋        | 27/161 [11:29<52:10, 23.36s/it]"
     ]
    },
    {
     "name": "stdout",
     "output_type": "stream",
     "text": [
      "\n",
      "Best parameters for AMR-150 (Hourly): {'subsample': 0.9, 'reg_lambda': 1.5, 'reg_alpha': 0.5, 'n_estimators': 500, 'max_depth': 5, 'learning_rate': 0.01, 'gamma': 0.1, 'colsample_bytree': 0.7}\n"
     ]
    },
    {
     "name": "stderr",
     "output_type": "stream",
     "text": [
      "Processing Meters:  17%|█▋        | 28/161 [11:32<59:00, 26.62s/it]"
     ]
    },
    {
     "name": "stdout",
     "output_type": "stream",
     "text": [
      "Performance Metrics for AMR-150 (Hourly): {'train_RMSE': np.float64(0.0), 'train_MAE': 0.0, 'test_RMSE': np.float64(0.0), 'test_MAE': 0.0}\n"
     ]
    },
    {
     "name": "stderr",
     "output_type": "stream",
     "text": [
      "Processing Meters:  17%|█▋        | 28/161 [11:41<59:00, 26.62s/it]"
     ]
    },
    {
     "name": "stdout",
     "output_type": "stream",
     "text": [
      "\n",
      "Best parameters for AMR-151 (Daily): {'subsample': 0.9, 'reg_lambda': 1.5, 'reg_alpha': 0.5, 'n_estimators': 500, 'max_depth': 5, 'learning_rate': 0.01, 'gamma': 0.1, 'colsample_bytree': 0.7}\n"
     ]
    },
    {
     "name": "stderr",
     "output_type": "stream",
     "text": [
      "Processing Meters:  17%|█▋        | 28/161 [11:43<59:00, 26.62s/it]"
     ]
    },
    {
     "name": "stdout",
     "output_type": "stream",
     "text": [
      "Performance Metrics for AMR-151 (Daily): {'train_RMSE': np.float64(0.0), 'train_MAE': 0.0, 'test_RMSE': np.float64(0.0), 'test_MAE': 0.0}\n"
     ]
    },
    {
     "name": "stderr",
     "output_type": "stream",
     "text": [
      "Processing Meters:  17%|█▋        | 28/161 [11:54<59:00, 26.62s/it]"
     ]
    },
    {
     "name": "stdout",
     "output_type": "stream",
     "text": [
      "\n",
      "Best parameters for AMR-151 (Hourly): {'subsample': 0.9, 'reg_lambda': 1.5, 'reg_alpha': 0.5, 'n_estimators': 500, 'max_depth': 5, 'learning_rate': 0.01, 'gamma': 0.1, 'colsample_bytree': 0.7}\n"
     ]
    },
    {
     "name": "stderr",
     "output_type": "stream",
     "text": [
      "Processing Meters:  18%|█▊        | 29/161 [11:57<57:15, 26.03s/it]"
     ]
    },
    {
     "name": "stdout",
     "output_type": "stream",
     "text": [
      "Performance Metrics for AMR-151 (Hourly): {'train_RMSE': np.float64(0.0), 'train_MAE': 0.0, 'test_RMSE': np.float64(0.0), 'test_MAE': 0.0}\n"
     ]
    },
    {
     "name": "stderr",
     "output_type": "stream",
     "text": [
      "Processing Meters:  18%|█▊        | 29/161 [12:07<57:15, 26.03s/it]"
     ]
    },
    {
     "name": "stdout",
     "output_type": "stream",
     "text": [
      "\n",
      "Best parameters for AMR-142 (Daily): {'subsample': 0.9, 'reg_lambda': 1.5, 'reg_alpha': 0.5, 'n_estimators': 500, 'max_depth': 5, 'learning_rate': 0.01, 'gamma': 0.1, 'colsample_bytree': 0.7}\n"
     ]
    },
    {
     "name": "stderr",
     "output_type": "stream",
     "text": [
      "Processing Meters:  18%|█▊        | 29/161 [12:08<57:15, 26.03s/it]"
     ]
    },
    {
     "name": "stdout",
     "output_type": "stream",
     "text": [
      "Performance Metrics for AMR-142 (Daily): {'train_RMSE': np.float64(0.0), 'train_MAE': 0.0, 'test_RMSE': np.float64(0.0), 'test_MAE': 0.0}\n"
     ]
    },
    {
     "name": "stderr",
     "output_type": "stream",
     "text": [
      "Processing Meters:  18%|█▊        | 29/161 [12:18<57:15, 26.03s/it]"
     ]
    },
    {
     "name": "stdout",
     "output_type": "stream",
     "text": [
      "\n",
      "Best parameters for AMR-142 (Hourly): {'subsample': 0.9, 'reg_lambda': 1.5, 'reg_alpha': 0.5, 'n_estimators': 500, 'max_depth': 5, 'learning_rate': 0.01, 'gamma': 0.1, 'colsample_bytree': 0.7}\n"
     ]
    },
    {
     "name": "stderr",
     "output_type": "stream",
     "text": [
      "Processing Meters:  19%|█▊        | 30/161 [12:21<55:21, 25.35s/it]"
     ]
    },
    {
     "name": "stdout",
     "output_type": "stream",
     "text": [
      "Performance Metrics for AMR-142 (Hourly): {'train_RMSE': np.float64(0.0), 'train_MAE': 0.0, 'test_RMSE': np.float64(0.0), 'test_MAE': 0.0}\n"
     ]
    },
    {
     "name": "stderr",
     "output_type": "stream",
     "text": [
      "Processing Meters:  19%|█▊        | 30/161 [12:29<55:21, 25.35s/it]"
     ]
    },
    {
     "name": "stdout",
     "output_type": "stream",
     "text": [
      "\n",
      "Best parameters for AMR-147 (Daily): {'subsample': 0.9, 'reg_lambda': 1.5, 'reg_alpha': 0.5, 'n_estimators': 500, 'max_depth': 5, 'learning_rate': 0.01, 'gamma': 0.1, 'colsample_bytree': 0.7}\n"
     ]
    },
    {
     "name": "stderr",
     "output_type": "stream",
     "text": [
      "Processing Meters:  19%|█▊        | 30/161 [12:31<55:21, 25.35s/it]"
     ]
    },
    {
     "name": "stdout",
     "output_type": "stream",
     "text": [
      "Performance Metrics for AMR-147 (Daily): {'train_RMSE': np.float64(0.0), 'train_MAE': 0.0, 'test_RMSE': np.float64(0.0), 'test_MAE': 0.0}\n"
     ]
    },
    {
     "name": "stderr",
     "output_type": "stream",
     "text": [
      "Processing Meters:  19%|█▊        | 30/161 [12:40<55:21, 25.35s/it]"
     ]
    },
    {
     "name": "stdout",
     "output_type": "stream",
     "text": [
      "\n",
      "Best parameters for AMR-147 (Hourly): {'subsample': 0.9, 'reg_lambda': 1.5, 'reg_alpha': 0.5, 'n_estimators': 500, 'max_depth': 5, 'learning_rate': 0.01, 'gamma': 0.1, 'colsample_bytree': 0.7}\n"
     ]
    },
    {
     "name": "stderr",
     "output_type": "stream",
     "text": [
      "Processing Meters:  19%|█▉        | 31/161 [12:43<52:50, 24.39s/it]"
     ]
    },
    {
     "name": "stdout",
     "output_type": "stream",
     "text": [
      "Performance Metrics for AMR-147 (Hourly): {'train_RMSE': np.float64(0.0), 'train_MAE': 0.0, 'test_RMSE': np.float64(0.0), 'test_MAE': 0.0}\n"
     ]
    },
    {
     "name": "stderr",
     "output_type": "stream",
     "text": [
      "Processing Meters:  19%|█▉        | 31/161 [12:51<52:50, 24.39s/it]"
     ]
    },
    {
     "name": "stdout",
     "output_type": "stream",
     "text": [
      "\n",
      "Best parameters for AMR-141 (Daily): {'subsample': 0.9, 'reg_lambda': 1.5, 'reg_alpha': 0.5, 'n_estimators': 500, 'max_depth': 5, 'learning_rate': 0.01, 'gamma': 0.1, 'colsample_bytree': 0.7}\n"
     ]
    },
    {
     "name": "stderr",
     "output_type": "stream",
     "text": [
      "Processing Meters:  19%|█▉        | 31/161 [12:53<52:50, 24.39s/it]"
     ]
    },
    {
     "name": "stdout",
     "output_type": "stream",
     "text": [
      "Performance Metrics for AMR-141 (Daily): {'train_RMSE': np.float64(0.0), 'train_MAE': 0.0, 'test_RMSE': np.float64(0.0), 'test_MAE': 0.0}\n"
     ]
    },
    {
     "name": "stderr",
     "output_type": "stream",
     "text": [
      "Processing Meters:  19%|█▉        | 31/161 [13:03<52:50, 24.39s/it]"
     ]
    },
    {
     "name": "stdout",
     "output_type": "stream",
     "text": [
      "\n",
      "Best parameters for AMR-141 (Hourly): {'subsample': 0.9, 'reg_lambda': 1.5, 'reg_alpha': 0.5, 'n_estimators': 500, 'max_depth': 5, 'learning_rate': 0.01, 'gamma': 0.1, 'colsample_bytree': 0.7}\n"
     ]
    },
    {
     "name": "stderr",
     "output_type": "stream",
     "text": [
      "Processing Meters:  20%|█▉        | 32/161 [13:07<51:53, 24.13s/it]"
     ]
    },
    {
     "name": "stdout",
     "output_type": "stream",
     "text": [
      "Performance Metrics for AMR-141 (Hourly): {'train_RMSE': np.float64(0.0), 'train_MAE': 0.0, 'test_RMSE': np.float64(0.0), 'test_MAE': 0.0}\n"
     ]
    },
    {
     "name": "stderr",
     "output_type": "stream",
     "text": [
      "Processing Meters:  20%|█▉        | 32/161 [13:15<51:53, 24.13s/it]"
     ]
    },
    {
     "name": "stdout",
     "output_type": "stream",
     "text": [
      "\n",
      "Best parameters for AMR-04 (Daily): {'subsample': 0.9, 'reg_lambda': 1.5, 'reg_alpha': 0.5, 'n_estimators': 500, 'max_depth': 5, 'learning_rate': 0.01, 'gamma': 0.1, 'colsample_bytree': 0.7}\n"
     ]
    },
    {
     "name": "stderr",
     "output_type": "stream",
     "text": [
      "Processing Meters:  20%|█▉        | 32/161 [13:17<51:53, 24.13s/it]"
     ]
    },
    {
     "name": "stdout",
     "output_type": "stream",
     "text": [
      "Performance Metrics for AMR-04 (Daily): {'train_RMSE': np.float64(0.0), 'train_MAE': 0.0, 'test_RMSE': np.float64(0.0), 'test_MAE': 0.0}\n"
     ]
    },
    {
     "name": "stderr",
     "output_type": "stream",
     "text": [
      "Processing Meters:  20%|█▉        | 32/161 [13:26<51:53, 24.13s/it]"
     ]
    },
    {
     "name": "stdout",
     "output_type": "stream",
     "text": [
      "\n",
      "Best parameters for AMR-04 (Hourly): {'subsample': 0.9, 'reg_lambda': 1.5, 'reg_alpha': 0.5, 'n_estimators': 500, 'max_depth': 5, 'learning_rate': 0.01, 'gamma': 0.1, 'colsample_bytree': 0.7}\n"
     ]
    },
    {
     "name": "stderr",
     "output_type": "stream",
     "text": [
      "Processing Meters:  20%|██        | 33/161 [13:29<50:40, 23.75s/it]"
     ]
    },
    {
     "name": "stdout",
     "output_type": "stream",
     "text": [
      "Performance Metrics for AMR-04 (Hourly): {'train_RMSE': np.float64(0.0), 'train_MAE': 0.0, 'test_RMSE': np.float64(0.0), 'test_MAE': 0.0}\n"
     ]
    },
    {
     "name": "stderr",
     "output_type": "stream",
     "text": [
      "Processing Meters:  20%|██        | 33/161 [13:46<50:40, 23.75s/it]"
     ]
    },
    {
     "name": "stdout",
     "output_type": "stream",
     "text": [
      "\n",
      "Best parameters for BFM 9 (Daily): {'subsample': 0.7, 'reg_lambda': 1.5, 'reg_alpha': 0, 'n_estimators': 100, 'max_depth': 3, 'learning_rate': 0.05, 'gamma': 0, 'colsample_bytree': 0.8}\n"
     ]
    },
    {
     "name": "stderr",
     "output_type": "stream",
     "text": [
      "Processing Meters:  20%|██        | 33/161 [13:48<50:40, 23.75s/it]"
     ]
    },
    {
     "name": "stdout",
     "output_type": "stream",
     "text": [
      "Performance Metrics for BFM 9 (Daily): {'train_RMSE': np.float64(0.022035398323455045), 'train_MAE': 0.016396912199013847, 'test_RMSE': np.float64(0.10157041831619977), 'test_MAE': 0.07880247904907357}\n"
     ]
    },
    {
     "name": "stderr",
     "output_type": "stream",
     "text": [
      "Processing Meters:  20%|██        | 33/161 [15:33<50:40, 23.75s/it]"
     ]
    },
    {
     "name": "stdout",
     "output_type": "stream",
     "text": [
      "\n",
      "Best parameters for BFM 9 (Hourly): {'subsample': 0.9, 'reg_lambda': 1, 'reg_alpha': 0, 'n_estimators': 500, 'max_depth': 7, 'learning_rate': 0.1, 'gamma': 0, 'colsample_bytree': 0.9}\n"
     ]
    },
    {
     "name": "stderr",
     "output_type": "stream",
     "text": [
      "Processing Meters:  21%|██        | 34/161 [15:36<1:55:52, 54.75s/it]"
     ]
    },
    {
     "name": "stdout",
     "output_type": "stream",
     "text": [
      "Performance Metrics for BFM 9 (Hourly): {'train_RMSE': np.float64(0.0029593734195344744), 'train_MAE': 0.002160149468718983, 'test_RMSE': np.float64(0.02769728607361275), 'test_MAE': 0.016568566345007828}\n"
     ]
    },
    {
     "name": "stderr",
     "output_type": "stream",
     "text": [
      "Processing Meters:  21%|██        | 34/161 [15:59<1:55:52, 54.75s/it]"
     ]
    },
    {
     "name": "stdout",
     "output_type": "stream",
     "text": [
      "\n",
      "Best parameters for BFM 8 (Daily): {'subsample': 0.8, 'reg_lambda': 2, 'reg_alpha': 0, 'n_estimators': 1000, 'max_depth': 7, 'learning_rate': 0.05, 'gamma': 0, 'colsample_bytree': 0.7}\n"
     ]
    },
    {
     "name": "stderr",
     "output_type": "stream",
     "text": [
      "Processing Meters:  21%|██        | 34/161 [16:01<1:55:52, 54.75s/it]"
     ]
    },
    {
     "name": "stdout",
     "output_type": "stream",
     "text": [
      "Performance Metrics for BFM 8 (Daily): {'train_RMSE': np.float64(0.002029168133913904), 'train_MAE': 0.00106637413955905, 'test_RMSE': np.float64(0.11822847508790349), 'test_MAE': 0.054532772600650745}\n"
     ]
    },
    {
     "name": "stderr",
     "output_type": "stream",
     "text": [
      "Processing Meters:  21%|██        | 34/161 [17:13<1:55:52, 54.75s/it]"
     ]
    },
    {
     "name": "stdout",
     "output_type": "stream",
     "text": [
      "\n",
      "Best parameters for BFM 8 (Hourly): {'subsample': 0.9, 'reg_lambda': 1, 'reg_alpha': 0, 'n_estimators': 500, 'max_depth': 7, 'learning_rate': 0.1, 'gamma': 0, 'colsample_bytree': 0.9}\n"
     ]
    },
    {
     "name": "stderr",
     "output_type": "stream",
     "text": [
      "Processing Meters:  22%|██▏       | 35/161 [17:17<2:23:37, 68.40s/it]"
     ]
    },
    {
     "name": "stdout",
     "output_type": "stream",
     "text": [
      "Performance Metrics for BFM 8 (Hourly): {'train_RMSE': np.float64(0.0005037944653517629), 'train_MAE': 0.0002186404961238824, 'test_RMSE': np.float64(0.03694243631038585), 'test_MAE': 0.014106678179977395}\n"
     ]
    },
    {
     "name": "stderr",
     "output_type": "stream",
     "text": [
      "Processing Meters:  22%|██▏       | 35/161 [17:25<2:23:37, 68.40s/it]"
     ]
    },
    {
     "name": "stdout",
     "output_type": "stream",
     "text": [
      "\n",
      "Best parameters for BFM 2 (Daily): {'subsample': 0.9, 'reg_lambda': 1.5, 'reg_alpha': 0.5, 'n_estimators': 500, 'max_depth': 5, 'learning_rate': 0.01, 'gamma': 0.1, 'colsample_bytree': 0.7}\n"
     ]
    },
    {
     "name": "stderr",
     "output_type": "stream",
     "text": [
      "Processing Meters:  22%|██▏       | 35/161 [17:27<2:23:37, 68.40s/it]"
     ]
    },
    {
     "name": "stdout",
     "output_type": "stream",
     "text": [
      "Performance Metrics for BFM 2 (Daily): {'train_RMSE': np.float64(0.0), 'train_MAE': 0.0, 'test_RMSE': np.float64(0.0), 'test_MAE': 0.0}\n"
     ]
    },
    {
     "name": "stderr",
     "output_type": "stream",
     "text": [
      "Processing Meters:  22%|██▏       | 35/161 [17:36<2:23:37, 68.40s/it]"
     ]
    },
    {
     "name": "stdout",
     "output_type": "stream",
     "text": [
      "\n",
      "Best parameters for BFM 2 (Hourly): {'subsample': 0.9, 'reg_lambda': 1.5, 'reg_alpha': 0.5, 'n_estimators': 500, 'max_depth': 5, 'learning_rate': 0.01, 'gamma': 0.1, 'colsample_bytree': 0.7}\n"
     ]
    },
    {
     "name": "stderr",
     "output_type": "stream",
     "text": [
      "Processing Meters:  22%|██▏       | 36/161 [17:39<1:53:46, 54.62s/it]"
     ]
    },
    {
     "name": "stdout",
     "output_type": "stream",
     "text": [
      "Performance Metrics for BFM 2 (Hourly): {'train_RMSE': np.float64(0.0), 'train_MAE': 0.0, 'test_RMSE': np.float64(0.0), 'test_MAE': 0.0}\n"
     ]
    },
    {
     "name": "stderr",
     "output_type": "stream",
     "text": [
      "Processing Meters:  22%|██▏       | 36/161 [18:00<1:53:46, 54.62s/it]"
     ]
    },
    {
     "name": "stdout",
     "output_type": "stream",
     "text": [
      "\n",
      "Best parameters for BFM 20 (Daily): {'subsample': 0.7, 'reg_lambda': 2, 'reg_alpha': 0.1, 'n_estimators': 500, 'max_depth': 7, 'learning_rate': 0.01, 'gamma': 0, 'colsample_bytree': 0.8}\n"
     ]
    },
    {
     "name": "stderr",
     "output_type": "stream",
     "text": [
      "Processing Meters:  22%|██▏       | 36/161 [18:02<1:53:46, 54.62s/it]"
     ]
    },
    {
     "name": "stdout",
     "output_type": "stream",
     "text": [
      "Performance Metrics for BFM 20 (Daily): {'train_RMSE': np.float64(0.018743416255285854), 'train_MAE': 0.01065927899222168, 'test_RMSE': np.float64(0.09612888365603574), 'test_MAE': 0.05550233290683151}\n"
     ]
    },
    {
     "name": "stderr",
     "output_type": "stream",
     "text": [
      "Processing Meters:  22%|██▏       | 36/161 [20:21<1:53:46, 54.62s/it]"
     ]
    },
    {
     "name": "stdout",
     "output_type": "stream",
     "text": [
      "\n",
      "Best parameters for BFM 20 (Hourly): {'subsample': 0.9, 'reg_lambda': 1, 'reg_alpha': 0, 'n_estimators': 500, 'max_depth': 7, 'learning_rate': 0.1, 'gamma': 0, 'colsample_bytree': 0.9}\n"
     ]
    },
    {
     "name": "stderr",
     "output_type": "stream",
     "text": [
      "Processing Meters:  23%|██▎       | 37/161 [20:25<3:01:59, 88.06s/it]"
     ]
    },
    {
     "name": "stdout",
     "output_type": "stream",
     "text": [
      "Performance Metrics for BFM 20 (Hourly): {'train_RMSE': np.float64(0.0010094937432497829), 'train_MAE': 0.0007305796942103802, 'test_RMSE': np.float64(0.024343882753950104), 'test_MAE': 0.014273065691788519}\n"
     ]
    },
    {
     "name": "stderr",
     "output_type": "stream",
     "text": [
      "Processing Meters:  23%|██▎       | 37/161 [20:39<3:01:59, 88.06s/it]"
     ]
    },
    {
     "name": "stdout",
     "output_type": "stream",
     "text": [
      "\n",
      "Best parameters for BFM 21 (Daily): {'subsample': 0.7, 'reg_lambda': 1.5, 'reg_alpha': 0, 'n_estimators': 100, 'max_depth': 3, 'learning_rate': 0.05, 'gamma': 0, 'colsample_bytree': 0.8}\n"
     ]
    },
    {
     "name": "stderr",
     "output_type": "stream",
     "text": [
      "Processing Meters:  23%|██▎       | 37/161 [20:41<3:01:59, 88.06s/it]"
     ]
    },
    {
     "name": "stdout",
     "output_type": "stream",
     "text": [
      "Performance Metrics for BFM 21 (Daily): {'train_RMSE': np.float64(0.007203746213052733), 'train_MAE': 0.0052695063920713365, 'test_RMSE': np.float64(0.05343761559752698), 'test_MAE': 0.04569385588707902}\n"
     ]
    },
    {
     "name": "stderr",
     "output_type": "stream",
     "text": [
      "Processing Meters:  23%|██▎       | 37/161 [22:04<3:01:59, 88.06s/it]"
     ]
    },
    {
     "name": "stdout",
     "output_type": "stream",
     "text": [
      "\n",
      "Best parameters for BFM 21 (Hourly): {'subsample': 0.9, 'reg_lambda': 1, 'reg_alpha': 0, 'n_estimators': 500, 'max_depth': 7, 'learning_rate': 0.1, 'gamma': 0, 'colsample_bytree': 0.9}\n"
     ]
    },
    {
     "name": "stderr",
     "output_type": "stream",
     "text": [
      "Processing Meters:  24%|██▎       | 38/161 [22:08<3:09:36, 92.49s/it]"
     ]
    },
    {
     "name": "stdout",
     "output_type": "stream",
     "text": [
      "Performance Metrics for BFM 21 (Hourly): {'train_RMSE': np.float64(0.001859768698691492), 'train_MAE': 0.001301692100598959, 'test_RMSE': np.float64(0.012525372505850972), 'test_MAE': 0.006519061124384023}\n"
     ]
    },
    {
     "name": "stderr",
     "output_type": "stream",
     "text": [
      "Processing Meters:  24%|██▎       | 38/161 [22:25<3:09:36, 92.49s/it]"
     ]
    },
    {
     "name": "stdout",
     "output_type": "stream",
     "text": [
      "\n",
      "Best parameters for BFM 1 (Daily): {'subsample': 0.8, 'reg_lambda': 2, 'reg_alpha': 0, 'n_estimators': 1000, 'max_depth': 7, 'learning_rate': 0.05, 'gamma': 0, 'colsample_bytree': 0.7}\n"
     ]
    },
    {
     "name": "stderr",
     "output_type": "stream",
     "text": [
      "Processing Meters:  24%|██▎       | 38/161 [22:27<3:09:36, 92.49s/it]"
     ]
    },
    {
     "name": "stdout",
     "output_type": "stream",
     "text": [
      "Performance Metrics for BFM 1 (Daily): {'train_RMSE': np.float64(0.005249506234436921), 'train_MAE': 0.002213512370150629, 'test_RMSE': np.float64(0.13577458726536107), 'test_MAE': 0.06833202004432677}\n"
     ]
    },
    {
     "name": "stderr",
     "output_type": "stream",
     "text": [
      "Processing Meters:  24%|██▎       | 38/161 [24:28<3:09:36, 92.49s/it]"
     ]
    },
    {
     "name": "stdout",
     "output_type": "stream",
     "text": [
      "\n",
      "Best parameters for BFM 1 (Hourly): {'subsample': 0.9, 'reg_lambda': 1, 'reg_alpha': 0, 'n_estimators': 500, 'max_depth': 7, 'learning_rate': 0.1, 'gamma': 0, 'colsample_bytree': 0.9}\n"
     ]
    },
    {
     "name": "stderr",
     "output_type": "stream",
     "text": [
      "Processing Meters:  24%|██▍       | 39/161 [24:32<3:39:24, 107.90s/it]"
     ]
    },
    {
     "name": "stdout",
     "output_type": "stream",
     "text": [
      "Performance Metrics for BFM 1 (Hourly): {'train_RMSE': np.float64(0.002597683368461885), 'train_MAE': 0.0016228878025416275, 'test_RMSE': np.float64(0.020217487100944793), 'test_MAE': 0.008698919230221725}\n"
     ]
    },
    {
     "name": "stderr",
     "output_type": "stream",
     "text": [
      "Processing Meters:  24%|██▍       | 39/161 [24:57<3:39:24, 107.90s/it]"
     ]
    },
    {
     "name": "stdout",
     "output_type": "stream",
     "text": [
      "\n",
      "Best parameters for BFM 11 (Daily): {'subsample': 0.7, 'reg_lambda': 1.5, 'reg_alpha': 0, 'n_estimators': 100, 'max_depth': 3, 'learning_rate': 0.05, 'gamma': 0, 'colsample_bytree': 0.8}\n"
     ]
    },
    {
     "name": "stderr",
     "output_type": "stream",
     "text": [
      "Processing Meters:  24%|██▍       | 39/161 [24:59<3:39:24, 107.90s/it]"
     ]
    },
    {
     "name": "stdout",
     "output_type": "stream",
     "text": [
      "Performance Metrics for BFM 11 (Daily): {'train_RMSE': np.float64(0.008202730665114262), 'train_MAE': 0.005423087042240099, 'test_RMSE': np.float64(0.006172678711369639), 'test_MAE': 0.004954851822052036}\n"
     ]
    },
    {
     "name": "stderr",
     "output_type": "stream",
     "text": [
      "Processing Meters:  24%|██▍       | 39/161 [26:53<3:39:24, 107.90s/it]"
     ]
    },
    {
     "name": "stdout",
     "output_type": "stream",
     "text": [
      "\n",
      "Best parameters for BFM 11 (Hourly): {'subsample': 0.8, 'reg_lambda': 2, 'reg_alpha': 0, 'n_estimators': 1000, 'max_depth': 7, 'learning_rate': 0.05, 'gamma': 0, 'colsample_bytree': 0.7}\n"
     ]
    },
    {
     "name": "stderr",
     "output_type": "stream",
     "text": [
      "Processing Meters:  25%|██▍       | 40/161 [26:57<4:00:08, 119.07s/it]"
     ]
    },
    {
     "name": "stdout",
     "output_type": "stream",
     "text": [
      "Performance Metrics for BFM 11 (Hourly): {'train_RMSE': np.float64(0.00048376378612348907), 'train_MAE': 0.00023119808393171304, 'test_RMSE': np.float64(0.005471515692251838), 'test_MAE': 0.0017747397552613578}\n"
     ]
    },
    {
     "name": "stderr",
     "output_type": "stream",
     "text": [
      "Processing Meters:  25%|██▍       | 40/161 [27:07<4:00:08, 119.07s/it]"
     ]
    },
    {
     "name": "stdout",
     "output_type": "stream",
     "text": [
      "\n",
      "Best parameters for AMR-91 (Daily): {'subsample': 0.9, 'reg_lambda': 1.5, 'reg_alpha': 0.5, 'n_estimators': 500, 'max_depth': 5, 'learning_rate': 0.01, 'gamma': 0.1, 'colsample_bytree': 0.7}\n"
     ]
    },
    {
     "name": "stderr",
     "output_type": "stream",
     "text": [
      "Processing Meters:  25%|██▍       | 40/161 [27:09<4:00:08, 119.07s/it]"
     ]
    },
    {
     "name": "stdout",
     "output_type": "stream",
     "text": [
      "Performance Metrics for AMR-91 (Daily): {'train_RMSE': np.float64(0.0), 'train_MAE': 0.0, 'test_RMSE': np.float64(0.0), 'test_MAE': 0.0}\n"
     ]
    },
    {
     "name": "stderr",
     "output_type": "stream",
     "text": [
      "Processing Meters:  25%|██▍       | 40/161 [27:25<4:00:08, 119.07s/it]"
     ]
    },
    {
     "name": "stdout",
     "output_type": "stream",
     "text": [
      "\n",
      "Best parameters for AMR-91 (Hourly): {'subsample': 0.9, 'reg_lambda': 1.5, 'reg_alpha': 0.5, 'n_estimators': 500, 'max_depth': 5, 'learning_rate': 0.01, 'gamma': 0.1, 'colsample_bytree': 0.7}\n"
     ]
    },
    {
     "name": "stderr",
     "output_type": "stream",
     "text": [
      "Processing Meters:  25%|██▌       | 41/161 [27:29<3:05:57, 92.98s/it] "
     ]
    },
    {
     "name": "stdout",
     "output_type": "stream",
     "text": [
      "Performance Metrics for AMR-91 (Hourly): {'train_RMSE': np.float64(0.0), 'train_MAE': 0.0, 'test_RMSE': np.float64(0.0), 'test_MAE': 0.0}\n"
     ]
    },
    {
     "name": "stderr",
     "output_type": "stream",
     "text": [
      "Processing Meters:  25%|██▌       | 41/161 [28:17<3:05:57, 92.98s/it]"
     ]
    },
    {
     "name": "stdout",
     "output_type": "stream",
     "text": [
      "\n",
      "Best parameters for BFM 14 (Daily): {'subsample': 0.7, 'reg_lambda': 1.5, 'reg_alpha': 0, 'n_estimators': 100, 'max_depth': 3, 'learning_rate': 0.05, 'gamma': 0, 'colsample_bytree': 0.8}\n"
     ]
    },
    {
     "name": "stderr",
     "output_type": "stream",
     "text": [
      "Processing Meters:  25%|██▌       | 41/161 [28:19<3:05:57, 92.98s/it]"
     ]
    },
    {
     "name": "stdout",
     "output_type": "stream",
     "text": [
      "Performance Metrics for BFM 14 (Daily): {'train_RMSE': np.float64(0.047351026106531996), 'train_MAE': 0.03055442918030927, 'test_RMSE': np.float64(0.11092525575919127), 'test_MAE': 0.09149656531445194}\n"
     ]
    },
    {
     "name": "stderr",
     "output_type": "stream",
     "text": [
      "Processing Meters:  25%|██▌       | 41/161 [31:05<3:05:57, 92.98s/it]"
     ]
    },
    {
     "name": "stdout",
     "output_type": "stream",
     "text": [
      "\n",
      "Best parameters for BFM 14 (Hourly): {'subsample': 0.9, 'reg_lambda': 1, 'reg_alpha': 0, 'n_estimators': 500, 'max_depth': 7, 'learning_rate': 0.1, 'gamma': 0, 'colsample_bytree': 0.9}\n"
     ]
    },
    {
     "name": "stderr",
     "output_type": "stream",
     "text": [
      "Processing Meters:  26%|██▌       | 42/161 [31:09<4:20:06, 131.15s/it]"
     ]
    },
    {
     "name": "stdout",
     "output_type": "stream",
     "text": [
      "Performance Metrics for BFM 14 (Hourly): {'train_RMSE': np.float64(0.0031128035140096442), 'train_MAE': 0.0018885126901528736, 'test_RMSE': np.float64(0.03976256976113389), 'test_MAE': 0.008234836048263324}\n"
     ]
    },
    {
     "name": "stderr",
     "output_type": "stream",
     "text": [
      "Processing Meters:  26%|██▌       | 42/161 [31:37<4:20:06, 131.15s/it]"
     ]
    },
    {
     "name": "stdout",
     "output_type": "stream",
     "text": [
      "\n",
      "Best parameters for BFM 15 (Daily): {'subsample': 0.7, 'reg_lambda': 2, 'reg_alpha': 0.1, 'n_estimators': 500, 'max_depth': 3, 'learning_rate': 0.1, 'gamma': 0.1, 'colsample_bytree': 0.8}\n"
     ]
    },
    {
     "name": "stderr",
     "output_type": "stream",
     "text": [
      "Processing Meters:  26%|██▌       | 42/161 [31:39<4:20:06, 131.15s/it]"
     ]
    },
    {
     "name": "stdout",
     "output_type": "stream",
     "text": [
      "Performance Metrics for BFM 15 (Daily): {'train_RMSE': np.float64(0.12367723154349132), 'train_MAE': 0.09818207258815463, 'test_RMSE': np.float64(0.22874901438244943), 'test_MAE': 0.19825581747260904}\n"
     ]
    },
    {
     "name": "stderr",
     "output_type": "stream",
     "text": [
      "Processing Meters:  26%|██▌       | 42/161 [34:06<4:20:06, 131.15s/it]"
     ]
    },
    {
     "name": "stdout",
     "output_type": "stream",
     "text": [
      "\n",
      "Best parameters for BFM 15 (Hourly): {'subsample': 0.7, 'reg_lambda': 2, 'reg_alpha': 0.1, 'n_estimators': 500, 'max_depth': 3, 'learning_rate': 0.1, 'gamma': 0.1, 'colsample_bytree': 0.8}\n"
     ]
    },
    {
     "name": "stderr",
     "output_type": "stream",
     "text": [
      "Processing Meters:  27%|██▋       | 43/161 [34:10<4:46:51, 145.86s/it]"
     ]
    },
    {
     "name": "stdout",
     "output_type": "stream",
     "text": [
      "Performance Metrics for BFM 15 (Hourly): {'train_RMSE': np.float64(0.07755239835360346), 'train_MAE': 0.035069410194972055, 'test_RMSE': np.float64(0.04769783010732884), 'test_MAE': 0.019800213844130703}\n"
     ]
    },
    {
     "name": "stderr",
     "output_type": "stream",
     "text": [
      "Processing Meters:  27%|██▋       | 43/161 [34:19<4:46:51, 145.86s/it]"
     ]
    },
    {
     "name": "stdout",
     "output_type": "stream",
     "text": [
      "\n",
      "Best parameters for BFM 12 (Daily): {'subsample': 0.9, 'reg_lambda': 1.5, 'reg_alpha': 0.5, 'n_estimators': 500, 'max_depth': 5, 'learning_rate': 0.01, 'gamma': 0.1, 'colsample_bytree': 0.7}\n"
     ]
    },
    {
     "name": "stderr",
     "output_type": "stream",
     "text": [
      "Processing Meters:  27%|██▋       | 43/161 [34:21<4:46:51, 145.86s/it]"
     ]
    },
    {
     "name": "stdout",
     "output_type": "stream",
     "text": [
      "Performance Metrics for BFM 12 (Daily): {'train_RMSE': np.float64(0.0), 'train_MAE': 0.0, 'test_RMSE': np.float64(0.0), 'test_MAE': 0.0}\n"
     ]
    },
    {
     "name": "stderr",
     "output_type": "stream",
     "text": [
      "Processing Meters:  27%|██▋       | 43/161 [34:34<4:46:51, 145.86s/it]"
     ]
    },
    {
     "name": "stdout",
     "output_type": "stream",
     "text": [
      "\n",
      "Best parameters for BFM 12 (Hourly): {'subsample': 0.9, 'reg_lambda': 1.5, 'reg_alpha': 0.5, 'n_estimators': 500, 'max_depth': 5, 'learning_rate': 0.01, 'gamma': 0.1, 'colsample_bytree': 0.7}\n"
     ]
    },
    {
     "name": "stderr",
     "output_type": "stream",
     "text": [
      "Processing Meters:  27%|██▋       | 44/161 [34:37<3:35:00, 110.26s/it]"
     ]
    },
    {
     "name": "stdout",
     "output_type": "stream",
     "text": [
      "Performance Metrics for BFM 12 (Hourly): {'train_RMSE': np.float64(0.0), 'train_MAE': 0.0, 'test_RMSE': np.float64(0.0), 'test_MAE': 0.0}\n"
     ]
    },
    {
     "name": "stderr",
     "output_type": "stream",
     "text": [
      "Processing Meters:  27%|██▋       | 44/161 [34:49<3:35:00, 110.26s/it]"
     ]
    },
    {
     "name": "stdout",
     "output_type": "stream",
     "text": [
      "\n",
      "Best parameters for AMR-157 (Daily): {'subsample': 0.9, 'reg_lambda': 1.5, 'reg_alpha': 0.5, 'n_estimators': 500, 'max_depth': 5, 'learning_rate': 0.01, 'gamma': 0.1, 'colsample_bytree': 0.7}\n"
     ]
    },
    {
     "name": "stderr",
     "output_type": "stream",
     "text": [
      "Processing Meters:  27%|██▋       | 44/161 [34:51<3:35:00, 110.26s/it]"
     ]
    },
    {
     "name": "stdout",
     "output_type": "stream",
     "text": [
      "Performance Metrics for AMR-157 (Daily): {'train_RMSE': np.float64(0.0), 'train_MAE': 0.0, 'test_RMSE': np.float64(0.0), 'test_MAE': 0.0}\n"
     ]
    },
    {
     "name": "stderr",
     "output_type": "stream",
     "text": [
      "Processing Meters:  27%|██▋       | 44/161 [35:03<3:35:00, 110.26s/it]"
     ]
    },
    {
     "name": "stdout",
     "output_type": "stream",
     "text": [
      "\n",
      "Best parameters for AMR-157 (Hourly): {'subsample': 0.9, 'reg_lambda': 1.5, 'reg_alpha': 0.5, 'n_estimators': 500, 'max_depth': 5, 'learning_rate': 0.01, 'gamma': 0.1, 'colsample_bytree': 0.7}\n"
     ]
    },
    {
     "name": "stderr",
     "output_type": "stream",
     "text": [
      "Processing Meters:  28%|██▊       | 45/161 [35:06<2:46:21, 86.05s/it] "
     ]
    },
    {
     "name": "stdout",
     "output_type": "stream",
     "text": [
      "Performance Metrics for AMR-157 (Hourly): {'train_RMSE': np.float64(0.0), 'train_MAE': 0.0, 'test_RMSE': np.float64(0.0), 'test_MAE': 0.0}\n"
     ]
    },
    {
     "name": "stderr",
     "output_type": "stream",
     "text": [
      "Processing Meters:  28%|██▊       | 45/161 [35:17<2:46:21, 86.05s/it]"
     ]
    },
    {
     "name": "stdout",
     "output_type": "stream",
     "text": [
      "\n",
      "Best parameters for AMR-162 (Daily): {'subsample': 0.9, 'reg_lambda': 1.5, 'reg_alpha': 0.5, 'n_estimators': 500, 'max_depth': 5, 'learning_rate': 0.01, 'gamma': 0.1, 'colsample_bytree': 0.7}\n"
     ]
    },
    {
     "name": "stderr",
     "output_type": "stream",
     "text": [
      "Processing Meters:  28%|██▊       | 45/161 [35:19<2:46:21, 86.05s/it]"
     ]
    },
    {
     "name": "stdout",
     "output_type": "stream",
     "text": [
      "Performance Metrics for AMR-162 (Daily): {'train_RMSE': np.float64(0.0), 'train_MAE': 0.0, 'test_RMSE': np.float64(0.0), 'test_MAE': 0.0}\n"
     ]
    },
    {
     "name": "stderr",
     "output_type": "stream",
     "text": [
      "Processing Meters:  28%|██▊       | 45/161 [35:32<2:46:21, 86.05s/it]"
     ]
    },
    {
     "name": "stdout",
     "output_type": "stream",
     "text": [
      "\n",
      "Best parameters for AMR-162 (Hourly): {'subsample': 0.9, 'reg_lambda': 1.5, 'reg_alpha': 0.5, 'n_estimators': 500, 'max_depth': 5, 'learning_rate': 0.01, 'gamma': 0.1, 'colsample_bytree': 0.7}\n"
     ]
    },
    {
     "name": "stderr",
     "output_type": "stream",
     "text": [
      "Processing Meters:  29%|██▊       | 46/161 [35:35<2:11:48, 68.77s/it]"
     ]
    },
    {
     "name": "stdout",
     "output_type": "stream",
     "text": [
      "Performance Metrics for AMR-162 (Hourly): {'train_RMSE': np.float64(0.0), 'train_MAE': 0.0, 'test_RMSE': np.float64(0.0), 'test_MAE': 0.0}\n"
     ]
    },
    {
     "name": "stderr",
     "output_type": "stream",
     "text": [
      "Processing Meters:  29%|██▊       | 46/161 [35:46<2:11:48, 68.77s/it]"
     ]
    },
    {
     "name": "stdout",
     "output_type": "stream",
     "text": [
      "\n",
      "Best parameters for AMR-188 (Daily): {'subsample': 0.9, 'reg_lambda': 1.5, 'reg_alpha': 0.5, 'n_estimators': 500, 'max_depth': 5, 'learning_rate': 0.01, 'gamma': 0.1, 'colsample_bytree': 0.7}\n"
     ]
    },
    {
     "name": "stderr",
     "output_type": "stream",
     "text": [
      "Processing Meters:  29%|██▊       | 46/161 [35:49<2:11:48, 68.77s/it]"
     ]
    },
    {
     "name": "stdout",
     "output_type": "stream",
     "text": [
      "Performance Metrics for AMR-188 (Daily): {'train_RMSE': np.float64(0.0), 'train_MAE': 0.0, 'test_RMSE': np.float64(0.0), 'test_MAE': 0.0}\n"
     ]
    },
    {
     "name": "stderr",
     "output_type": "stream",
     "text": [
      "Processing Meters:  29%|██▊       | 46/161 [36:00<2:11:48, 68.77s/it]"
     ]
    },
    {
     "name": "stdout",
     "output_type": "stream",
     "text": [
      "\n",
      "Best parameters for AMR-188 (Hourly): {'subsample': 0.9, 'reg_lambda': 1.5, 'reg_alpha': 0.5, 'n_estimators': 500, 'max_depth': 5, 'learning_rate': 0.01, 'gamma': 0.1, 'colsample_bytree': 0.7}\n"
     ]
    },
    {
     "name": "stderr",
     "output_type": "stream",
     "text": [
      "Processing Meters:  29%|██▉       | 47/161 [36:04<1:47:49, 56.75s/it]"
     ]
    },
    {
     "name": "stdout",
     "output_type": "stream",
     "text": [
      "Performance Metrics for AMR-188 (Hourly): {'train_RMSE': np.float64(0.0), 'train_MAE': 0.0, 'test_RMSE': np.float64(0.0), 'test_MAE': 0.0}\n"
     ]
    },
    {
     "name": "stderr",
     "output_type": "stream",
     "text": [
      "Processing Meters:  29%|██▉       | 47/161 [36:13<1:47:49, 56.75s/it]"
     ]
    },
    {
     "name": "stdout",
     "output_type": "stream",
     "text": [
      "\n",
      "Best parameters for AMR-17 (Daily): {'subsample': 0.9, 'reg_lambda': 1.5, 'reg_alpha': 0.5, 'n_estimators': 500, 'max_depth': 5, 'learning_rate': 0.01, 'gamma': 0.1, 'colsample_bytree': 0.7}\n"
     ]
    },
    {
     "name": "stderr",
     "output_type": "stream",
     "text": [
      "Processing Meters:  29%|██▉       | 47/161 [36:15<1:47:49, 56.75s/it]"
     ]
    },
    {
     "name": "stdout",
     "output_type": "stream",
     "text": [
      "Performance Metrics for AMR-17 (Daily): {'train_RMSE': np.float64(0.0), 'train_MAE': 0.0, 'test_RMSE': np.float64(0.0), 'test_MAE': 0.0}\n"
     ]
    },
    {
     "name": "stderr",
     "output_type": "stream",
     "text": [
      "Processing Meters:  29%|██▉       | 47/161 [36:25<1:47:49, 56.75s/it]"
     ]
    },
    {
     "name": "stdout",
     "output_type": "stream",
     "text": [
      "\n",
      "Best parameters for AMR-17 (Hourly): {'subsample': 0.9, 'reg_lambda': 1.5, 'reg_alpha': 0.5, 'n_estimators': 500, 'max_depth': 5, 'learning_rate': 0.01, 'gamma': 0.1, 'colsample_bytree': 0.7}\n"
     ]
    },
    {
     "name": "stderr",
     "output_type": "stream",
     "text": [
      "Processing Meters:  30%|██▉       | 48/161 [36:28<1:28:50, 47.18s/it]"
     ]
    },
    {
     "name": "stdout",
     "output_type": "stream",
     "text": [
      "Performance Metrics for AMR-17 (Hourly): {'train_RMSE': np.float64(0.0), 'train_MAE': 0.0, 'test_RMSE': np.float64(0.0), 'test_MAE': 0.0}\n"
     ]
    },
    {
     "name": "stderr",
     "output_type": "stream",
     "text": [
      "Processing Meters:  30%|██▉       | 48/161 [36:38<1:28:50, 47.18s/it]"
     ]
    },
    {
     "name": "stdout",
     "output_type": "stream",
     "text": [
      "\n",
      "Best parameters for AMR-153 (Daily): {'subsample': 0.9, 'reg_lambda': 1.5, 'reg_alpha': 0.5, 'n_estimators': 500, 'max_depth': 5, 'learning_rate': 0.01, 'gamma': 0.1, 'colsample_bytree': 0.7}\n"
     ]
    },
    {
     "name": "stderr",
     "output_type": "stream",
     "text": [
      "Processing Meters:  30%|██▉       | 48/161 [36:40<1:28:50, 47.18s/it]"
     ]
    },
    {
     "name": "stdout",
     "output_type": "stream",
     "text": [
      "Performance Metrics for AMR-153 (Daily): {'train_RMSE': np.float64(0.0), 'train_MAE': 0.0, 'test_RMSE': np.float64(0.0), 'test_MAE': 0.0}\n"
     ]
    },
    {
     "name": "stderr",
     "output_type": "stream",
     "text": [
      "Processing Meters:  30%|██▉       | 48/161 [36:50<1:28:50, 47.18s/it]"
     ]
    },
    {
     "name": "stdout",
     "output_type": "stream",
     "text": [
      "\n",
      "Best parameters for AMR-153 (Hourly): {'subsample': 0.9, 'reg_lambda': 1.5, 'reg_alpha': 0.5, 'n_estimators': 500, 'max_depth': 5, 'learning_rate': 0.01, 'gamma': 0.1, 'colsample_bytree': 0.7}\n"
     ]
    },
    {
     "name": "stderr",
     "output_type": "stream",
     "text": [
      "Processing Meters:  30%|███       | 49/161 [36:53<1:15:35, 40.49s/it]"
     ]
    },
    {
     "name": "stdout",
     "output_type": "stream",
     "text": [
      "Performance Metrics for AMR-153 (Hourly): {'train_RMSE': np.float64(0.0), 'train_MAE': 0.0, 'test_RMSE': np.float64(0.0), 'test_MAE': 0.0}\n"
     ]
    },
    {
     "name": "stderr",
     "output_type": "stream",
     "text": [
      "Processing Meters:  30%|███       | 49/161 [37:03<1:15:35, 40.49s/it]"
     ]
    },
    {
     "name": "stdout",
     "output_type": "stream",
     "text": [
      "\n",
      "Best parameters for AMR-181 (Daily): {'subsample': 0.9, 'reg_lambda': 1.5, 'reg_alpha': 0.5, 'n_estimators': 500, 'max_depth': 5, 'learning_rate': 0.01, 'gamma': 0.1, 'colsample_bytree': 0.7}\n"
     ]
    },
    {
     "name": "stderr",
     "output_type": "stream",
     "text": [
      "Processing Meters:  30%|███       | 49/161 [37:05<1:15:35, 40.49s/it]"
     ]
    },
    {
     "name": "stdout",
     "output_type": "stream",
     "text": [
      "Performance Metrics for AMR-181 (Daily): {'train_RMSE': np.float64(0.0), 'train_MAE': 0.0, 'test_RMSE': np.float64(0.0), 'test_MAE': 0.0}\n"
     ]
    },
    {
     "name": "stderr",
     "output_type": "stream",
     "text": [
      "Processing Meters:  30%|███       | 49/161 [37:16<1:15:35, 40.49s/it]"
     ]
    },
    {
     "name": "stdout",
     "output_type": "stream",
     "text": [
      "\n",
      "Best parameters for AMR-181 (Hourly): {'subsample': 0.9, 'reg_lambda': 1.5, 'reg_alpha': 0.5, 'n_estimators': 500, 'max_depth': 5, 'learning_rate': 0.01, 'gamma': 0.1, 'colsample_bytree': 0.7}\n"
     ]
    },
    {
     "name": "stderr",
     "output_type": "stream",
     "text": [
      "Processing Meters:  31%|███       | 50/161 [37:19<1:06:34, 35.99s/it]"
     ]
    },
    {
     "name": "stdout",
     "output_type": "stream",
     "text": [
      "Performance Metrics for AMR-181 (Hourly): {'train_RMSE': np.float64(0.0), 'train_MAE': 0.0, 'test_RMSE': np.float64(0.0), 'test_MAE': 0.0}\n"
     ]
    },
    {
     "name": "stderr",
     "output_type": "stream",
     "text": [
      "Processing Meters:  31%|███       | 50/161 [37:30<1:06:34, 35.99s/it]"
     ]
    },
    {
     "name": "stdout",
     "output_type": "stream",
     "text": [
      "\n",
      "Best parameters for AMR-180 (Daily): {'subsample': 0.9, 'reg_lambda': 1.5, 'reg_alpha': 0.5, 'n_estimators': 500, 'max_depth': 5, 'learning_rate': 0.01, 'gamma': 0.1, 'colsample_bytree': 0.7}\n"
     ]
    },
    {
     "name": "stderr",
     "output_type": "stream",
     "text": [
      "Processing Meters:  31%|███       | 50/161 [37:32<1:06:34, 35.99s/it]"
     ]
    },
    {
     "name": "stdout",
     "output_type": "stream",
     "text": [
      "Performance Metrics for AMR-180 (Daily): {'train_RMSE': np.float64(0.0), 'train_MAE': 0.0, 'test_RMSE': np.float64(0.0), 'test_MAE': 0.0}\n"
     ]
    },
    {
     "name": "stderr",
     "output_type": "stream",
     "text": [
      "Processing Meters:  31%|███       | 50/161 [37:43<1:06:34, 35.99s/it]"
     ]
    },
    {
     "name": "stdout",
     "output_type": "stream",
     "text": [
      "\n",
      "Best parameters for AMR-180 (Hourly): {'subsample': 0.9, 'reg_lambda': 1.5, 'reg_alpha': 0.5, 'n_estimators': 500, 'max_depth': 5, 'learning_rate': 0.01, 'gamma': 0.1, 'colsample_bytree': 0.7}\n"
     ]
    },
    {
     "name": "stderr",
     "output_type": "stream",
     "text": [
      "Processing Meters:  32%|███▏      | 51/161 [37:46<1:01:14, 33.41s/it]"
     ]
    },
    {
     "name": "stdout",
     "output_type": "stream",
     "text": [
      "Performance Metrics for AMR-180 (Hourly): {'train_RMSE': np.float64(0.0), 'train_MAE': 0.0, 'test_RMSE': np.float64(0.0), 'test_MAE': 0.0}\n"
     ]
    },
    {
     "name": "stderr",
     "output_type": "stream",
     "text": [
      "Processing Meters:  32%|███▏      | 51/161 [37:56<1:01:14, 33.41s/it]"
     ]
    },
    {
     "name": "stdout",
     "output_type": "stream",
     "text": [
      "\n",
      "Best parameters for AMR-179 (Daily): {'subsample': 0.9, 'reg_lambda': 1.5, 'reg_alpha': 0.5, 'n_estimators': 500, 'max_depth': 5, 'learning_rate': 0.01, 'gamma': 0.1, 'colsample_bytree': 0.7}\n"
     ]
    },
    {
     "name": "stderr",
     "output_type": "stream",
     "text": [
      "Processing Meters:  32%|███▏      | 51/161 [37:58<1:01:14, 33.41s/it]"
     ]
    },
    {
     "name": "stdout",
     "output_type": "stream",
     "text": [
      "Performance Metrics for AMR-179 (Daily): {'train_RMSE': np.float64(0.0), 'train_MAE': 0.0, 'test_RMSE': np.float64(0.0), 'test_MAE': 0.0}\n"
     ]
    },
    {
     "name": "stderr",
     "output_type": "stream",
     "text": [
      "Processing Meters:  32%|███▏      | 51/161 [38:09<1:01:14, 33.41s/it]"
     ]
    },
    {
     "name": "stdout",
     "output_type": "stream",
     "text": [
      "\n",
      "Best parameters for AMR-179 (Hourly): {'subsample': 0.9, 'reg_lambda': 1.5, 'reg_alpha': 0.5, 'n_estimators': 500, 'max_depth': 5, 'learning_rate': 0.01, 'gamma': 0.1, 'colsample_bytree': 0.7}\n"
     ]
    },
    {
     "name": "stderr",
     "output_type": "stream",
     "text": [
      "Processing Meters:  32%|███▏      | 52/161 [38:12<56:36, 31.16s/it]  "
     ]
    },
    {
     "name": "stdout",
     "output_type": "stream",
     "text": [
      "Performance Metrics for AMR-179 (Hourly): {'train_RMSE': np.float64(0.0), 'train_MAE': 0.0, 'test_RMSE': np.float64(0.0), 'test_MAE': 0.0}\n"
     ]
    },
    {
     "name": "stderr",
     "output_type": "stream",
     "text": [
      "Processing Meters:  32%|███▏      | 52/161 [38:22<56:36, 31.16s/it]"
     ]
    },
    {
     "name": "stdout",
     "output_type": "stream",
     "text": [
      "\n",
      "Best parameters for AMR-189 (Daily): {'subsample': 0.9, 'reg_lambda': 1.5, 'reg_alpha': 0.5, 'n_estimators': 500, 'max_depth': 5, 'learning_rate': 0.01, 'gamma': 0.1, 'colsample_bytree': 0.7}\n"
     ]
    },
    {
     "name": "stderr",
     "output_type": "stream",
     "text": [
      "Processing Meters:  32%|███▏      | 52/161 [38:24<56:36, 31.16s/it]"
     ]
    },
    {
     "name": "stdout",
     "output_type": "stream",
     "text": [
      "Performance Metrics for AMR-189 (Daily): {'train_RMSE': np.float64(0.0), 'train_MAE': 0.0, 'test_RMSE': np.float64(0.0), 'test_MAE': 0.0}\n"
     ]
    },
    {
     "name": "stderr",
     "output_type": "stream",
     "text": [
      "Processing Meters:  32%|███▏      | 52/161 [38:35<56:36, 31.16s/it]"
     ]
    },
    {
     "name": "stdout",
     "output_type": "stream",
     "text": [
      "\n",
      "Best parameters for AMR-189 (Hourly): {'subsample': 0.9, 'reg_lambda': 1.5, 'reg_alpha': 0.5, 'n_estimators': 500, 'max_depth': 5, 'learning_rate': 0.01, 'gamma': 0.1, 'colsample_bytree': 0.7}\n"
     ]
    },
    {
     "name": "stderr",
     "output_type": "stream",
     "text": [
      "Processing Meters:  33%|███▎      | 53/161 [38:38<53:30, 29.73s/it]"
     ]
    },
    {
     "name": "stdout",
     "output_type": "stream",
     "text": [
      "Performance Metrics for AMR-189 (Hourly): {'train_RMSE': np.float64(0.0), 'train_MAE': 0.0, 'test_RMSE': np.float64(0.0), 'test_MAE': 0.0}\n"
     ]
    },
    {
     "name": "stderr",
     "output_type": "stream",
     "text": [
      "Processing Meters:  33%|███▎      | 53/161 [38:49<53:30, 29.73s/it]"
     ]
    },
    {
     "name": "stdout",
     "output_type": "stream",
     "text": [
      "\n",
      "Best parameters for AMR-176 (Daily): {'subsample': 0.9, 'reg_lambda': 1.5, 'reg_alpha': 0.5, 'n_estimators': 500, 'max_depth': 5, 'learning_rate': 0.01, 'gamma': 0.1, 'colsample_bytree': 0.7}\n"
     ]
    },
    {
     "name": "stderr",
     "output_type": "stream",
     "text": [
      "Processing Meters:  33%|███▎      | 53/161 [38:50<53:30, 29.73s/it]"
     ]
    },
    {
     "name": "stdout",
     "output_type": "stream",
     "text": [
      "Performance Metrics for AMR-176 (Daily): {'train_RMSE': np.float64(0.0), 'train_MAE': 0.0, 'test_RMSE': np.float64(0.0), 'test_MAE': 0.0}\n"
     ]
    },
    {
     "name": "stderr",
     "output_type": "stream",
     "text": [
      "Processing Meters:  33%|███▎      | 53/161 [39:01<53:30, 29.73s/it]"
     ]
    },
    {
     "name": "stdout",
     "output_type": "stream",
     "text": [
      "\n",
      "Best parameters for AMR-176 (Hourly): {'subsample': 0.9, 'reg_lambda': 1.5, 'reg_alpha': 0.5, 'n_estimators': 500, 'max_depth': 5, 'learning_rate': 0.01, 'gamma': 0.1, 'colsample_bytree': 0.7}\n"
     ]
    },
    {
     "name": "stderr",
     "output_type": "stream",
     "text": [
      "Processing Meters:  34%|███▎      | 54/161 [39:05<51:07, 28.66s/it]"
     ]
    },
    {
     "name": "stdout",
     "output_type": "stream",
     "text": [
      "Performance Metrics for AMR-176 (Hourly): {'train_RMSE': np.float64(0.0), 'train_MAE': 0.0, 'test_RMSE': np.float64(0.0), 'test_MAE': 0.0}\n"
     ]
    },
    {
     "name": "stderr",
     "output_type": "stream",
     "text": [
      "Processing Meters:  34%|███▎      | 54/161 [39:14<51:07, 28.66s/it]"
     ]
    },
    {
     "name": "stdout",
     "output_type": "stream",
     "text": [
      "\n",
      "Best parameters for AMR-201 (Daily): {'subsample': 0.9, 'reg_lambda': 1.5, 'reg_alpha': 0.5, 'n_estimators': 500, 'max_depth': 5, 'learning_rate': 0.01, 'gamma': 0.1, 'colsample_bytree': 0.7}\n"
     ]
    },
    {
     "name": "stderr",
     "output_type": "stream",
     "text": [
      "Processing Meters:  34%|███▎      | 54/161 [39:16<51:07, 28.66s/it]"
     ]
    },
    {
     "name": "stdout",
     "output_type": "stream",
     "text": [
      "Performance Metrics for AMR-201 (Daily): {'train_RMSE': np.float64(0.0), 'train_MAE': 0.0, 'test_RMSE': np.float64(0.0), 'test_MAE': 0.0}\n"
     ]
    },
    {
     "name": "stderr",
     "output_type": "stream",
     "text": [
      "Processing Meters:  34%|███▎      | 54/161 [39:26<51:07, 28.66s/it]"
     ]
    },
    {
     "name": "stdout",
     "output_type": "stream",
     "text": [
      "\n",
      "Best parameters for AMR-201 (Hourly): {'subsample': 0.9, 'reg_lambda': 1.5, 'reg_alpha': 0.5, 'n_estimators': 500, 'max_depth': 5, 'learning_rate': 0.01, 'gamma': 0.1, 'colsample_bytree': 0.7}\n"
     ]
    },
    {
     "name": "stderr",
     "output_type": "stream",
     "text": [
      "Processing Meters:  34%|███▍      | 55/161 [39:30<48:50, 27.65s/it]"
     ]
    },
    {
     "name": "stdout",
     "output_type": "stream",
     "text": [
      "Performance Metrics for AMR-201 (Hourly): {'train_RMSE': np.float64(0.0), 'train_MAE': 0.0, 'test_RMSE': np.float64(0.0), 'test_MAE': 0.0}\n"
     ]
    },
    {
     "name": "stderr",
     "output_type": "stream",
     "text": [
      "Processing Meters:  34%|███▍      | 55/161 [39:40<48:50, 27.65s/it]"
     ]
    },
    {
     "name": "stdout",
     "output_type": "stream",
     "text": [
      "\n",
      "Best parameters for AMR-207 (Daily): {'subsample': 0.9, 'reg_lambda': 1.5, 'reg_alpha': 0.5, 'n_estimators': 500, 'max_depth': 5, 'learning_rate': 0.01, 'gamma': 0.1, 'colsample_bytree': 0.7}\n"
     ]
    },
    {
     "name": "stderr",
     "output_type": "stream",
     "text": [
      "Processing Meters:  34%|███▍      | 55/161 [39:41<48:50, 27.65s/it]"
     ]
    },
    {
     "name": "stdout",
     "output_type": "stream",
     "text": [
      "Performance Metrics for AMR-207 (Daily): {'train_RMSE': np.float64(0.0), 'train_MAE': 0.0, 'test_RMSE': np.float64(0.0), 'test_MAE': 0.0}\n"
     ]
    },
    {
     "name": "stderr",
     "output_type": "stream",
     "text": [
      "Processing Meters:  34%|███▍      | 55/161 [39:52<48:50, 27.65s/it]"
     ]
    },
    {
     "name": "stdout",
     "output_type": "stream",
     "text": [
      "\n",
      "Best parameters for AMR-207 (Hourly): {'subsample': 0.9, 'reg_lambda': 1.5, 'reg_alpha': 0.5, 'n_estimators': 500, 'max_depth': 5, 'learning_rate': 0.01, 'gamma': 0.1, 'colsample_bytree': 0.7}\n"
     ]
    },
    {
     "name": "stderr",
     "output_type": "stream",
     "text": [
      "Processing Meters:  35%|███▍      | 56/161 [39:55<47:11, 26.96s/it]"
     ]
    },
    {
     "name": "stdout",
     "output_type": "stream",
     "text": [
      "Performance Metrics for AMR-207 (Hourly): {'train_RMSE': np.float64(0.0), 'train_MAE': 0.0, 'test_RMSE': np.float64(0.0), 'test_MAE': 0.0}\n"
     ]
    },
    {
     "name": "stderr",
     "output_type": "stream",
     "text": [
      "Processing Meters:  35%|███▍      | 56/161 [40:05<47:11, 26.96s/it]"
     ]
    },
    {
     "name": "stdout",
     "output_type": "stream",
     "text": [
      "\n",
      "Best parameters for AMR-203 (Daily): {'subsample': 0.9, 'reg_lambda': 1.5, 'reg_alpha': 0.5, 'n_estimators': 500, 'max_depth': 5, 'learning_rate': 0.01, 'gamma': 0.1, 'colsample_bytree': 0.7}\n"
     ]
    },
    {
     "name": "stderr",
     "output_type": "stream",
     "text": [
      "Processing Meters:  35%|███▍      | 56/161 [40:07<47:11, 26.96s/it]"
     ]
    },
    {
     "name": "stdout",
     "output_type": "stream",
     "text": [
      "Performance Metrics for AMR-203 (Daily): {'train_RMSE': np.float64(0.0), 'train_MAE': 0.0, 'test_RMSE': np.float64(0.0), 'test_MAE': 0.0}\n"
     ]
    },
    {
     "name": "stderr",
     "output_type": "stream",
     "text": [
      "Processing Meters:  35%|███▍      | 56/161 [40:17<47:11, 26.96s/it]"
     ]
    },
    {
     "name": "stdout",
     "output_type": "stream",
     "text": [
      "\n",
      "Best parameters for AMR-203 (Hourly): {'subsample': 0.9, 'reg_lambda': 1.5, 'reg_alpha': 0.5, 'n_estimators': 500, 'max_depth': 5, 'learning_rate': 0.01, 'gamma': 0.1, 'colsample_bytree': 0.7}\n"
     ]
    },
    {
     "name": "stderr",
     "output_type": "stream",
     "text": [
      "Processing Meters:  35%|███▌      | 57/161 [40:20<45:49, 26.44s/it]"
     ]
    },
    {
     "name": "stdout",
     "output_type": "stream",
     "text": [
      "Performance Metrics for AMR-203 (Hourly): {'train_RMSE': np.float64(0.0), 'train_MAE': 0.0, 'test_RMSE': np.float64(0.0), 'test_MAE': 0.0}\n"
     ]
    },
    {
     "name": "stderr",
     "output_type": "stream",
     "text": [
      "Processing Meters:  35%|███▌      | 57/161 [40:31<45:49, 26.44s/it]"
     ]
    },
    {
     "name": "stdout",
     "output_type": "stream",
     "text": [
      "\n",
      "Best parameters for AMR-198 (Daily): {'subsample': 0.9, 'reg_lambda': 1.5, 'reg_alpha': 0.5, 'n_estimators': 500, 'max_depth': 5, 'learning_rate': 0.01, 'gamma': 0.1, 'colsample_bytree': 0.7}\n"
     ]
    },
    {
     "name": "stderr",
     "output_type": "stream",
     "text": [
      "Processing Meters:  35%|███▌      | 57/161 [40:33<45:49, 26.44s/it]"
     ]
    },
    {
     "name": "stdout",
     "output_type": "stream",
     "text": [
      "Performance Metrics for AMR-198 (Daily): {'train_RMSE': np.float64(0.0), 'train_MAE': 0.0, 'test_RMSE': np.float64(0.0), 'test_MAE': 0.0}\n"
     ]
    },
    {
     "name": "stderr",
     "output_type": "stream",
     "text": [
      "Processing Meters:  35%|███▌      | 57/161 [40:44<45:49, 26.44s/it]"
     ]
    },
    {
     "name": "stdout",
     "output_type": "stream",
     "text": [
      "\n",
      "Best parameters for AMR-198 (Hourly): {'subsample': 0.9, 'reg_lambda': 1.5, 'reg_alpha': 0.5, 'n_estimators': 500, 'max_depth': 5, 'learning_rate': 0.01, 'gamma': 0.1, 'colsample_bytree': 0.7}\n"
     ]
    },
    {
     "name": "stderr",
     "output_type": "stream",
     "text": [
      "Processing Meters:  36%|███▌      | 58/161 [40:48<45:42, 26.63s/it]"
     ]
    },
    {
     "name": "stdout",
     "output_type": "stream",
     "text": [
      "Performance Metrics for AMR-198 (Hourly): {'train_RMSE': np.float64(0.0), 'train_MAE': 0.0, 'test_RMSE': np.float64(0.0), 'test_MAE': 0.0}\n"
     ]
    },
    {
     "name": "stderr",
     "output_type": "stream",
     "text": [
      "Processing Meters:  36%|███▌      | 58/161 [40:58<45:42, 26.63s/it]"
     ]
    },
    {
     "name": "stdout",
     "output_type": "stream",
     "text": [
      "\n",
      "Best parameters for AMR-20 (Daily): {'subsample': 0.9, 'reg_lambda': 1.5, 'reg_alpha': 0.5, 'n_estimators': 500, 'max_depth': 5, 'learning_rate': 0.01, 'gamma': 0.1, 'colsample_bytree': 0.7}\n"
     ]
    },
    {
     "name": "stderr",
     "output_type": "stream",
     "text": [
      "Processing Meters:  36%|███▌      | 58/161 [41:00<45:42, 26.63s/it]"
     ]
    },
    {
     "name": "stdout",
     "output_type": "stream",
     "text": [
      "Performance Metrics for AMR-20 (Daily): {'train_RMSE': np.float64(0.0), 'train_MAE': 0.0, 'test_RMSE': np.float64(0.0), 'test_MAE': 0.0}\n"
     ]
    },
    {
     "name": "stderr",
     "output_type": "stream",
     "text": [
      "Processing Meters:  36%|███▌      | 58/161 [41:13<45:42, 26.63s/it]"
     ]
    },
    {
     "name": "stdout",
     "output_type": "stream",
     "text": [
      "\n",
      "Best parameters for AMR-20 (Hourly): {'subsample': 0.9, 'reg_lambda': 1.5, 'reg_alpha': 0.5, 'n_estimators': 500, 'max_depth': 5, 'learning_rate': 0.01, 'gamma': 0.1, 'colsample_bytree': 0.7}\n"
     ]
    },
    {
     "name": "stderr",
     "output_type": "stream",
     "text": [
      "Processing Meters:  37%|███▋      | 59/161 [41:16<46:03, 27.10s/it]"
     ]
    },
    {
     "name": "stdout",
     "output_type": "stream",
     "text": [
      "Performance Metrics for AMR-20 (Hourly): {'train_RMSE': np.float64(0.0), 'train_MAE': 0.0, 'test_RMSE': np.float64(0.0), 'test_MAE': 0.0}\n"
     ]
    },
    {
     "name": "stderr",
     "output_type": "stream",
     "text": [
      "Processing Meters:  37%|███▋      | 59/161 [41:26<46:03, 27.10s/it]"
     ]
    },
    {
     "name": "stdout",
     "output_type": "stream",
     "text": [
      "\n",
      "Best parameters for AMR-197 (Daily): {'subsample': 0.9, 'reg_lambda': 1.5, 'reg_alpha': 0.5, 'n_estimators': 500, 'max_depth': 5, 'learning_rate': 0.01, 'gamma': 0.1, 'colsample_bytree': 0.7}\n"
     ]
    },
    {
     "name": "stderr",
     "output_type": "stream",
     "text": [
      "Processing Meters:  37%|███▋      | 59/161 [41:28<46:03, 27.10s/it]"
     ]
    },
    {
     "name": "stdout",
     "output_type": "stream",
     "text": [
      "Performance Metrics for AMR-197 (Daily): {'train_RMSE': np.float64(0.0), 'train_MAE': 0.0, 'test_RMSE': np.float64(0.0), 'test_MAE': 0.0}\n"
     ]
    },
    {
     "name": "stderr",
     "output_type": "stream",
     "text": [
      "Processing Meters:  37%|███▋      | 59/161 [41:40<46:03, 27.10s/it]"
     ]
    },
    {
     "name": "stdout",
     "output_type": "stream",
     "text": [
      "\n",
      "Best parameters for AMR-197 (Hourly): {'subsample': 0.9, 'reg_lambda': 1.5, 'reg_alpha': 0.5, 'n_estimators': 500, 'max_depth': 5, 'learning_rate': 0.01, 'gamma': 0.1, 'colsample_bytree': 0.7}\n"
     ]
    },
    {
     "name": "stderr",
     "output_type": "stream",
     "text": [
      "Processing Meters:  37%|███▋      | 60/161 [41:43<45:37, 27.11s/it]"
     ]
    },
    {
     "name": "stdout",
     "output_type": "stream",
     "text": [
      "Performance Metrics for AMR-197 (Hourly): {'train_RMSE': np.float64(0.0), 'train_MAE': 0.0, 'test_RMSE': np.float64(0.0), 'test_MAE': 0.0}\n"
     ]
    },
    {
     "name": "stderr",
     "output_type": "stream",
     "text": [
      "Processing Meters:  37%|███▋      | 60/161 [41:52<45:37, 27.11s/it]"
     ]
    },
    {
     "name": "stdout",
     "output_type": "stream",
     "text": [
      "\n",
      "Best parameters for AMR-193 (Daily): {'subsample': 0.9, 'reg_lambda': 1.5, 'reg_alpha': 0.5, 'n_estimators': 500, 'max_depth': 5, 'learning_rate': 0.01, 'gamma': 0.1, 'colsample_bytree': 0.7}\n"
     ]
    },
    {
     "name": "stderr",
     "output_type": "stream",
     "text": [
      "Processing Meters:  37%|███▋      | 60/161 [41:54<45:37, 27.11s/it]"
     ]
    },
    {
     "name": "stdout",
     "output_type": "stream",
     "text": [
      "Performance Metrics for AMR-193 (Daily): {'train_RMSE': np.float64(0.0), 'train_MAE': 0.0, 'test_RMSE': np.float64(0.0), 'test_MAE': 0.0}\n"
     ]
    },
    {
     "name": "stderr",
     "output_type": "stream",
     "text": [
      "Processing Meters:  37%|███▋      | 60/161 [42:04<45:37, 27.11s/it]"
     ]
    },
    {
     "name": "stdout",
     "output_type": "stream",
     "text": [
      "\n",
      "Best parameters for AMR-193 (Hourly): {'subsample': 0.9, 'reg_lambda': 1.5, 'reg_alpha': 0.5, 'n_estimators': 500, 'max_depth': 5, 'learning_rate': 0.01, 'gamma': 0.1, 'colsample_bytree': 0.7}\n"
     ]
    },
    {
     "name": "stderr",
     "output_type": "stream",
     "text": [
      "Processing Meters:  38%|███▊      | 61/161 [42:07<43:46, 26.26s/it]"
     ]
    },
    {
     "name": "stdout",
     "output_type": "stream",
     "text": [
      "Performance Metrics for AMR-193 (Hourly): {'train_RMSE': np.float64(0.0), 'train_MAE': 0.0, 'test_RMSE': np.float64(0.0), 'test_MAE': 0.0}\n"
     ]
    },
    {
     "name": "stderr",
     "output_type": "stream",
     "text": [
      "Processing Meters:  38%|███▊      | 61/161 [42:21<43:46, 26.26s/it]"
     ]
    },
    {
     "name": "stdout",
     "output_type": "stream",
     "text": [
      "\n",
      "Best parameters for AMR-192 (Daily): {'subsample': 0.9, 'reg_lambda': 1.5, 'reg_alpha': 0.5, 'n_estimators': 500, 'max_depth': 5, 'learning_rate': 0.01, 'gamma': 0.1, 'colsample_bytree': 0.7}\n"
     ]
    },
    {
     "name": "stderr",
     "output_type": "stream",
     "text": [
      "Processing Meters:  38%|███▊      | 61/161 [42:23<43:46, 26.26s/it]"
     ]
    },
    {
     "name": "stdout",
     "output_type": "stream",
     "text": [
      "Performance Metrics for AMR-192 (Daily): {'train_RMSE': np.float64(0.0), 'train_MAE': 0.0, 'test_RMSE': np.float64(0.0), 'test_MAE': 0.0}\n"
     ]
    },
    {
     "name": "stderr",
     "output_type": "stream",
     "text": [
      "Processing Meters:  38%|███▊      | 61/161 [42:35<43:46, 26.26s/it]"
     ]
    },
    {
     "name": "stdout",
     "output_type": "stream",
     "text": [
      "\n",
      "Best parameters for AMR-192 (Hourly): {'subsample': 0.9, 'reg_lambda': 1.5, 'reg_alpha': 0.5, 'n_estimators': 500, 'max_depth': 5, 'learning_rate': 0.01, 'gamma': 0.1, 'colsample_bytree': 0.7}\n"
     ]
    },
    {
     "name": "stderr",
     "output_type": "stream",
     "text": [
      "Processing Meters:  39%|███▊      | 62/161 [42:38<45:44, 27.72s/it]"
     ]
    },
    {
     "name": "stdout",
     "output_type": "stream",
     "text": [
      "Performance Metrics for AMR-192 (Hourly): {'train_RMSE': np.float64(0.0), 'train_MAE': 0.0, 'test_RMSE': np.float64(0.0), 'test_MAE': 0.0}\n"
     ]
    },
    {
     "name": "stderr",
     "output_type": "stream",
     "text": [
      "Processing Meters:  39%|███▊      | 62/161 [42:48<45:44, 27.72s/it]"
     ]
    },
    {
     "name": "stdout",
     "output_type": "stream",
     "text": [
      "\n",
      "Best parameters for AMR-191 (Daily): {'subsample': 0.9, 'reg_lambda': 1.5, 'reg_alpha': 0.5, 'n_estimators': 500, 'max_depth': 5, 'learning_rate': 0.01, 'gamma': 0.1, 'colsample_bytree': 0.7}\n"
     ]
    },
    {
     "name": "stderr",
     "output_type": "stream",
     "text": [
      "Processing Meters:  39%|███▊      | 62/161 [42:50<45:44, 27.72s/it]"
     ]
    },
    {
     "name": "stdout",
     "output_type": "stream",
     "text": [
      "Performance Metrics for AMR-191 (Daily): {'train_RMSE': np.float64(0.0), 'train_MAE': 0.0, 'test_RMSE': np.float64(0.0), 'test_MAE': 0.0}\n"
     ]
    },
    {
     "name": "stderr",
     "output_type": "stream",
     "text": [
      "Processing Meters:  39%|███▊      | 62/161 [43:01<45:44, 27.72s/it]"
     ]
    },
    {
     "name": "stdout",
     "output_type": "stream",
     "text": [
      "\n",
      "Best parameters for AMR-191 (Hourly): {'subsample': 0.9, 'reg_lambda': 1.5, 'reg_alpha': 0.5, 'n_estimators': 500, 'max_depth': 5, 'learning_rate': 0.01, 'gamma': 0.1, 'colsample_bytree': 0.7}\n"
     ]
    },
    {
     "name": "stderr",
     "output_type": "stream",
     "text": [
      "Processing Meters:  39%|███▉      | 63/161 [43:04<44:28, 27.23s/it]"
     ]
    },
    {
     "name": "stdout",
     "output_type": "stream",
     "text": [
      "Performance Metrics for AMR-191 (Hourly): {'train_RMSE': np.float64(0.0), 'train_MAE': 0.0, 'test_RMSE': np.float64(0.0), 'test_MAE': 0.0}\n"
     ]
    },
    {
     "name": "stderr",
     "output_type": "stream",
     "text": [
      "Processing Meters:  39%|███▉      | 63/161 [43:14<44:28, 27.23s/it]"
     ]
    },
    {
     "name": "stdout",
     "output_type": "stream",
     "text": [
      "\n",
      "Best parameters for AMR-190 (Daily): {'subsample': 0.9, 'reg_lambda': 1.5, 'reg_alpha': 0.5, 'n_estimators': 500, 'max_depth': 5, 'learning_rate': 0.01, 'gamma': 0.1, 'colsample_bytree': 0.7}\n"
     ]
    },
    {
     "name": "stderr",
     "output_type": "stream",
     "text": [
      "Processing Meters:  39%|███▉      | 63/161 [43:16<44:28, 27.23s/it]"
     ]
    },
    {
     "name": "stdout",
     "output_type": "stream",
     "text": [
      "Performance Metrics for AMR-190 (Daily): {'train_RMSE': np.float64(0.0), 'train_MAE': 0.0, 'test_RMSE': np.float64(0.0), 'test_MAE': 0.0}\n"
     ]
    },
    {
     "name": "stderr",
     "output_type": "stream",
     "text": [
      "Processing Meters:  39%|███▉      | 63/161 [43:27<44:28, 27.23s/it]"
     ]
    },
    {
     "name": "stdout",
     "output_type": "stream",
     "text": [
      "\n",
      "Best parameters for AMR-190 (Hourly): {'subsample': 0.9, 'reg_lambda': 1.5, 'reg_alpha': 0.5, 'n_estimators': 500, 'max_depth': 5, 'learning_rate': 0.01, 'gamma': 0.1, 'colsample_bytree': 0.7}\n"
     ]
    },
    {
     "name": "stderr",
     "output_type": "stream",
     "text": [
      "Processing Meters:  40%|███▉      | 64/161 [43:30<43:15, 26.76s/it]"
     ]
    },
    {
     "name": "stdout",
     "output_type": "stream",
     "text": [
      "Performance Metrics for AMR-190 (Hourly): {'train_RMSE': np.float64(0.0), 'train_MAE': 0.0, 'test_RMSE': np.float64(0.0), 'test_MAE': 0.0}\n"
     ]
    },
    {
     "name": "stderr",
     "output_type": "stream",
     "text": [
      "Processing Meters:  40%|███▉      | 64/161 [43:40<43:15, 26.76s/it]"
     ]
    },
    {
     "name": "stdout",
     "output_type": "stream",
     "text": [
      "\n",
      "Best parameters for AMR-167 (Daily): {'subsample': 0.9, 'reg_lambda': 1.5, 'reg_alpha': 0.5, 'n_estimators': 500, 'max_depth': 5, 'learning_rate': 0.01, 'gamma': 0.1, 'colsample_bytree': 0.7}\n"
     ]
    },
    {
     "name": "stderr",
     "output_type": "stream",
     "text": [
      "Processing Meters:  40%|███▉      | 64/161 [43:42<43:15, 26.76s/it]"
     ]
    },
    {
     "name": "stdout",
     "output_type": "stream",
     "text": [
      "Performance Metrics for AMR-167 (Daily): {'train_RMSE': np.float64(0.0), 'train_MAE': 0.0, 'test_RMSE': np.float64(0.0), 'test_MAE': 0.0}\n"
     ]
    },
    {
     "name": "stderr",
     "output_type": "stream",
     "text": [
      "Processing Meters:  40%|███▉      | 64/161 [43:52<43:15, 26.76s/it]"
     ]
    },
    {
     "name": "stdout",
     "output_type": "stream",
     "text": [
      "\n",
      "Best parameters for AMR-167 (Hourly): {'subsample': 0.9, 'reg_lambda': 1.5, 'reg_alpha': 0.5, 'n_estimators': 500, 'max_depth': 5, 'learning_rate': 0.01, 'gamma': 0.1, 'colsample_bytree': 0.7}\n"
     ]
    },
    {
     "name": "stderr",
     "output_type": "stream",
     "text": [
      "Processing Meters:  40%|████      | 65/161 [43:56<42:15, 26.41s/it]"
     ]
    },
    {
     "name": "stdout",
     "output_type": "stream",
     "text": [
      "Performance Metrics for AMR-167 (Hourly): {'train_RMSE': np.float64(0.0), 'train_MAE': 0.0, 'test_RMSE': np.float64(0.0), 'test_MAE': 0.0}\n"
     ]
    },
    {
     "name": "stderr",
     "output_type": "stream",
     "text": [
      "Processing Meters:  40%|████      | 65/161 [44:06<42:15, 26.41s/it]"
     ]
    },
    {
     "name": "stdout",
     "output_type": "stream",
     "text": [
      "\n",
      "Best parameters for AMR-234a (Daily): {'subsample': 0.9, 'reg_lambda': 1.5, 'reg_alpha': 0.5, 'n_estimators': 500, 'max_depth': 5, 'learning_rate': 0.01, 'gamma': 0.1, 'colsample_bytree': 0.7}\n"
     ]
    },
    {
     "name": "stderr",
     "output_type": "stream",
     "text": [
      "Processing Meters:  40%|████      | 65/161 [44:07<42:15, 26.41s/it]"
     ]
    },
    {
     "name": "stdout",
     "output_type": "stream",
     "text": [
      "Performance Metrics for AMR-234a (Daily): {'train_RMSE': np.float64(0.0), 'train_MAE': 0.0, 'test_RMSE': np.float64(0.0), 'test_MAE': 0.0}\n"
     ]
    },
    {
     "name": "stderr",
     "output_type": "stream",
     "text": [
      "Processing Meters:  40%|████      | 65/161 [44:21<42:15, 26.41s/it]"
     ]
    },
    {
     "name": "stdout",
     "output_type": "stream",
     "text": [
      "\n",
      "Best parameters for AMR-234a (Hourly): {'subsample': 0.9, 'reg_lambda': 1.5, 'reg_alpha': 0.5, 'n_estimators': 500, 'max_depth': 5, 'learning_rate': 0.01, 'gamma': 0.1, 'colsample_bytree': 0.7}\n"
     ]
    },
    {
     "name": "stderr",
     "output_type": "stream",
     "text": [
      "Processing Meters:  41%|████      | 66/161 [44:24<42:52, 27.08s/it]"
     ]
    },
    {
     "name": "stdout",
     "output_type": "stream",
     "text": [
      "Performance Metrics for AMR-234a (Hourly): {'train_RMSE': np.float64(0.0), 'train_MAE': 0.0, 'test_RMSE': np.float64(0.0), 'test_MAE': 0.0}\n"
     ]
    },
    {
     "name": "stderr",
     "output_type": "stream",
     "text": [
      "Processing Meters:  41%|████      | 66/161 [44:35<42:52, 27.08s/it]"
     ]
    },
    {
     "name": "stdout",
     "output_type": "stream",
     "text": [
      "\n",
      "Best parameters for AMR-23 (Daily): {'subsample': 0.9, 'reg_lambda': 1.5, 'reg_alpha': 0.5, 'n_estimators': 500, 'max_depth': 5, 'learning_rate': 0.01, 'gamma': 0.1, 'colsample_bytree': 0.7}\n"
     ]
    },
    {
     "name": "stderr",
     "output_type": "stream",
     "text": [
      "Processing Meters:  41%|████      | 66/161 [44:37<42:52, 27.08s/it]"
     ]
    },
    {
     "name": "stdout",
     "output_type": "stream",
     "text": [
      "Performance Metrics for AMR-23 (Daily): {'train_RMSE': np.float64(0.0), 'train_MAE': 0.0, 'test_RMSE': np.float64(0.0), 'test_MAE': 0.0}\n"
     ]
    },
    {
     "name": "stderr",
     "output_type": "stream",
     "text": [
      "Processing Meters:  41%|████      | 66/161 [44:47<42:52, 27.08s/it]"
     ]
    },
    {
     "name": "stdout",
     "output_type": "stream",
     "text": [
      "\n",
      "Best parameters for AMR-23 (Hourly): {'subsample': 0.9, 'reg_lambda': 1.5, 'reg_alpha': 0.5, 'n_estimators': 500, 'max_depth': 5, 'learning_rate': 0.01, 'gamma': 0.1, 'colsample_bytree': 0.7}\n"
     ]
    },
    {
     "name": "stderr",
     "output_type": "stream",
     "text": [
      "Processing Meters:  42%|████▏     | 67/161 [44:51<42:27, 27.10s/it]"
     ]
    },
    {
     "name": "stdout",
     "output_type": "stream",
     "text": [
      "Performance Metrics for AMR-23 (Hourly): {'train_RMSE': np.float64(0.0), 'train_MAE': 0.0, 'test_RMSE': np.float64(0.0), 'test_MAE': 0.0}\n"
     ]
    },
    {
     "name": "stderr",
     "output_type": "stream",
     "text": [
      "Processing Meters:  42%|████▏     | 67/161 [45:02<42:27, 27.10s/it]"
     ]
    },
    {
     "name": "stdout",
     "output_type": "stream",
     "text": [
      "\n",
      "Best parameters for AMR-232 (Daily): {'subsample': 0.9, 'reg_lambda': 1.5, 'reg_alpha': 0.5, 'n_estimators': 500, 'max_depth': 5, 'learning_rate': 0.01, 'gamma': 0.1, 'colsample_bytree': 0.7}\n"
     ]
    },
    {
     "name": "stderr",
     "output_type": "stream",
     "text": [
      "Processing Meters:  42%|████▏     | 67/161 [45:04<42:27, 27.10s/it]"
     ]
    },
    {
     "name": "stdout",
     "output_type": "stream",
     "text": [
      "Performance Metrics for AMR-232 (Daily): {'train_RMSE': np.float64(0.0), 'train_MAE': 0.0, 'test_RMSE': np.float64(0.0), 'test_MAE': 0.0}\n"
     ]
    },
    {
     "name": "stderr",
     "output_type": "stream",
     "text": [
      "Processing Meters:  42%|████▏     | 67/161 [45:15<42:27, 27.10s/it]"
     ]
    },
    {
     "name": "stdout",
     "output_type": "stream",
     "text": [
      "\n",
      "Best parameters for AMR-232 (Hourly): {'subsample': 0.9, 'reg_lambda': 1.5, 'reg_alpha': 0.5, 'n_estimators': 500, 'max_depth': 5, 'learning_rate': 0.01, 'gamma': 0.1, 'colsample_bytree': 0.7}\n"
     ]
    },
    {
     "name": "stderr",
     "output_type": "stream",
     "text": [
      "Processing Meters:  42%|████▏     | 68/161 [45:18<41:56, 27.06s/it]"
     ]
    },
    {
     "name": "stdout",
     "output_type": "stream",
     "text": [
      "Performance Metrics for AMR-232 (Hourly): {'train_RMSE': np.float64(0.0), 'train_MAE': 0.0, 'test_RMSE': np.float64(0.0), 'test_MAE': 0.0}\n"
     ]
    },
    {
     "name": "stderr",
     "output_type": "stream",
     "text": [
      "Processing Meters:  42%|████▏     | 68/161 [45:28<41:56, 27.06s/it]"
     ]
    },
    {
     "name": "stdout",
     "output_type": "stream",
     "text": [
      "\n",
      "Best parameters for AMR-222 (Daily): {'subsample': 0.9, 'reg_lambda': 1.5, 'reg_alpha': 0.5, 'n_estimators': 500, 'max_depth': 5, 'learning_rate': 0.01, 'gamma': 0.1, 'colsample_bytree': 0.7}\n"
     ]
    },
    {
     "name": "stderr",
     "output_type": "stream",
     "text": [
      "Processing Meters:  42%|████▏     | 68/161 [45:30<41:56, 27.06s/it]"
     ]
    },
    {
     "name": "stdout",
     "output_type": "stream",
     "text": [
      "Performance Metrics for AMR-222 (Daily): {'train_RMSE': np.float64(0.0), 'train_MAE': 0.0, 'test_RMSE': np.float64(0.0), 'test_MAE': 0.0}\n"
     ]
    },
    {
     "name": "stderr",
     "output_type": "stream",
     "text": [
      "Processing Meters:  42%|████▏     | 68/161 [45:41<41:56, 27.06s/it]"
     ]
    },
    {
     "name": "stdout",
     "output_type": "stream",
     "text": [
      "\n",
      "Best parameters for AMR-222 (Hourly): {'subsample': 0.9, 'reg_lambda': 1.5, 'reg_alpha': 0.5, 'n_estimators': 500, 'max_depth': 5, 'learning_rate': 0.01, 'gamma': 0.1, 'colsample_bytree': 0.7}\n"
     ]
    },
    {
     "name": "stderr",
     "output_type": "stream",
     "text": [
      "Processing Meters:  43%|████▎     | 69/161 [45:44<40:54, 26.68s/it]"
     ]
    },
    {
     "name": "stdout",
     "output_type": "stream",
     "text": [
      "Performance Metrics for AMR-222 (Hourly): {'train_RMSE': np.float64(0.0), 'train_MAE': 0.0, 'test_RMSE': np.float64(0.0), 'test_MAE': 0.0}\n"
     ]
    },
    {
     "name": "stderr",
     "output_type": "stream",
     "text": [
      "Processing Meters:  43%|████▎     | 69/161 [45:54<40:54, 26.68s/it]"
     ]
    },
    {
     "name": "stdout",
     "output_type": "stream",
     "text": [
      "\n",
      "Best parameters for AMR-226 (Daily): {'subsample': 0.9, 'reg_lambda': 1.5, 'reg_alpha': 0.5, 'n_estimators': 500, 'max_depth': 5, 'learning_rate': 0.01, 'gamma': 0.1, 'colsample_bytree': 0.7}\n"
     ]
    },
    {
     "name": "stderr",
     "output_type": "stream",
     "text": [
      "Processing Meters:  43%|████▎     | 69/161 [45:56<40:54, 26.68s/it]"
     ]
    },
    {
     "name": "stdout",
     "output_type": "stream",
     "text": [
      "Performance Metrics for AMR-226 (Daily): {'train_RMSE': np.float64(0.0), 'train_MAE': 0.0, 'test_RMSE': np.float64(0.0), 'test_MAE': 0.0}\n"
     ]
    },
    {
     "name": "stderr",
     "output_type": "stream",
     "text": [
      "Processing Meters:  43%|████▎     | 69/161 [46:07<40:54, 26.68s/it]"
     ]
    },
    {
     "name": "stdout",
     "output_type": "stream",
     "text": [
      "\n",
      "Best parameters for AMR-226 (Hourly): {'subsample': 0.9, 'reg_lambda': 1.5, 'reg_alpha': 0.5, 'n_estimators': 500, 'max_depth': 5, 'learning_rate': 0.01, 'gamma': 0.1, 'colsample_bytree': 0.7}\n"
     ]
    },
    {
     "name": "stderr",
     "output_type": "stream",
     "text": [
      "Processing Meters:  43%|████▎     | 70/161 [46:11<40:20, 26.60s/it]"
     ]
    },
    {
     "name": "stdout",
     "output_type": "stream",
     "text": [
      "Performance Metrics for AMR-226 (Hourly): {'train_RMSE': np.float64(0.0), 'train_MAE': 0.0, 'test_RMSE': np.float64(0.0), 'test_MAE': 0.0}\n"
     ]
    },
    {
     "name": "stderr",
     "output_type": "stream",
     "text": [
      "Processing Meters:  43%|████▎     | 70/161 [46:21<40:20, 26.60s/it]"
     ]
    },
    {
     "name": "stdout",
     "output_type": "stream",
     "text": [
      "\n",
      "Best parameters for AMR-227 (Daily): {'subsample': 0.9, 'reg_lambda': 1.5, 'reg_alpha': 0.5, 'n_estimators': 500, 'max_depth': 5, 'learning_rate': 0.01, 'gamma': 0.1, 'colsample_bytree': 0.7}\n"
     ]
    },
    {
     "name": "stderr",
     "output_type": "stream",
     "text": [
      "Processing Meters:  43%|████▎     | 70/161 [46:22<40:20, 26.60s/it]"
     ]
    },
    {
     "name": "stdout",
     "output_type": "stream",
     "text": [
      "Performance Metrics for AMR-227 (Daily): {'train_RMSE': np.float64(0.0), 'train_MAE': 0.0, 'test_RMSE': np.float64(0.0), 'test_MAE': 0.0}\n"
     ]
    },
    {
     "name": "stderr",
     "output_type": "stream",
     "text": [
      "Processing Meters:  43%|████▎     | 70/161 [46:34<40:20, 26.60s/it]"
     ]
    },
    {
     "name": "stdout",
     "output_type": "stream",
     "text": [
      "\n",
      "Best parameters for AMR-227 (Hourly): {'subsample': 0.9, 'reg_lambda': 1.5, 'reg_alpha': 0.5, 'n_estimators': 500, 'max_depth': 5, 'learning_rate': 0.01, 'gamma': 0.1, 'colsample_bytree': 0.7}\n"
     ]
    },
    {
     "name": "stderr",
     "output_type": "stream",
     "text": [
      "Processing Meters:  44%|████▍     | 71/161 [46:40<40:57, 27.31s/it]"
     ]
    },
    {
     "name": "stdout",
     "output_type": "stream",
     "text": [
      "Performance Metrics for AMR-227 (Hourly): {'train_RMSE': np.float64(0.0), 'train_MAE': 0.0, 'test_RMSE': np.float64(0.0), 'test_MAE': 0.0}\n"
     ]
    },
    {
     "name": "stderr",
     "output_type": "stream",
     "text": [
      "Processing Meters:  44%|████▍     | 71/161 [46:53<40:57, 27.31s/it]"
     ]
    },
    {
     "name": "stdout",
     "output_type": "stream",
     "text": [
      "\n",
      "Best parameters for AMR-228 (Daily): {'subsample': 0.9, 'reg_lambda': 1.5, 'reg_alpha': 0.5, 'n_estimators': 500, 'max_depth': 5, 'learning_rate': 0.01, 'gamma': 0.1, 'colsample_bytree': 0.7}\n"
     ]
    },
    {
     "name": "stderr",
     "output_type": "stream",
     "text": [
      "Processing Meters:  44%|████▍     | 71/161 [46:55<40:57, 27.31s/it]"
     ]
    },
    {
     "name": "stdout",
     "output_type": "stream",
     "text": [
      "Performance Metrics for AMR-228 (Daily): {'train_RMSE': np.float64(0.0), 'train_MAE': 0.0, 'test_RMSE': np.float64(0.0), 'test_MAE': 0.0}\n"
     ]
    },
    {
     "name": "stderr",
     "output_type": "stream",
     "text": [
      "Processing Meters:  44%|████▍     | 71/161 [47:05<40:57, 27.31s/it]"
     ]
    },
    {
     "name": "stdout",
     "output_type": "stream",
     "text": [
      "\n",
      "Best parameters for AMR-228 (Hourly): {'subsample': 0.9, 'reg_lambda': 1.5, 'reg_alpha': 0.5, 'n_estimators': 500, 'max_depth': 5, 'learning_rate': 0.01, 'gamma': 0.1, 'colsample_bytree': 0.7}\n"
     ]
    },
    {
     "name": "stderr",
     "output_type": "stream",
     "text": [
      "Processing Meters:  45%|████▍     | 72/161 [47:08<41:00, 27.64s/it]"
     ]
    },
    {
     "name": "stdout",
     "output_type": "stream",
     "text": [
      "Performance Metrics for AMR-228 (Hourly): {'train_RMSE': np.float64(0.0), 'train_MAE': 0.0, 'test_RMSE': np.float64(0.0), 'test_MAE': 0.0}\n"
     ]
    },
    {
     "name": "stderr",
     "output_type": "stream",
     "text": [
      "Processing Meters:  45%|████▍     | 72/161 [47:18<41:00, 27.64s/it]"
     ]
    },
    {
     "name": "stdout",
     "output_type": "stream",
     "text": [
      "\n",
      "Best parameters for AMR-229 (Daily): {'subsample': 0.9, 'reg_lambda': 1.5, 'reg_alpha': 0.5, 'n_estimators': 500, 'max_depth': 5, 'learning_rate': 0.01, 'gamma': 0.1, 'colsample_bytree': 0.7}\n"
     ]
    },
    {
     "name": "stderr",
     "output_type": "stream",
     "text": [
      "Processing Meters:  45%|████▍     | 72/161 [47:19<41:00, 27.64s/it]"
     ]
    },
    {
     "name": "stdout",
     "output_type": "stream",
     "text": [
      "Performance Metrics for AMR-229 (Daily): {'train_RMSE': np.float64(0.0), 'train_MAE': 0.0, 'test_RMSE': np.float64(0.0), 'test_MAE': 0.0}\n"
     ]
    },
    {
     "name": "stderr",
     "output_type": "stream",
     "text": [
      "Processing Meters:  45%|████▍     | 72/161 [47:31<41:00, 27.64s/it]"
     ]
    },
    {
     "name": "stdout",
     "output_type": "stream",
     "text": [
      "\n",
      "Best parameters for AMR-229 (Hourly): {'subsample': 0.9, 'reg_lambda': 1.5, 'reg_alpha': 0.5, 'n_estimators': 500, 'max_depth': 5, 'learning_rate': 0.01, 'gamma': 0.1, 'colsample_bytree': 0.7}\n"
     ]
    },
    {
     "name": "stderr",
     "output_type": "stream",
     "text": [
      "Processing Meters:  45%|████▌     | 73/161 [47:35<40:12, 27.41s/it]"
     ]
    },
    {
     "name": "stdout",
     "output_type": "stream",
     "text": [
      "Performance Metrics for AMR-229 (Hourly): {'train_RMSE': np.float64(0.0), 'train_MAE': 0.0, 'test_RMSE': np.float64(0.0), 'test_MAE': 0.0}\n"
     ]
    },
    {
     "name": "stderr",
     "output_type": "stream",
     "text": [
      "Processing Meters:  45%|████▌     | 73/161 [47:44<40:12, 27.41s/it]"
     ]
    },
    {
     "name": "stdout",
     "output_type": "stream",
     "text": [
      "\n",
      "Best parameters for AMR-235 (Daily): {'subsample': 0.9, 'reg_lambda': 1.5, 'reg_alpha': 0.5, 'n_estimators': 500, 'max_depth': 5, 'learning_rate': 0.01, 'gamma': 0.1, 'colsample_bytree': 0.7}\n"
     ]
    },
    {
     "name": "stderr",
     "output_type": "stream",
     "text": [
      "Processing Meters:  45%|████▌     | 73/161 [47:46<40:12, 27.41s/it]"
     ]
    },
    {
     "name": "stdout",
     "output_type": "stream",
     "text": [
      "Performance Metrics for AMR-235 (Daily): {'train_RMSE': np.float64(0.0), 'train_MAE': 0.0, 'test_RMSE': np.float64(0.0), 'test_MAE': 0.0}\n"
     ]
    },
    {
     "name": "stderr",
     "output_type": "stream",
     "text": [
      "Processing Meters:  45%|████▌     | 73/161 [47:56<40:12, 27.41s/it]"
     ]
    },
    {
     "name": "stdout",
     "output_type": "stream",
     "text": [
      "\n",
      "Best parameters for AMR-235 (Hourly): {'subsample': 0.9, 'reg_lambda': 1.5, 'reg_alpha': 0.5, 'n_estimators': 500, 'max_depth': 5, 'learning_rate': 0.01, 'gamma': 0.1, 'colsample_bytree': 0.7}\n"
     ]
    },
    {
     "name": "stderr",
     "output_type": "stream",
     "text": [
      "Processing Meters:  46%|████▌     | 74/161 [48:00<38:44, 26.72s/it]"
     ]
    },
    {
     "name": "stdout",
     "output_type": "stream",
     "text": [
      "Performance Metrics for AMR-235 (Hourly): {'train_RMSE': np.float64(0.0), 'train_MAE': 0.0, 'test_RMSE': np.float64(0.0), 'test_MAE': 0.0}\n"
     ]
    },
    {
     "name": "stderr",
     "output_type": "stream",
     "text": [
      "Processing Meters:  46%|████▌     | 74/161 [48:09<38:44, 26.72s/it]"
     ]
    },
    {
     "name": "stdout",
     "output_type": "stream",
     "text": [
      "\n",
      "Best parameters for AMR-234 (Daily): {'subsample': 0.9, 'reg_lambda': 1.5, 'reg_alpha': 0.5, 'n_estimators': 500, 'max_depth': 5, 'learning_rate': 0.01, 'gamma': 0.1, 'colsample_bytree': 0.7}\n"
     ]
    },
    {
     "name": "stderr",
     "output_type": "stream",
     "text": [
      "Processing Meters:  46%|████▌     | 74/161 [48:11<38:44, 26.72s/it]"
     ]
    },
    {
     "name": "stdout",
     "output_type": "stream",
     "text": [
      "Performance Metrics for AMR-234 (Daily): {'train_RMSE': np.float64(0.0), 'train_MAE': 0.0, 'test_RMSE': np.float64(0.0), 'test_MAE': 0.0}\n"
     ]
    },
    {
     "name": "stderr",
     "output_type": "stream",
     "text": [
      "Processing Meters:  46%|████▌     | 74/161 [48:21<38:44, 26.72s/it]"
     ]
    },
    {
     "name": "stdout",
     "output_type": "stream",
     "text": [
      "\n",
      "Best parameters for AMR-234 (Hourly): {'subsample': 0.9, 'reg_lambda': 1.5, 'reg_alpha': 0.5, 'n_estimators': 500, 'max_depth': 5, 'learning_rate': 0.01, 'gamma': 0.1, 'colsample_bytree': 0.7}\n"
     ]
    },
    {
     "name": "stderr",
     "output_type": "stream",
     "text": [
      "Processing Meters:  47%|████▋     | 75/161 [48:24<37:09, 25.92s/it]"
     ]
    },
    {
     "name": "stdout",
     "output_type": "stream",
     "text": [
      "Performance Metrics for AMR-234 (Hourly): {'train_RMSE': np.float64(0.0), 'train_MAE': 0.0, 'test_RMSE': np.float64(0.0), 'test_MAE': 0.0}\n"
     ]
    },
    {
     "name": "stderr",
     "output_type": "stream",
     "text": [
      "Processing Meters:  47%|████▋     | 75/161 [48:33<37:09, 25.92s/it]"
     ]
    },
    {
     "name": "stdout",
     "output_type": "stream",
     "text": [
      "\n",
      "Best parameters for AMR-233 (Daily): {'subsample': 0.9, 'reg_lambda': 1.5, 'reg_alpha': 0.5, 'n_estimators': 500, 'max_depth': 5, 'learning_rate': 0.01, 'gamma': 0.1, 'colsample_bytree': 0.7}\n"
     ]
    },
    {
     "name": "stderr",
     "output_type": "stream",
     "text": [
      "Processing Meters:  47%|████▋     | 75/161 [48:35<37:09, 25.92s/it]"
     ]
    },
    {
     "name": "stdout",
     "output_type": "stream",
     "text": [
      "Performance Metrics for AMR-233 (Daily): {'train_RMSE': np.float64(0.0), 'train_MAE': 0.0, 'test_RMSE': np.float64(0.0), 'test_MAE': 0.0}\n"
     ]
    },
    {
     "name": "stderr",
     "output_type": "stream",
     "text": [
      "Processing Meters:  47%|████▋     | 75/161 [48:46<37:09, 25.92s/it]"
     ]
    },
    {
     "name": "stdout",
     "output_type": "stream",
     "text": [
      "\n",
      "Best parameters for AMR-233 (Hourly): {'subsample': 0.9, 'reg_lambda': 1.5, 'reg_alpha': 0.5, 'n_estimators': 500, 'max_depth': 5, 'learning_rate': 0.01, 'gamma': 0.1, 'colsample_bytree': 0.7}\n"
     ]
    },
    {
     "name": "stderr",
     "output_type": "stream",
     "text": [
      "Processing Meters:  47%|████▋     | 76/161 [48:49<36:26, 25.72s/it]"
     ]
    },
    {
     "name": "stdout",
     "output_type": "stream",
     "text": [
      "Performance Metrics for AMR-233 (Hourly): {'train_RMSE': np.float64(0.0), 'train_MAE': 0.0, 'test_RMSE': np.float64(0.0), 'test_MAE': 0.0}\n"
     ]
    },
    {
     "name": "stderr",
     "output_type": "stream",
     "text": [
      "Processing Meters:  47%|████▋     | 76/161 [48:59<36:26, 25.72s/it]"
     ]
    },
    {
     "name": "stdout",
     "output_type": "stream",
     "text": [
      "\n",
      "Best parameters for AMR-202 (Daily): {'subsample': 0.9, 'reg_lambda': 1.5, 'reg_alpha': 0.5, 'n_estimators': 500, 'max_depth': 5, 'learning_rate': 0.01, 'gamma': 0.1, 'colsample_bytree': 0.7}\n"
     ]
    },
    {
     "name": "stderr",
     "output_type": "stream",
     "text": [
      "Processing Meters:  47%|████▋     | 76/161 [49:01<36:26, 25.72s/it]"
     ]
    },
    {
     "name": "stdout",
     "output_type": "stream",
     "text": [
      "Performance Metrics for AMR-202 (Daily): {'train_RMSE': np.float64(0.0), 'train_MAE': 0.0, 'test_RMSE': np.float64(0.0), 'test_MAE': 0.0}\n"
     ]
    },
    {
     "name": "stderr",
     "output_type": "stream",
     "text": [
      "Processing Meters:  47%|████▋     | 76/161 [49:15<36:26, 25.72s/it]"
     ]
    },
    {
     "name": "stdout",
     "output_type": "stream",
     "text": [
      "\n",
      "Best parameters for AMR-202 (Hourly): {'subsample': 0.9, 'reg_lambda': 1.5, 'reg_alpha': 0.5, 'n_estimators': 500, 'max_depth': 5, 'learning_rate': 0.01, 'gamma': 0.1, 'colsample_bytree': 0.7}\n"
     ]
    },
    {
     "name": "stderr",
     "output_type": "stream",
     "text": [
      "Processing Meters:  48%|████▊     | 77/161 [49:19<37:48, 27.00s/it]"
     ]
    },
    {
     "name": "stdout",
     "output_type": "stream",
     "text": [
      "Performance Metrics for AMR-202 (Hourly): {'train_RMSE': np.float64(0.0), 'train_MAE': 0.0, 'test_RMSE': np.float64(0.0), 'test_MAE': 0.0}\n"
     ]
    },
    {
     "name": "stderr",
     "output_type": "stream",
     "text": [
      "Processing Meters:  48%|████▊     | 77/161 [49:29<37:48, 27.00s/it]"
     ]
    },
    {
     "name": "stdout",
     "output_type": "stream",
     "text": [
      "\n",
      "Best parameters for AMR-212 (Daily): {'subsample': 0.9, 'reg_lambda': 1.5, 'reg_alpha': 0.5, 'n_estimators': 500, 'max_depth': 5, 'learning_rate': 0.01, 'gamma': 0.1, 'colsample_bytree': 0.7}\n"
     ]
    },
    {
     "name": "stderr",
     "output_type": "stream",
     "text": [
      "Processing Meters:  48%|████▊     | 77/161 [49:31<37:48, 27.00s/it]"
     ]
    },
    {
     "name": "stdout",
     "output_type": "stream",
     "text": [
      "Performance Metrics for AMR-212 (Daily): {'train_RMSE': np.float64(0.0), 'train_MAE': 0.0, 'test_RMSE': np.float64(0.0), 'test_MAE': 0.0}\n"
     ]
    },
    {
     "name": "stderr",
     "output_type": "stream",
     "text": [
      "Processing Meters:  48%|████▊     | 77/161 [49:43<37:48, 27.00s/it]"
     ]
    },
    {
     "name": "stdout",
     "output_type": "stream",
     "text": [
      "\n",
      "Best parameters for AMR-212 (Hourly): {'subsample': 0.9, 'reg_lambda': 1.5, 'reg_alpha': 0.5, 'n_estimators': 500, 'max_depth': 5, 'learning_rate': 0.01, 'gamma': 0.1, 'colsample_bytree': 0.7}\n"
     ]
    },
    {
     "name": "stderr",
     "output_type": "stream",
     "text": [
      "Processing Meters:  48%|████▊     | 78/161 [49:51<39:20, 28.45s/it]"
     ]
    },
    {
     "name": "stdout",
     "output_type": "stream",
     "text": [
      "Performance Metrics for AMR-212 (Hourly): {'train_RMSE': np.float64(0.0), 'train_MAE': 0.0, 'test_RMSE': np.float64(0.0), 'test_MAE': 0.0}\n"
     ]
    },
    {
     "name": "stderr",
     "output_type": "stream",
     "text": [
      "Processing Meters:  48%|████▊     | 78/161 [50:03<39:20, 28.45s/it]"
     ]
    },
    {
     "name": "stdout",
     "output_type": "stream",
     "text": [
      "\n",
      "Best parameters for AMR-220 (Daily): {'subsample': 0.9, 'reg_lambda': 1.5, 'reg_alpha': 0.5, 'n_estimators': 500, 'max_depth': 5, 'learning_rate': 0.01, 'gamma': 0.1, 'colsample_bytree': 0.7}\n"
     ]
    },
    {
     "name": "stderr",
     "output_type": "stream",
     "text": [
      "Processing Meters:  48%|████▊     | 78/161 [50:04<39:20, 28.45s/it]"
     ]
    },
    {
     "name": "stdout",
     "output_type": "stream",
     "text": [
      "Performance Metrics for AMR-220 (Daily): {'train_RMSE': np.float64(0.0), 'train_MAE': 0.0, 'test_RMSE': np.float64(0.0), 'test_MAE': 0.0}\n"
     ]
    },
    {
     "name": "stderr",
     "output_type": "stream",
     "text": [
      "Processing Meters:  48%|████▊     | 78/161 [50:16<39:20, 28.45s/it]"
     ]
    },
    {
     "name": "stdout",
     "output_type": "stream",
     "text": [
      "\n",
      "Best parameters for AMR-220 (Hourly): {'subsample': 0.9, 'reg_lambda': 1.5, 'reg_alpha': 0.5, 'n_estimators': 500, 'max_depth': 5, 'learning_rate': 0.01, 'gamma': 0.1, 'colsample_bytree': 0.7}\n"
     ]
    },
    {
     "name": "stderr",
     "output_type": "stream",
     "text": [
      "Processing Meters:  49%|████▉     | 79/161 [50:20<39:05, 28.61s/it]"
     ]
    },
    {
     "name": "stdout",
     "output_type": "stream",
     "text": [
      "Performance Metrics for AMR-220 (Hourly): {'train_RMSE': np.float64(0.0), 'train_MAE': 0.0, 'test_RMSE': np.float64(0.0), 'test_MAE': 0.0}\n"
     ]
    },
    {
     "name": "stderr",
     "output_type": "stream",
     "text": [
      "Processing Meters:  49%|████▉     | 79/161 [50:31<39:05, 28.61s/it]"
     ]
    },
    {
     "name": "stdout",
     "output_type": "stream",
     "text": [
      "\n",
      "Best parameters for AMR-215 (Daily): {'subsample': 0.9, 'reg_lambda': 1.5, 'reg_alpha': 0.5, 'n_estimators': 500, 'max_depth': 5, 'learning_rate': 0.01, 'gamma': 0.1, 'colsample_bytree': 0.7}\n"
     ]
    },
    {
     "name": "stderr",
     "output_type": "stream",
     "text": [
      "Processing Meters:  49%|████▉     | 79/161 [50:32<39:05, 28.61s/it]"
     ]
    },
    {
     "name": "stdout",
     "output_type": "stream",
     "text": [
      "Performance Metrics for AMR-215 (Daily): {'train_RMSE': np.float64(0.0), 'train_MAE': 0.0, 'test_RMSE': np.float64(0.0), 'test_MAE': 0.0}\n"
     ]
    },
    {
     "name": "stderr",
     "output_type": "stream",
     "text": [
      "Processing Meters:  49%|████▉     | 79/161 [50:44<39:05, 28.61s/it]"
     ]
    },
    {
     "name": "stdout",
     "output_type": "stream",
     "text": [
      "\n",
      "Best parameters for AMR-215 (Hourly): {'subsample': 0.9, 'reg_lambda': 1.5, 'reg_alpha': 0.5, 'n_estimators': 500, 'max_depth': 5, 'learning_rate': 0.01, 'gamma': 0.1, 'colsample_bytree': 0.7}\n"
     ]
    },
    {
     "name": "stderr",
     "output_type": "stream",
     "text": [
      "Processing Meters:  50%|████▉     | 80/161 [50:47<38:02, 28.18s/it]"
     ]
    },
    {
     "name": "stdout",
     "output_type": "stream",
     "text": [
      "Performance Metrics for AMR-215 (Hourly): {'train_RMSE': np.float64(0.0), 'train_MAE': 0.0, 'test_RMSE': np.float64(0.0), 'test_MAE': 0.0}\n"
     ]
    },
    {
     "name": "stderr",
     "output_type": "stream",
     "text": [
      "Processing Meters:  50%|████▉     | 80/161 [51:00<38:02, 28.18s/it]"
     ]
    },
    {
     "name": "stdout",
     "output_type": "stream",
     "text": [
      "\n",
      "Best parameters for AMR-213 (Daily): {'subsample': 0.9, 'reg_lambda': 1.5, 'reg_alpha': 0.5, 'n_estimators': 500, 'max_depth': 5, 'learning_rate': 0.01, 'gamma': 0.1, 'colsample_bytree': 0.7}\n"
     ]
    },
    {
     "name": "stderr",
     "output_type": "stream",
     "text": [
      "Processing Meters:  50%|████▉     | 80/161 [51:01<38:02, 28.18s/it]"
     ]
    },
    {
     "name": "stdout",
     "output_type": "stream",
     "text": [
      "Performance Metrics for AMR-213 (Daily): {'train_RMSE': np.float64(0.0), 'train_MAE': 0.0, 'test_RMSE': np.float64(0.0), 'test_MAE': 0.0}\n"
     ]
    },
    {
     "name": "stderr",
     "output_type": "stream",
     "text": [
      "Processing Meters:  50%|████▉     | 80/161 [51:12<38:02, 28.18s/it]"
     ]
    },
    {
     "name": "stdout",
     "output_type": "stream",
     "text": [
      "\n",
      "Best parameters for AMR-213 (Hourly): {'subsample': 0.9, 'reg_lambda': 1.5, 'reg_alpha': 0.5, 'n_estimators': 500, 'max_depth': 5, 'learning_rate': 0.01, 'gamma': 0.1, 'colsample_bytree': 0.7}\n"
     ]
    },
    {
     "name": "stderr",
     "output_type": "stream",
     "text": [
      "Processing Meters:  50%|█████     | 81/161 [51:16<37:43, 28.29s/it]"
     ]
    },
    {
     "name": "stdout",
     "output_type": "stream",
     "text": [
      "Performance Metrics for AMR-213 (Hourly): {'train_RMSE': np.float64(0.0), 'train_MAE': 0.0, 'test_RMSE': np.float64(0.0), 'test_MAE': 0.0}\n"
     ]
    },
    {
     "name": "stderr",
     "output_type": "stream",
     "text": [
      "Processing Meters:  50%|█████     | 81/161 [51:28<37:43, 28.29s/it]"
     ]
    },
    {
     "name": "stdout",
     "output_type": "stream",
     "text": [
      "\n",
      "Best parameters for AMR-245 (Daily): {'subsample': 0.9, 'reg_lambda': 1.5, 'reg_alpha': 0.5, 'n_estimators': 500, 'max_depth': 5, 'learning_rate': 0.01, 'gamma': 0.1, 'colsample_bytree': 0.7}\n"
     ]
    },
    {
     "name": "stderr",
     "output_type": "stream",
     "text": [
      "Processing Meters:  50%|█████     | 81/161 [51:30<37:43, 28.29s/it]"
     ]
    },
    {
     "name": "stdout",
     "output_type": "stream",
     "text": [
      "Performance Metrics for AMR-245 (Daily): {'train_RMSE': np.float64(0.0), 'train_MAE': 0.0, 'test_RMSE': np.float64(0.0), 'test_MAE': 0.0}\n"
     ]
    },
    {
     "name": "stderr",
     "output_type": "stream",
     "text": [
      "Processing Meters:  50%|█████     | 81/161 [51:43<37:43, 28.29s/it]"
     ]
    },
    {
     "name": "stdout",
     "output_type": "stream",
     "text": [
      "\n",
      "Best parameters for AMR-245 (Hourly): {'subsample': 0.9, 'reg_lambda': 1.5, 'reg_alpha': 0.5, 'n_estimators': 500, 'max_depth': 5, 'learning_rate': 0.01, 'gamma': 0.1, 'colsample_bytree': 0.7}\n"
     ]
    },
    {
     "name": "stderr",
     "output_type": "stream",
     "text": [
      "Processing Meters:  51%|█████     | 82/161 [51:46<37:55, 28.80s/it]"
     ]
    },
    {
     "name": "stdout",
     "output_type": "stream",
     "text": [
      "Performance Metrics for AMR-245 (Hourly): {'train_RMSE': np.float64(0.0), 'train_MAE': 0.0, 'test_RMSE': np.float64(0.0), 'test_MAE': 0.0}\n"
     ]
    },
    {
     "name": "stderr",
     "output_type": "stream",
     "text": [
      "Processing Meters:  51%|█████     | 82/161 [51:57<37:55, 28.80s/it]"
     ]
    },
    {
     "name": "stdout",
     "output_type": "stream",
     "text": [
      "\n",
      "Best parameters for AMR-38 (Daily): {'subsample': 0.9, 'reg_lambda': 1.5, 'reg_alpha': 0.5, 'n_estimators': 500, 'max_depth': 5, 'learning_rate': 0.01, 'gamma': 0.1, 'colsample_bytree': 0.7}\n"
     ]
    },
    {
     "name": "stderr",
     "output_type": "stream",
     "text": [
      "Processing Meters:  51%|█████     | 82/161 [51:59<37:55, 28.80s/it]"
     ]
    },
    {
     "name": "stdout",
     "output_type": "stream",
     "text": [
      "Performance Metrics for AMR-38 (Daily): {'train_RMSE': np.float64(0.0), 'train_MAE': 0.0, 'test_RMSE': np.float64(0.0), 'test_MAE': 0.0}\n"
     ]
    },
    {
     "name": "stderr",
     "output_type": "stream",
     "text": [
      "Processing Meters:  51%|█████     | 82/161 [52:13<37:55, 28.80s/it]"
     ]
    },
    {
     "name": "stdout",
     "output_type": "stream",
     "text": [
      "\n",
      "Best parameters for AMR-38 (Hourly): {'subsample': 0.9, 'reg_lambda': 1.5, 'reg_alpha': 0.5, 'n_estimators': 500, 'max_depth': 5, 'learning_rate': 0.01, 'gamma': 0.1, 'colsample_bytree': 0.7}\n"
     ]
    },
    {
     "name": "stderr",
     "output_type": "stream",
     "text": [
      "Processing Meters:  52%|█████▏    | 83/161 [52:16<38:05, 29.30s/it]"
     ]
    },
    {
     "name": "stdout",
     "output_type": "stream",
     "text": [
      "Performance Metrics for AMR-38 (Hourly): {'train_RMSE': np.float64(0.0), 'train_MAE': 0.0, 'test_RMSE': np.float64(0.0), 'test_MAE': 0.0}\n"
     ]
    },
    {
     "name": "stderr",
     "output_type": "stream",
     "text": [
      "Processing Meters:  52%|█████▏    | 83/161 [52:27<38:05, 29.30s/it]"
     ]
    },
    {
     "name": "stdout",
     "output_type": "stream",
     "text": [
      "\n",
      "Best parameters for AMR-29 (Daily): {'subsample': 0.9, 'reg_lambda': 1.5, 'reg_alpha': 0.5, 'n_estimators': 500, 'max_depth': 5, 'learning_rate': 0.01, 'gamma': 0.1, 'colsample_bytree': 0.7}\n"
     ]
    },
    {
     "name": "stderr",
     "output_type": "stream",
     "text": [
      "Processing Meters:  52%|█████▏    | 83/161 [52:29<38:05, 29.30s/it]"
     ]
    },
    {
     "name": "stdout",
     "output_type": "stream",
     "text": [
      "Performance Metrics for AMR-29 (Daily): {'train_RMSE': np.float64(0.0), 'train_MAE': 0.0, 'test_RMSE': np.float64(0.0), 'test_MAE': 0.0}\n"
     ]
    },
    {
     "name": "stderr",
     "output_type": "stream",
     "text": [
      "Processing Meters:  52%|█████▏    | 83/161 [52:42<38:05, 29.30s/it]"
     ]
    },
    {
     "name": "stdout",
     "output_type": "stream",
     "text": [
      "\n",
      "Best parameters for AMR-29 (Hourly): {'subsample': 0.9, 'reg_lambda': 1.5, 'reg_alpha': 0.5, 'n_estimators': 500, 'max_depth': 5, 'learning_rate': 0.01, 'gamma': 0.1, 'colsample_bytree': 0.7}\n"
     ]
    },
    {
     "name": "stderr",
     "output_type": "stream",
     "text": [
      "Processing Meters:  52%|█████▏    | 84/161 [52:46<37:42, 29.39s/it]"
     ]
    },
    {
     "name": "stdout",
     "output_type": "stream",
     "text": [
      "Performance Metrics for AMR-29 (Hourly): {'train_RMSE': np.float64(0.0), 'train_MAE': 0.0, 'test_RMSE': np.float64(0.0), 'test_MAE': 0.0}\n"
     ]
    },
    {
     "name": "stderr",
     "output_type": "stream",
     "text": [
      "Processing Meters:  52%|█████▏    | 84/161 [52:56<37:42, 29.39s/it]"
     ]
    },
    {
     "name": "stdout",
     "output_type": "stream",
     "text": [
      "\n",
      "Best parameters for AMR-31 (Daily): {'subsample': 0.9, 'reg_lambda': 1.5, 'reg_alpha': 0.5, 'n_estimators': 500, 'max_depth': 5, 'learning_rate': 0.01, 'gamma': 0.1, 'colsample_bytree': 0.7}\n"
     ]
    },
    {
     "name": "stderr",
     "output_type": "stream",
     "text": [
      "Processing Meters:  52%|█████▏    | 84/161 [52:57<37:42, 29.39s/it]"
     ]
    },
    {
     "name": "stdout",
     "output_type": "stream",
     "text": [
      "Performance Metrics for AMR-31 (Daily): {'train_RMSE': np.float64(0.0), 'train_MAE': 0.0, 'test_RMSE': np.float64(0.0), 'test_MAE': 0.0}\n"
     ]
    },
    {
     "name": "stderr",
     "output_type": "stream",
     "text": [
      "Processing Meters:  52%|█████▏    | 84/161 [53:09<37:42, 29.39s/it]"
     ]
    },
    {
     "name": "stdout",
     "output_type": "stream",
     "text": [
      "\n",
      "Best parameters for AMR-31 (Hourly): {'subsample': 0.9, 'reg_lambda': 1.5, 'reg_alpha': 0.5, 'n_estimators': 500, 'max_depth': 5, 'learning_rate': 0.01, 'gamma': 0.1, 'colsample_bytree': 0.7}\n"
     ]
    },
    {
     "name": "stderr",
     "output_type": "stream",
     "text": [
      "Processing Meters:  53%|█████▎    | 85/161 [53:13<36:15, 28.62s/it]"
     ]
    },
    {
     "name": "stdout",
     "output_type": "stream",
     "text": [
      "Performance Metrics for AMR-31 (Hourly): {'train_RMSE': np.float64(0.0), 'train_MAE': 0.0, 'test_RMSE': np.float64(0.0), 'test_MAE': 0.0}\n"
     ]
    },
    {
     "name": "stderr",
     "output_type": "stream",
     "text": [
      "Processing Meters:  53%|█████▎    | 85/161 [53:23<36:15, 28.62s/it]"
     ]
    },
    {
     "name": "stdout",
     "output_type": "stream",
     "text": [
      "\n",
      "Best parameters for AMR-28 (Daily): {'subsample': 0.9, 'reg_lambda': 1.5, 'reg_alpha': 0.5, 'n_estimators': 500, 'max_depth': 5, 'learning_rate': 0.01, 'gamma': 0.1, 'colsample_bytree': 0.7}\n"
     ]
    },
    {
     "name": "stderr",
     "output_type": "stream",
     "text": [
      "Processing Meters:  53%|█████▎    | 85/161 [53:25<36:15, 28.62s/it]"
     ]
    },
    {
     "name": "stdout",
     "output_type": "stream",
     "text": [
      "Performance Metrics for AMR-28 (Daily): {'train_RMSE': np.float64(0.0), 'train_MAE': 0.0, 'test_RMSE': np.float64(0.0), 'test_MAE': 0.0}\n"
     ]
    },
    {
     "name": "stderr",
     "output_type": "stream",
     "text": [
      "Processing Meters:  53%|█████▎    | 85/161 [53:36<36:15, 28.62s/it]"
     ]
    },
    {
     "name": "stdout",
     "output_type": "stream",
     "text": [
      "\n",
      "Best parameters for AMR-28 (Hourly): {'subsample': 0.9, 'reg_lambda': 1.5, 'reg_alpha': 0.5, 'n_estimators': 500, 'max_depth': 5, 'learning_rate': 0.01, 'gamma': 0.1, 'colsample_bytree': 0.7}\n"
     ]
    },
    {
     "name": "stderr",
     "output_type": "stream",
     "text": [
      "Processing Meters:  53%|█████▎    | 86/161 [53:40<35:08, 28.11s/it]"
     ]
    },
    {
     "name": "stdout",
     "output_type": "stream",
     "text": [
      "Performance Metrics for AMR-28 (Hourly): {'train_RMSE': np.float64(0.0), 'train_MAE': 0.0, 'test_RMSE': np.float64(0.0), 'test_MAE': 0.0}\n"
     ]
    },
    {
     "name": "stderr",
     "output_type": "stream",
     "text": [
      "Processing Meters:  53%|█████▎    | 86/161 [53:50<35:08, 28.11s/it]"
     ]
    },
    {
     "name": "stdout",
     "output_type": "stream",
     "text": [
      "\n",
      "Best parameters for AMR-253 (Daily): {'subsample': 0.9, 'reg_lambda': 1.5, 'reg_alpha': 0.5, 'n_estimators': 500, 'max_depth': 5, 'learning_rate': 0.01, 'gamma': 0.1, 'colsample_bytree': 0.7}\n"
     ]
    },
    {
     "name": "stderr",
     "output_type": "stream",
     "text": [
      "Processing Meters:  53%|█████▎    | 86/161 [53:52<35:08, 28.11s/it]"
     ]
    },
    {
     "name": "stdout",
     "output_type": "stream",
     "text": [
      "Performance Metrics for AMR-253 (Daily): {'train_RMSE': np.float64(0.0), 'train_MAE': 0.0, 'test_RMSE': np.float64(0.0), 'test_MAE': 0.0}\n"
     ]
    },
    {
     "name": "stderr",
     "output_type": "stream",
     "text": [
      "Processing Meters:  53%|█████▎    | 86/161 [54:04<35:08, 28.11s/it]"
     ]
    },
    {
     "name": "stdout",
     "output_type": "stream",
     "text": [
      "\n",
      "Best parameters for AMR-253 (Hourly): {'subsample': 0.9, 'reg_lambda': 1.5, 'reg_alpha': 0.5, 'n_estimators': 500, 'max_depth': 5, 'learning_rate': 0.01, 'gamma': 0.1, 'colsample_bytree': 0.7}\n"
     ]
    },
    {
     "name": "stderr",
     "output_type": "stream",
     "text": [
      "Processing Meters:  54%|█████▍    | 87/161 [54:08<34:38, 28.09s/it]"
     ]
    },
    {
     "name": "stdout",
     "output_type": "stream",
     "text": [
      "Performance Metrics for AMR-253 (Hourly): {'train_RMSE': np.float64(0.0), 'train_MAE': 0.0, 'test_RMSE': np.float64(0.0), 'test_MAE': 0.0}\n"
     ]
    },
    {
     "name": "stderr",
     "output_type": "stream",
     "text": [
      "Processing Meters:  54%|█████▍    | 87/161 [54:17<34:38, 28.09s/it]"
     ]
    },
    {
     "name": "stdout",
     "output_type": "stream",
     "text": [
      "\n",
      "Best parameters for AMR-247 (Daily): {'subsample': 0.9, 'reg_lambda': 1.5, 'reg_alpha': 0.5, 'n_estimators': 500, 'max_depth': 5, 'learning_rate': 0.01, 'gamma': 0.1, 'colsample_bytree': 0.7}\n"
     ]
    },
    {
     "name": "stderr",
     "output_type": "stream",
     "text": [
      "Processing Meters:  54%|█████▍    | 87/161 [54:19<34:38, 28.09s/it]"
     ]
    },
    {
     "name": "stdout",
     "output_type": "stream",
     "text": [
      "Performance Metrics for AMR-247 (Daily): {'train_RMSE': np.float64(0.0), 'train_MAE': 0.0, 'test_RMSE': np.float64(0.0), 'test_MAE': 0.0}\n"
     ]
    },
    {
     "name": "stderr",
     "output_type": "stream",
     "text": [
      "Processing Meters:  54%|█████▍    | 87/161 [54:31<34:38, 28.09s/it]"
     ]
    },
    {
     "name": "stdout",
     "output_type": "stream",
     "text": [
      "\n",
      "Best parameters for AMR-247 (Hourly): {'subsample': 0.9, 'reg_lambda': 1.5, 'reg_alpha': 0.5, 'n_estimators': 500, 'max_depth': 5, 'learning_rate': 0.01, 'gamma': 0.1, 'colsample_bytree': 0.7}\n"
     ]
    },
    {
     "name": "stderr",
     "output_type": "stream",
     "text": [
      "Processing Meters:  55%|█████▍    | 88/161 [54:35<33:44, 27.74s/it]"
     ]
    },
    {
     "name": "stdout",
     "output_type": "stream",
     "text": [
      "Performance Metrics for AMR-247 (Hourly): {'train_RMSE': np.float64(0.0), 'train_MAE': 0.0, 'test_RMSE': np.float64(0.0), 'test_MAE': 0.0}\n"
     ]
    },
    {
     "name": "stderr",
     "output_type": "stream",
     "text": [
      "Processing Meters:  55%|█████▍    | 88/161 [54:47<33:44, 27.74s/it]"
     ]
    },
    {
     "name": "stdout",
     "output_type": "stream",
     "text": [
      "\n",
      "Best parameters for AMR-246 (Daily): {'subsample': 0.9, 'reg_lambda': 1.5, 'reg_alpha': 0.5, 'n_estimators': 500, 'max_depth': 5, 'learning_rate': 0.01, 'gamma': 0.1, 'colsample_bytree': 0.7}\n"
     ]
    },
    {
     "name": "stderr",
     "output_type": "stream",
     "text": [
      "Processing Meters:  55%|█████▍    | 88/161 [54:49<33:44, 27.74s/it]"
     ]
    },
    {
     "name": "stdout",
     "output_type": "stream",
     "text": [
      "Performance Metrics for AMR-246 (Daily): {'train_RMSE': np.float64(0.0), 'train_MAE': 0.0, 'test_RMSE': np.float64(0.0), 'test_MAE': 0.0}\n"
     ]
    },
    {
     "name": "stderr",
     "output_type": "stream",
     "text": [
      "Processing Meters:  55%|█████▍    | 88/161 [55:01<33:44, 27.74s/it]"
     ]
    },
    {
     "name": "stdout",
     "output_type": "stream",
     "text": [
      "\n",
      "Best parameters for AMR-246 (Hourly): {'subsample': 0.9, 'reg_lambda': 1.5, 'reg_alpha': 0.5, 'n_estimators': 500, 'max_depth': 5, 'learning_rate': 0.01, 'gamma': 0.1, 'colsample_bytree': 0.7}\n"
     ]
    },
    {
     "name": "stderr",
     "output_type": "stream",
     "text": [
      "Processing Meters:  55%|█████▌    | 89/161 [55:04<34:03, 28.38s/it]"
     ]
    },
    {
     "name": "stdout",
     "output_type": "stream",
     "text": [
      "Performance Metrics for AMR-246 (Hourly): {'train_RMSE': np.float64(0.0), 'train_MAE': 0.0, 'test_RMSE': np.float64(0.0), 'test_MAE': 0.0}\n"
     ]
    },
    {
     "name": "stderr",
     "output_type": "stream",
     "text": [
      "Processing Meters:  55%|█████▌    | 89/161 [55:16<34:03, 28.38s/it]"
     ]
    },
    {
     "name": "stdout",
     "output_type": "stream",
     "text": [
      "\n",
      "Best parameters for AMR-239 (Daily): {'subsample': 0.9, 'reg_lambda': 1.5, 'reg_alpha': 0.5, 'n_estimators': 500, 'max_depth': 5, 'learning_rate': 0.01, 'gamma': 0.1, 'colsample_bytree': 0.7}\n"
     ]
    },
    {
     "name": "stderr",
     "output_type": "stream",
     "text": [
      "Processing Meters:  55%|█████▌    | 89/161 [55:18<34:03, 28.38s/it]"
     ]
    },
    {
     "name": "stdout",
     "output_type": "stream",
     "text": [
      "Performance Metrics for AMR-239 (Daily): {'train_RMSE': np.float64(0.0), 'train_MAE': 0.0, 'test_RMSE': np.float64(0.0), 'test_MAE': 0.0}\n"
     ]
    },
    {
     "name": "stderr",
     "output_type": "stream",
     "text": [
      "Processing Meters:  55%|█████▌    | 89/161 [55:30<34:03, 28.38s/it]"
     ]
    },
    {
     "name": "stdout",
     "output_type": "stream",
     "text": [
      "\n",
      "Best parameters for AMR-239 (Hourly): {'subsample': 0.9, 'reg_lambda': 1.5, 'reg_alpha': 0.5, 'n_estimators': 500, 'max_depth': 5, 'learning_rate': 0.01, 'gamma': 0.1, 'colsample_bytree': 0.7}\n"
     ]
    },
    {
     "name": "stderr",
     "output_type": "stream",
     "text": [
      "Processing Meters:  56%|█████▌    | 90/161 [55:35<34:12, 28.92s/it]"
     ]
    },
    {
     "name": "stdout",
     "output_type": "stream",
     "text": [
      "Performance Metrics for AMR-239 (Hourly): {'train_RMSE': np.float64(0.0), 'train_MAE': 0.0, 'test_RMSE': np.float64(0.0), 'test_MAE': 0.0}\n"
     ]
    },
    {
     "name": "stderr",
     "output_type": "stream",
     "text": [
      "Processing Meters:  56%|█████▌    | 90/161 [55:45<34:12, 28.92s/it]"
     ]
    },
    {
     "name": "stdout",
     "output_type": "stream",
     "text": [
      "\n",
      "Best parameters for AMR-242 (Daily): {'subsample': 0.9, 'reg_lambda': 1.5, 'reg_alpha': 0.5, 'n_estimators': 500, 'max_depth': 5, 'learning_rate': 0.01, 'gamma': 0.1, 'colsample_bytree': 0.7}\n"
     ]
    },
    {
     "name": "stderr",
     "output_type": "stream",
     "text": [
      "Processing Meters:  56%|█████▌    | 90/161 [55:47<34:12, 28.92s/it]"
     ]
    },
    {
     "name": "stdout",
     "output_type": "stream",
     "text": [
      "Performance Metrics for AMR-242 (Daily): {'train_RMSE': np.float64(0.0), 'train_MAE': 0.0, 'test_RMSE': np.float64(0.0), 'test_MAE': 0.0}\n"
     ]
    },
    {
     "name": "stderr",
     "output_type": "stream",
     "text": [
      "Processing Meters:  56%|█████▌    | 90/161 [55:58<34:12, 28.92s/it]"
     ]
    },
    {
     "name": "stdout",
     "output_type": "stream",
     "text": [
      "\n",
      "Best parameters for AMR-242 (Hourly): {'subsample': 0.9, 'reg_lambda': 1.5, 'reg_alpha': 0.5, 'n_estimators': 500, 'max_depth': 5, 'learning_rate': 0.01, 'gamma': 0.1, 'colsample_bytree': 0.7}\n"
     ]
    },
    {
     "name": "stderr",
     "output_type": "stream",
     "text": [
      "Processing Meters:  57%|█████▋    | 91/161 [56:01<32:59, 28.28s/it]"
     ]
    },
    {
     "name": "stdout",
     "output_type": "stream",
     "text": [
      "Performance Metrics for AMR-242 (Hourly): {'train_RMSE': np.float64(0.0), 'train_MAE': 0.0, 'test_RMSE': np.float64(0.0), 'test_MAE': 0.0}\n"
     ]
    },
    {
     "name": "stderr",
     "output_type": "stream",
     "text": [
      "Processing Meters:  57%|█████▋    | 91/161 [56:13<32:59, 28.28s/it]"
     ]
    },
    {
     "name": "stdout",
     "output_type": "stream",
     "text": [
      "\n",
      "Best parameters for AMR-241 (Daily): {'subsample': 0.9, 'reg_lambda': 1.5, 'reg_alpha': 0.5, 'n_estimators': 500, 'max_depth': 5, 'learning_rate': 0.01, 'gamma': 0.1, 'colsample_bytree': 0.7}\n"
     ]
    },
    {
     "name": "stderr",
     "output_type": "stream",
     "text": [
      "Processing Meters:  57%|█████▋    | 91/161 [56:14<32:59, 28.28s/it]"
     ]
    },
    {
     "name": "stdout",
     "output_type": "stream",
     "text": [
      "Performance Metrics for AMR-241 (Daily): {'train_RMSE': np.float64(0.0), 'train_MAE': 0.0, 'test_RMSE': np.float64(0.0), 'test_MAE': 0.0}\n"
     ]
    },
    {
     "name": "stderr",
     "output_type": "stream",
     "text": [
      "Processing Meters:  57%|█████▋    | 91/161 [56:25<32:59, 28.28s/it]"
     ]
    },
    {
     "name": "stdout",
     "output_type": "stream",
     "text": [
      "\n",
      "Best parameters for AMR-241 (Hourly): {'subsample': 0.9, 'reg_lambda': 1.5, 'reg_alpha': 0.5, 'n_estimators': 500, 'max_depth': 5, 'learning_rate': 0.01, 'gamma': 0.1, 'colsample_bytree': 0.7}\n"
     ]
    },
    {
     "name": "stderr",
     "output_type": "stream",
     "text": [
      "Processing Meters:  57%|█████▋    | 92/161 [56:28<32:01, 27.85s/it]"
     ]
    },
    {
     "name": "stdout",
     "output_type": "stream",
     "text": [
      "Performance Metrics for AMR-241 (Hourly): {'train_RMSE': np.float64(0.0), 'train_MAE': 0.0, 'test_RMSE': np.float64(0.0), 'test_MAE': 0.0}\n"
     ]
    },
    {
     "name": "stderr",
     "output_type": "stream",
     "text": [
      "Processing Meters:  57%|█████▋    | 92/161 [56:38<32:01, 27.85s/it]"
     ]
    },
    {
     "name": "stdout",
     "output_type": "stream",
     "text": [
      "\n",
      "Best parameters for AMR-24 (Daily): {'subsample': 0.9, 'reg_lambda': 1.5, 'reg_alpha': 0.5, 'n_estimators': 500, 'max_depth': 5, 'learning_rate': 0.01, 'gamma': 0.1, 'colsample_bytree': 0.7}\n"
     ]
    },
    {
     "name": "stderr",
     "output_type": "stream",
     "text": [
      "Processing Meters:  57%|█████▋    | 92/161 [56:41<32:01, 27.85s/it]"
     ]
    },
    {
     "name": "stdout",
     "output_type": "stream",
     "text": [
      "Performance Metrics for AMR-24 (Daily): {'train_RMSE': np.float64(0.0), 'train_MAE': 0.0, 'test_RMSE': np.float64(0.0), 'test_MAE': 0.0}\n"
     ]
    },
    {
     "name": "stderr",
     "output_type": "stream",
     "text": [
      "Processing Meters:  57%|█████▋    | 92/161 [56:52<32:01, 27.85s/it]"
     ]
    },
    {
     "name": "stdout",
     "output_type": "stream",
     "text": [
      "\n",
      "Best parameters for AMR-24 (Hourly): {'subsample': 0.9, 'reg_lambda': 1.5, 'reg_alpha': 0.5, 'n_estimators': 500, 'max_depth': 5, 'learning_rate': 0.01, 'gamma': 0.1, 'colsample_bytree': 0.7}\n"
     ]
    },
    {
     "name": "stderr",
     "output_type": "stream",
     "text": [
      "Processing Meters:  58%|█████▊    | 93/161 [56:55<31:20, 27.66s/it]"
     ]
    },
    {
     "name": "stdout",
     "output_type": "stream",
     "text": [
      "Performance Metrics for AMR-24 (Hourly): {'train_RMSE': np.float64(0.0), 'train_MAE': 0.0, 'test_RMSE': np.float64(0.0), 'test_MAE': 0.0}\n"
     ]
    },
    {
     "name": "stderr",
     "output_type": "stream",
     "text": [
      "Processing Meters:  58%|█████▊    | 93/161 [57:05<31:20, 27.66s/it]"
     ]
    },
    {
     "name": "stdout",
     "output_type": "stream",
     "text": [
      "\n",
      "Best parameters for AMR-237 (Daily): {'subsample': 0.9, 'reg_lambda': 1.5, 'reg_alpha': 0.5, 'n_estimators': 500, 'max_depth': 5, 'learning_rate': 0.01, 'gamma': 0.1, 'colsample_bytree': 0.7}\n"
     ]
    },
    {
     "name": "stderr",
     "output_type": "stream",
     "text": [
      "Processing Meters:  58%|█████▊    | 93/161 [57:07<31:20, 27.66s/it]"
     ]
    },
    {
     "name": "stdout",
     "output_type": "stream",
     "text": [
      "Performance Metrics for AMR-237 (Daily): {'train_RMSE': np.float64(0.0), 'train_MAE': 0.0, 'test_RMSE': np.float64(0.0), 'test_MAE': 0.0}\n"
     ]
    },
    {
     "name": "stderr",
     "output_type": "stream",
     "text": [
      "Processing Meters:  58%|█████▊    | 93/161 [57:18<31:20, 27.66s/it]"
     ]
    },
    {
     "name": "stdout",
     "output_type": "stream",
     "text": [
      "\n",
      "Best parameters for AMR-237 (Hourly): {'subsample': 0.9, 'reg_lambda': 1.5, 'reg_alpha': 0.5, 'n_estimators': 500, 'max_depth': 5, 'learning_rate': 0.01, 'gamma': 0.1, 'colsample_bytree': 0.7}\n"
     ]
    },
    {
     "name": "stderr",
     "output_type": "stream",
     "text": [
      "Processing Meters:  58%|█████▊    | 94/161 [57:21<30:19, 27.15s/it]"
     ]
    },
    {
     "name": "stdout",
     "output_type": "stream",
     "text": [
      "Performance Metrics for AMR-237 (Hourly): {'train_RMSE': np.float64(0.0), 'train_MAE': 0.0, 'test_RMSE': np.float64(0.0), 'test_MAE': 0.0}\n"
     ]
    },
    {
     "name": "stderr",
     "output_type": "stream",
     "text": [
      "Processing Meters:  58%|█████▊    | 94/161 [57:31<30:19, 27.15s/it]"
     ]
    },
    {
     "name": "stdout",
     "output_type": "stream",
     "text": [
      "\n",
      "Best parameters for AMR-238 (Daily): {'subsample': 0.9, 'reg_lambda': 1.5, 'reg_alpha': 0.5, 'n_estimators': 500, 'max_depth': 5, 'learning_rate': 0.01, 'gamma': 0.1, 'colsample_bytree': 0.7}\n"
     ]
    },
    {
     "name": "stderr",
     "output_type": "stream",
     "text": [
      "Processing Meters:  58%|█████▊    | 94/161 [57:33<30:19, 27.15s/it]"
     ]
    },
    {
     "name": "stdout",
     "output_type": "stream",
     "text": [
      "Performance Metrics for AMR-238 (Daily): {'train_RMSE': np.float64(0.0), 'train_MAE': 0.0, 'test_RMSE': np.float64(0.0), 'test_MAE': 0.0}\n"
     ]
    },
    {
     "name": "stderr",
     "output_type": "stream",
     "text": [
      "Processing Meters:  58%|█████▊    | 94/161 [57:45<30:19, 27.15s/it]"
     ]
    },
    {
     "name": "stdout",
     "output_type": "stream",
     "text": [
      "\n",
      "Best parameters for AMR-238 (Hourly): {'subsample': 0.9, 'reg_lambda': 1.5, 'reg_alpha': 0.5, 'n_estimators': 500, 'max_depth': 5, 'learning_rate': 0.01, 'gamma': 0.1, 'colsample_bytree': 0.7}\n"
     ]
    },
    {
     "name": "stderr",
     "output_type": "stream",
     "text": [
      "Processing Meters:  59%|█████▉    | 95/161 [57:48<29:50, 27.13s/it]"
     ]
    },
    {
     "name": "stdout",
     "output_type": "stream",
     "text": [
      "Performance Metrics for AMR-238 (Hourly): {'train_RMSE': np.float64(0.0), 'train_MAE': 0.0, 'test_RMSE': np.float64(0.0), 'test_MAE': 0.0}\n"
     ]
    },
    {
     "name": "stderr",
     "output_type": "stream",
     "text": [
      "Processing Meters:  59%|█████▉    | 95/161 [58:00<29:50, 27.13s/it]"
     ]
    },
    {
     "name": "stdout",
     "output_type": "stream",
     "text": [
      "\n",
      "Best parameters for AMR-236 (Daily): {'subsample': 0.9, 'reg_lambda': 1.5, 'reg_alpha': 0.5, 'n_estimators': 500, 'max_depth': 5, 'learning_rate': 0.01, 'gamma': 0.1, 'colsample_bytree': 0.7}\n"
     ]
    },
    {
     "name": "stderr",
     "output_type": "stream",
     "text": [
      "Processing Meters:  59%|█████▉    | 95/161 [58:02<29:50, 27.13s/it]"
     ]
    },
    {
     "name": "stdout",
     "output_type": "stream",
     "text": [
      "Performance Metrics for AMR-236 (Daily): {'train_RMSE': np.float64(0.0), 'train_MAE': 0.0, 'test_RMSE': np.float64(0.0), 'test_MAE': 0.0}\n"
     ]
    },
    {
     "name": "stderr",
     "output_type": "stream",
     "text": [
      "Processing Meters:  59%|█████▉    | 95/161 [58:15<29:50, 27.13s/it]"
     ]
    },
    {
     "name": "stdout",
     "output_type": "stream",
     "text": [
      "\n",
      "Best parameters for AMR-236 (Hourly): {'subsample': 0.9, 'reg_lambda': 1.5, 'reg_alpha': 0.5, 'n_estimators': 500, 'max_depth': 5, 'learning_rate': 0.01, 'gamma': 0.1, 'colsample_bytree': 0.7}\n"
     ]
    },
    {
     "name": "stderr",
     "output_type": "stream",
     "text": [
      "Processing Meters:  60%|█████▉    | 96/161 [58:18<30:06, 27.79s/it]"
     ]
    },
    {
     "name": "stdout",
     "output_type": "stream",
     "text": [
      "Performance Metrics for AMR-236 (Hourly): {'train_RMSE': np.float64(0.0), 'train_MAE': 0.0, 'test_RMSE': np.float64(0.0), 'test_MAE': 0.0}\n"
     ]
    },
    {
     "name": "stderr",
     "output_type": "stream",
     "text": [
      "Processing Meters:  60%|█████▉    | 96/161 [58:28<30:06, 27.79s/it]"
     ]
    },
    {
     "name": "stdout",
     "output_type": "stream",
     "text": [
      "\n",
      "Best parameters for AMR-19 (Daily): {'subsample': 0.9, 'reg_lambda': 1.5, 'reg_alpha': 0.5, 'n_estimators': 500, 'max_depth': 5, 'learning_rate': 0.01, 'gamma': 0.1, 'colsample_bytree': 0.7}\n"
     ]
    },
    {
     "name": "stderr",
     "output_type": "stream",
     "text": [
      "Processing Meters:  60%|█████▉    | 96/161 [58:30<30:06, 27.79s/it]"
     ]
    },
    {
     "name": "stdout",
     "output_type": "stream",
     "text": [
      "Performance Metrics for AMR-19 (Daily): {'train_RMSE': np.float64(0.0), 'train_MAE': 0.0, 'test_RMSE': np.float64(0.0), 'test_MAE': 0.0}\n"
     ]
    },
    {
     "name": "stderr",
     "output_type": "stream",
     "text": [
      "Processing Meters:  60%|█████▉    | 96/161 [58:42<30:06, 27.79s/it]"
     ]
    },
    {
     "name": "stdout",
     "output_type": "stream",
     "text": [
      "\n",
      "Best parameters for AMR-19 (Hourly): {'subsample': 0.9, 'reg_lambda': 1.5, 'reg_alpha': 0.5, 'n_estimators': 500, 'max_depth': 5, 'learning_rate': 0.01, 'gamma': 0.1, 'colsample_bytree': 0.7}\n"
     ]
    },
    {
     "name": "stderr",
     "output_type": "stream",
     "text": [
      "Processing Meters:  60%|██████    | 97/161 [58:46<29:43, 27.87s/it]"
     ]
    },
    {
     "name": "stdout",
     "output_type": "stream",
     "text": [
      "Performance Metrics for AMR-19 (Hourly): {'train_RMSE': np.float64(0.0), 'train_MAE': 0.0, 'test_RMSE': np.float64(0.0), 'test_MAE': 0.0}\n"
     ]
    },
    {
     "name": "stderr",
     "output_type": "stream",
     "text": [
      "Processing Meters:  60%|██████    | 97/161 [59:01<29:43, 27.87s/it]"
     ]
    },
    {
     "name": "stdout",
     "output_type": "stream",
     "text": [
      "\n",
      "Best parameters for BFM 4 (Daily): {'subsample': 0.7, 'reg_lambda': 1.5, 'reg_alpha': 0, 'n_estimators': 100, 'max_depth': 3, 'learning_rate': 0.05, 'gamma': 0, 'colsample_bytree': 0.8}\n"
     ]
    },
    {
     "name": "stderr",
     "output_type": "stream",
     "text": [
      "Processing Meters:  60%|██████    | 97/161 [59:03<29:43, 27.87s/it]"
     ]
    },
    {
     "name": "stdout",
     "output_type": "stream",
     "text": [
      "Performance Metrics for BFM 4 (Daily): {'train_RMSE': np.float64(6.724271440816842e-05), 'train_MAE': 1.4589359167536814e-05, 'test_RMSE': np.float64(4.603000888891984e-06), 'test_MAE': 4.603000888891984e-06}\n"
     ]
    },
    {
     "name": "stderr",
     "output_type": "stream",
     "text": [
      "Processing Meters:  60%|██████    | 97/161 [59:19<29:43, 27.87s/it]"
     ]
    },
    {
     "name": "stdout",
     "output_type": "stream",
     "text": [
      "\n",
      "Best parameters for BFM 4 (Hourly): {'subsample': 0.8, 'reg_lambda': 2, 'reg_alpha': 0, 'n_estimators': 1000, 'max_depth': 7, 'learning_rate': 0.05, 'gamma': 0, 'colsample_bytree': 0.7}\n"
     ]
    },
    {
     "name": "stderr",
     "output_type": "stream",
     "text": [
      "Processing Meters:  61%|██████    | 98/161 [59:23<32:12, 30.68s/it]"
     ]
    },
    {
     "name": "stdout",
     "output_type": "stream",
     "text": [
      "Performance Metrics for BFM 4 (Hourly): {'train_RMSE': np.float64(0.0001910425377802994), 'train_MAE': 6.969460723310955e-06, 'test_RMSE': np.float64(1.9597706568674766e-08), 'test_MAE': 1.9597706568674766e-08}\n"
     ]
    },
    {
     "name": "stderr",
     "output_type": "stream",
     "text": [
      "Processing Meters:  61%|██████    | 98/161 [59:49<32:12, 30.68s/it]"
     ]
    },
    {
     "name": "stdout",
     "output_type": "stream",
     "text": [
      "\n",
      "Best parameters for BFM 5 (Daily): {'subsample': 0.7, 'reg_lambda': 1.5, 'reg_alpha': 0, 'n_estimators': 100, 'max_depth': 3, 'learning_rate': 0.05, 'gamma': 0, 'colsample_bytree': 0.8}\n"
     ]
    },
    {
     "name": "stderr",
     "output_type": "stream",
     "text": [
      "Processing Meters:  61%|██████    | 98/161 [59:51<32:12, 30.68s/it]"
     ]
    },
    {
     "name": "stdout",
     "output_type": "stream",
     "text": [
      "Performance Metrics for BFM 5 (Daily): {'train_RMSE': np.float64(0.025474844649931536), 'train_MAE': 0.01724395867096489, 'test_RMSE': np.float64(0.1981302333888719), 'test_MAE': 0.1808872154229224}\n"
     ]
    },
    {
     "name": "stderr",
     "output_type": "stream",
     "text": [
      "Processing Meters:  61%|██████    | 98/161 [1:02:27<32:12, 30.68s/it]"
     ]
    },
    {
     "name": "stdout",
     "output_type": "stream",
     "text": [
      "\n",
      "Best parameters for BFM 5 (Hourly): {'subsample': 0.7, 'reg_lambda': 1.5, 'reg_alpha': 0, 'n_estimators': 100, 'max_depth': 3, 'learning_rate': 0.05, 'gamma': 0, 'colsample_bytree': 0.8}\n"
     ]
    },
    {
     "name": "stderr",
     "output_type": "stream",
     "text": [
      "Processing Meters:  61%|██████▏   | 99/161 [1:02:33<1:20:55, 78.32s/it]"
     ]
    },
    {
     "name": "stdout",
     "output_type": "stream",
     "text": [
      "Performance Metrics for BFM 5 (Hourly): {'train_RMSE': np.float64(0.030188228537268224), 'train_MAE': 0.021251145879935433, 'test_RMSE': np.float64(0.041063950416034285), 'test_MAE': 0.03199282180700127}\n"
     ]
    },
    {
     "name": "stderr",
     "output_type": "stream",
     "text": [
      "Processing Meters:  61%|██████▏   | 99/161 [1:02:50<1:20:55, 78.32s/it]"
     ]
    },
    {
     "name": "stdout",
     "output_type": "stream",
     "text": [
      "\n",
      "Best parameters for BFM 3 (Daily): {'subsample': 0.8, 'reg_lambda': 2, 'reg_alpha': 0, 'n_estimators': 1000, 'max_depth': 7, 'learning_rate': 0.05, 'gamma': 0, 'colsample_bytree': 0.7}\n"
     ]
    },
    {
     "name": "stderr",
     "output_type": "stream",
     "text": [
      "Processing Meters:  61%|██████▏   | 99/161 [1:02:52<1:20:55, 78.32s/it]"
     ]
    },
    {
     "name": "stdout",
     "output_type": "stream",
     "text": [
      "Performance Metrics for BFM 3 (Daily): {'train_RMSE': np.float64(0.0003669800201199819), 'train_MAE': 0.00011668448754730698, 'test_RMSE': np.float64(2.815831976477057e-07), 'test_MAE': 2.815831976477057e-07}\n"
     ]
    },
    {
     "name": "stderr",
     "output_type": "stream",
     "text": [
      "Processing Meters:  61%|██████▏   | 99/161 [1:04:08<1:20:55, 78.32s/it]"
     ]
    },
    {
     "name": "stdout",
     "output_type": "stream",
     "text": [
      "\n",
      "Best parameters for BFM 3 (Hourly): {'subsample': 0.8, 'reg_lambda': 2, 'reg_alpha': 0, 'n_estimators': 1000, 'max_depth': 7, 'learning_rate': 0.05, 'gamma': 0, 'colsample_bytree': 0.7}\n"
     ]
    },
    {
     "name": "stderr",
     "output_type": "stream",
     "text": [
      "Processing Meters:  62%|██████▏   | 100/161 [1:04:12<1:26:11, 84.78s/it]"
     ]
    },
    {
     "name": "stdout",
     "output_type": "stream",
     "text": [
      "Performance Metrics for BFM 3 (Hourly): {'train_RMSE': np.float64(0.0003206598678174318), 'train_MAE': 6.0173401848231416e-05, 'test_RMSE': np.float64(1.1410660647644867e-06), 'test_MAE': 5.994569849205974e-07}\n"
     ]
    },
    {
     "name": "stderr",
     "output_type": "stream",
     "text": [
      "Processing Meters:  62%|██████▏   | 100/161 [1:05:00<1:26:11, 84.78s/it]"
     ]
    },
    {
     "name": "stdout",
     "output_type": "stream",
     "text": [
      "\n",
      "Best parameters for BFM 25 (Daily): {'subsample': 0.8, 'reg_lambda': 2, 'reg_alpha': 0, 'n_estimators': 1000, 'max_depth': 7, 'learning_rate': 0.05, 'gamma': 0, 'colsample_bytree': 0.7}\n"
     ]
    },
    {
     "name": "stderr",
     "output_type": "stream",
     "text": [
      "Processing Meters:  62%|██████▏   | 100/161 [1:05:02<1:26:11, 84.78s/it]"
     ]
    },
    {
     "name": "stdout",
     "output_type": "stream",
     "text": [
      "Performance Metrics for BFM 25 (Daily): {'train_RMSE': np.float64(0.00048804154052007833), 'train_MAE': 0.0003201389914037112, 'test_RMSE': np.float64(0.15568727286025266), 'test_MAE': 0.09811683572484409}\n"
     ]
    },
    {
     "name": "stderr",
     "output_type": "stream",
     "text": [
      "Processing Meters:  62%|██████▏   | 100/161 [1:08:51<1:26:11, 84.78s/it]"
     ]
    },
    {
     "name": "stdout",
     "output_type": "stream",
     "text": [
      "\n",
      "Best parameters for BFM 25 (Hourly): {'subsample': 0.9, 'reg_lambda': 1, 'reg_alpha': 0, 'n_estimators': 500, 'max_depth': 7, 'learning_rate': 0.1, 'gamma': 0, 'colsample_bytree': 0.9}\n"
     ]
    },
    {
     "name": "stderr",
     "output_type": "stream",
     "text": [
      "Processing Meters:  63%|██████▎   | 101/161 [1:08:59<2:25:26, 145.44s/it]"
     ]
    },
    {
     "name": "stdout",
     "output_type": "stream",
     "text": [
      "Performance Metrics for BFM 25 (Hourly): {'train_RMSE': np.float64(0.007215341079567444), 'train_MAE': 0.004905759989186288, 'test_RMSE': np.float64(0.049702950351284574), 'test_MAE': 0.03153978617070158}\n"
     ]
    },
    {
     "name": "stderr",
     "output_type": "stream",
     "text": [
      "Processing Meters:  63%|██████▎   | 101/161 [1:09:15<2:25:26, 145.44s/it]"
     ]
    },
    {
     "name": "stdout",
     "output_type": "stream",
     "text": [
      "\n",
      "Best parameters for BFM 22 (Daily): {'subsample': 0.7, 'reg_lambda': 1.5, 'reg_alpha': 0, 'n_estimators': 100, 'max_depth': 3, 'learning_rate': 0.05, 'gamma': 0, 'colsample_bytree': 0.8}\n"
     ]
    },
    {
     "name": "stderr",
     "output_type": "stream",
     "text": [
      "Processing Meters:  63%|██████▎   | 101/161 [1:09:18<2:25:26, 145.44s/it]"
     ]
    },
    {
     "name": "stdout",
     "output_type": "stream",
     "text": [
      "Performance Metrics for BFM 22 (Daily): {'train_RMSE': np.float64(0.001318623047943241), 'train_MAE': 0.0005264656992519015, 'test_RMSE': np.float64(0.025538804803214427), 'test_MAE': 0.019676138154355573}\n"
     ]
    },
    {
     "name": "stderr",
     "output_type": "stream",
     "text": [
      "Processing Meters:  63%|██████▎   | 101/161 [1:09:47<2:25:26, 145.44s/it]"
     ]
    },
    {
     "name": "stdout",
     "output_type": "stream",
     "text": [
      "\n",
      "Best parameters for BFM 22 (Hourly): {'subsample': 0.9, 'reg_lambda': 1, 'reg_alpha': 0, 'n_estimators': 500, 'max_depth': 7, 'learning_rate': 0.1, 'gamma': 0, 'colsample_bytree': 0.9}\n"
     ]
    },
    {
     "name": "stderr",
     "output_type": "stream",
     "text": [
      "Processing Meters:  63%|██████▎   | 102/161 [1:09:50<1:55:09, 117.10s/it]"
     ]
    },
    {
     "name": "stdout",
     "output_type": "stream",
     "text": [
      "Performance Metrics for BFM 22 (Hourly): {'train_RMSE': np.float64(0.00024594668120901653), 'train_MAE': 0.00010605003424208683, 'test_RMSE': np.float64(0.017509278607697572), 'test_MAE': 0.00599985961241686}\n"
     ]
    },
    {
     "name": "stderr",
     "output_type": "stream",
     "text": [
      "Processing Meters:  63%|██████▎   | 102/161 [1:10:01<1:55:09, 117.10s/it]"
     ]
    },
    {
     "name": "stdout",
     "output_type": "stream",
     "text": [
      "\n",
      "Best parameters for AMR-55 (Daily): {'subsample': 0.9, 'reg_lambda': 1.5, 'reg_alpha': 0.5, 'n_estimators': 500, 'max_depth': 5, 'learning_rate': 0.01, 'gamma': 0.1, 'colsample_bytree': 0.7}\n"
     ]
    },
    {
     "name": "stderr",
     "output_type": "stream",
     "text": [
      "Processing Meters:  63%|██████▎   | 102/161 [1:10:03<1:55:09, 117.10s/it]"
     ]
    },
    {
     "name": "stdout",
     "output_type": "stream",
     "text": [
      "Performance Metrics for AMR-55 (Daily): {'train_RMSE': np.float64(0.0), 'train_MAE': 0.0, 'test_RMSE': np.float64(0.0), 'test_MAE': 0.0}\n"
     ]
    },
    {
     "name": "stderr",
     "output_type": "stream",
     "text": [
      "Processing Meters:  63%|██████▎   | 102/161 [1:10:14<1:55:09, 117.10s/it]"
     ]
    },
    {
     "name": "stdout",
     "output_type": "stream",
     "text": [
      "\n",
      "Best parameters for AMR-55 (Hourly): {'subsample': 0.9, 'reg_lambda': 1.5, 'reg_alpha': 0.5, 'n_estimators': 500, 'max_depth': 5, 'learning_rate': 0.01, 'gamma': 0.1, 'colsample_bytree': 0.7}\n"
     ]
    },
    {
     "name": "stderr",
     "output_type": "stream",
     "text": [
      "Processing Meters:  64%|██████▍   | 103/161 [1:10:18<1:27:15, 90.28s/it] "
     ]
    },
    {
     "name": "stdout",
     "output_type": "stream",
     "text": [
      "Performance Metrics for AMR-55 (Hourly): {'train_RMSE': np.float64(0.0), 'train_MAE': 0.0, 'test_RMSE': np.float64(0.0), 'test_MAE': 0.0}\n"
     ]
    },
    {
     "name": "stderr",
     "output_type": "stream",
     "text": [
      "Processing Meters:  64%|██████▍   | 103/161 [1:10:30<1:27:15, 90.28s/it]"
     ]
    },
    {
     "name": "stdout",
     "output_type": "stream",
     "text": [
      "\n",
      "Best parameters for AMR-64 (Daily): {'subsample': 0.9, 'reg_lambda': 1.5, 'reg_alpha': 0.5, 'n_estimators': 500, 'max_depth': 5, 'learning_rate': 0.01, 'gamma': 0.1, 'colsample_bytree': 0.7}\n"
     ]
    },
    {
     "name": "stderr",
     "output_type": "stream",
     "text": [
      "Processing Meters:  64%|██████▍   | 103/161 [1:10:32<1:27:15, 90.28s/it]"
     ]
    },
    {
     "name": "stdout",
     "output_type": "stream",
     "text": [
      "Performance Metrics for AMR-64 (Daily): {'train_RMSE': np.float64(0.0), 'train_MAE': 0.0, 'test_RMSE': np.float64(0.0), 'test_MAE': 0.0}\n"
     ]
    },
    {
     "name": "stderr",
     "output_type": "stream",
     "text": [
      "Processing Meters:  64%|██████▍   | 103/161 [1:10:45<1:27:15, 90.28s/it]"
     ]
    },
    {
     "name": "stdout",
     "output_type": "stream",
     "text": [
      "\n",
      "Best parameters for AMR-64 (Hourly): {'subsample': 0.9, 'reg_lambda': 1.5, 'reg_alpha': 0.5, 'n_estimators': 500, 'max_depth': 5, 'learning_rate': 0.01, 'gamma': 0.1, 'colsample_bytree': 0.7}\n"
     ]
    },
    {
     "name": "stderr",
     "output_type": "stream",
     "text": [
      "Processing Meters:  65%|██████▍   | 104/161 [1:10:48<1:08:38, 72.26s/it]"
     ]
    },
    {
     "name": "stdout",
     "output_type": "stream",
     "text": [
      "Performance Metrics for AMR-64 (Hourly): {'train_RMSE': np.float64(0.0), 'train_MAE': 0.0, 'test_RMSE': np.float64(0.0), 'test_MAE': 0.0}\n"
     ]
    },
    {
     "name": "stderr",
     "output_type": "stream",
     "text": [
      "Processing Meters:  65%|██████▍   | 104/161 [1:11:00<1:08:38, 72.26s/it]"
     ]
    },
    {
     "name": "stdout",
     "output_type": "stream",
     "text": [
      "\n",
      "Best parameters for AMR-66 (Daily): {'subsample': 0.9, 'reg_lambda': 1.5, 'reg_alpha': 0.5, 'n_estimators': 500, 'max_depth': 5, 'learning_rate': 0.01, 'gamma': 0.1, 'colsample_bytree': 0.7}\n"
     ]
    },
    {
     "name": "stderr",
     "output_type": "stream",
     "text": [
      "Processing Meters:  65%|██████▍   | 104/161 [1:11:02<1:08:38, 72.26s/it]"
     ]
    },
    {
     "name": "stdout",
     "output_type": "stream",
     "text": [
      "Performance Metrics for AMR-66 (Daily): {'train_RMSE': np.float64(0.0), 'train_MAE': 0.0, 'test_RMSE': np.float64(0.0), 'test_MAE': 0.0}\n"
     ]
    },
    {
     "name": "stderr",
     "output_type": "stream",
     "text": [
      "Processing Meters:  65%|██████▍   | 104/161 [1:11:16<1:08:38, 72.26s/it]"
     ]
    },
    {
     "name": "stdout",
     "output_type": "stream",
     "text": [
      "\n",
      "Best parameters for AMR-66 (Hourly): {'subsample': 0.9, 'reg_lambda': 1.5, 'reg_alpha': 0.5, 'n_estimators': 500, 'max_depth': 5, 'learning_rate': 0.01, 'gamma': 0.1, 'colsample_bytree': 0.7}\n"
     ]
    },
    {
     "name": "stderr",
     "output_type": "stream",
     "text": [
      "Processing Meters:  65%|██████▌   | 105/161 [1:11:20<56:13, 60.24s/it]  "
     ]
    },
    {
     "name": "stdout",
     "output_type": "stream",
     "text": [
      "Performance Metrics for AMR-66 (Hourly): {'train_RMSE': np.float64(0.0), 'train_MAE': 0.0, 'test_RMSE': np.float64(0.0), 'test_MAE': 0.0}\n"
     ]
    },
    {
     "name": "stderr",
     "output_type": "stream",
     "text": [
      "Processing Meters:  65%|██████▌   | 105/161 [1:11:34<56:13, 60.24s/it]"
     ]
    },
    {
     "name": "stdout",
     "output_type": "stream",
     "text": [
      "\n",
      "Best parameters for AMR-80 (Daily): {'subsample': 0.9, 'reg_lambda': 1.5, 'reg_alpha': 0.5, 'n_estimators': 500, 'max_depth': 5, 'learning_rate': 0.01, 'gamma': 0.1, 'colsample_bytree': 0.7}\n"
     ]
    },
    {
     "name": "stderr",
     "output_type": "stream",
     "text": [
      "Processing Meters:  65%|██████▌   | 105/161 [1:11:36<56:13, 60.24s/it]"
     ]
    },
    {
     "name": "stdout",
     "output_type": "stream",
     "text": [
      "Performance Metrics for AMR-80 (Daily): {'train_RMSE': np.float64(0.0), 'train_MAE': 0.0, 'test_RMSE': np.float64(0.0), 'test_MAE': 0.0}\n"
     ]
    },
    {
     "name": "stderr",
     "output_type": "stream",
     "text": [
      "Processing Meters:  65%|██████▌   | 105/161 [1:11:48<56:13, 60.24s/it]"
     ]
    },
    {
     "name": "stdout",
     "output_type": "stream",
     "text": [
      "\n",
      "Best parameters for AMR-80 (Hourly): {'subsample': 0.9, 'reg_lambda': 1.5, 'reg_alpha': 0.5, 'n_estimators': 500, 'max_depth': 5, 'learning_rate': 0.01, 'gamma': 0.1, 'colsample_bytree': 0.7}\n"
     ]
    },
    {
     "name": "stderr",
     "output_type": "stream",
     "text": [
      "Processing Meters:  66%|██████▌   | 106/161 [1:11:52<47:12, 51.49s/it]"
     ]
    },
    {
     "name": "stdout",
     "output_type": "stream",
     "text": [
      "Performance Metrics for AMR-80 (Hourly): {'train_RMSE': np.float64(0.0), 'train_MAE': 0.0, 'test_RMSE': np.float64(0.0), 'test_MAE': 0.0}\n"
     ]
    },
    {
     "name": "stderr",
     "output_type": "stream",
     "text": [
      "Processing Meters:  66%|██████▌   | 106/161 [1:12:03<47:12, 51.49s/it]"
     ]
    },
    {
     "name": "stdout",
     "output_type": "stream",
     "text": [
      "\n",
      "Best parameters for AMR-78 (Daily): {'subsample': 0.9, 'reg_lambda': 1.5, 'reg_alpha': 0.5, 'n_estimators': 500, 'max_depth': 5, 'learning_rate': 0.01, 'gamma': 0.1, 'colsample_bytree': 0.7}\n"
     ]
    },
    {
     "name": "stderr",
     "output_type": "stream",
     "text": [
      "Processing Meters:  66%|██████▌   | 106/161 [1:12:06<47:12, 51.49s/it]"
     ]
    },
    {
     "name": "stdout",
     "output_type": "stream",
     "text": [
      "Performance Metrics for AMR-78 (Daily): {'train_RMSE': np.float64(0.0), 'train_MAE': 0.0, 'test_RMSE': np.float64(0.0), 'test_MAE': 0.0}\n"
     ]
    },
    {
     "name": "stderr",
     "output_type": "stream",
     "text": [
      "Processing Meters:  66%|██████▌   | 106/161 [1:12:19<47:12, 51.49s/it]"
     ]
    },
    {
     "name": "stdout",
     "output_type": "stream",
     "text": [
      "\n",
      "Best parameters for AMR-78 (Hourly): {'subsample': 0.9, 'reg_lambda': 1.5, 'reg_alpha': 0.5, 'n_estimators': 500, 'max_depth': 5, 'learning_rate': 0.01, 'gamma': 0.1, 'colsample_bytree': 0.7}\n"
     ]
    },
    {
     "name": "stderr",
     "output_type": "stream",
     "text": [
      "Processing Meters:  66%|██████▋   | 107/161 [1:12:23<40:57, 45.51s/it]"
     ]
    },
    {
     "name": "stdout",
     "output_type": "stream",
     "text": [
      "Performance Metrics for AMR-78 (Hourly): {'train_RMSE': np.float64(0.0), 'train_MAE': 0.0, 'test_RMSE': np.float64(0.0), 'test_MAE': 0.0}\n"
     ]
    },
    {
     "name": "stderr",
     "output_type": "stream",
     "text": [
      "Processing Meters:  66%|██████▋   | 107/161 [1:12:34<40:57, 45.51s/it]"
     ]
    },
    {
     "name": "stdout",
     "output_type": "stream",
     "text": [
      "\n",
      "Best parameters for AMR-72 (Daily): {'subsample': 0.9, 'reg_lambda': 1.5, 'reg_alpha': 0.5, 'n_estimators': 500, 'max_depth': 5, 'learning_rate': 0.01, 'gamma': 0.1, 'colsample_bytree': 0.7}\n"
     ]
    },
    {
     "name": "stderr",
     "output_type": "stream",
     "text": [
      "Processing Meters:  66%|██████▋   | 107/161 [1:12:36<40:57, 45.51s/it]"
     ]
    },
    {
     "name": "stdout",
     "output_type": "stream",
     "text": [
      "Performance Metrics for AMR-72 (Daily): {'train_RMSE': np.float64(0.0), 'train_MAE': 0.0, 'test_RMSE': np.float64(0.0), 'test_MAE': 0.0}\n"
     ]
    },
    {
     "name": "stderr",
     "output_type": "stream",
     "text": [
      "Processing Meters:  66%|██████▋   | 107/161 [1:12:48<40:57, 45.51s/it]"
     ]
    },
    {
     "name": "stdout",
     "output_type": "stream",
     "text": [
      "\n",
      "Best parameters for AMR-72 (Hourly): {'subsample': 0.9, 'reg_lambda': 1.5, 'reg_alpha': 0.5, 'n_estimators': 500, 'max_depth': 5, 'learning_rate': 0.01, 'gamma': 0.1, 'colsample_bytree': 0.7}\n"
     ]
    },
    {
     "name": "stderr",
     "output_type": "stream",
     "text": [
      "Processing Meters:  67%|██████▋   | 108/161 [1:12:52<35:40, 40.39s/it]"
     ]
    },
    {
     "name": "stdout",
     "output_type": "stream",
     "text": [
      "Performance Metrics for AMR-72 (Hourly): {'train_RMSE': np.float64(0.0), 'train_MAE': 0.0, 'test_RMSE': np.float64(0.0), 'test_MAE': 0.0}\n"
     ]
    },
    {
     "name": "stderr",
     "output_type": "stream",
     "text": [
      "Processing Meters:  67%|██████▋   | 108/161 [1:13:18<35:40, 40.39s/it]"
     ]
    },
    {
     "name": "stdout",
     "output_type": "stream",
     "text": [
      "\n",
      "Best parameters for BFM 13 (Daily): {'subsample': 0.8, 'reg_lambda': 2, 'reg_alpha': 0, 'n_estimators': 1000, 'max_depth': 7, 'learning_rate': 0.05, 'gamma': 0, 'colsample_bytree': 0.7}\n"
     ]
    },
    {
     "name": "stderr",
     "output_type": "stream",
     "text": [
      "Processing Meters:  67%|██████▋   | 108/161 [1:13:21<35:40, 40.39s/it]"
     ]
    },
    {
     "name": "stdout",
     "output_type": "stream",
     "text": [
      "Performance Metrics for BFM 13 (Daily): {'train_RMSE': np.float64(0.0022604457040428533), 'train_MAE': 0.0008759977791185226, 'test_RMSE': np.float64(0.19234479150019682), 'test_MAE': 0.09790251032091897}\n"
     ]
    },
    {
     "name": "stderr",
     "output_type": "stream",
     "text": [
      "Processing Meters:  67%|██████▋   | 108/161 [1:15:15<35:40, 40.39s/it]"
     ]
    },
    {
     "name": "stdout",
     "output_type": "stream",
     "text": [
      "\n",
      "Best parameters for BFM 13 (Hourly): {'subsample': 0.7, 'reg_lambda': 1.5, 'reg_alpha': 0, 'n_estimators': 100, 'max_depth': 3, 'learning_rate': 0.05, 'gamma': 0, 'colsample_bytree': 0.8}\n"
     ]
    },
    {
     "name": "stderr",
     "output_type": "stream",
     "text": [
      "Processing Meters:  68%|██████▊   | 109/161 [1:15:19<1:02:48, 72.46s/it]"
     ]
    },
    {
     "name": "stdout",
     "output_type": "stream",
     "text": [
      "Performance Metrics for BFM 13 (Hourly): {'train_RMSE': np.float64(0.007747611337334508), 'train_MAE': 0.0035973431446076377, 'test_RMSE': np.float64(0.04561519674304563), 'test_MAE': 0.022649735518869542}\n"
     ]
    },
    {
     "name": "stderr",
     "output_type": "stream",
     "text": [
      "Processing Meters:  68%|██████▊   | 109/161 [1:15:30<1:02:48, 72.46s/it]"
     ]
    },
    {
     "name": "stdout",
     "output_type": "stream",
     "text": [
      "\n",
      "Best parameters for BFM 16 (Daily): {'subsample': 0.9, 'reg_lambda': 1.5, 'reg_alpha': 0.5, 'n_estimators': 500, 'max_depth': 5, 'learning_rate': 0.01, 'gamma': 0.1, 'colsample_bytree': 0.7}\n"
     ]
    },
    {
     "name": "stderr",
     "output_type": "stream",
     "text": [
      "Processing Meters:  68%|██████▊   | 109/161 [1:15:31<1:02:48, 72.46s/it]"
     ]
    },
    {
     "name": "stdout",
     "output_type": "stream",
     "text": [
      "Performance Metrics for BFM 16 (Daily): {'train_RMSE': np.float64(0.0), 'train_MAE': 0.0, 'test_RMSE': np.float64(0.0), 'test_MAE': 0.0}\n"
     ]
    },
    {
     "name": "stderr",
     "output_type": "stream",
     "text": [
      "Processing Meters:  68%|██████▊   | 109/161 [1:15:43<1:02:48, 72.46s/it]"
     ]
    },
    {
     "name": "stdout",
     "output_type": "stream",
     "text": [
      "\n",
      "Best parameters for BFM 16 (Hourly): {'subsample': 0.9, 'reg_lambda': 1.5, 'reg_alpha': 0.5, 'n_estimators': 500, 'max_depth': 5, 'learning_rate': 0.01, 'gamma': 0.1, 'colsample_bytree': 0.7}\n"
     ]
    },
    {
     "name": "stderr",
     "output_type": "stream",
     "text": [
      "Processing Meters:  68%|██████▊   | 110/161 [1:15:47<50:15, 59.13s/it]  "
     ]
    },
    {
     "name": "stdout",
     "output_type": "stream",
     "text": [
      "Performance Metrics for BFM 16 (Hourly): {'train_RMSE': np.float64(0.0), 'train_MAE': 0.0, 'test_RMSE': np.float64(0.0), 'test_MAE': 0.0}\n"
     ]
    },
    {
     "name": "stderr",
     "output_type": "stream",
     "text": [
      "Processing Meters:  68%|██████▊   | 110/161 [1:15:59<50:15, 59.13s/it]"
     ]
    },
    {
     "name": "stdout",
     "output_type": "stream",
     "text": [
      "\n",
      "Best parameters for BFM 17 (Daily): {'subsample': 0.9, 'reg_lambda': 1.5, 'reg_alpha': 0.5, 'n_estimators': 500, 'max_depth': 5, 'learning_rate': 0.01, 'gamma': 0.1, 'colsample_bytree': 0.7}\n"
     ]
    },
    {
     "name": "stderr",
     "output_type": "stream",
     "text": [
      "Processing Meters:  68%|██████▊   | 110/161 [1:16:01<50:15, 59.13s/it]"
     ]
    },
    {
     "name": "stdout",
     "output_type": "stream",
     "text": [
      "Performance Metrics for BFM 17 (Daily): {'train_RMSE': np.float64(0.0), 'train_MAE': 0.0, 'test_RMSE': np.float64(0.0), 'test_MAE': 0.0}\n"
     ]
    },
    {
     "name": "stderr",
     "output_type": "stream",
     "text": [
      "Processing Meters:  68%|██████▊   | 110/161 [1:16:14<50:15, 59.13s/it]"
     ]
    },
    {
     "name": "stdout",
     "output_type": "stream",
     "text": [
      "\n",
      "Best parameters for BFM 17 (Hourly): {'subsample': 0.9, 'reg_lambda': 1.5, 'reg_alpha': 0.5, 'n_estimators': 500, 'max_depth': 5, 'learning_rate': 0.01, 'gamma': 0.1, 'colsample_bytree': 0.7}\n"
     ]
    },
    {
     "name": "stderr",
     "output_type": "stream",
     "text": [
      "Processing Meters:  69%|██████▉   | 111/161 [1:16:17<42:06, 50.54s/it]"
     ]
    },
    {
     "name": "stdout",
     "output_type": "stream",
     "text": [
      "Performance Metrics for BFM 17 (Hourly): {'train_RMSE': np.float64(0.0), 'train_MAE': 0.0, 'test_RMSE': np.float64(0.0), 'test_MAE': 0.0}\n"
     ]
    },
    {
     "name": "stderr",
     "output_type": "stream",
     "text": [
      "Processing Meters:  69%|██████▉   | 111/161 [1:16:35<42:06, 50.54s/it]"
     ]
    },
    {
     "name": "stdout",
     "output_type": "stream",
     "text": [
      "\n",
      "Best parameters for BFM 18 (Daily): {'subsample': 0.8, 'reg_lambda': 2, 'reg_alpha': 0, 'n_estimators': 1000, 'max_depth': 7, 'learning_rate': 0.05, 'gamma': 0, 'colsample_bytree': 0.7}\n"
     ]
    },
    {
     "name": "stderr",
     "output_type": "stream",
     "text": [
      "Processing Meters:  69%|██████▉   | 111/161 [1:16:37<42:06, 50.54s/it]"
     ]
    },
    {
     "name": "stdout",
     "output_type": "stream",
     "text": [
      "Performance Metrics for BFM 18 (Daily): {'train_RMSE': np.float64(0.008419000725514237), 'train_MAE': 0.006234027416162055, 'test_RMSE': np.float64(0.06679885000998169), 'test_MAE': 0.04019465772310892}\n"
     ]
    },
    {
     "name": "stderr",
     "output_type": "stream",
     "text": [
      "Processing Meters:  69%|██████▉   | 111/161 [1:18:23<42:06, 50.54s/it]"
     ]
    },
    {
     "name": "stdout",
     "output_type": "stream",
     "text": [
      "\n",
      "Best parameters for BFM 18 (Hourly): {'subsample': 0.7, 'reg_lambda': 1.5, 'reg_alpha': 0, 'n_estimators': 100, 'max_depth': 3, 'learning_rate': 0.05, 'gamma': 0, 'colsample_bytree': 0.8}\n"
     ]
    },
    {
     "name": "stderr",
     "output_type": "stream",
     "text": [
      "Processing Meters:  70%|██████▉   | 112/161 [1:18:27<1:00:32, 74.12s/it]"
     ]
    },
    {
     "name": "stdout",
     "output_type": "stream",
     "text": [
      "Performance Metrics for BFM 18 (Hourly): {'train_RMSE': np.float64(0.008664156616221014), 'train_MAE': 0.0044883951222432095, 'test_RMSE': np.float64(0.018306691669756566), 'test_MAE': 0.005513367937768946}\n"
     ]
    },
    {
     "name": "stderr",
     "output_type": "stream",
     "text": [
      "Processing Meters:  70%|██████▉   | 112/161 [1:18:53<1:00:32, 74.12s/it]"
     ]
    },
    {
     "name": "stdout",
     "output_type": "stream",
     "text": [
      "\n",
      "Best parameters for BFM 10 (Daily): {'subsample': 0.8, 'reg_lambda': 2, 'reg_alpha': 0, 'n_estimators': 1000, 'max_depth': 7, 'learning_rate': 0.05, 'gamma': 0, 'colsample_bytree': 0.7}\n"
     ]
    },
    {
     "name": "stderr",
     "output_type": "stream",
     "text": [
      "Processing Meters:  70%|██████▉   | 112/161 [1:18:56<1:00:32, 74.12s/it]"
     ]
    },
    {
     "name": "stdout",
     "output_type": "stream",
     "text": [
      "Performance Metrics for BFM 10 (Daily): {'train_RMSE': np.float64(0.013103127009443436), 'train_MAE': 0.007327680453278196, 'test_RMSE': np.float64(0.12795855891176955), 'test_MAE': 0.10032234757950624}\n"
     ]
    },
    {
     "name": "stderr",
     "output_type": "stream",
     "text": [
      "Processing Meters:  70%|██████▉   | 112/161 [1:22:01<1:00:32, 74.12s/it]"
     ]
    },
    {
     "name": "stdout",
     "output_type": "stream",
     "text": [
      "\n",
      "Best parameters for BFM 10 (Hourly): {'subsample': 0.9, 'reg_lambda': 1, 'reg_alpha': 0, 'n_estimators': 500, 'max_depth': 7, 'learning_rate': 0.1, 'gamma': 0, 'colsample_bytree': 0.9}\n"
     ]
    },
    {
     "name": "stderr",
     "output_type": "stream",
     "text": [
      "Processing Meters:  70%|███████   | 113/161 [1:22:07<1:34:22, 117.97s/it]"
     ]
    },
    {
     "name": "stdout",
     "output_type": "stream",
     "text": [
      "Performance Metrics for BFM 10 (Hourly): {'train_RMSE': np.float64(0.0011201101290861351), 'train_MAE': 0.0006210779216753876, 'test_RMSE': np.float64(0.0698477854033414), 'test_MAE': 0.02121154024234161}\n"
     ]
    },
    {
     "name": "stderr",
     "output_type": "stream",
     "text": [
      "Processing Meters:  70%|███████   | 113/161 [1:22:17<1:34:22, 117.97s/it]"
     ]
    },
    {
     "name": "stdout",
     "output_type": "stream",
     "text": [
      "\n",
      "Best parameters for AMR-81 (Daily): {'subsample': 0.9, 'reg_lambda': 1.5, 'reg_alpha': 0.5, 'n_estimators': 500, 'max_depth': 5, 'learning_rate': 0.01, 'gamma': 0.1, 'colsample_bytree': 0.7}\n"
     ]
    },
    {
     "name": "stderr",
     "output_type": "stream",
     "text": [
      "Processing Meters:  70%|███████   | 113/161 [1:22:18<1:34:22, 117.97s/it]"
     ]
    },
    {
     "name": "stdout",
     "output_type": "stream",
     "text": [
      "Performance Metrics for AMR-81 (Daily): {'train_RMSE': np.float64(0.0), 'train_MAE': 0.0, 'test_RMSE': np.float64(0.0), 'test_MAE': 0.0}\n"
     ]
    },
    {
     "name": "stderr",
     "output_type": "stream",
     "text": [
      "Processing Meters:  70%|███████   | 113/161 [1:22:28<1:34:22, 117.97s/it]"
     ]
    },
    {
     "name": "stdout",
     "output_type": "stream",
     "text": [
      "\n",
      "Best parameters for AMR-81 (Hourly): {'subsample': 0.9, 'reg_lambda': 1.5, 'reg_alpha': 0.5, 'n_estimators': 500, 'max_depth': 5, 'learning_rate': 0.01, 'gamma': 0.1, 'colsample_bytree': 0.7}\n"
     ]
    },
    {
     "name": "stderr",
     "output_type": "stream",
     "text": [
      "Processing Meters:  71%|███████   | 114/161 [1:22:32<1:10:34, 90.09s/it] "
     ]
    },
    {
     "name": "stdout",
     "output_type": "stream",
     "text": [
      "Performance Metrics for AMR-81 (Hourly): {'train_RMSE': np.float64(0.0), 'train_MAE': 0.0, 'test_RMSE': np.float64(0.0), 'test_MAE': 0.0}\n"
     ]
    },
    {
     "name": "stderr",
     "output_type": "stream",
     "text": [
      "Processing Meters:  71%|███████   | 114/161 [1:22:42<1:10:34, 90.09s/it]"
     ]
    },
    {
     "name": "stdout",
     "output_type": "stream",
     "text": [
      "\n",
      "Best parameters for AMR-69 (Daily): {'subsample': 0.9, 'reg_lambda': 1.5, 'reg_alpha': 0.5, 'n_estimators': 500, 'max_depth': 5, 'learning_rate': 0.01, 'gamma': 0.1, 'colsample_bytree': 0.7}\n"
     ]
    },
    {
     "name": "stderr",
     "output_type": "stream",
     "text": [
      "Processing Meters:  71%|███████   | 114/161 [1:22:44<1:10:34, 90.09s/it]"
     ]
    },
    {
     "name": "stdout",
     "output_type": "stream",
     "text": [
      "Performance Metrics for AMR-69 (Daily): {'train_RMSE': np.float64(0.0), 'train_MAE': 0.0, 'test_RMSE': np.float64(0.0), 'test_MAE': 0.0}\n"
     ]
    },
    {
     "name": "stderr",
     "output_type": "stream",
     "text": [
      "Processing Meters:  71%|███████   | 114/161 [1:22:53<1:10:34, 90.09s/it]"
     ]
    },
    {
     "name": "stdout",
     "output_type": "stream",
     "text": [
      "\n",
      "Best parameters for AMR-69 (Hourly): {'subsample': 0.9, 'reg_lambda': 1.5, 'reg_alpha': 0.5, 'n_estimators': 500, 'max_depth': 5, 'learning_rate': 0.01, 'gamma': 0.1, 'colsample_bytree': 0.7}\n"
     ]
    },
    {
     "name": "stderr",
     "output_type": "stream",
     "text": [
      "Processing Meters:  71%|███████▏  | 115/161 [1:22:57<54:03, 70.51s/it]  "
     ]
    },
    {
     "name": "stdout",
     "output_type": "stream",
     "text": [
      "Performance Metrics for AMR-69 (Hourly): {'train_RMSE': np.float64(0.0), 'train_MAE': 0.0, 'test_RMSE': np.float64(0.0), 'test_MAE': 0.0}\n"
     ]
    },
    {
     "name": "stderr",
     "output_type": "stream",
     "text": [
      "Processing Meters:  71%|███████▏  | 115/161 [1:23:06<54:03, 70.51s/it]"
     ]
    },
    {
     "name": "stdout",
     "output_type": "stream",
     "text": [
      "\n",
      "Best parameters for AMR-40 (Daily): {'subsample': 0.9, 'reg_lambda': 1.5, 'reg_alpha': 0.5, 'n_estimators': 500, 'max_depth': 5, 'learning_rate': 0.01, 'gamma': 0.1, 'colsample_bytree': 0.7}\n"
     ]
    },
    {
     "name": "stderr",
     "output_type": "stream",
     "text": [
      "Processing Meters:  71%|███████▏  | 115/161 [1:23:08<54:03, 70.51s/it]"
     ]
    },
    {
     "name": "stdout",
     "output_type": "stream",
     "text": [
      "Performance Metrics for AMR-40 (Daily): {'train_RMSE': np.float64(0.0), 'train_MAE': 0.0, 'test_RMSE': np.float64(0.0), 'test_MAE': 0.0}\n"
     ]
    },
    {
     "name": "stderr",
     "output_type": "stream",
     "text": [
      "Processing Meters:  71%|███████▏  | 115/161 [1:23:17<54:03, 70.51s/it]"
     ]
    },
    {
     "name": "stdout",
     "output_type": "stream",
     "text": [
      "\n",
      "Best parameters for AMR-40 (Hourly): {'subsample': 0.9, 'reg_lambda': 1.5, 'reg_alpha': 0.5, 'n_estimators': 500, 'max_depth': 5, 'learning_rate': 0.01, 'gamma': 0.1, 'colsample_bytree': 0.7}\n"
     ]
    },
    {
     "name": "stderr",
     "output_type": "stream",
     "text": [
      "Processing Meters:  72%|███████▏  | 116/161 [1:23:21<42:23, 56.52s/it]"
     ]
    },
    {
     "name": "stdout",
     "output_type": "stream",
     "text": [
      "Performance Metrics for AMR-40 (Hourly): {'train_RMSE': np.float64(0.0), 'train_MAE': 0.0, 'test_RMSE': np.float64(0.0), 'test_MAE': 0.0}\n"
     ]
    },
    {
     "name": "stderr",
     "output_type": "stream",
     "text": [
      "Processing Meters:  72%|███████▏  | 116/161 [1:23:30<42:23, 56.52s/it]"
     ]
    },
    {
     "name": "stdout",
     "output_type": "stream",
     "text": [
      "\n",
      "Best parameters for AMR-54 (Daily): {'subsample': 0.9, 'reg_lambda': 1.5, 'reg_alpha': 0.5, 'n_estimators': 500, 'max_depth': 5, 'learning_rate': 0.01, 'gamma': 0.1, 'colsample_bytree': 0.7}\n"
     ]
    },
    {
     "name": "stderr",
     "output_type": "stream",
     "text": [
      "Processing Meters:  72%|███████▏  | 116/161 [1:23:32<42:23, 56.52s/it]"
     ]
    },
    {
     "name": "stdout",
     "output_type": "stream",
     "text": [
      "Performance Metrics for AMR-54 (Daily): {'train_RMSE': np.float64(0.0), 'train_MAE': 0.0, 'test_RMSE': np.float64(0.0), 'test_MAE': 0.0}\n"
     ]
    },
    {
     "name": "stderr",
     "output_type": "stream",
     "text": [
      "Processing Meters:  72%|███████▏  | 116/161 [1:23:41<42:23, 56.52s/it]"
     ]
    },
    {
     "name": "stdout",
     "output_type": "stream",
     "text": [
      "\n",
      "Best parameters for AMR-54 (Hourly): {'subsample': 0.9, 'reg_lambda': 1.5, 'reg_alpha': 0.5, 'n_estimators': 500, 'max_depth': 5, 'learning_rate': 0.01, 'gamma': 0.1, 'colsample_bytree': 0.7}\n"
     ]
    },
    {
     "name": "stderr",
     "output_type": "stream",
     "text": [
      "Processing Meters:  73%|███████▎  | 117/161 [1:23:45<34:19, 46.80s/it]"
     ]
    },
    {
     "name": "stdout",
     "output_type": "stream",
     "text": [
      "Performance Metrics for AMR-54 (Hourly): {'train_RMSE': np.float64(0.0), 'train_MAE': 0.0, 'test_RMSE': np.float64(0.0), 'test_MAE': 0.0}\n"
     ]
    },
    {
     "name": "stderr",
     "output_type": "stream",
     "text": [
      "Processing Meters:  73%|███████▎  | 117/161 [1:23:54<34:19, 46.80s/it]"
     ]
    },
    {
     "name": "stdout",
     "output_type": "stream",
     "text": [
      "\n",
      "Best parameters for AMR-59 (Daily): {'subsample': 0.9, 'reg_lambda': 1.5, 'reg_alpha': 0.5, 'n_estimators': 500, 'max_depth': 5, 'learning_rate': 0.01, 'gamma': 0.1, 'colsample_bytree': 0.7}\n"
     ]
    },
    {
     "name": "stderr",
     "output_type": "stream",
     "text": [
      "Processing Meters:  73%|███████▎  | 117/161 [1:23:55<34:19, 46.80s/it]"
     ]
    },
    {
     "name": "stdout",
     "output_type": "stream",
     "text": [
      "Performance Metrics for AMR-59 (Daily): {'train_RMSE': np.float64(0.0), 'train_MAE': 0.0, 'test_RMSE': np.float64(0.0), 'test_MAE': 0.0}\n"
     ]
    },
    {
     "name": "stderr",
     "output_type": "stream",
     "text": [
      "Processing Meters:  73%|███████▎  | 117/161 [1:24:06<34:19, 46.80s/it]"
     ]
    },
    {
     "name": "stdout",
     "output_type": "stream",
     "text": [
      "\n",
      "Best parameters for AMR-59 (Hourly): {'subsample': 0.9, 'reg_lambda': 1.5, 'reg_alpha': 0.5, 'n_estimators': 500, 'max_depth': 5, 'learning_rate': 0.01, 'gamma': 0.1, 'colsample_bytree': 0.7}\n"
     ]
    },
    {
     "name": "stderr",
     "output_type": "stream",
     "text": [
      "Processing Meters:  73%|███████▎  | 118/161 [1:24:09<28:43, 40.09s/it]"
     ]
    },
    {
     "name": "stdout",
     "output_type": "stream",
     "text": [
      "Performance Metrics for AMR-59 (Hourly): {'train_RMSE': np.float64(0.0), 'train_MAE': 0.0, 'test_RMSE': np.float64(0.0), 'test_MAE': 0.0}\n"
     ]
    },
    {
     "name": "stderr",
     "output_type": "stream",
     "text": [
      "Processing Meters:  73%|███████▎  | 118/161 [1:24:20<28:43, 40.09s/it]"
     ]
    },
    {
     "name": "stdout",
     "output_type": "stream",
     "text": [
      "\n",
      "Best parameters for AMR-84 (Daily): {'subsample': 0.9, 'reg_lambda': 1.5, 'reg_alpha': 0.5, 'n_estimators': 500, 'max_depth': 5, 'learning_rate': 0.01, 'gamma': 0.1, 'colsample_bytree': 0.7}\n"
     ]
    },
    {
     "name": "stderr",
     "output_type": "stream",
     "text": [
      "Processing Meters:  73%|███████▎  | 118/161 [1:24:22<28:43, 40.09s/it]"
     ]
    },
    {
     "name": "stdout",
     "output_type": "stream",
     "text": [
      "Performance Metrics for AMR-84 (Daily): {'train_RMSE': np.float64(0.0), 'train_MAE': 0.0, 'test_RMSE': np.float64(0.0), 'test_MAE': 0.0}\n"
     ]
    },
    {
     "name": "stderr",
     "output_type": "stream",
     "text": [
      "Processing Meters:  73%|███████▎  | 118/161 [1:24:33<28:43, 40.09s/it]"
     ]
    },
    {
     "name": "stdout",
     "output_type": "stream",
     "text": [
      "\n",
      "Best parameters for AMR-84 (Hourly): {'subsample': 0.9, 'reg_lambda': 1.5, 'reg_alpha': 0.5, 'n_estimators': 500, 'max_depth': 5, 'learning_rate': 0.01, 'gamma': 0.1, 'colsample_bytree': 0.7}\n"
     ]
    },
    {
     "name": "stderr",
     "output_type": "stream",
     "text": [
      "Processing Meters:  74%|███████▍  | 119/161 [1:24:36<25:23, 36.28s/it]"
     ]
    },
    {
     "name": "stdout",
     "output_type": "stream",
     "text": [
      "Performance Metrics for AMR-84 (Hourly): {'train_RMSE': np.float64(0.0), 'train_MAE': 0.0, 'test_RMSE': np.float64(0.0), 'test_MAE': 0.0}\n"
     ]
    },
    {
     "name": "stderr",
     "output_type": "stream",
     "text": [
      "Processing Meters:  74%|███████▍  | 119/161 [1:24:46<25:23, 36.28s/it]"
     ]
    },
    {
     "name": "stdout",
     "output_type": "stream",
     "text": [
      "\n",
      "Best parameters for AMR-82 (Daily): {'subsample': 0.9, 'reg_lambda': 1.5, 'reg_alpha': 0.5, 'n_estimators': 500, 'max_depth': 5, 'learning_rate': 0.01, 'gamma': 0.1, 'colsample_bytree': 0.7}\n"
     ]
    },
    {
     "name": "stderr",
     "output_type": "stream",
     "text": [
      "Processing Meters:  74%|███████▍  | 119/161 [1:24:48<25:23, 36.28s/it]"
     ]
    },
    {
     "name": "stdout",
     "output_type": "stream",
     "text": [
      "Performance Metrics for AMR-82 (Daily): {'train_RMSE': np.float64(0.0), 'train_MAE': 0.0, 'test_RMSE': np.float64(0.0), 'test_MAE': 0.0}\n"
     ]
    },
    {
     "name": "stderr",
     "output_type": "stream",
     "text": [
      "Processing Meters:  74%|███████▍  | 119/161 [1:24:58<25:23, 36.28s/it]"
     ]
    },
    {
     "name": "stdout",
     "output_type": "stream",
     "text": [
      "\n",
      "Best parameters for AMR-82 (Hourly): {'subsample': 0.9, 'reg_lambda': 1.5, 'reg_alpha': 0.5, 'n_estimators': 500, 'max_depth': 5, 'learning_rate': 0.01, 'gamma': 0.1, 'colsample_bytree': 0.7}\n"
     ]
    },
    {
     "name": "stderr",
     "output_type": "stream",
     "text": [
      "Processing Meters:  75%|███████▍  | 120/161 [1:25:01<22:26, 32.83s/it]"
     ]
    },
    {
     "name": "stdout",
     "output_type": "stream",
     "text": [
      "Performance Metrics for AMR-82 (Hourly): {'train_RMSE': np.float64(0.0), 'train_MAE': 0.0, 'test_RMSE': np.float64(0.0), 'test_MAE': 0.0}\n"
     ]
    },
    {
     "name": "stderr",
     "output_type": "stream",
     "text": [
      "Processing Meters:  75%|███████▍  | 120/161 [1:25:11<22:26, 32.83s/it]"
     ]
    },
    {
     "name": "stdout",
     "output_type": "stream",
     "text": [
      "\n",
      "Best parameters for AMR-34 (Daily): {'subsample': 0.9, 'reg_lambda': 1.5, 'reg_alpha': 0.5, 'n_estimators': 500, 'max_depth': 5, 'learning_rate': 0.01, 'gamma': 0.1, 'colsample_bytree': 0.7}\n"
     ]
    },
    {
     "name": "stderr",
     "output_type": "stream",
     "text": [
      "Processing Meters:  75%|███████▍  | 120/161 [1:25:13<22:26, 32.83s/it]"
     ]
    },
    {
     "name": "stdout",
     "output_type": "stream",
     "text": [
      "Performance Metrics for AMR-34 (Daily): {'train_RMSE': np.float64(0.0), 'train_MAE': 0.0, 'test_RMSE': np.float64(0.0), 'test_MAE': 0.0}\n"
     ]
    },
    {
     "name": "stderr",
     "output_type": "stream",
     "text": [
      "Processing Meters:  75%|███████▍  | 120/161 [1:25:44<22:26, 32.83s/it]"
     ]
    },
    {
     "name": "stdout",
     "output_type": "stream",
     "text": [
      "\n",
      "Best parameters for AMR-34 (Hourly): {'subsample': 0.9, 'reg_lambda': 1.5, 'reg_alpha': 0.5, 'n_estimators': 500, 'max_depth': 5, 'learning_rate': 0.01, 'gamma': 0.1, 'colsample_bytree': 0.7}\n"
     ]
    },
    {
     "name": "stderr",
     "output_type": "stream",
     "text": [
      "Processing Meters:  75%|███████▌  | 121/161 [1:25:48<24:43, 37.08s/it]"
     ]
    },
    {
     "name": "stdout",
     "output_type": "stream",
     "text": [
      "Performance Metrics for AMR-34 (Hourly): {'train_RMSE': np.float64(0.0), 'train_MAE': 0.0, 'test_RMSE': np.float64(0.0), 'test_MAE': 0.0}\n"
     ]
    },
    {
     "name": "stderr",
     "output_type": "stream",
     "text": [
      "Processing Meters:  75%|███████▌  | 121/161 [1:26:10<24:43, 37.08s/it]"
     ]
    },
    {
     "name": "stdout",
     "output_type": "stream",
     "text": [
      "\n",
      "Best parameters for AMR-83 (Daily): {'subsample': 0.9, 'reg_lambda': 1.5, 'reg_alpha': 0.5, 'n_estimators': 500, 'max_depth': 5, 'learning_rate': 0.01, 'gamma': 0.1, 'colsample_bytree': 0.7}\n"
     ]
    },
    {
     "name": "stderr",
     "output_type": "stream",
     "text": [
      "Processing Meters:  75%|███████▌  | 121/161 [1:26:13<24:43, 37.08s/it]"
     ]
    },
    {
     "name": "stdout",
     "output_type": "stream",
     "text": [
      "Performance Metrics for AMR-83 (Daily): {'train_RMSE': np.float64(0.0), 'train_MAE': 0.0, 'test_RMSE': np.float64(0.0), 'test_MAE': 0.0}\n"
     ]
    },
    {
     "name": "stderr",
     "output_type": "stream",
     "text": [
      "Processing Meters:  75%|███████▌  | 121/161 [1:26:26<24:43, 37.08s/it]"
     ]
    },
    {
     "name": "stdout",
     "output_type": "stream",
     "text": [
      "\n",
      "Best parameters for AMR-83 (Hourly): {'subsample': 0.9, 'reg_lambda': 1.5, 'reg_alpha': 0.5, 'n_estimators': 500, 'max_depth': 5, 'learning_rate': 0.01, 'gamma': 0.1, 'colsample_bytree': 0.7}\n"
     ]
    },
    {
     "name": "stderr",
     "output_type": "stream",
     "text": [
      "Processing Meters:  76%|███████▌  | 122/161 [1:26:29<24:54, 38.32s/it]"
     ]
    },
    {
     "name": "stdout",
     "output_type": "stream",
     "text": [
      "Performance Metrics for AMR-83 (Hourly): {'train_RMSE': np.float64(0.0), 'train_MAE': 0.0, 'test_RMSE': np.float64(0.0), 'test_MAE': 0.0}\n"
     ]
    },
    {
     "name": "stderr",
     "output_type": "stream",
     "text": [
      "Processing Meters:  76%|███████▌  | 122/161 [1:26:41<24:54, 38.32s/it]"
     ]
    },
    {
     "name": "stdout",
     "output_type": "stream",
     "text": [
      "\n",
      "Best parameters for AMR-92 (Daily): {'subsample': 0.9, 'reg_lambda': 1.5, 'reg_alpha': 0.5, 'n_estimators': 500, 'max_depth': 5, 'learning_rate': 0.01, 'gamma': 0.1, 'colsample_bytree': 0.7}\n"
     ]
    },
    {
     "name": "stderr",
     "output_type": "stream",
     "text": [
      "Processing Meters:  76%|███████▌  | 122/161 [1:26:43<24:54, 38.32s/it]"
     ]
    },
    {
     "name": "stdout",
     "output_type": "stream",
     "text": [
      "Performance Metrics for AMR-92 (Daily): {'train_RMSE': np.float64(0.0), 'train_MAE': 0.0, 'test_RMSE': np.float64(0.0), 'test_MAE': 0.0}\n"
     ]
    },
    {
     "name": "stderr",
     "output_type": "stream",
     "text": [
      "Processing Meters:  76%|███████▌  | 122/161 [1:26:55<24:54, 38.32s/it]"
     ]
    },
    {
     "name": "stdout",
     "output_type": "stream",
     "text": [
      "\n",
      "Best parameters for AMR-92 (Hourly): {'subsample': 0.9, 'reg_lambda': 1.5, 'reg_alpha': 0.5, 'n_estimators': 500, 'max_depth': 5, 'learning_rate': 0.01, 'gamma': 0.1, 'colsample_bytree': 0.7}\n"
     ]
    },
    {
     "name": "stderr",
     "output_type": "stream",
     "text": [
      "Processing Meters:  76%|███████▋  | 123/161 [1:26:58<22:25, 35.40s/it]"
     ]
    },
    {
     "name": "stdout",
     "output_type": "stream",
     "text": [
      "Performance Metrics for AMR-92 (Hourly): {'train_RMSE': np.float64(0.0), 'train_MAE': 0.0, 'test_RMSE': np.float64(0.0), 'test_MAE': 0.0}\n"
     ]
    },
    {
     "name": "stderr",
     "output_type": "stream",
     "text": [
      "Processing Meters:  76%|███████▋  | 123/161 [1:27:09<22:25, 35.40s/it]"
     ]
    },
    {
     "name": "stdout",
     "output_type": "stream",
     "text": [
      "\n",
      "Best parameters for AMR-68 (Daily): {'subsample': 0.9, 'reg_lambda': 1.5, 'reg_alpha': 0.5, 'n_estimators': 500, 'max_depth': 5, 'learning_rate': 0.01, 'gamma': 0.1, 'colsample_bytree': 0.7}\n"
     ]
    },
    {
     "name": "stderr",
     "output_type": "stream",
     "text": [
      "Processing Meters:  76%|███████▋  | 123/161 [1:27:11<22:25, 35.40s/it]"
     ]
    },
    {
     "name": "stdout",
     "output_type": "stream",
     "text": [
      "Performance Metrics for AMR-68 (Daily): {'train_RMSE': np.float64(0.0), 'train_MAE': 0.0, 'test_RMSE': np.float64(0.0), 'test_MAE': 0.0}\n"
     ]
    },
    {
     "name": "stderr",
     "output_type": "stream",
     "text": [
      "Processing Meters:  76%|███████▋  | 123/161 [1:27:22<22:25, 35.40s/it]"
     ]
    },
    {
     "name": "stdout",
     "output_type": "stream",
     "text": [
      "\n",
      "Best parameters for AMR-68 (Hourly): {'subsample': 0.9, 'reg_lambda': 1.5, 'reg_alpha': 0.5, 'n_estimators': 500, 'max_depth': 5, 'learning_rate': 0.01, 'gamma': 0.1, 'colsample_bytree': 0.7}\n"
     ]
    },
    {
     "name": "stderr",
     "output_type": "stream",
     "text": [
      "Processing Meters:  77%|███████▋  | 124/161 [1:27:26<20:26, 33.14s/it]"
     ]
    },
    {
     "name": "stdout",
     "output_type": "stream",
     "text": [
      "Performance Metrics for AMR-68 (Hourly): {'train_RMSE': np.float64(0.0), 'train_MAE': 0.0, 'test_RMSE': np.float64(0.0), 'test_MAE': 0.0}\n"
     ]
    },
    {
     "name": "stderr",
     "output_type": "stream",
     "text": [
      "Processing Meters:  77%|███████▋  | 124/161 [1:27:38<20:26, 33.14s/it]"
     ]
    },
    {
     "name": "stdout",
     "output_type": "stream",
     "text": [
      "\n",
      "Best parameters for AMR-254 (Daily): {'subsample': 0.9, 'reg_lambda': 1.5, 'reg_alpha': 0.5, 'n_estimators': 500, 'max_depth': 5, 'learning_rate': 0.01, 'gamma': 0.1, 'colsample_bytree': 0.7}\n"
     ]
    },
    {
     "name": "stderr",
     "output_type": "stream",
     "text": [
      "Processing Meters:  77%|███████▋  | 124/161 [1:27:40<20:26, 33.14s/it]"
     ]
    },
    {
     "name": "stdout",
     "output_type": "stream",
     "text": [
      "Performance Metrics for AMR-254 (Daily): {'train_RMSE': np.float64(0.0), 'train_MAE': 0.0, 'test_RMSE': np.float64(0.0), 'test_MAE': 0.0}\n"
     ]
    },
    {
     "name": "stderr",
     "output_type": "stream",
     "text": [
      "Processing Meters:  77%|███████▋  | 124/161 [1:27:53<20:26, 33.14s/it]"
     ]
    },
    {
     "name": "stdout",
     "output_type": "stream",
     "text": [
      "\n",
      "Best parameters for AMR-254 (Hourly): {'subsample': 0.9, 'reg_lambda': 1.5, 'reg_alpha': 0.5, 'n_estimators': 500, 'max_depth': 5, 'learning_rate': 0.01, 'gamma': 0.1, 'colsample_bytree': 0.7}\n"
     ]
    },
    {
     "name": "stderr",
     "output_type": "stream",
     "text": [
      "Processing Meters:  78%|███████▊  | 125/161 [1:27:56<19:19, 32.20s/it]"
     ]
    },
    {
     "name": "stdout",
     "output_type": "stream",
     "text": [
      "Performance Metrics for AMR-254 (Hourly): {'train_RMSE': np.float64(0.0), 'train_MAE': 0.0, 'test_RMSE': np.float64(0.0), 'test_MAE': 0.0}\n"
     ]
    },
    {
     "name": "stderr",
     "output_type": "stream",
     "text": [
      "Processing Meters:  78%|███████▊  | 125/161 [1:28:20<19:19, 32.20s/it]"
     ]
    },
    {
     "name": "stdout",
     "output_type": "stream",
     "text": [
      "\n",
      "Best parameters for BFM 6 (Daily): {'subsample': 0.8, 'reg_lambda': 2, 'reg_alpha': 0, 'n_estimators': 1000, 'max_depth': 7, 'learning_rate': 0.05, 'gamma': 0, 'colsample_bytree': 0.7}\n"
     ]
    },
    {
     "name": "stderr",
     "output_type": "stream",
     "text": [
      "Processing Meters:  78%|███████▊  | 125/161 [1:28:22<19:19, 32.20s/it]"
     ]
    },
    {
     "name": "stdout",
     "output_type": "stream",
     "text": [
      "Performance Metrics for BFM 6 (Daily): {'train_RMSE': np.float64(0.0005562901148190071), 'train_MAE': 0.000389133681012347, 'test_RMSE': np.float64(0.12294411212775282), 'test_MAE': 0.05984833075993042}\n"
     ]
    },
    {
     "name": "stderr",
     "output_type": "stream",
     "text": [
      "Processing Meters:  78%|███████▊  | 125/161 [1:29:52<19:19, 32.20s/it]"
     ]
    },
    {
     "name": "stdout",
     "output_type": "stream",
     "text": [
      "\n",
      "Best parameters for BFM 6 (Hourly): {'subsample': 0.7, 'reg_lambda': 1.5, 'reg_alpha': 0, 'n_estimators': 100, 'max_depth': 3, 'learning_rate': 0.05, 'gamma': 0, 'colsample_bytree': 0.8}\n"
     ]
    },
    {
     "name": "stderr",
     "output_type": "stream",
     "text": [
      "Processing Meters:  78%|███████▊  | 126/161 [1:29:56<34:10, 58.59s/it]"
     ]
    },
    {
     "name": "stdout",
     "output_type": "stream",
     "text": [
      "Performance Metrics for BFM 6 (Hourly): {'train_RMSE': np.float64(0.010300034037031428), 'train_MAE': 0.0021991767908042205, 'test_RMSE': np.float64(0.0645969335457114), 'test_MAE': 0.017443006954081415}\n"
     ]
    },
    {
     "name": "stderr",
     "output_type": "stream",
     "text": [
      "Processing Meters:  78%|███████▊  | 126/161 [1:30:14<34:10, 58.59s/it]"
     ]
    },
    {
     "name": "stdout",
     "output_type": "stream",
     "text": [
      "\n",
      "Best parameters for BFM 7 (Daily): {'subsample': 0.7, 'reg_lambda': 1.5, 'reg_alpha': 0.5, 'n_estimators': 100, 'max_depth': 5, 'learning_rate': 0.1, 'gamma': 0.5, 'colsample_bytree': 0.9}\n"
     ]
    },
    {
     "name": "stderr",
     "output_type": "stream",
     "text": [
      "Processing Meters:  78%|███████▊  | 126/161 [1:30:16<34:10, 58.59s/it]"
     ]
    },
    {
     "name": "stdout",
     "output_type": "stream",
     "text": [
      "Performance Metrics for BFM 7 (Daily): {'train_RMSE': np.float64(0.7845481547601931), 'train_MAE': 0.29101275789177766, 'test_RMSE': np.float64(0.06340299809202722), 'test_MAE': 0.05804654674329545}\n"
     ]
    },
    {
     "name": "stderr",
     "output_type": "stream",
     "text": [
      "Processing Meters:  78%|███████▊  | 126/161 [1:32:50<34:10, 58.59s/it]"
     ]
    },
    {
     "name": "stdout",
     "output_type": "stream",
     "text": [
      "\n",
      "Best parameters for BFM 7 (Hourly): {'subsample': 0.7, 'reg_lambda': 2, 'reg_alpha': 0.1, 'n_estimators': 500, 'max_depth': 7, 'learning_rate': 0.01, 'gamma': 0, 'colsample_bytree': 0.8}\n"
     ]
    },
    {
     "name": "stderr",
     "output_type": "stream",
     "text": [
      "Processing Meters:  79%|███████▉  | 127/161 [1:32:54<53:29, 94.39s/it]"
     ]
    },
    {
     "name": "stdout",
     "output_type": "stream",
     "text": [
      "Performance Metrics for BFM 7 (Hourly): {'train_RMSE': np.float64(0.07944904258337071), 'train_MAE': 0.022013989979856978, 'test_RMSE': np.float64(0.01982698534194494), 'test_MAE': 0.009029074983166841}\n"
     ]
    },
    {
     "name": "stderr",
     "output_type": "stream",
     "text": [
      "Processing Meters:  79%|███████▉  | 127/161 [1:33:03<53:29, 94.39s/it]"
     ]
    },
    {
     "name": "stdout",
     "output_type": "stream",
     "text": [
      "\n",
      "Best parameters for AMR-119 (Daily): {'subsample': 0.9, 'reg_lambda': 1.5, 'reg_alpha': 0.5, 'n_estimators': 500, 'max_depth': 5, 'learning_rate': 0.01, 'gamma': 0.1, 'colsample_bytree': 0.7}\n"
     ]
    },
    {
     "name": "stderr",
     "output_type": "stream",
     "text": [
      "Processing Meters:  79%|███████▉  | 127/161 [1:33:05<53:29, 94.39s/it]"
     ]
    },
    {
     "name": "stdout",
     "output_type": "stream",
     "text": [
      "Performance Metrics for AMR-119 (Daily): {'train_RMSE': np.float64(0.0), 'train_MAE': 0.0, 'test_RMSE': np.float64(0.0), 'test_MAE': 0.0}\n"
     ]
    },
    {
     "name": "stderr",
     "output_type": "stream",
     "text": [
      "Processing Meters:  79%|███████▉  | 127/161 [1:33:15<53:29, 94.39s/it]"
     ]
    },
    {
     "name": "stdout",
     "output_type": "stream",
     "text": [
      "\n",
      "Best parameters for AMR-119 (Hourly): {'subsample': 0.9, 'reg_lambda': 1.5, 'reg_alpha': 0.5, 'n_estimators': 500, 'max_depth': 5, 'learning_rate': 0.01, 'gamma': 0.1, 'colsample_bytree': 0.7}\n"
     ]
    },
    {
     "name": "stderr",
     "output_type": "stream",
     "text": [
      "Processing Meters:  80%|███████▉  | 128/161 [1:33:19<40:22, 73.42s/it]"
     ]
    },
    {
     "name": "stdout",
     "output_type": "stream",
     "text": [
      "Performance Metrics for AMR-119 (Hourly): {'train_RMSE': np.float64(0.0), 'train_MAE': 0.0, 'test_RMSE': np.float64(0.0), 'test_MAE': 0.0}\n"
     ]
    },
    {
     "name": "stderr",
     "output_type": "stream",
     "text": [
      "Processing Meters:  80%|███████▉  | 128/161 [1:33:36<40:22, 73.42s/it]"
     ]
    },
    {
     "name": "stdout",
     "output_type": "stream",
     "text": [
      "\n",
      "Best parameters for BFM 24 (Daily): {'subsample': 0.8, 'reg_lambda': 2, 'reg_alpha': 0, 'n_estimators': 1000, 'max_depth': 7, 'learning_rate': 0.05, 'gamma': 0, 'colsample_bytree': 0.7}\n"
     ]
    },
    {
     "name": "stderr",
     "output_type": "stream",
     "text": [
      "Processing Meters:  80%|███████▉  | 128/161 [1:33:38<40:22, 73.42s/it]"
     ]
    },
    {
     "name": "stdout",
     "output_type": "stream",
     "text": [
      "Performance Metrics for BFM 24 (Daily): {'train_RMSE': np.float64(0.08316991432320925), 'train_MAE': 0.03962607529704289, 'test_RMSE': np.float64(0.38376862199995054), 'test_MAE': 0.2583483444889752}\n"
     ]
    },
    {
     "name": "stderr",
     "output_type": "stream",
     "text": [
      "Processing Meters:  80%|███████▉  | 128/161 [1:36:16<40:22, 73.42s/it]"
     ]
    },
    {
     "name": "stdout",
     "output_type": "stream",
     "text": [
      "\n",
      "Best parameters for BFM 24 (Hourly): {'subsample': 0.9, 'reg_lambda': 1, 'reg_alpha': 0, 'n_estimators': 500, 'max_depth': 7, 'learning_rate': 0.1, 'gamma': 0, 'colsample_bytree': 0.9}\n"
     ]
    },
    {
     "name": "stderr",
     "output_type": "stream",
     "text": [
      "Processing Meters:  80%|████████  | 129/161 [1:36:21<56:32, 106.03s/it]"
     ]
    },
    {
     "name": "stdout",
     "output_type": "stream",
     "text": [
      "Performance Metrics for BFM 24 (Hourly): {'train_RMSE': np.float64(0.0017200960407867374), 'train_MAE': 0.0012652884088659082, 'test_RMSE': np.float64(0.03876953585349917), 'test_MAE': 0.017930558337747003}\n"
     ]
    },
    {
     "name": "stderr",
     "output_type": "stream",
     "text": [
      "Processing Meters:  80%|████████  | 129/161 [1:36:33<56:32, 106.03s/it]"
     ]
    },
    {
     "name": "stdout",
     "output_type": "stream",
     "text": [
      "\n",
      "Best parameters for AMR-182 (Daily): {'subsample': 0.9, 'reg_lambda': 1.5, 'reg_alpha': 0.5, 'n_estimators': 500, 'max_depth': 5, 'learning_rate': 0.01, 'gamma': 0.1, 'colsample_bytree': 0.7}\n"
     ]
    },
    {
     "name": "stderr",
     "output_type": "stream",
     "text": [
      "Processing Meters:  80%|████████  | 129/161 [1:36:35<56:32, 106.03s/it]"
     ]
    },
    {
     "name": "stdout",
     "output_type": "stream",
     "text": [
      "Performance Metrics for AMR-182 (Daily): {'train_RMSE': np.float64(0.0), 'train_MAE': 0.0, 'test_RMSE': np.float64(0.0), 'test_MAE': 0.0}\n"
     ]
    },
    {
     "name": "stderr",
     "output_type": "stream",
     "text": [
      "Processing Meters:  80%|████████  | 129/161 [1:36:50<56:32, 106.03s/it]"
     ]
    },
    {
     "name": "stdout",
     "output_type": "stream",
     "text": [
      "\n",
      "Best parameters for AMR-182 (Hourly): {'subsample': 0.9, 'reg_lambda': 1.5, 'reg_alpha': 0.5, 'n_estimators': 500, 'max_depth': 5, 'learning_rate': 0.01, 'gamma': 0.1, 'colsample_bytree': 0.7}\n"
     ]
    },
    {
     "name": "stderr",
     "output_type": "stream",
     "text": [
      "Processing Meters:  81%|████████  | 130/161 [1:36:54<43:28, 84.14s/it] "
     ]
    },
    {
     "name": "stdout",
     "output_type": "stream",
     "text": [
      "Performance Metrics for AMR-182 (Hourly): {'train_RMSE': np.float64(0.0), 'train_MAE': 0.0, 'test_RMSE': np.float64(0.0), 'test_MAE': 0.0}\n"
     ]
    },
    {
     "name": "stderr",
     "output_type": "stream",
     "text": [
      "Processing Meters:  81%|████████  | 130/161 [1:37:06<43:28, 84.14s/it]"
     ]
    },
    {
     "name": "stdout",
     "output_type": "stream",
     "text": [
      "\n",
      "Best parameters for AMR-10 (Daily): {'subsample': 0.9, 'reg_lambda': 1.5, 'reg_alpha': 0.5, 'n_estimators': 500, 'max_depth': 5, 'learning_rate': 0.01, 'gamma': 0.1, 'colsample_bytree': 0.7}\n"
     ]
    },
    {
     "name": "stderr",
     "output_type": "stream",
     "text": [
      "Processing Meters:  81%|████████  | 130/161 [1:37:07<43:28, 84.14s/it]"
     ]
    },
    {
     "name": "stdout",
     "output_type": "stream",
     "text": [
      "Performance Metrics for AMR-10 (Daily): {'train_RMSE': np.float64(0.0), 'train_MAE': 0.0, 'test_RMSE': np.float64(0.0), 'test_MAE': 0.0}\n"
     ]
    },
    {
     "name": "stderr",
     "output_type": "stream",
     "text": [
      "Processing Meters:  81%|████████  | 130/161 [1:37:20<43:28, 84.14s/it]"
     ]
    },
    {
     "name": "stdout",
     "output_type": "stream",
     "text": [
      "\n",
      "Best parameters for AMR-10 (Hourly): {'subsample': 0.9, 'reg_lambda': 1.5, 'reg_alpha': 0.5, 'n_estimators': 500, 'max_depth': 5, 'learning_rate': 0.01, 'gamma': 0.1, 'colsample_bytree': 0.7}\n"
     ]
    },
    {
     "name": "stderr",
     "output_type": "stream",
     "text": [
      "Processing Meters:  81%|████████▏ | 131/161 [1:37:24<33:56, 67.87s/it]"
     ]
    },
    {
     "name": "stdout",
     "output_type": "stream",
     "text": [
      "Performance Metrics for AMR-10 (Hourly): {'train_RMSE': np.float64(0.0), 'train_MAE': 0.0, 'test_RMSE': np.float64(0.0), 'test_MAE': 0.0}\n"
     ]
    },
    {
     "name": "stderr",
     "output_type": "stream",
     "text": [
      "Processing Meters:  81%|████████▏ | 131/161 [1:37:33<33:56, 67.87s/it]"
     ]
    },
    {
     "name": "stdout",
     "output_type": "stream",
     "text": [
      "\n",
      "Best parameters for AMR-184 (Daily): {'subsample': 0.9, 'reg_lambda': 1.5, 'reg_alpha': 0.5, 'n_estimators': 500, 'max_depth': 5, 'learning_rate': 0.01, 'gamma': 0.1, 'colsample_bytree': 0.7}\n"
     ]
    },
    {
     "name": "stderr",
     "output_type": "stream",
     "text": [
      "Processing Meters:  81%|████████▏ | 131/161 [1:37:35<33:56, 67.87s/it]"
     ]
    },
    {
     "name": "stdout",
     "output_type": "stream",
     "text": [
      "Performance Metrics for AMR-184 (Daily): {'train_RMSE': np.float64(0.0), 'train_MAE': 0.0, 'test_RMSE': np.float64(0.0), 'test_MAE': 0.0}\n"
     ]
    },
    {
     "name": "stderr",
     "output_type": "stream",
     "text": [
      "Processing Meters:  81%|████████▏ | 131/161 [1:37:45<33:56, 67.87s/it]"
     ]
    },
    {
     "name": "stdout",
     "output_type": "stream",
     "text": [
      "\n",
      "Best parameters for AMR-184 (Hourly): {'subsample': 0.9, 'reg_lambda': 1.5, 'reg_alpha': 0.5, 'n_estimators': 500, 'max_depth': 5, 'learning_rate': 0.01, 'gamma': 0.1, 'colsample_bytree': 0.7}\n"
     ]
    },
    {
     "name": "stderr",
     "output_type": "stream",
     "text": [
      "Processing Meters:  82%|████████▏ | 132/161 [1:37:48<26:28, 54.77s/it]"
     ]
    },
    {
     "name": "stdout",
     "output_type": "stream",
     "text": [
      "Performance Metrics for AMR-184 (Hourly): {'train_RMSE': np.float64(0.0), 'train_MAE': 0.0, 'test_RMSE': np.float64(0.0), 'test_MAE': 0.0}\n"
     ]
    },
    {
     "name": "stderr",
     "output_type": "stream",
     "text": [
      "Processing Meters:  82%|████████▏ | 132/161 [1:37:58<26:28, 54.77s/it]"
     ]
    },
    {
     "name": "stdout",
     "output_type": "stream",
     "text": [
      "\n",
      "Best parameters for AMR-39 (Daily): {'subsample': 0.9, 'reg_lambda': 1.5, 'reg_alpha': 0.5, 'n_estimators': 500, 'max_depth': 5, 'learning_rate': 0.01, 'gamma': 0.1, 'colsample_bytree': 0.7}\n"
     ]
    },
    {
     "name": "stderr",
     "output_type": "stream",
     "text": [
      "Processing Meters:  82%|████████▏ | 132/161 [1:37:59<26:28, 54.77s/it]"
     ]
    },
    {
     "name": "stdout",
     "output_type": "stream",
     "text": [
      "Performance Metrics for AMR-39 (Daily): {'train_RMSE': np.float64(0.0), 'train_MAE': 0.0, 'test_RMSE': np.float64(0.0), 'test_MAE': 0.0}\n"
     ]
    },
    {
     "name": "stderr",
     "output_type": "stream",
     "text": [
      "Processing Meters:  82%|████████▏ | 132/161 [1:38:09<26:28, 54.77s/it]"
     ]
    },
    {
     "name": "stdout",
     "output_type": "stream",
     "text": [
      "\n",
      "Best parameters for AMR-39 (Hourly): {'subsample': 0.9, 'reg_lambda': 1.5, 'reg_alpha': 0.5, 'n_estimators': 500, 'max_depth': 5, 'learning_rate': 0.01, 'gamma': 0.1, 'colsample_bytree': 0.7}\n"
     ]
    },
    {
     "name": "stderr",
     "output_type": "stream",
     "text": [
      "Processing Meters:  83%|████████▎ | 133/161 [1:38:13<21:22, 45.81s/it]"
     ]
    },
    {
     "name": "stdout",
     "output_type": "stream",
     "text": [
      "Performance Metrics for AMR-39 (Hourly): {'train_RMSE': np.float64(0.0), 'train_MAE': 0.0, 'test_RMSE': np.float64(0.0), 'test_MAE': 0.0}\n"
     ]
    },
    {
     "name": "stderr",
     "output_type": "stream",
     "text": [
      "Processing Meters:  83%|████████▎ | 133/161 [1:39:03<21:22, 45.81s/it]"
     ]
    },
    {
     "name": "stdout",
     "output_type": "stream",
     "text": [
      "\n",
      "Best parameters for BFM 23 (Daily): {'subsample': 0.8, 'reg_lambda': 2, 'reg_alpha': 0, 'n_estimators': 1000, 'max_depth': 7, 'learning_rate': 0.05, 'gamma': 0, 'colsample_bytree': 0.7}\n"
     ]
    },
    {
     "name": "stderr",
     "output_type": "stream",
     "text": [
      "Processing Meters:  83%|████████▎ | 133/161 [1:39:05<21:22, 45.81s/it]"
     ]
    },
    {
     "name": "stdout",
     "output_type": "stream",
     "text": [
      "Performance Metrics for BFM 23 (Daily): {'train_RMSE': np.float64(0.001650775434428748), 'train_MAE': 0.0007918110229438567, 'test_RMSE': np.float64(0.3229521084275806), 'test_MAE': 0.20206108408099352}\n"
     ]
    },
    {
     "name": "stderr",
     "output_type": "stream",
     "text": [
      "Processing Meters:  83%|████████▎ | 133/161 [1:40:59<21:22, 45.81s/it]"
     ]
    },
    {
     "name": "stdout",
     "output_type": "stream",
     "text": [
      "\n",
      "Best parameters for BFM 23 (Hourly): {'subsample': 0.9, 'reg_lambda': 1, 'reg_alpha': 0, 'n_estimators': 500, 'max_depth': 7, 'learning_rate': 0.1, 'gamma': 0, 'colsample_bytree': 0.9}\n"
     ]
    },
    {
     "name": "stderr",
     "output_type": "stream",
     "text": [
      "Processing Meters:  83%|████████▎ | 134/161 [1:41:04<37:31, 83.40s/it]"
     ]
    },
    {
     "name": "stdout",
     "output_type": "stream",
     "text": [
      "Performance Metrics for BFM 23 (Hourly): {'train_RMSE': np.float64(0.0011220988861587438), 'train_MAE': 0.000823106931674052, 'test_RMSE': np.float64(0.062374599559192424), 'test_MAE': 0.023710170815020054}\n"
     ]
    },
    {
     "name": "stderr",
     "output_type": "stream",
     "text": [
      "Processing Meters:  83%|████████▎ | 134/161 [1:41:17<37:31, 83.40s/it]"
     ]
    },
    {
     "name": "stdout",
     "output_type": "stream",
     "text": [
      "\n",
      "Best parameters for AMR-106 (Daily): {'subsample': 0.9, 'reg_lambda': 1.5, 'reg_alpha': 0.5, 'n_estimators': 500, 'max_depth': 5, 'learning_rate': 0.01, 'gamma': 0.1, 'colsample_bytree': 0.7}\n"
     ]
    },
    {
     "name": "stderr",
     "output_type": "stream",
     "text": [
      "Processing Meters:  83%|████████▎ | 134/161 [1:41:20<37:31, 83.40s/it]"
     ]
    },
    {
     "name": "stdout",
     "output_type": "stream",
     "text": [
      "Performance Metrics for AMR-106 (Daily): {'train_RMSE': np.float64(0.0), 'train_MAE': 0.0, 'test_RMSE': np.float64(0.0), 'test_MAE': 0.0}\n"
     ]
    },
    {
     "name": "stderr",
     "output_type": "stream",
     "text": [
      "Processing Meters:  83%|████████▎ | 134/161 [1:41:34<37:31, 83.40s/it]"
     ]
    },
    {
     "name": "stdout",
     "output_type": "stream",
     "text": [
      "\n",
      "Best parameters for AMR-106 (Hourly): {'subsample': 0.9, 'reg_lambda': 1.5, 'reg_alpha': 0.5, 'n_estimators': 500, 'max_depth': 5, 'learning_rate': 0.01, 'gamma': 0.1, 'colsample_bytree': 0.7}\n"
     ]
    },
    {
     "name": "stderr",
     "output_type": "stream",
     "text": [
      "Processing Meters:  84%|████████▍ | 135/161 [1:41:39<29:48, 68.80s/it]"
     ]
    },
    {
     "name": "stdout",
     "output_type": "stream",
     "text": [
      "Performance Metrics for AMR-106 (Hourly): {'train_RMSE': np.float64(0.0), 'train_MAE': 0.0, 'test_RMSE': np.float64(0.0), 'test_MAE': 0.0}\n"
     ]
    },
    {
     "name": "stderr",
     "output_type": "stream",
     "text": [
      "Processing Meters:  84%|████████▍ | 135/161 [1:41:50<29:48, 68.80s/it]"
     ]
    },
    {
     "name": "stdout",
     "output_type": "stream",
     "text": [
      "\n",
      "Best parameters for AMR-107 (Daily): {'subsample': 0.9, 'reg_lambda': 1.5, 'reg_alpha': 0.5, 'n_estimators': 500, 'max_depth': 5, 'learning_rate': 0.01, 'gamma': 0.1, 'colsample_bytree': 0.7}\n"
     ]
    },
    {
     "name": "stderr",
     "output_type": "stream",
     "text": [
      "Processing Meters:  84%|████████▍ | 135/161 [1:41:52<29:48, 68.80s/it]"
     ]
    },
    {
     "name": "stdout",
     "output_type": "stream",
     "text": [
      "Performance Metrics for AMR-107 (Daily): {'train_RMSE': np.float64(0.0), 'train_MAE': 0.0, 'test_RMSE': np.float64(0.0), 'test_MAE': 0.0}\n"
     ]
    },
    {
     "name": "stderr",
     "output_type": "stream",
     "text": [
      "Processing Meters:  84%|████████▍ | 135/161 [1:42:03<29:48, 68.80s/it]"
     ]
    },
    {
     "name": "stdout",
     "output_type": "stream",
     "text": [
      "\n",
      "Best parameters for AMR-107 (Hourly): {'subsample': 0.9, 'reg_lambda': 1.5, 'reg_alpha': 0.5, 'n_estimators': 500, 'max_depth': 5, 'learning_rate': 0.01, 'gamma': 0.1, 'colsample_bytree': 0.7}\n"
     ]
    },
    {
     "name": "stderr",
     "output_type": "stream",
     "text": [
      "Processing Meters:  84%|████████▍ | 136/161 [1:42:06<23:31, 56.46s/it]"
     ]
    },
    {
     "name": "stdout",
     "output_type": "stream",
     "text": [
      "Performance Metrics for AMR-107 (Hourly): {'train_RMSE': np.float64(0.0), 'train_MAE': 0.0, 'test_RMSE': np.float64(0.0), 'test_MAE': 0.0}\n"
     ]
    },
    {
     "name": "stderr",
     "output_type": "stream",
     "text": [
      "Processing Meters:  84%|████████▍ | 136/161 [1:42:16<23:31, 56.46s/it]"
     ]
    },
    {
     "name": "stdout",
     "output_type": "stream",
     "text": [
      "\n",
      "Best parameters for AMR-127 (Daily): {'subsample': 0.9, 'reg_lambda': 1.5, 'reg_alpha': 0.5, 'n_estimators': 500, 'max_depth': 5, 'learning_rate': 0.01, 'gamma': 0.1, 'colsample_bytree': 0.7}\n"
     ]
    },
    {
     "name": "stderr",
     "output_type": "stream",
     "text": [
      "Processing Meters:  84%|████████▍ | 136/161 [1:42:21<23:31, 56.46s/it]"
     ]
    },
    {
     "name": "stdout",
     "output_type": "stream",
     "text": [
      "Performance Metrics for AMR-127 (Daily): {'train_RMSE': np.float64(0.0), 'train_MAE': 0.0, 'test_RMSE': np.float64(0.0), 'test_MAE': 0.0}\n"
     ]
    },
    {
     "name": "stderr",
     "output_type": "stream",
     "text": [
      "Processing Meters:  84%|████████▍ | 136/161 [1:42:32<23:31, 56.46s/it]"
     ]
    },
    {
     "name": "stdout",
     "output_type": "stream",
     "text": [
      "\n",
      "Best parameters for AMR-127 (Hourly): {'subsample': 0.9, 'reg_lambda': 1.5, 'reg_alpha': 0.5, 'n_estimators': 500, 'max_depth': 5, 'learning_rate': 0.01, 'gamma': 0.1, 'colsample_bytree': 0.7}\n"
     ]
    },
    {
     "name": "stderr",
     "output_type": "stream",
     "text": [
      "Processing Meters:  85%|████████▌ | 137/161 [1:42:35<19:18, 48.27s/it]"
     ]
    },
    {
     "name": "stdout",
     "output_type": "stream",
     "text": [
      "Performance Metrics for AMR-127 (Hourly): {'train_RMSE': np.float64(0.0), 'train_MAE': 0.0, 'test_RMSE': np.float64(0.0), 'test_MAE': 0.0}\n"
     ]
    },
    {
     "name": "stderr",
     "output_type": "stream",
     "text": [
      "Processing Meters:  85%|████████▌ | 137/161 [1:42:45<19:18, 48.27s/it]"
     ]
    },
    {
     "name": "stdout",
     "output_type": "stream",
     "text": [
      "\n",
      "Best parameters for AMR-171 (Daily): {'subsample': 0.9, 'reg_lambda': 1.5, 'reg_alpha': 0.5, 'n_estimators': 500, 'max_depth': 5, 'learning_rate': 0.01, 'gamma': 0.1, 'colsample_bytree': 0.7}\n"
     ]
    },
    {
     "name": "stderr",
     "output_type": "stream",
     "text": [
      "Processing Meters:  85%|████████▌ | 137/161 [1:42:47<19:18, 48.27s/it]"
     ]
    },
    {
     "name": "stdout",
     "output_type": "stream",
     "text": [
      "Performance Metrics for AMR-171 (Daily): {'train_RMSE': np.float64(0.0), 'train_MAE': 0.0, 'test_RMSE': np.float64(0.0), 'test_MAE': 0.0}\n"
     ]
    },
    {
     "name": "stderr",
     "output_type": "stream",
     "text": [
      "Processing Meters:  85%|████████▌ | 137/161 [1:42:58<19:18, 48.27s/it]"
     ]
    },
    {
     "name": "stdout",
     "output_type": "stream",
     "text": [
      "\n",
      "Best parameters for AMR-171 (Hourly): {'subsample': 0.9, 'reg_lambda': 1.5, 'reg_alpha': 0.5, 'n_estimators': 500, 'max_depth': 5, 'learning_rate': 0.01, 'gamma': 0.1, 'colsample_bytree': 0.7}\n"
     ]
    },
    {
     "name": "stderr",
     "output_type": "stream",
     "text": [
      "Processing Meters:  86%|████████▌ | 138/161 [1:43:01<15:52, 41.40s/it]"
     ]
    },
    {
     "name": "stdout",
     "output_type": "stream",
     "text": [
      "Performance Metrics for AMR-171 (Hourly): {'train_RMSE': np.float64(0.0), 'train_MAE': 0.0, 'test_RMSE': np.float64(0.0), 'test_MAE': 0.0}\n"
     ]
    },
    {
     "name": "stderr",
     "output_type": "stream",
     "text": [
      "Processing Meters:  86%|████████▌ | 138/161 [1:43:10<15:52, 41.40s/it]"
     ]
    },
    {
     "name": "stdout",
     "output_type": "stream",
     "text": [
      "\n",
      "Best parameters for AMR-173 (Daily): {'subsample': 0.9, 'reg_lambda': 1.5, 'reg_alpha': 0.5, 'n_estimators': 500, 'max_depth': 5, 'learning_rate': 0.01, 'gamma': 0.1, 'colsample_bytree': 0.7}\n"
     ]
    },
    {
     "name": "stderr",
     "output_type": "stream",
     "text": [
      "Processing Meters:  86%|████████▌ | 138/161 [1:43:12<15:52, 41.40s/it]"
     ]
    },
    {
     "name": "stdout",
     "output_type": "stream",
     "text": [
      "Performance Metrics for AMR-173 (Daily): {'train_RMSE': np.float64(0.0), 'train_MAE': 0.0, 'test_RMSE': np.float64(0.0), 'test_MAE': 0.0}\n"
     ]
    },
    {
     "name": "stderr",
     "output_type": "stream",
     "text": [
      "Processing Meters:  86%|████████▌ | 138/161 [1:43:22<15:52, 41.40s/it]"
     ]
    },
    {
     "name": "stdout",
     "output_type": "stream",
     "text": [
      "\n",
      "Best parameters for AMR-173 (Hourly): {'subsample': 0.9, 'reg_lambda': 1.5, 'reg_alpha': 0.5, 'n_estimators': 500, 'max_depth': 5, 'learning_rate': 0.01, 'gamma': 0.1, 'colsample_bytree': 0.7}\n"
     ]
    },
    {
     "name": "stderr",
     "output_type": "stream",
     "text": [
      "Processing Meters:  86%|████████▋ | 139/161 [1:43:25<13:20, 36.39s/it]"
     ]
    },
    {
     "name": "stdout",
     "output_type": "stream",
     "text": [
      "Performance Metrics for AMR-173 (Hourly): {'train_RMSE': np.float64(0.0), 'train_MAE': 0.0, 'test_RMSE': np.float64(0.0), 'test_MAE': 0.0}\n"
     ]
    },
    {
     "name": "stderr",
     "output_type": "stream",
     "text": [
      "Processing Meters:  86%|████████▋ | 139/161 [1:43:35<13:20, 36.39s/it]"
     ]
    },
    {
     "name": "stdout",
     "output_type": "stream",
     "text": [
      "\n",
      "Best parameters for AMR-169 (Daily): {'subsample': 0.9, 'reg_lambda': 1.5, 'reg_alpha': 0.5, 'n_estimators': 500, 'max_depth': 5, 'learning_rate': 0.01, 'gamma': 0.1, 'colsample_bytree': 0.7}\n"
     ]
    },
    {
     "name": "stderr",
     "output_type": "stream",
     "text": [
      "Processing Meters:  86%|████████▋ | 139/161 [1:43:37<13:20, 36.39s/it]"
     ]
    },
    {
     "name": "stdout",
     "output_type": "stream",
     "text": [
      "Performance Metrics for AMR-169 (Daily): {'train_RMSE': np.float64(0.0), 'train_MAE': 0.0, 'test_RMSE': np.float64(0.0), 'test_MAE': 0.0}\n"
     ]
    },
    {
     "name": "stderr",
     "output_type": "stream",
     "text": [
      "Processing Meters:  86%|████████▋ | 139/161 [1:43:46<13:20, 36.39s/it]"
     ]
    },
    {
     "name": "stdout",
     "output_type": "stream",
     "text": [
      "\n",
      "Best parameters for AMR-169 (Hourly): {'subsample': 0.9, 'reg_lambda': 1.5, 'reg_alpha': 0.5, 'n_estimators': 500, 'max_depth': 5, 'learning_rate': 0.01, 'gamma': 0.1, 'colsample_bytree': 0.7}\n"
     ]
    },
    {
     "name": "stderr",
     "output_type": "stream",
     "text": [
      "Processing Meters:  87%|████████▋ | 140/161 [1:43:50<11:27, 32.71s/it]"
     ]
    },
    {
     "name": "stdout",
     "output_type": "stream",
     "text": [
      "Performance Metrics for AMR-169 (Hourly): {'train_RMSE': np.float64(0.0), 'train_MAE': 0.0, 'test_RMSE': np.float64(0.0), 'test_MAE': 0.0}\n"
     ]
    },
    {
     "name": "stderr",
     "output_type": "stream",
     "text": [
      "Processing Meters:  87%|████████▋ | 140/161 [1:43:59<11:27, 32.71s/it]"
     ]
    },
    {
     "name": "stdout",
     "output_type": "stream",
     "text": [
      "\n",
      "Best parameters for AMR-148 (Daily): {'subsample': 0.9, 'reg_lambda': 1.5, 'reg_alpha': 0.5, 'n_estimators': 500, 'max_depth': 5, 'learning_rate': 0.01, 'gamma': 0.1, 'colsample_bytree': 0.7}\n"
     ]
    },
    {
     "name": "stderr",
     "output_type": "stream",
     "text": [
      "Processing Meters:  87%|████████▋ | 140/161 [1:44:01<11:27, 32.71s/it]"
     ]
    },
    {
     "name": "stdout",
     "output_type": "stream",
     "text": [
      "Performance Metrics for AMR-148 (Daily): {'train_RMSE': np.float64(0.0), 'train_MAE': 0.0, 'test_RMSE': np.float64(0.0), 'test_MAE': 0.0}\n"
     ]
    },
    {
     "name": "stderr",
     "output_type": "stream",
     "text": [
      "Processing Meters:  87%|████████▋ | 140/161 [1:44:11<11:27, 32.71s/it]"
     ]
    },
    {
     "name": "stdout",
     "output_type": "stream",
     "text": [
      "\n",
      "Best parameters for AMR-148 (Hourly): {'subsample': 0.9, 'reg_lambda': 1.5, 'reg_alpha': 0.5, 'n_estimators': 500, 'max_depth': 5, 'learning_rate': 0.01, 'gamma': 0.1, 'colsample_bytree': 0.7}\n"
     ]
    },
    {
     "name": "stderr",
     "output_type": "stream",
     "text": [
      "Processing Meters:  88%|████████▊ | 141/161 [1:44:15<10:08, 30.42s/it]"
     ]
    },
    {
     "name": "stdout",
     "output_type": "stream",
     "text": [
      "Performance Metrics for AMR-148 (Hourly): {'train_RMSE': np.float64(0.0), 'train_MAE': 0.0, 'test_RMSE': np.float64(0.0), 'test_MAE': 0.0}\n"
     ]
    },
    {
     "name": "stderr",
     "output_type": "stream",
     "text": [
      "Processing Meters:  88%|████████▊ | 141/161 [1:44:23<10:08, 30.42s/it]"
     ]
    },
    {
     "name": "stdout",
     "output_type": "stream",
     "text": [
      "\n",
      "Best parameters for AMR-174 (Daily): {'subsample': 0.9, 'reg_lambda': 1.5, 'reg_alpha': 0.5, 'n_estimators': 500, 'max_depth': 5, 'learning_rate': 0.01, 'gamma': 0.1, 'colsample_bytree': 0.7}\n"
     ]
    },
    {
     "name": "stderr",
     "output_type": "stream",
     "text": [
      "Processing Meters:  88%|████████▊ | 141/161 [1:44:25<10:08, 30.42s/it]"
     ]
    },
    {
     "name": "stdout",
     "output_type": "stream",
     "text": [
      "Performance Metrics for AMR-174 (Daily): {'train_RMSE': np.float64(0.0), 'train_MAE': 0.0, 'test_RMSE': np.float64(0.0), 'test_MAE': 0.0}\n"
     ]
    },
    {
     "name": "stderr",
     "output_type": "stream",
     "text": [
      "Processing Meters:  88%|████████▊ | 141/161 [1:44:37<10:08, 30.42s/it]"
     ]
    },
    {
     "name": "stdout",
     "output_type": "stream",
     "text": [
      "\n",
      "Best parameters for AMR-174 (Hourly): {'subsample': 0.9, 'reg_lambda': 1.5, 'reg_alpha': 0.5, 'n_estimators': 500, 'max_depth': 5, 'learning_rate': 0.01, 'gamma': 0.1, 'colsample_bytree': 0.7}\n"
     ]
    },
    {
     "name": "stderr",
     "output_type": "stream",
     "text": [
      "Processing Meters:  88%|████████▊ | 142/161 [1:44:41<09:16, 29.28s/it]"
     ]
    },
    {
     "name": "stdout",
     "output_type": "stream",
     "text": [
      "Performance Metrics for AMR-174 (Hourly): {'train_RMSE': np.float64(0.0), 'train_MAE': 0.0, 'test_RMSE': np.float64(0.0), 'test_MAE': 0.0}\n"
     ]
    },
    {
     "name": "stderr",
     "output_type": "stream",
     "text": [
      "Processing Meters:  88%|████████▊ | 142/161 [1:44:54<09:16, 29.28s/it]"
     ]
    },
    {
     "name": "stdout",
     "output_type": "stream",
     "text": [
      "\n",
      "Best parameters for AMR-175 (Daily): {'subsample': 0.9, 'reg_lambda': 1.5, 'reg_alpha': 0.5, 'n_estimators': 500, 'max_depth': 5, 'learning_rate': 0.01, 'gamma': 0.1, 'colsample_bytree': 0.7}\n"
     ]
    },
    {
     "name": "stderr",
     "output_type": "stream",
     "text": [
      "Processing Meters:  88%|████████▊ | 142/161 [1:44:55<09:16, 29.28s/it]"
     ]
    },
    {
     "name": "stdout",
     "output_type": "stream",
     "text": [
      "Performance Metrics for AMR-175 (Daily): {'train_RMSE': np.float64(0.0), 'train_MAE': 0.0, 'test_RMSE': np.float64(0.0), 'test_MAE': 0.0}\n"
     ]
    },
    {
     "name": "stderr",
     "output_type": "stream",
     "text": [
      "Processing Meters:  88%|████████▊ | 142/161 [1:45:06<09:16, 29.28s/it]"
     ]
    },
    {
     "name": "stdout",
     "output_type": "stream",
     "text": [
      "\n",
      "Best parameters for AMR-175 (Hourly): {'subsample': 0.9, 'reg_lambda': 1.5, 'reg_alpha': 0.5, 'n_estimators': 500, 'max_depth': 5, 'learning_rate': 0.01, 'gamma': 0.1, 'colsample_bytree': 0.7}\n"
     ]
    },
    {
     "name": "stderr",
     "output_type": "stream",
     "text": [
      "Processing Meters:  89%|████████▉ | 143/161 [1:45:09<08:37, 28.77s/it]"
     ]
    },
    {
     "name": "stdout",
     "output_type": "stream",
     "text": [
      "Performance Metrics for AMR-175 (Hourly): {'train_RMSE': np.float64(0.0), 'train_MAE': 0.0, 'test_RMSE': np.float64(0.0), 'test_MAE': 0.0}\n"
     ]
    },
    {
     "name": "stderr",
     "output_type": "stream",
     "text": [
      "Processing Meters:  89%|████████▉ | 143/161 [1:45:18<08:37, 28.77s/it]"
     ]
    },
    {
     "name": "stdout",
     "output_type": "stream",
     "text": [
      "\n",
      "Best parameters for AMR-195 (Daily): {'subsample': 0.9, 'reg_lambda': 1.5, 'reg_alpha': 0.5, 'n_estimators': 500, 'max_depth': 5, 'learning_rate': 0.01, 'gamma': 0.1, 'colsample_bytree': 0.7}\n"
     ]
    },
    {
     "name": "stderr",
     "output_type": "stream",
     "text": [
      "Processing Meters:  89%|████████▉ | 143/161 [1:45:20<08:37, 28.77s/it]"
     ]
    },
    {
     "name": "stdout",
     "output_type": "stream",
     "text": [
      "Performance Metrics for AMR-195 (Daily): {'train_RMSE': np.float64(0.0), 'train_MAE': 0.0, 'test_RMSE': np.float64(0.0), 'test_MAE': 0.0}\n"
     ]
    },
    {
     "name": "stderr",
     "output_type": "stream",
     "text": [
      "Processing Meters:  89%|████████▉ | 143/161 [1:45:36<08:37, 28.77s/it]"
     ]
    },
    {
     "name": "stdout",
     "output_type": "stream",
     "text": [
      "\n",
      "Best parameters for AMR-195 (Hourly): {'subsample': 0.9, 'reg_lambda': 1.5, 'reg_alpha': 0.5, 'n_estimators': 500, 'max_depth': 5, 'learning_rate': 0.01, 'gamma': 0.1, 'colsample_bytree': 0.7}\n"
     ]
    },
    {
     "name": "stderr",
     "output_type": "stream",
     "text": [
      "Processing Meters:  89%|████████▉ | 144/161 [1:45:39<08:18, 29.32s/it]"
     ]
    },
    {
     "name": "stdout",
     "output_type": "stream",
     "text": [
      "Performance Metrics for AMR-195 (Hourly): {'train_RMSE': np.float64(0.0), 'train_MAE': 0.0, 'test_RMSE': np.float64(0.0), 'test_MAE': 0.0}\n"
     ]
    },
    {
     "name": "stderr",
     "output_type": "stream",
     "text": [
      "Processing Meters:  89%|████████▉ | 144/161 [1:45:49<08:18, 29.32s/it]"
     ]
    },
    {
     "name": "stdout",
     "output_type": "stream",
     "text": [
      "\n",
      "Best parameters for AMR-112 (Daily): {'subsample': 0.9, 'reg_lambda': 1.5, 'reg_alpha': 0.5, 'n_estimators': 500, 'max_depth': 5, 'learning_rate': 0.01, 'gamma': 0.1, 'colsample_bytree': 0.7}\n"
     ]
    },
    {
     "name": "stderr",
     "output_type": "stream",
     "text": [
      "Processing Meters:  89%|████████▉ | 144/161 [1:45:51<08:18, 29.32s/it]"
     ]
    },
    {
     "name": "stdout",
     "output_type": "stream",
     "text": [
      "Performance Metrics for AMR-112 (Daily): {'train_RMSE': np.float64(0.0), 'train_MAE': 0.0, 'test_RMSE': np.float64(0.0), 'test_MAE': 0.0}\n"
     ]
    },
    {
     "name": "stderr",
     "output_type": "stream",
     "text": [
      "Processing Meters:  89%|████████▉ | 144/161 [1:46:01<08:18, 29.32s/it]"
     ]
    },
    {
     "name": "stdout",
     "output_type": "stream",
     "text": [
      "\n",
      "Best parameters for AMR-112 (Hourly): {'subsample': 0.9, 'reg_lambda': 1.5, 'reg_alpha': 0.5, 'n_estimators': 500, 'max_depth': 5, 'learning_rate': 0.01, 'gamma': 0.1, 'colsample_bytree': 0.7}\n"
     ]
    },
    {
     "name": "stderr",
     "output_type": "stream",
     "text": [
      "Processing Meters:  90%|█████████ | 145/161 [1:46:04<07:28, 28.04s/it]"
     ]
    },
    {
     "name": "stdout",
     "output_type": "stream",
     "text": [
      "Performance Metrics for AMR-112 (Hourly): {'train_RMSE': np.float64(0.0), 'train_MAE': 0.0, 'test_RMSE': np.float64(0.0), 'test_MAE': 0.0}\n"
     ]
    },
    {
     "name": "stderr",
     "output_type": "stream",
     "text": [
      "Processing Meters:  90%|█████████ | 145/161 [1:46:14<07:28, 28.04s/it]"
     ]
    },
    {
     "name": "stdout",
     "output_type": "stream",
     "text": [
      "\n",
      "Best parameters for AMR-131 (Daily): {'subsample': 0.9, 'reg_lambda': 1.5, 'reg_alpha': 0.5, 'n_estimators': 500, 'max_depth': 5, 'learning_rate': 0.01, 'gamma': 0.1, 'colsample_bytree': 0.7}\n"
     ]
    },
    {
     "name": "stderr",
     "output_type": "stream",
     "text": [
      "Processing Meters:  90%|█████████ | 145/161 [1:46:16<07:28, 28.04s/it]"
     ]
    },
    {
     "name": "stdout",
     "output_type": "stream",
     "text": [
      "Performance Metrics for AMR-131 (Daily): {'train_RMSE': np.float64(0.0), 'train_MAE': 0.0, 'test_RMSE': np.float64(0.0), 'test_MAE': 0.0}\n"
     ]
    },
    {
     "name": "stderr",
     "output_type": "stream",
     "text": [
      "Processing Meters:  90%|█████████ | 145/161 [1:46:26<07:28, 28.04s/it]"
     ]
    },
    {
     "name": "stdout",
     "output_type": "stream",
     "text": [
      "\n",
      "Best parameters for AMR-131 (Hourly): {'subsample': 0.9, 'reg_lambda': 1.5, 'reg_alpha': 0.5, 'n_estimators': 500, 'max_depth': 5, 'learning_rate': 0.01, 'gamma': 0.1, 'colsample_bytree': 0.7}\n"
     ]
    },
    {
     "name": "stderr",
     "output_type": "stream",
     "text": [
      "Processing Meters:  91%|█████████ | 146/161 [1:46:30<06:47, 27.15s/it]"
     ]
    },
    {
     "name": "stdout",
     "output_type": "stream",
     "text": [
      "Performance Metrics for AMR-131 (Hourly): {'train_RMSE': np.float64(0.0), 'train_MAE': 0.0, 'test_RMSE': np.float64(0.0), 'test_MAE': 0.0}\n"
     ]
    },
    {
     "name": "stderr",
     "output_type": "stream",
     "text": [
      "Processing Meters:  91%|█████████ | 146/161 [1:46:39<06:47, 27.15s/it]"
     ]
    },
    {
     "name": "stdout",
     "output_type": "stream",
     "text": [
      "\n",
      "Best parameters for AMR-211 (Daily): {'subsample': 0.9, 'reg_lambda': 1.5, 'reg_alpha': 0.5, 'n_estimators': 500, 'max_depth': 5, 'learning_rate': 0.01, 'gamma': 0.1, 'colsample_bytree': 0.7}\n"
     ]
    },
    {
     "name": "stderr",
     "output_type": "stream",
     "text": [
      "Processing Meters:  91%|█████████ | 146/161 [1:46:40<06:47, 27.15s/it]"
     ]
    },
    {
     "name": "stdout",
     "output_type": "stream",
     "text": [
      "Performance Metrics for AMR-211 (Daily): {'train_RMSE': np.float64(0.0), 'train_MAE': 0.0, 'test_RMSE': np.float64(0.0), 'test_MAE': 0.0}\n"
     ]
    },
    {
     "name": "stderr",
     "output_type": "stream",
     "text": [
      "Processing Meters:  91%|█████████ | 146/161 [1:46:51<06:47, 27.15s/it]"
     ]
    },
    {
     "name": "stdout",
     "output_type": "stream",
     "text": [
      "\n",
      "Best parameters for AMR-211 (Hourly): {'subsample': 0.9, 'reg_lambda': 1.5, 'reg_alpha': 0.5, 'n_estimators': 500, 'max_depth': 5, 'learning_rate': 0.01, 'gamma': 0.1, 'colsample_bytree': 0.7}\n"
     ]
    },
    {
     "name": "stderr",
     "output_type": "stream",
     "text": [
      "Processing Meters:  91%|█████████▏| 147/161 [1:46:54<06:09, 26.38s/it]"
     ]
    },
    {
     "name": "stdout",
     "output_type": "stream",
     "text": [
      "Performance Metrics for AMR-211 (Hourly): {'train_RMSE': np.float64(0.0), 'train_MAE': 0.0, 'test_RMSE': np.float64(0.0), 'test_MAE': 0.0}\n"
     ]
    },
    {
     "name": "stderr",
     "output_type": "stream",
     "text": [
      "Processing Meters:  91%|█████████▏| 147/161 [1:47:03<06:09, 26.38s/it]"
     ]
    },
    {
     "name": "stdout",
     "output_type": "stream",
     "text": [
      "\n",
      "Best parameters for AMR-120 (Daily): {'subsample': 0.9, 'reg_lambda': 1.5, 'reg_alpha': 0.5, 'n_estimators': 500, 'max_depth': 5, 'learning_rate': 0.01, 'gamma': 0.1, 'colsample_bytree': 0.7}\n"
     ]
    },
    {
     "name": "stderr",
     "output_type": "stream",
     "text": [
      "Processing Meters:  91%|█████████▏| 147/161 [1:47:05<06:09, 26.38s/it]"
     ]
    },
    {
     "name": "stdout",
     "output_type": "stream",
     "text": [
      "Performance Metrics for AMR-120 (Daily): {'train_RMSE': np.float64(0.0), 'train_MAE': 0.0, 'test_RMSE': np.float64(0.0), 'test_MAE': 0.0}\n"
     ]
    },
    {
     "name": "stderr",
     "output_type": "stream",
     "text": [
      "Processing Meters:  91%|█████████▏| 147/161 [1:47:16<06:09, 26.38s/it]"
     ]
    },
    {
     "name": "stdout",
     "output_type": "stream",
     "text": [
      "\n",
      "Best parameters for AMR-120 (Hourly): {'subsample': 0.9, 'reg_lambda': 1.5, 'reg_alpha': 0.5, 'n_estimators': 500, 'max_depth': 5, 'learning_rate': 0.01, 'gamma': 0.1, 'colsample_bytree': 0.7}\n"
     ]
    },
    {
     "name": "stderr",
     "output_type": "stream",
     "text": [
      "Processing Meters:  92%|█████████▏| 148/161 [1:47:19<05:36, 25.91s/it]"
     ]
    },
    {
     "name": "stdout",
     "output_type": "stream",
     "text": [
      "Performance Metrics for AMR-120 (Hourly): {'train_RMSE': np.float64(0.0), 'train_MAE': 0.0, 'test_RMSE': np.float64(0.0), 'test_MAE': 0.0}\n"
     ]
    },
    {
     "name": "stderr",
     "output_type": "stream",
     "text": [
      "Processing Meters:  92%|█████████▏| 148/161 [1:47:29<05:36, 25.91s/it]"
     ]
    },
    {
     "name": "stdout",
     "output_type": "stream",
     "text": [
      "\n",
      "Best parameters for AMR-172 (Daily): {'subsample': 0.9, 'reg_lambda': 1.5, 'reg_alpha': 0.5, 'n_estimators': 500, 'max_depth': 5, 'learning_rate': 0.01, 'gamma': 0.1, 'colsample_bytree': 0.7}\n"
     ]
    },
    {
     "name": "stderr",
     "output_type": "stream",
     "text": [
      "Processing Meters:  92%|█████████▏| 148/161 [1:47:31<05:36, 25.91s/it]"
     ]
    },
    {
     "name": "stdout",
     "output_type": "stream",
     "text": [
      "Performance Metrics for AMR-172 (Daily): {'train_RMSE': np.float64(0.0), 'train_MAE': 0.0, 'test_RMSE': np.float64(0.0), 'test_MAE': 0.0}\n"
     ]
    },
    {
     "name": "stderr",
     "output_type": "stream",
     "text": [
      "Processing Meters:  92%|█████████▏| 148/161 [1:47:43<05:36, 25.91s/it]"
     ]
    },
    {
     "name": "stdout",
     "output_type": "stream",
     "text": [
      "\n",
      "Best parameters for AMR-172 (Hourly): {'subsample': 0.9, 'reg_lambda': 1.5, 'reg_alpha': 0.5, 'n_estimators': 500, 'max_depth': 5, 'learning_rate': 0.01, 'gamma': 0.1, 'colsample_bytree': 0.7}\n"
     ]
    },
    {
     "name": "stderr",
     "output_type": "stream",
     "text": [
      "Processing Meters:  93%|█████████▎| 149/161 [1:47:46<05:14, 26.23s/it]"
     ]
    },
    {
     "name": "stdout",
     "output_type": "stream",
     "text": [
      "Performance Metrics for AMR-172 (Hourly): {'train_RMSE': np.float64(0.0), 'train_MAE': 0.0, 'test_RMSE': np.float64(0.0), 'test_MAE': 0.0}\n"
     ]
    },
    {
     "name": "stderr",
     "output_type": "stream",
     "text": [
      "Processing Meters:  93%|█████████▎| 149/161 [1:47:56<05:14, 26.23s/it]"
     ]
    },
    {
     "name": "stdout",
     "output_type": "stream",
     "text": [
      "\n",
      "Best parameters for AMR-230 (Daily): {'subsample': 0.9, 'reg_lambda': 1.5, 'reg_alpha': 0.5, 'n_estimators': 500, 'max_depth': 5, 'learning_rate': 0.01, 'gamma': 0.1, 'colsample_bytree': 0.7}\n"
     ]
    },
    {
     "name": "stderr",
     "output_type": "stream",
     "text": [
      "Processing Meters:  93%|█████████▎| 149/161 [1:47:57<05:14, 26.23s/it]"
     ]
    },
    {
     "name": "stdout",
     "output_type": "stream",
     "text": [
      "Performance Metrics for AMR-230 (Daily): {'train_RMSE': np.float64(0.0), 'train_MAE': 0.0, 'test_RMSE': np.float64(0.0), 'test_MAE': 0.0}\n"
     ]
    },
    {
     "name": "stderr",
     "output_type": "stream",
     "text": [
      "Processing Meters:  93%|█████████▎| 149/161 [1:48:08<05:14, 26.23s/it]"
     ]
    },
    {
     "name": "stdout",
     "output_type": "stream",
     "text": [
      "\n",
      "Best parameters for AMR-230 (Hourly): {'subsample': 0.9, 'reg_lambda': 1.5, 'reg_alpha': 0.5, 'n_estimators': 500, 'max_depth': 5, 'learning_rate': 0.01, 'gamma': 0.1, 'colsample_bytree': 0.7}\n"
     ]
    },
    {
     "name": "stderr",
     "output_type": "stream",
     "text": [
      "Processing Meters:  93%|█████████▎| 150/161 [1:48:12<04:47, 26.10s/it]"
     ]
    },
    {
     "name": "stdout",
     "output_type": "stream",
     "text": [
      "Performance Metrics for AMR-230 (Hourly): {'train_RMSE': np.float64(0.0), 'train_MAE': 0.0, 'test_RMSE': np.float64(0.0), 'test_MAE': 0.0}\n"
     ]
    },
    {
     "name": "stderr",
     "output_type": "stream",
     "text": [
      "Processing Meters:  93%|█████████▎| 150/161 [1:48:21<04:47, 26.10s/it]"
     ]
    },
    {
     "name": "stdout",
     "output_type": "stream",
     "text": [
      "\n",
      "Best parameters for AMR-94 (Daily): {'subsample': 0.9, 'reg_lambda': 1.5, 'reg_alpha': 0.5, 'n_estimators': 500, 'max_depth': 5, 'learning_rate': 0.01, 'gamma': 0.1, 'colsample_bytree': 0.7}\n"
     ]
    },
    {
     "name": "stderr",
     "output_type": "stream",
     "text": [
      "Processing Meters:  93%|█████████▎| 150/161 [1:48:22<04:47, 26.10s/it]"
     ]
    },
    {
     "name": "stdout",
     "output_type": "stream",
     "text": [
      "Performance Metrics for AMR-94 (Daily): {'train_RMSE': np.float64(0.0), 'train_MAE': 0.0, 'test_RMSE': np.float64(0.0), 'test_MAE': 0.0}\n"
     ]
    },
    {
     "name": "stderr",
     "output_type": "stream",
     "text": [
      "Processing Meters:  93%|█████████▎| 150/161 [1:48:32<04:47, 26.10s/it]"
     ]
    },
    {
     "name": "stdout",
     "output_type": "stream",
     "text": [
      "\n",
      "Best parameters for AMR-94 (Hourly): {'subsample': 0.9, 'reg_lambda': 1.5, 'reg_alpha': 0.5, 'n_estimators': 500, 'max_depth': 5, 'learning_rate': 0.01, 'gamma': 0.1, 'colsample_bytree': 0.7}\n"
     ]
    },
    {
     "name": "stderr",
     "output_type": "stream",
     "text": [
      "Processing Meters:  94%|█████████▍| 151/161 [1:48:35<04:12, 25.27s/it]"
     ]
    },
    {
     "name": "stdout",
     "output_type": "stream",
     "text": [
      "Performance Metrics for AMR-94 (Hourly): {'train_RMSE': np.float64(0.0), 'train_MAE': 0.0, 'test_RMSE': np.float64(0.0), 'test_MAE': 0.0}\n"
     ]
    },
    {
     "name": "stderr",
     "output_type": "stream",
     "text": [
      "Processing Meters:  94%|█████████▍| 151/161 [1:48:44<04:12, 25.27s/it]"
     ]
    },
    {
     "name": "stdout",
     "output_type": "stream",
     "text": [
      "\n",
      "Best parameters for AMR-75 (Daily): {'subsample': 0.9, 'reg_lambda': 1.5, 'reg_alpha': 0.5, 'n_estimators': 500, 'max_depth': 5, 'learning_rate': 0.01, 'gamma': 0.1, 'colsample_bytree': 0.7}\n"
     ]
    },
    {
     "name": "stderr",
     "output_type": "stream",
     "text": [
      "Processing Meters:  94%|█████████▍| 151/161 [1:48:46<04:12, 25.27s/it]"
     ]
    },
    {
     "name": "stdout",
     "output_type": "stream",
     "text": [
      "Performance Metrics for AMR-75 (Daily): {'train_RMSE': np.float64(0.0), 'train_MAE': 0.0, 'test_RMSE': np.float64(0.0), 'test_MAE': 0.0}\n"
     ]
    },
    {
     "name": "stderr",
     "output_type": "stream",
     "text": [
      "Processing Meters:  94%|█████████▍| 151/161 [1:48:56<04:12, 25.27s/it]"
     ]
    },
    {
     "name": "stdout",
     "output_type": "stream",
     "text": [
      "\n",
      "Best parameters for AMR-75 (Hourly): {'subsample': 0.9, 'reg_lambda': 1.5, 'reg_alpha': 0.5, 'n_estimators': 500, 'max_depth': 5, 'learning_rate': 0.01, 'gamma': 0.1, 'colsample_bytree': 0.7}\n"
     ]
    },
    {
     "name": "stderr",
     "output_type": "stream",
     "text": [
      "Processing Meters:  94%|█████████▍| 152/161 [1:48:59<03:43, 24.78s/it]"
     ]
    },
    {
     "name": "stdout",
     "output_type": "stream",
     "text": [
      "Performance Metrics for AMR-75 (Hourly): {'train_RMSE': np.float64(0.0), 'train_MAE': 0.0, 'test_RMSE': np.float64(0.0), 'test_MAE': 0.0}\n"
     ]
    },
    {
     "name": "stderr",
     "output_type": "stream",
     "text": [
      "Processing Meters:  94%|█████████▍| 152/161 [1:49:07<03:43, 24.78s/it]"
     ]
    },
    {
     "name": "stdout",
     "output_type": "stream",
     "text": [
      "\n",
      "Best parameters for AMR-33 (Daily): {'subsample': 0.9, 'reg_lambda': 1.5, 'reg_alpha': 0.5, 'n_estimators': 500, 'max_depth': 5, 'learning_rate': 0.01, 'gamma': 0.1, 'colsample_bytree': 0.7}\n"
     ]
    },
    {
     "name": "stderr",
     "output_type": "stream",
     "text": [
      "Processing Meters:  94%|█████████▍| 152/161 [1:49:09<03:43, 24.78s/it]"
     ]
    },
    {
     "name": "stdout",
     "output_type": "stream",
     "text": [
      "Performance Metrics for AMR-33 (Daily): {'train_RMSE': np.float64(0.0), 'train_MAE': 0.0, 'test_RMSE': np.float64(0.0), 'test_MAE': 0.0}\n"
     ]
    },
    {
     "name": "stderr",
     "output_type": "stream",
     "text": [
      "Processing Meters:  94%|█████████▍| 152/161 [1:49:18<03:43, 24.78s/it]"
     ]
    },
    {
     "name": "stdout",
     "output_type": "stream",
     "text": [
      "\n",
      "Best parameters for AMR-33 (Hourly): {'subsample': 0.9, 'reg_lambda': 1.5, 'reg_alpha': 0.5, 'n_estimators': 500, 'max_depth': 5, 'learning_rate': 0.01, 'gamma': 0.1, 'colsample_bytree': 0.7}\n"
     ]
    },
    {
     "name": "stderr",
     "output_type": "stream",
     "text": [
      "Processing Meters:  95%|█████████▌| 153/161 [1:49:22<03:13, 24.20s/it]"
     ]
    },
    {
     "name": "stdout",
     "output_type": "stream",
     "text": [
      "Performance Metrics for AMR-33 (Hourly): {'train_RMSE': np.float64(0.0), 'train_MAE': 0.0, 'test_RMSE': np.float64(0.0), 'test_MAE': 0.0}\n"
     ]
    },
    {
     "name": "stderr",
     "output_type": "stream",
     "text": [
      "Processing Meters:  95%|█████████▌| 153/161 [1:49:30<03:13, 24.20s/it]"
     ]
    },
    {
     "name": "stdout",
     "output_type": "stream",
     "text": [
      "\n",
      "Best parameters for AMR-163 (Daily): {'subsample': 0.9, 'reg_lambda': 1.5, 'reg_alpha': 0.5, 'n_estimators': 500, 'max_depth': 5, 'learning_rate': 0.01, 'gamma': 0.1, 'colsample_bytree': 0.7}\n"
     ]
    },
    {
     "name": "stderr",
     "output_type": "stream",
     "text": [
      "Processing Meters:  95%|█████████▌| 153/161 [1:49:32<03:13, 24.20s/it]"
     ]
    },
    {
     "name": "stdout",
     "output_type": "stream",
     "text": [
      "Performance Metrics for AMR-163 (Daily): {'train_RMSE': np.float64(0.0), 'train_MAE': 0.0, 'test_RMSE': np.float64(0.0), 'test_MAE': 0.0}\n"
     ]
    },
    {
     "name": "stderr",
     "output_type": "stream",
     "text": [
      "Processing Meters:  95%|█████████▌| 153/161 [1:49:41<03:13, 24.20s/it]"
     ]
    },
    {
     "name": "stdout",
     "output_type": "stream",
     "text": [
      "\n",
      "Best parameters for AMR-163 (Hourly): {'subsample': 0.9, 'reg_lambda': 1.5, 'reg_alpha': 0.5, 'n_estimators': 500, 'max_depth': 5, 'learning_rate': 0.01, 'gamma': 0.1, 'colsample_bytree': 0.7}\n"
     ]
    },
    {
     "name": "stderr",
     "output_type": "stream",
     "text": [
      "Processing Meters:  96%|█████████▌| 154/161 [1:49:45<02:47, 23.98s/it]"
     ]
    },
    {
     "name": "stdout",
     "output_type": "stream",
     "text": [
      "Performance Metrics for AMR-163 (Hourly): {'train_RMSE': np.float64(0.0), 'train_MAE': 0.0, 'test_RMSE': np.float64(0.0), 'test_MAE': 0.0}\n"
     ]
    },
    {
     "name": "stderr",
     "output_type": "stream",
     "text": [
      "Processing Meters:  96%|█████████▌| 154/161 [1:49:54<02:47, 23.98s/it]"
     ]
    },
    {
     "name": "stdout",
     "output_type": "stream",
     "text": [
      "\n",
      "Best parameters for AMR-225 (Daily): {'subsample': 0.9, 'reg_lambda': 1.5, 'reg_alpha': 0.5, 'n_estimators': 500, 'max_depth': 5, 'learning_rate': 0.01, 'gamma': 0.1, 'colsample_bytree': 0.7}\n"
     ]
    },
    {
     "name": "stderr",
     "output_type": "stream",
     "text": [
      "Processing Meters:  96%|█████████▌| 154/161 [1:49:56<02:47, 23.98s/it]"
     ]
    },
    {
     "name": "stdout",
     "output_type": "stream",
     "text": [
      "Performance Metrics for AMR-225 (Daily): {'train_RMSE': np.float64(0.0), 'train_MAE': 0.0, 'test_RMSE': np.float64(0.0), 'test_MAE': 0.0}\n"
     ]
    },
    {
     "name": "stderr",
     "output_type": "stream",
     "text": [
      "Processing Meters:  96%|█████████▌| 154/161 [1:50:06<02:47, 23.98s/it]"
     ]
    },
    {
     "name": "stdout",
     "output_type": "stream",
     "text": [
      "\n",
      "Best parameters for AMR-225 (Hourly): {'subsample': 0.9, 'reg_lambda': 1.5, 'reg_alpha': 0.5, 'n_estimators': 500, 'max_depth': 5, 'learning_rate': 0.01, 'gamma': 0.1, 'colsample_bytree': 0.7}\n"
     ]
    },
    {
     "name": "stderr",
     "output_type": "stream",
     "text": [
      "Processing Meters:  96%|█████████▋| 155/161 [1:50:09<02:23, 23.90s/it]"
     ]
    },
    {
     "name": "stdout",
     "output_type": "stream",
     "text": [
      "Performance Metrics for AMR-225 (Hourly): {'train_RMSE': np.float64(0.0), 'train_MAE': 0.0, 'test_RMSE': np.float64(0.0), 'test_MAE': 0.0}\n"
     ]
    },
    {
     "name": "stderr",
     "output_type": "stream",
     "text": [
      "Processing Meters:  96%|█████████▋| 155/161 [1:50:17<02:23, 23.90s/it]"
     ]
    },
    {
     "name": "stdout",
     "output_type": "stream",
     "text": [
      "\n",
      "Best parameters for AMR-12 (Daily): {'subsample': 0.9, 'reg_lambda': 1.5, 'reg_alpha': 0.5, 'n_estimators': 500, 'max_depth': 5, 'learning_rate': 0.01, 'gamma': 0.1, 'colsample_bytree': 0.7}\n"
     ]
    },
    {
     "name": "stderr",
     "output_type": "stream",
     "text": [
      "Processing Meters:  96%|█████████▋| 155/161 [1:50:19<02:23, 23.90s/it]"
     ]
    },
    {
     "name": "stdout",
     "output_type": "stream",
     "text": [
      "Performance Metrics for AMR-12 (Daily): {'train_RMSE': np.float64(0.0), 'train_MAE': 0.0, 'test_RMSE': np.float64(0.0), 'test_MAE': 0.0}\n"
     ]
    },
    {
     "name": "stderr",
     "output_type": "stream",
     "text": [
      "Processing Meters:  96%|█████████▋| 155/161 [1:50:28<02:23, 23.90s/it]"
     ]
    },
    {
     "name": "stdout",
     "output_type": "stream",
     "text": [
      "\n",
      "Best parameters for AMR-12 (Hourly): {'subsample': 0.9, 'reg_lambda': 1.5, 'reg_alpha': 0.5, 'n_estimators': 500, 'max_depth': 5, 'learning_rate': 0.01, 'gamma': 0.1, 'colsample_bytree': 0.7}\n"
     ]
    },
    {
     "name": "stderr",
     "output_type": "stream",
     "text": [
      "Processing Meters:  97%|█████████▋| 156/161 [1:50:31<01:57, 23.54s/it]"
     ]
    },
    {
     "name": "stdout",
     "output_type": "stream",
     "text": [
      "Performance Metrics for AMR-12 (Hourly): {'train_RMSE': np.float64(0.0), 'train_MAE': 0.0, 'test_RMSE': np.float64(0.0), 'test_MAE': 0.0}\n"
     ]
    },
    {
     "name": "stderr",
     "output_type": "stream",
     "text": [
      "Processing Meters:  97%|█████████▋| 156/161 [1:50:42<01:57, 23.54s/it]"
     ]
    },
    {
     "name": "stdout",
     "output_type": "stream",
     "text": [
      "\n",
      "Best parameters for AMR-165 (Daily): {'subsample': 0.9, 'reg_lambda': 1.5, 'reg_alpha': 0.5, 'n_estimators': 500, 'max_depth': 5, 'learning_rate': 0.01, 'gamma': 0.1, 'colsample_bytree': 0.7}\n"
     ]
    },
    {
     "name": "stderr",
     "output_type": "stream",
     "text": [
      "Processing Meters:  97%|█████████▋| 156/161 [1:50:45<01:57, 23.54s/it]"
     ]
    },
    {
     "name": "stdout",
     "output_type": "stream",
     "text": [
      "Performance Metrics for AMR-165 (Daily): {'train_RMSE': np.float64(0.0), 'train_MAE': 0.0, 'test_RMSE': np.float64(0.0), 'test_MAE': 0.0}\n"
     ]
    },
    {
     "name": "stderr",
     "output_type": "stream",
     "text": [
      "Processing Meters:  97%|█████████▋| 156/161 [1:50:57<01:57, 23.54s/it]"
     ]
    },
    {
     "name": "stdout",
     "output_type": "stream",
     "text": [
      "\n",
      "Best parameters for AMR-165 (Hourly): {'subsample': 0.9, 'reg_lambda': 1.5, 'reg_alpha': 0.5, 'n_estimators': 500, 'max_depth': 5, 'learning_rate': 0.01, 'gamma': 0.1, 'colsample_bytree': 0.7}\n"
     ]
    },
    {
     "name": "stderr",
     "output_type": "stream",
     "text": [
      "Processing Meters:  98%|█████████▊| 157/161 [1:51:00<01:40, 25.15s/it]"
     ]
    },
    {
     "name": "stdout",
     "output_type": "stream",
     "text": [
      "Performance Metrics for AMR-165 (Hourly): {'train_RMSE': np.float64(0.0), 'train_MAE': 0.0, 'test_RMSE': np.float64(0.0), 'test_MAE': 0.0}\n"
     ]
    },
    {
     "name": "stderr",
     "output_type": "stream",
     "text": [
      "Processing Meters:  98%|█████████▊| 157/161 [1:51:01<01:40, 25.15s/it]"
     ]
    },
    {
     "name": "stdout",
     "output_type": "stream",
     "text": [
      "\n",
      "\n",
      "Error in xgboost_forecast for meter AMR-114 (Daily): Insufficient data for meter AMR-114.\n",
      "\n",
      "WARNING: Training data for AMR-114 (Hourly) is too small (202 samples) for tuning. Using default parameters.\n"
     ]
    },
    {
     "name": "stderr",
     "output_type": "stream",
     "text": [
      "Processing Meters:  98%|█████████▊| 158/161 [1:51:04<00:56, 18.75s/it]"
     ]
    },
    {
     "name": "stdout",
     "output_type": "stream",
     "text": [
      "Performance Metrics for AMR-114 (Hourly): {'train_RMSE': np.float64(0.0), 'train_MAE': 0.0, 'test_RMSE': np.float64(0.0), 'test_MAE': 0.0}\n"
     ]
    },
    {
     "name": "stderr",
     "output_type": "stream",
     "text": [
      "Processing Meters:  99%|█████████▉| 159/161 [1:51:04<00:26, 13.21s/it]"
     ]
    },
    {
     "name": "stdout",
     "output_type": "stream",
     "text": [
      "\n",
      "\n",
      "Error in xgboost_forecast for meter AMR-113 (Daily): Insufficient data for meter AMR-113.\n",
      "\n",
      "\n",
      "\n",
      "Error in xgboost_forecast for meter AMR-113 (Hourly): Insufficient data for meter AMR-113.\n",
      "\n"
     ]
    },
    {
     "name": "stderr",
     "output_type": "stream",
     "text": [
      "Processing Meters:  99%|█████████▉| 160/161 [1:51:05<00:09,  9.33s/it]"
     ]
    },
    {
     "name": "stdout",
     "output_type": "stream",
     "text": [
      "\n",
      "\n",
      "Error in xgboost_forecast for meter AMR-194 (Daily): Insufficient data for meter AMR-194.\n",
      "\n",
      "\n",
      "\n",
      "Error in xgboost_forecast for meter AMR-194 (Hourly): Insufficient data for meter AMR-194.\n",
      "\n"
     ]
    },
    {
     "name": "stderr",
     "output_type": "stream",
     "text": [
      "Processing Meters: 100%|██████████| 161/161 [1:51:05<00:00, 41.40s/it]\n"
     ]
    },
    {
     "name": "stdout",
     "output_type": "stream",
     "text": [
      "\n",
      "\n",
      "Error in xgboost_forecast for meter AMR-95 (Daily): Insufficient data for meter AMR-95.\n",
      "\n",
      "\n",
      "\n",
      "Error in xgboost_forecast for meter AMR-95 (Hourly): Insufficient data for meter AMR-95.\n",
      "\n",
      "\n",
      "Completed training for 315 meter-granularity combinations\n",
      "\n",
      "--------------------------------------------------------------------------------\n",
      "TRAINING SUMMARY\n",
      "--------------------------------------------------------------------------------\n",
      "    meter_id granularity                                           forecast  \\\n",
      "0     BFM 19       Daily            ds  yhat\n",
      "0 2025-06-17   0.0\n",
      "1 2025-0...   \n",
      "1     BFM 19      Hourly                     ds  yhat\n",
      "0 2025-06-16 16:00...   \n",
      "2     AMR-05       Daily            ds  yhat\n",
      "0 2025-06-17   0.0\n",
      "1 2025-0...   \n",
      "3     AMR-05      Hourly                     ds  yhat\n",
      "0 2025-06-16 16:00...   \n",
      "4     AMR-08       Daily            ds  yhat\n",
      "0 2025-06-17   0.0\n",
      "1 2025-0...   \n",
      "..       ...         ...                                                ...   \n",
      "310   AMR-12       Daily            ds  yhat\n",
      "0 2025-06-17   0.0\n",
      "1 2025-0...   \n",
      "311   AMR-12      Hourly                     ds  yhat\n",
      "0 2025-06-16 16:00...   \n",
      "312  AMR-165       Daily            ds  yhat\n",
      "0 2025-06-17   0.0\n",
      "1 2025-0...   \n",
      "313  AMR-165      Hourly                     ds  yhat\n",
      "0 2025-06-16 16:00...   \n",
      "314  AMR-114      Hourly                     ds  yhat\n",
      "0 2025-04-11 12:00...   \n",
      "\n",
      "                                               metrics  \\\n",
      "0    {'train_RMSE': 0.0, 'train_MAE': 0.0, 'test_RM...   \n",
      "1    {'train_RMSE': 0.0, 'train_MAE': 0.0, 'test_RM...   \n",
      "2    {'train_RMSE': 0.0, 'train_MAE': 0.0, 'test_RM...   \n",
      "3    {'train_RMSE': 0.0, 'train_MAE': 0.0, 'test_RM...   \n",
      "4    {'train_RMSE': 0.0, 'train_MAE': 0.0, 'test_RM...   \n",
      "..                                                 ...   \n",
      "310  {'train_RMSE': 0.0, 'train_MAE': 0.0, 'test_RM...   \n",
      "311  {'train_RMSE': 0.0, 'train_MAE': 0.0, 'test_RM...   \n",
      "312  {'train_RMSE': 0.0, 'train_MAE': 0.0, 'test_RM...   \n",
      "313  {'train_RMSE': 0.0, 'train_MAE': 0.0, 'test_RM...   \n",
      "314  {'train_RMSE': 0.0, 'train_MAE': 0.0, 'test_RM...   \n",
      "\n",
      "                                            plot_saved  \\\n",
      "0    ../Output/xgboost_plot/Fv/BFM_19_Daily_xgboost...   \n",
      "1    ../Output/xgboost_plot/Fv/BFM_19_Hourly_xgboos...   \n",
      "2    ../Output/xgboost_plot/Fv/AMR-05_Daily_xgboost...   \n",
      "3    ../Output/xgboost_plot/Fv/AMR-05_Hourly_xgboos...   \n",
      "4    ../Output/xgboost_plot/Fv/AMR-08_Daily_xgboost...   \n",
      "..                                                 ...   \n",
      "310  ../Output/xgboost_plot/Fv/AMR-12_Daily_xgboost...   \n",
      "311  ../Output/xgboost_plot/Fv/AMR-12_Hourly_xgboos...   \n",
      "312  ../Output/xgboost_plot/Fv/AMR-165_Daily_xgboos...   \n",
      "313  ../Output/xgboost_plot/Fv/AMR-165_Hourly_xgboo...   \n",
      "314  ../Output/xgboost_plot/Fv/AMR-114_Hourly_xgboo...   \n",
      "\n",
      "                                           model_saved  train_RMSE  train_MAE  \\\n",
      "0    ../Models/xgboost_models/Fv/BFM_19_Daily_xgboo...         0.0        0.0   \n",
      "1    ../Models/xgboost_models/Fv/BFM_19_Hourly_xgbo...         0.0        0.0   \n",
      "2    ../Models/xgboost_models/Fv/AMR-05_Daily_xgboo...         0.0        0.0   \n",
      "3    ../Models/xgboost_models/Fv/AMR-05_Hourly_xgbo...         0.0        0.0   \n",
      "4    ../Models/xgboost_models/Fv/AMR-08_Daily_xgboo...         0.0        0.0   \n",
      "..                                                 ...         ...        ...   \n",
      "310  ../Models/xgboost_models/Fv/AMR-12_Daily_xgboo...         0.0        0.0   \n",
      "311  ../Models/xgboost_models/Fv/AMR-12_Hourly_xgbo...         0.0        0.0   \n",
      "312  ../Models/xgboost_models/Fv/AMR-165_Daily_xgbo...         0.0        0.0   \n",
      "313  ../Models/xgboost_models/Fv/AMR-165_Hourly_xgb...         0.0        0.0   \n",
      "314  ../Models/xgboost_models/Fv/AMR-114_Hourly_xgb...         0.0        0.0   \n",
      "\n",
      "     test_RMSE  test_MAE  \n",
      "0          0.0       0.0  \n",
      "1          0.0       0.0  \n",
      "2          0.0       0.0  \n",
      "3          0.0       0.0  \n",
      "4          0.0       0.0  \n",
      "..         ...       ...  \n",
      "310        0.0       0.0  \n",
      "311        0.0       0.0  \n",
      "312        0.0       0.0  \n",
      "313        0.0       0.0  \n",
      "314        0.0       0.0  \n",
      "\n",
      "[315 rows x 10 columns]\n",
      "\n",
      "Results saved to ../Output/forecast_result\\xgboost_fr_results.csv\n"
     ]
    }
   ],
   "source": [
    "import pandas as pd\n",
    "import xgboost as xgb\n",
    "import matplotlib.pyplot as plt\n",
    "from sklearn.metrics import mean_squared_error, mean_absolute_error\n",
    "from sklearn.model_selection import RandomizedSearchCV, TimeSeriesSplit\n",
    "import numpy as np\n",
    "import os\n",
    "import joblib\n",
    "import warnings\n",
    "from tqdm import tqdm\n",
    "\n",
    "# Suppress ignorable warnings\n",
    "warnings.filterwarnings('ignore')\n",
    "\n",
    "def load_data(file_path='../Data/3mon.csv'):\n",
    " \n",
    "    print(f\"Loading data from {file_path}...\")\n",
    "    try:\n",
    "        df = pd.read_csv(file_path, parse_dates=['created_datetime'])\n",
    "        if df.empty:\n",
    "            raise ValueError(\"Loaded dataset is empty\")\n",
    "\n",
    "        print(f\"Initial data shape: {df.shape}\")\n",
    "        \n",
    "        df = df.rename(columns={\n",
    "            'id': 'Id', 'created_datetime': 'local_time_col', 'water_meter_code': 'meter_code',\n",
    "            'flow_rate': 'fr', 'flow_volume': 'fv', 'flow_today': 'today', 'net_total': 'net_total'\n",
    "        })\n",
    "        \n",
    "        df = df.sort_values(['meter_code', 'local_time_col'])\n",
    "        df['fv'] = df.groupby('meter_code')['fv'].transform(lambda x: x.ffill())\n",
    "        df[['fr', 'fv', 'net_total', 'today']] = df[['fr', 'fv', 'net_total', 'today']].fillna(0)\n",
    "        \n",
    "        print(f\"Date range: {df['local_time_col'].min()} to {df['local_time_col'].max()}\")\n",
    "        print(f\"Number of unique meters: {df['meter_code'].nunique()}\")\n",
    "\n",
    "        df = df.dropna(subset=['local_time_col', 'meter_code', 'fv'])\n",
    "        print(\"Data loaded and preprocessed successfully.\")\n",
    "        return df\n",
    "        \n",
    "    except Exception as e:\n",
    "        print(f\"Error loading data: {str(e)}\")\n",
    "        raise\n",
    "\n",
    "def create_features(df, target_col='fv'):\n",
    "\n",
    "    df = df.copy()\n",
    "    df['hour'] = df['local_time_col'].dt.hour\n",
    "    df['day_of_week'] = df['local_time_col'].dt.dayofweek\n",
    "    df['day_of_month'] = df['local_time_col'].dt.day\n",
    "    df['month'] = df['local_time_col'].dt.month\n",
    "    df['quarter'] = df['local_time_col'].dt.quarter\n",
    "    df['year'] = df['local_time_col'].dt.year\n",
    "    df['is_weekend'] = (df['local_time_col'].dt.dayofweek >= 5).astype(int)\n",
    "    \n",
    "    df['hour_sin'] = np.sin(2 * np.pi * df['hour'] / 24)\n",
    "    df['hour_cos'] = np.cos(2 * np.pi * df['hour'] / 24)\n",
    "    df['day_sin'] = np.sin(2 * np.pi * df['day_of_week'] / 7)\n",
    "    df['day_cos'] = np.cos(2 * np.pi * df['day_of_week'] / 7)\n",
    "    df['month_sin'] = np.sin(2 * np.pi * df['month'] / 12)\n",
    "    df['month_cos'] = np.cos(2 * np.pi * df['month'] / 12)\n",
    "    \n",
    "    return df\n",
    "\n",
    "def create_lag_rolling_features(df, target_col='fv'):\n",
    "\n",
    "    df = df.copy()\n",
    "    lags = [1, 2, 3, 6, 12, 24, 32]\n",
    "    for lag in lags:\n",
    "        df[f'{target_col}_lag_{lag}'] = df[target_col].shift(lag)\n",
    "        \n",
    "    windows = [3, 6, 12, 24]\n",
    "    for window in windows:\n",
    "        df[f'{target_col}_rolling_mean_{window}'] = df[target_col].rolling(window=window).mean()\n",
    "        df[f'{target_col}_rolling_std_{window}'] = df[target_col].rolling(window=window).std()\n",
    "        df[f'{target_col}_rolling_min_{window}'] = df[target_col].rolling(window=window).min()\n",
    "        df[f'{target_col}_rolling_max_{window}'] = df[target_col].rolling(window=window).max()\n",
    "        \n",
    "    return df\n",
    "\n",
    "def xgboost_forecast(df_original, meter_code, granularity, forecast_period=10, target_col='fv'):\n",
    "  \n",
    "    try:\n",
    "        freq = 'D' if granularity == \"Daily\" else 'H'\n",
    "        MIN_SAMPLES_FOR_TUNING = 20 if granularity == \"Daily\" else 240\n",
    "\n",
    "        # Data Preparation\n",
    "        df_resampled = df_original.set_index('local_time_col').resample(freq)[target_col].mean().fillna(0).reset_index()\n",
    "\n",
    "        if len(df_resampled) < MIN_SAMPLES_FOR_TUNING:\n",
    "            raise ValueError(f\"Insufficient data for meter {meter_code}.\")\n",
    "\n",
    "        df_with_features = create_features(df_resampled, target_col=target_col)\n",
    "        df_with_features = create_lag_rolling_features(df_with_features, target_col=target_col)\n",
    "        \n",
    "        # We keep rows with NaNs and let XGBoost handle them\n",
    "        \n",
    "        min_test_size = max(forecast_period, int(len(df_with_features) * 0.2))\n",
    "        split_point = len(df_with_features) - min_test_size\n",
    "        train_df = df_with_features.iloc[:split_point]\n",
    "        test_df = df_with_features.iloc[split_point:]\n",
    "\n",
    "        feature_cols = [col for col in train_df.columns if col not in ['local_time_col', target_col]]\n",
    "        X_train, y_train = train_df[feature_cols], train_df[target_col]\n",
    "        X_test, y_test = test_df[feature_cols], test_df[target_col]\n",
    "\n",
    "        # Check data size before tuning\n",
    "        # MIN_SAMPLES_FOR_TUNING = 20\n",
    "        if len(train_df) < MIN_SAMPLES_FOR_TUNING:\n",
    "            tqdm.write(f\"WARNING: Training data for {meter_code} ({granularity}) is too small ({len(train_df)} samples) for tuning. Using default parameters.\")\n",
    "            model_xgb = xgb.XGBRegressor(\n",
    "                n_estimators=500, max_depth=5, learning_rate=0.05, subsample=0.8,\n",
    "                colsample_bytree=0.8, random_state=42, n_jobs=-1, early_stopping_rounds=10\n",
    "            )\n",
    "            model_xgb.fit(X_train, y_train, eval_set=[(X_test, y_test)], verbose=False)\n",
    "        else:\n",
    "            # --- UPDATED PARAMETER GRID WITH REGULARIZATION ---\n",
    "            param_grid = {\n",
    "                'n_estimators': [100, 500, 1000],\n",
    "                'max_depth': [3, 5, 7],\n",
    "                'learning_rate': [0.01, 0.05, 0.1],\n",
    "                'subsample': [0.7, 0.8, 0.9],\n",
    "                'colsample_bytree': [0.7, 0.8, 0.9],\n",
    "                'gamma': [0, 0.1, 0.5],             # Added for regularization\n",
    "                'reg_alpha': [0, 0.1, 0.5],          # Added for L1 regularization\n",
    "                'reg_lambda': [1, 1.5, 2]            # Added for L2 regularization\n",
    "            }\n",
    "            tscv = TimeSeriesSplit(n_splits=5)\n",
    "            xgb_estimator = xgb.XGBRegressor(random_state=42, n_jobs=-1, early_stopping_rounds=10)\n",
    "            \n",
    "            random_search = RandomizedSearchCV(\n",
    "                estimator=xgb_estimator, param_distributions=param_grid, n_iter=25,\n",
    "                scoring='neg_root_mean_squared_error', cv=tscv, verbose=0, random_state=42\n",
    "            )\n",
    "            \n",
    "            fit_params = {\"eval_set\": [(X_test, y_test)], \"verbose\": False}\n",
    "            random_search.fit(X_train, y_train, **fit_params)\n",
    "            \n",
    "            # tqdm.write(f\"\\nBest parameters for {meter_code} ({granularity}): {random_search.best_params_}\")\n",
    "            model_xgb = random_search.best_estimator_\n",
    "\n",
    "        # --- Forecasting ---\n",
    "        future_dates = pd.date_range(\n",
    "            start=df_with_features['local_time_col'].max() + pd.Timedelta(1, unit=freq),\n",
    "            periods=forecast_period, freq=freq\n",
    "        )\n",
    "        \n",
    "        forecast_results = []\n",
    "        history = df_with_features.copy()\n",
    "\n",
    "        for future_date in future_dates:\n",
    "            future_df = pd.DataFrame({'local_time_col': [future_date]})\n",
    "            temp_df = pd.concat([history, future_df], ignore_index=True)\n",
    "            temp_df_features = create_features(temp_df, target_col=target_col)\n",
    "            temp_df_features = create_lag_rolling_features(temp_df_features, target_col=target_col)\n",
    "            X_future = temp_df_features.iloc[-1:][feature_cols]\n",
    "            y_pred = model_xgb.predict(X_future)[0]\n",
    "            forecast_results.append({'ds': future_date, 'yhat': y_pred})\n",
    "            # A more robust way to append to history\n",
    "            new_row = {col: np.nan for col in history.columns}\n",
    "            new_row['local_time_col'] = future_date\n",
    "            new_row[target_col] = y_pred\n",
    "            history = pd.concat([history, pd.DataFrame([new_row])], ignore_index=True)\n",
    "\n",
    "\n",
    "        forecast_df = pd.DataFrame(forecast_results)\n",
    "        \n",
    "        train_df['yhat'] = model_xgb.predict(X_train)\n",
    "        test_df['yhat'] = model_xgb.predict(X_test)\n",
    "        \n",
    "        # --- Plot Generation ---\n",
    "        if granularity == \"Daily\":\n",
    "            plt.figure(figsize=(14, 7))\n",
    "            plt.plot(train_df['local_time_col'], train_df[target_col], 'b-', label='Actual (Train)')\n",
    "            plt.plot(test_df['local_time_col'], test_df[target_col], 'g-', label='Actual (Test)')\n",
    "            plt.plot(train_df['local_time_col'], train_df['yhat'], 'r--', alpha=0.8, label='XGBoost Forecast')\n",
    "            plt.plot(test_df['local_time_col'], test_df['yhat'], 'r--', alpha=0.8)\n",
    "            plt.plot(forecast_df['ds'], forecast_df['yhat'], 'r--', alpha=0.8)\n",
    "            plt.axvline(train_df['local_time_col'].max(), color='k', linestyle=':', label='Train/Test Split')\n",
    "            plt.axvline(test_df['local_time_col'].max(), color='k', linestyle=':', label='Test/Forecast Split')\n",
    "            plt.xlabel('Date')\n",
    "            plt.ylabel(f'Flow Rate ({target_col})')\n",
    "            plt.title(f'XGBoost Forecast — {meter_code} in {granularity}')\n",
    "            plt.grid(alpha=0.3)\n",
    "            plt.legend()\n",
    "        else: # Hourly\n",
    "            fig, (ax1, ax2) = plt.subplots(2, 1, figsize=(16, 12), gridspec_kw={'height_ratios': [2, 1]})\n",
    "            ax1.plot(train_df['local_time_col'], train_df[target_col], 'b-', label='Actual (Train)')\n",
    "            ax1.plot(test_df['local_time_col'], test_df[target_col], 'g-', label='Actual (Test)')\n",
    "            ax1.plot(train_df['local_time_col'], train_df['yhat'], 'r-', alpha=0.8, label='XGBoost Forecast')\n",
    "            ax1.plot(test_df['local_time_col'], test_df['yhat'], 'r-', alpha=0.8)\n",
    "            ax1.plot(forecast_df['ds'], forecast_df['yhat'], 'r-', alpha=0.8)\n",
    "            ax1.axvline(train_df['local_time_col'].max(), color='k', linestyle='--', label='Train/Test Split')\n",
    "            ax1.axvline(test_df['local_time_col'].max(), color='k', linestyle='--', label='Test/Forecast Split')\n",
    "            ax1.set_title(f'XGBoost Forecast — {meter_code} (Full Hourly Data)')\n",
    "            ax1.set_xlabel('Date')\n",
    "            ax1.set_ylabel(f'Flow Rate ({target_col})')\n",
    "            ax1.legend()\n",
    "            ax1.grid(alpha=0.3)\n",
    "            \n",
    "            forecast_start = df_with_features['local_time_col'].max()\n",
    "            today_start = forecast_start.floor('D')\n",
    "            today_end = today_start + pd.Timedelta(days=1)\n",
    "            today_original = df_with_features[(df_with_features['local_time_col'] >= today_start) & (df_with_features['local_time_col'] <= forecast_start)]\n",
    "            remaining_hours_forecast = forecast_df[(forecast_df['ds'] > forecast_start) & (forecast_df['ds'] <= today_end)].copy()\n",
    "            std_dev = y_test.std()\n",
    "            remaining_hours_forecast['yhat_lower'] = remaining_hours_forecast['yhat'] - 1.96 * std_dev\n",
    "            remaining_hours_forecast['yhat_upper'] = remaining_hours_forecast['yhat'] + 1.96 * std_dev\n",
    "            ax2.plot(today_original['local_time_col'], today_original[target_col], 'b-o', label='Today Original Data')\n",
    "            ax2.plot(remaining_hours_forecast['ds'], remaining_hours_forecast['yhat'], 'r-s', label='Remaining Hours Forecast')\n",
    "            ax2.fill_between(remaining_hours_forecast['ds'], remaining_hours_forecast['yhat_lower'], remaining_hours_forecast['yhat_upper'], color='orange', alpha=0.3, label='95% Confidence Interval')\n",
    "            ax2.set_title(\"Today's Detail: Original Data + Remaining Hours Forecast\")\n",
    "            ax2.set_xlabel('Time (Hours)')\n",
    "            ax2.set_ylabel(f'Flow Rate ({target_col})')\n",
    "            ax2.grid(alpha=0.3)\n",
    "            ax2.legend()\n",
    "            hour_ticks = pd.date_range(start=today_start, end=today_end, freq='H')\n",
    "            ax2.set_xticks(hour_ticks)\n",
    "            ax2.set_xticklabels([dt.strftime('%H:%M') for dt in hour_ticks])\n",
    "            ax2.set_xlim(today_start, today_end)\n",
    "\n",
    "        output_dir = \"../Output/xgboost_plot/Fv\"\n",
    "        os.makedirs(output_dir, exist_ok=True)\n",
    "        safe_meter_code = meter_code.replace(\" \", \"_\").replace(\"/\", \"_\")\n",
    "        filepath = os.path.join(output_dir, f\"{safe_meter_code}_{granularity}_xgboost_forecast.png\")\n",
    "        plt.savefig(filepath, dpi=300, bbox_inches='tight')\n",
    "        \n",
    "        model_dir = \"../Models/xgboost_models/Fv\"\n",
    "        os.makedirs(model_dir, exist_ok=True)\n",
    "        model_filepath = os.path.join(model_dir, f\"{safe_meter_code}_{granularity}_xgboost_model.joblib\")\n",
    "        joblib.dump(model_xgb, model_filepath)\n",
    "        \n",
    "        metrics = {\n",
    "            'train_RMSE': np.sqrt(mean_squared_error(y_train, train_df['yhat'])),\n",
    "            'train_MAE': mean_absolute_error(y_train, train_df['yhat']),\n",
    "            'test_RMSE': np.sqrt(mean_squared_error(y_test, test_df['yhat'])),\n",
    "            'test_MAE': mean_absolute_error(y_test, test_df['yhat'])\n",
    "        }\n",
    "        \n",
    "        return forecast_df, plt, metrics\n",
    "        \n",
    "    except Exception as e:\n",
    "        tqdm.write(f\"\\n\\nError in xgboost_forecast for meter {meter_code} ({granularity}): {str(e)}\\n\")\n",
    "        return None, None, None\n",
    "\n",
    "def run_xgboost_training(df_original, unique_meters, base_path):\n",
    "    print(\"\\n\" + \"-\"*100)\n",
    "    print(\"STARTING XGBOOST MODEL TRAINING\")\n",
    "    print(\"-\"*100)\n",
    "    results = []\n",
    "    \n",
    "    for meter_code in tqdm(unique_meters, desc=\"Processing Meters\"):\n",
    "        try:\n",
    "            meter_data = df_original[df_original['meter_code'] == meter_code].copy()\n",
    "            if meter_data.empty:\n",
    "                tqdm.write(f\"No data found for meter {meter_code}\")\n",
    "                continue\n",
    "\n",
    "            for granularity in [\"Daily\", \"Hourly\"]:\n",
    "                forecast_result = xgboost_forecast(\n",
    "                    meter_data, meter_code, granularity, forecast_period=7\n",
    "                )\n",
    "                \n",
    "                if forecast_result and all(item is not None for item in forecast_result):\n",
    "                    forecast, plot, metrics = forecast_result\n",
    "                    # tqdm.write(f\"Performance Metrics for {meter_code} ({granularity}): {metrics}\")\n",
    "                    \n",
    "                    safe_code = meter_code.replace(' ', '_').replace('/', '_')\n",
    "\n",
    "                    results.append({\n",
    "                        'meter_id': meter_code,\n",
    "                        'granularity': granularity,\n",
    "                        'forecast': forecast, \n",
    "                        'metrics': metrics,\n",
    "                        'plot_saved': f\"../Output/xgboost_plot/Fv/{safe_code}_{granularity}_xgboost_forecast.png\",\n",
    "                        'model_saved': f\"../Models/xgboost_models/Fv/{safe_code}_{granularity}_xgboost_model.joblib\",\n",
    "                        **metrics # Unpacks the metrics dict into this one\n",
    "                    })\n",
    "                    plt.close()\n",
    "                \n",
    "\n",
    "        except Exception as e:\n",
    "            tqdm.write(f\"FATAL ERROR processing meter {meter_code}: {str(e)}\")\n",
    "            continue\n",
    "    return results\n",
    "\n",
    "def main():\n",
    "    BASE_PATH = 'Models'\n",
    "    print(f\"Base directory for models: '{BASE_PATH}'\")\n",
    "    \n",
    "    try:\n",
    "        df_original = load_data()\n",
    "        unique_meters = df_original['meter_code'].unique()\n",
    "        print(f\"Found {len(unique_meters)} unique meters to process.\")\n",
    "        \n",
    "        min_data_points = 100\n",
    "        meter_counts = df_original['meter_code'].value_counts()\n",
    "        sufficient_data_meters = meter_counts[meter_counts >= min_data_points].index.tolist()\n",
    "        \n",
    "        if len(sufficient_data_meters) < len(unique_meters):\n",
    "            print(f\"Filtered out {len(unique_meters) - len(sufficient_data_meters)} meters with insufficient data\")\n",
    "        \n",
    "        if sufficient_data_meters:\n",
    "            xgboost_results_list = run_xgboost_training(df_original, sufficient_data_meters, BASE_PATH)\n",
    "            if xgboost_results_list:\n",
    "                print(f\"\\nCompleted training for {len(xgboost_results_list)} meter-granularity combinations\")\n",
    "\n",
    "                # --- FIXED: Convert list of dicts to DataFrame ---\n",
    "                results_df = pd.DataFrame(xgboost_results_list)\n",
    "                \n",
    "                print(\"\\n\" + \"-\"*80 + \"\\nTRAINING SUMMARY\\n\" + \"-\"*80)\n",
    "                print(results_df)\n",
    "\n",
    "                # --- FIXED: Save the DataFrame to a CSV file ---\n",
    "                output_dir = \"../Output/forecast_result\"\n",
    "                os.makedirs(output_dir, exist_ok=True)\n",
    "                csv_path = os.path.join(output_dir, \"xgboost_fr_results.csv\")\n",
    "                results_df.to_csv(csv_path, index=False)\n",
    "                print(f\"\\nResults saved to {csv_path}\")\n",
    "\n",
    "            else:\n",
    "                print(\"\\nTraining run completed, but no models were successfully trained.\")\n",
    "            \n",
    "        else:\n",
    "            print(\"No meters with sufficient data for training.\")\n",
    "            \n",
    "    except Exception as e:\n",
    "        print(f\"Error in main execution: {str(e)}\")\n",
    "        raise\n",
    "\n",
    "if __name__ == \"__main__\":\n",
    "    main()"
   ]
  },
  {
   "cell_type": "code",
   "execution_count": null,
   "metadata": {},
   "outputs": [],
   "source": []
  },
  {
   "cell_type": "code",
   "execution_count": null,
   "id": "a8f4c36e",
   "metadata": {},
   "outputs": [],
   "source": []
  },
  {
   "cell_type": "code",
   "execution_count": null,
   "metadata": {},
   "outputs": [],
   "source": []
  },
  {
   "cell_type": "code",
   "execution_count": null,
   "id": "a50f8b61",
   "metadata": {},
   "outputs": [],
   "source": []
  }
 ],
 "metadata": {
  "kernelspec": {
   "display_name": "venv",
   "language": "python",
   "name": "python3"
  },
  "language_info": {
   "codemirror_mode": {
    "name": "ipython",
    "version": 3
   },
   "file_extension": ".py",
   "mimetype": "text/x-python",
   "name": "python",
   "nbconvert_exporter": "python",
   "pygments_lexer": "ipython3",
   "version": "3.13.2"
  }
 },
 "nbformat": 4,
 "nbformat_minor": 5
}
