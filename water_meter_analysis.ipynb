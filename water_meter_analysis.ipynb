{
 "cells": [
  {
   "cell_type": "code",
   "execution_count": 1,
   "id": "51d64196",
   "metadata": {},
   "outputs": [],
   "source": [
    "import numpy as np\n",
    "import pandas as pd\n",
    "import matplotlib.pyplot as plt\n",
    "import seaborn as sns\n",
    "import matplotlib.dates as mdates\n",
    "from ipywidgets import interact, Dropdown\n",
    "from statsmodels.tsa.seasonal import seasonal_decompose\n",
    "# from scipy.stats import zscore, skew, normaltest"
   ]
  },
  {
   "cell_type": "code",
   "execution_count": 2,
   "id": "683df98d",
   "metadata": {},
   "outputs": [
    {
     "data": {
      "text/html": [
       "<div>\n",
       "<style scoped>\n",
       "    .dataframe tbody tr th:only-of-type {\n",
       "        vertical-align: middle;\n",
       "    }\n",
       "\n",
       "    .dataframe tbody tr th {\n",
       "        vertical-align: top;\n",
       "    }\n",
       "\n",
       "    .dataframe thead th {\n",
       "        text-align: right;\n",
       "    }\n",
       "</style>\n",
       "<table border=\"1\" class=\"dataframe\">\n",
       "  <thead>\n",
       "    <tr style=\"text-align: right;\">\n",
       "      <th></th>\n",
       "      <th>id</th>\n",
       "      <th>created_datetime</th>\n",
       "      <th>water_meter_code</th>\n",
       "      <th>flow_rate</th>\n",
       "      <th>flow_volume</th>\n",
       "      <th>flow_today</th>\n",
       "      <th>net_total</th>\n",
       "      <th>created_by</th>\n",
       "      <th>creation_date</th>\n",
       "      <th>modified_date</th>\n",
       "    </tr>\n",
       "  </thead>\n",
       "  <tbody>\n",
       "    <tr>\n",
       "      <th>0</th>\n",
       "      <td>5799676</td>\n",
       "      <td>2025-04-01 00:00:00</td>\n",
       "      <td>BFM 1</td>\n",
       "      <td>0.0</td>\n",
       "      <td>0.0</td>\n",
       "      <td>0.0</td>\n",
       "      <td>0.0</td>\n",
       "      <td>SYNC_APP</td>\n",
       "      <td>2025-06-10 10:05:41</td>\n",
       "      <td>2025-06-10 15:35:05</td>\n",
       "    </tr>\n",
       "    <tr>\n",
       "      <th>1</th>\n",
       "      <td>5799677</td>\n",
       "      <td>2025-04-01 00:15:00</td>\n",
       "      <td>BFM 1</td>\n",
       "      <td>0.0</td>\n",
       "      <td>0.0</td>\n",
       "      <td>0.0</td>\n",
       "      <td>0.0</td>\n",
       "      <td>SYNC_APP</td>\n",
       "      <td>2025-06-10 10:05:41</td>\n",
       "      <td>2025-06-10 15:35:05</td>\n",
       "    </tr>\n",
       "    <tr>\n",
       "      <th>2</th>\n",
       "      <td>5799678</td>\n",
       "      <td>2025-04-01 00:30:00</td>\n",
       "      <td>BFM 1</td>\n",
       "      <td>0.0</td>\n",
       "      <td>0.0</td>\n",
       "      <td>0.0</td>\n",
       "      <td>0.0</td>\n",
       "      <td>SYNC_APP</td>\n",
       "      <td>2025-06-10 10:05:41</td>\n",
       "      <td>2025-06-10 15:35:05</td>\n",
       "    </tr>\n",
       "    <tr>\n",
       "      <th>3</th>\n",
       "      <td>5799679</td>\n",
       "      <td>2025-04-01 00:45:00</td>\n",
       "      <td>BFM 1</td>\n",
       "      <td>0.0</td>\n",
       "      <td>0.0</td>\n",
       "      <td>0.0</td>\n",
       "      <td>0.0</td>\n",
       "      <td>SYNC_APP</td>\n",
       "      <td>2025-06-10 10:05:41</td>\n",
       "      <td>2025-06-10 15:35:05</td>\n",
       "    </tr>\n",
       "    <tr>\n",
       "      <th>4</th>\n",
       "      <td>5799680</td>\n",
       "      <td>2025-04-01 01:00:00</td>\n",
       "      <td>BFM 1</td>\n",
       "      <td>0.0</td>\n",
       "      <td>0.0</td>\n",
       "      <td>0.0</td>\n",
       "      <td>0.0</td>\n",
       "      <td>SYNC_APP</td>\n",
       "      <td>2025-06-10 10:05:41</td>\n",
       "      <td>2025-06-10 15:35:05</td>\n",
       "    </tr>\n",
       "  </tbody>\n",
       "</table>\n",
       "</div>"
      ],
      "text/plain": [
       "        id     created_datetime water_meter_code  flow_rate  flow_volume  \\\n",
       "0  5799676  2025-04-01 00:00:00            BFM 1        0.0          0.0   \n",
       "1  5799677  2025-04-01 00:15:00            BFM 1        0.0          0.0   \n",
       "2  5799678  2025-04-01 00:30:00            BFM 1        0.0          0.0   \n",
       "3  5799679  2025-04-01 00:45:00            BFM 1        0.0          0.0   \n",
       "4  5799680  2025-04-01 01:00:00            BFM 1        0.0          0.0   \n",
       "\n",
       "   flow_today  net_total created_by        creation_date        modified_date  \n",
       "0         0.0        0.0   SYNC_APP  2025-06-10 10:05:41  2025-06-10 15:35:05  \n",
       "1         0.0        0.0   SYNC_APP  2025-06-10 10:05:41  2025-06-10 15:35:05  \n",
       "2         0.0        0.0   SYNC_APP  2025-06-10 10:05:41  2025-06-10 15:35:05  \n",
       "3         0.0        0.0   SYNC_APP  2025-06-10 10:05:41  2025-06-10 15:35:05  \n",
       "4         0.0        0.0   SYNC_APP  2025-06-10 10:05:41  2025-06-10 15:35:05  "
      ]
     },
     "execution_count": 2,
     "metadata": {},
     "output_type": "execute_result"
    }
   ],
   "source": [
    "df = pd.read_csv('../Data/3mon.csv')\n",
    "df.head()"
   ]
  },
  {
   "cell_type": "code",
   "execution_count": 3,
   "id": "7b5dd93b",
   "metadata": {},
   "outputs": [
    {
     "data": {
      "text/plain": [
       "1088132"
      ]
     },
     "execution_count": 3,
     "metadata": {},
     "output_type": "execute_result"
    }
   ],
   "source": [
    "len(df)"
   ]
  },
  {
   "cell_type": "code",
   "execution_count": 4,
   "id": "6714c8ae",
   "metadata": {},
   "outputs": [
    {
     "data": {
      "text/html": [
       "<div>\n",
       "<style scoped>\n",
       "    .dataframe tbody tr th:only-of-type {\n",
       "        vertical-align: middle;\n",
       "    }\n",
       "\n",
       "    .dataframe tbody tr th {\n",
       "        vertical-align: top;\n",
       "    }\n",
       "\n",
       "    .dataframe thead th {\n",
       "        text-align: right;\n",
       "    }\n",
       "</style>\n",
       "<table border=\"1\" class=\"dataframe\">\n",
       "  <thead>\n",
       "    <tr style=\"text-align: right;\">\n",
       "      <th></th>\n",
       "      <th>Id</th>\n",
       "      <th>LocalTimeCol</th>\n",
       "      <th>MeterCode</th>\n",
       "      <th>FR</th>\n",
       "      <th>FV</th>\n",
       "      <th>Today</th>\n",
       "      <th>NetTotal</th>\n",
       "      <th>created_by</th>\n",
       "      <th>creation_date</th>\n",
       "      <th>modified_date</th>\n",
       "    </tr>\n",
       "  </thead>\n",
       "  <tbody>\n",
       "    <tr>\n",
       "      <th>0</th>\n",
       "      <td>5799676</td>\n",
       "      <td>2025-04-01 00:00:00</td>\n",
       "      <td>BFM 1</td>\n",
       "      <td>0.0</td>\n",
       "      <td>0.0</td>\n",
       "      <td>0.0</td>\n",
       "      <td>0.0</td>\n",
       "      <td>SYNC_APP</td>\n",
       "      <td>2025-06-10 10:05:41</td>\n",
       "      <td>2025-06-10 15:35:05</td>\n",
       "    </tr>\n",
       "    <tr>\n",
       "      <th>1</th>\n",
       "      <td>5799677</td>\n",
       "      <td>2025-04-01 00:15:00</td>\n",
       "      <td>BFM 1</td>\n",
       "      <td>0.0</td>\n",
       "      <td>0.0</td>\n",
       "      <td>0.0</td>\n",
       "      <td>0.0</td>\n",
       "      <td>SYNC_APP</td>\n",
       "      <td>2025-06-10 10:05:41</td>\n",
       "      <td>2025-06-10 15:35:05</td>\n",
       "    </tr>\n",
       "    <tr>\n",
       "      <th>2</th>\n",
       "      <td>5799678</td>\n",
       "      <td>2025-04-01 00:30:00</td>\n",
       "      <td>BFM 1</td>\n",
       "      <td>0.0</td>\n",
       "      <td>0.0</td>\n",
       "      <td>0.0</td>\n",
       "      <td>0.0</td>\n",
       "      <td>SYNC_APP</td>\n",
       "      <td>2025-06-10 10:05:41</td>\n",
       "      <td>2025-06-10 15:35:05</td>\n",
       "    </tr>\n",
       "    <tr>\n",
       "      <th>3</th>\n",
       "      <td>5799679</td>\n",
       "      <td>2025-04-01 00:45:00</td>\n",
       "      <td>BFM 1</td>\n",
       "      <td>0.0</td>\n",
       "      <td>0.0</td>\n",
       "      <td>0.0</td>\n",
       "      <td>0.0</td>\n",
       "      <td>SYNC_APP</td>\n",
       "      <td>2025-06-10 10:05:41</td>\n",
       "      <td>2025-06-10 15:35:05</td>\n",
       "    </tr>\n",
       "    <tr>\n",
       "      <th>4</th>\n",
       "      <td>5799680</td>\n",
       "      <td>2025-04-01 01:00:00</td>\n",
       "      <td>BFM 1</td>\n",
       "      <td>0.0</td>\n",
       "      <td>0.0</td>\n",
       "      <td>0.0</td>\n",
       "      <td>0.0</td>\n",
       "      <td>SYNC_APP</td>\n",
       "      <td>2025-06-10 10:05:41</td>\n",
       "      <td>2025-06-10 15:35:05</td>\n",
       "    </tr>\n",
       "  </tbody>\n",
       "</table>\n",
       "</div>"
      ],
      "text/plain": [
       "        Id         LocalTimeCol MeterCode   FR   FV  Today  NetTotal  \\\n",
       "0  5799676  2025-04-01 00:00:00     BFM 1  0.0  0.0    0.0       0.0   \n",
       "1  5799677  2025-04-01 00:15:00     BFM 1  0.0  0.0    0.0       0.0   \n",
       "2  5799678  2025-04-01 00:30:00     BFM 1  0.0  0.0    0.0       0.0   \n",
       "3  5799679  2025-04-01 00:45:00     BFM 1  0.0  0.0    0.0       0.0   \n",
       "4  5799680  2025-04-01 01:00:00     BFM 1  0.0  0.0    0.0       0.0   \n",
       "\n",
       "  created_by        creation_date        modified_date  \n",
       "0   SYNC_APP  2025-06-10 10:05:41  2025-06-10 15:35:05  \n",
       "1   SYNC_APP  2025-06-10 10:05:41  2025-06-10 15:35:05  \n",
       "2   SYNC_APP  2025-06-10 10:05:41  2025-06-10 15:35:05  \n",
       "3   SYNC_APP  2025-06-10 10:05:41  2025-06-10 15:35:05  \n",
       "4   SYNC_APP  2025-06-10 10:05:41  2025-06-10 15:35:05  "
      ]
     },
     "execution_count": 4,
     "metadata": {},
     "output_type": "execute_result"
    }
   ],
   "source": [
    "df = df.rename(columns={'id':'Id','created_datetime':'LocalTimeCol','water_meter_code':'MeterCode','flow_rate':'FR','flow_volume':'FV','flow_today':'Today', 'net_total':'NetTotal'})\n",
    "df.head()"
   ]
  },
  {
   "cell_type": "code",
   "execution_count": 5,
   "id": "caf35443",
   "metadata": {},
   "outputs": [
    {
     "data": {
      "text/html": [
       "<div>\n",
       "<style scoped>\n",
       "    .dataframe tbody tr th:only-of-type {\n",
       "        vertical-align: middle;\n",
       "    }\n",
       "\n",
       "    .dataframe tbody tr th {\n",
       "        vertical-align: top;\n",
       "    }\n",
       "\n",
       "    .dataframe thead th {\n",
       "        text-align: right;\n",
       "    }\n",
       "</style>\n",
       "<table border=\"1\" class=\"dataframe\">\n",
       "  <thead>\n",
       "    <tr style=\"text-align: right;\">\n",
       "      <th></th>\n",
       "      <th>Id</th>\n",
       "      <th>LocalTimeCol</th>\n",
       "      <th>MeterCode</th>\n",
       "      <th>FR</th>\n",
       "      <th>FV</th>\n",
       "      <th>Today</th>\n",
       "      <th>NetTotal</th>\n",
       "      <th>created_by</th>\n",
       "      <th>creation_date</th>\n",
       "      <th>modified_date</th>\n",
       "      <th>Date</th>\n",
       "      <th>Time</th>\n",
       "    </tr>\n",
       "  </thead>\n",
       "  <tbody>\n",
       "    <tr>\n",
       "      <th>0</th>\n",
       "      <td>5799676</td>\n",
       "      <td>2025-04-01 00:00:00</td>\n",
       "      <td>BFM 1</td>\n",
       "      <td>0.0</td>\n",
       "      <td>0.0</td>\n",
       "      <td>0.0</td>\n",
       "      <td>0.0</td>\n",
       "      <td>SYNC_APP</td>\n",
       "      <td>2025-06-10 10:05:41</td>\n",
       "      <td>2025-06-10 15:35:05</td>\n",
       "      <td>2025-04-01</td>\n",
       "      <td>00:00:00</td>\n",
       "    </tr>\n",
       "    <tr>\n",
       "      <th>1</th>\n",
       "      <td>5799677</td>\n",
       "      <td>2025-04-01 00:15:00</td>\n",
       "      <td>BFM 1</td>\n",
       "      <td>0.0</td>\n",
       "      <td>0.0</td>\n",
       "      <td>0.0</td>\n",
       "      <td>0.0</td>\n",
       "      <td>SYNC_APP</td>\n",
       "      <td>2025-06-10 10:05:41</td>\n",
       "      <td>2025-06-10 15:35:05</td>\n",
       "      <td>2025-04-01</td>\n",
       "      <td>00:15:00</td>\n",
       "    </tr>\n",
       "    <tr>\n",
       "      <th>2</th>\n",
       "      <td>5799678</td>\n",
       "      <td>2025-04-01 00:30:00</td>\n",
       "      <td>BFM 1</td>\n",
       "      <td>0.0</td>\n",
       "      <td>0.0</td>\n",
       "      <td>0.0</td>\n",
       "      <td>0.0</td>\n",
       "      <td>SYNC_APP</td>\n",
       "      <td>2025-06-10 10:05:41</td>\n",
       "      <td>2025-06-10 15:35:05</td>\n",
       "      <td>2025-04-01</td>\n",
       "      <td>00:30:00</td>\n",
       "    </tr>\n",
       "    <tr>\n",
       "      <th>3</th>\n",
       "      <td>5799679</td>\n",
       "      <td>2025-04-01 00:45:00</td>\n",
       "      <td>BFM 1</td>\n",
       "      <td>0.0</td>\n",
       "      <td>0.0</td>\n",
       "      <td>0.0</td>\n",
       "      <td>0.0</td>\n",
       "      <td>SYNC_APP</td>\n",
       "      <td>2025-06-10 10:05:41</td>\n",
       "      <td>2025-06-10 15:35:05</td>\n",
       "      <td>2025-04-01</td>\n",
       "      <td>00:45:00</td>\n",
       "    </tr>\n",
       "    <tr>\n",
       "      <th>4</th>\n",
       "      <td>5799680</td>\n",
       "      <td>2025-04-01 01:00:00</td>\n",
       "      <td>BFM 1</td>\n",
       "      <td>0.0</td>\n",
       "      <td>0.0</td>\n",
       "      <td>0.0</td>\n",
       "      <td>0.0</td>\n",
       "      <td>SYNC_APP</td>\n",
       "      <td>2025-06-10 10:05:41</td>\n",
       "      <td>2025-06-10 15:35:05</td>\n",
       "      <td>2025-04-01</td>\n",
       "      <td>01:00:00</td>\n",
       "    </tr>\n",
       "  </tbody>\n",
       "</table>\n",
       "</div>"
      ],
      "text/plain": [
       "        Id        LocalTimeCol MeterCode   FR   FV  Today  NetTotal  \\\n",
       "0  5799676 2025-04-01 00:00:00     BFM 1  0.0  0.0    0.0       0.0   \n",
       "1  5799677 2025-04-01 00:15:00     BFM 1  0.0  0.0    0.0       0.0   \n",
       "2  5799678 2025-04-01 00:30:00     BFM 1  0.0  0.0    0.0       0.0   \n",
       "3  5799679 2025-04-01 00:45:00     BFM 1  0.0  0.0    0.0       0.0   \n",
       "4  5799680 2025-04-01 01:00:00     BFM 1  0.0  0.0    0.0       0.0   \n",
       "\n",
       "  created_by        creation_date        modified_date        Date      Time  \n",
       "0   SYNC_APP  2025-06-10 10:05:41  2025-06-10 15:35:05  2025-04-01  00:00:00  \n",
       "1   SYNC_APP  2025-06-10 10:05:41  2025-06-10 15:35:05  2025-04-01  00:15:00  \n",
       "2   SYNC_APP  2025-06-10 10:05:41  2025-06-10 15:35:05  2025-04-01  00:30:00  \n",
       "3   SYNC_APP  2025-06-10 10:05:41  2025-06-10 15:35:05  2025-04-01  00:45:00  \n",
       "4   SYNC_APP  2025-06-10 10:05:41  2025-06-10 15:35:05  2025-04-01  01:00:00  "
      ]
     },
     "execution_count": 5,
     "metadata": {},
     "output_type": "execute_result"
    }
   ],
   "source": [
    "df['LocalTimeCol'] = pd.to_datetime(df['LocalTimeCol'])\n",
    "df['Date'] = df['LocalTimeCol'].dt.date\n",
    "df['Time'] = df['LocalTimeCol'].dt.time\n",
    "df.head()"
   ]
  },
  {
   "cell_type": "code",
   "execution_count": 6,
   "id": "9e15324b",
   "metadata": {},
   "outputs": [
    {
     "data": {
      "text/plain": [
       "161"
      ]
     },
     "execution_count": 6,
     "metadata": {},
     "output_type": "execute_result"
    }
   ],
   "source": [
    "df.MeterCode.nunique()"
   ]
  },
  {
   "cell_type": "code",
   "execution_count": 7,
   "id": "53a598a7",
   "metadata": {},
   "outputs": [
    {
     "name": "stdout",
     "output_type": "stream",
     "text": [
      "<class 'pandas.core.frame.DataFrame'>\n",
      "RangeIndex: 1088132 entries, 0 to 1088131\n",
      "Data columns (total 12 columns):\n",
      " #   Column         Non-Null Count    Dtype         \n",
      "---  ------         --------------    -----         \n",
      " 0   Id             1088132 non-null  int64         \n",
      " 1   LocalTimeCol   1088132 non-null  datetime64[ns]\n",
      " 2   MeterCode      1088132 non-null  object        \n",
      " 3   FR             1071126 non-null  float64       \n",
      " 4   FV             174064 non-null   float64       \n",
      " 5   Today          1069275 non-null  float64       \n",
      " 6   NetTotal       1070097 non-null  float64       \n",
      " 7   created_by     1088132 non-null  object        \n",
      " 8   creation_date  1088132 non-null  object        \n",
      " 9   modified_date  1088132 non-null  object        \n",
      " 10  Date           1088132 non-null  object        \n",
      " 11  Time           1088132 non-null  object        \n",
      "dtypes: datetime64[ns](1), float64(4), int64(1), object(6)\n",
      "memory usage: 99.6+ MB\n"
     ]
    }
   ],
   "source": [
    "df.info()"
   ]
  },
  {
   "cell_type": "code",
   "execution_count": 8,
   "id": "3d19825d",
   "metadata": {},
   "outputs": [],
   "source": [
    "df[[\"FR\", \"FV\", \"NetTotal\", \"Today\"]] = (\n",
    "    df.groupby('MeterCode')[[\"FR\", \"FV\", \"NetTotal\", \"Today\"]]\n",
    "    .transform(lambda x: x.interpolate(method='linear').bfill().ffill())\n",
    ")"
   ]
  },
  {
   "cell_type": "code",
   "execution_count": 9,
   "id": "0b3b47c2",
   "metadata": {},
   "outputs": [],
   "source": [
    "df[[\"FR\", \"FV\", \"NetTotal\", \"Today\"]] = df[[\"FR\", \"FV\", \"NetTotal\", \"Today\"]].fillna(0)"
   ]
  },
  {
   "cell_type": "code",
   "execution_count": 10,
   "id": "c93e5b59",
   "metadata": {},
   "outputs": [
    {
     "data": {
      "text/plain": [
       "Id               0\n",
       "LocalTimeCol     0\n",
       "MeterCode        0\n",
       "FR               0\n",
       "FV               0\n",
       "Today            0\n",
       "NetTotal         0\n",
       "created_by       0\n",
       "creation_date    0\n",
       "modified_date    0\n",
       "Date             0\n",
       "Time             0\n",
       "dtype: int64"
      ]
     },
     "execution_count": 10,
     "metadata": {},
     "output_type": "execute_result"
    }
   ],
   "source": [
    "df.isna().sum()"
   ]
  },
  {
   "cell_type": "code",
   "execution_count": 11,
   "id": "94cc32b0",
   "metadata": {},
   "outputs": [
    {
     "data": {
      "text/html": [
       "<div>\n",
       "<style scoped>\n",
       "    .dataframe tbody tr th:only-of-type {\n",
       "        vertical-align: middle;\n",
       "    }\n",
       "\n",
       "    .dataframe tbody tr th {\n",
       "        vertical-align: top;\n",
       "    }\n",
       "\n",
       "    .dataframe thead th {\n",
       "        text-align: right;\n",
       "    }\n",
       "</style>\n",
       "<table border=\"1\" class=\"dataframe\">\n",
       "  <thead>\n",
       "    <tr style=\"text-align: right;\">\n",
       "      <th></th>\n",
       "      <th>Id</th>\n",
       "      <th>LocalTimeCol</th>\n",
       "      <th>MeterCode</th>\n",
       "      <th>FR</th>\n",
       "      <th>FV</th>\n",
       "      <th>Today</th>\n",
       "      <th>NetTotal</th>\n",
       "      <th>created_by</th>\n",
       "      <th>creation_date</th>\n",
       "      <th>modified_date</th>\n",
       "      <th>Date</th>\n",
       "      <th>Time</th>\n",
       "    </tr>\n",
       "  </thead>\n",
       "  <tbody>\n",
       "    <tr>\n",
       "      <th>1475</th>\n",
       "      <td>5801151</td>\n",
       "      <td>2025-04-01</td>\n",
       "      <td>AMR-04</td>\n",
       "      <td>0.0</td>\n",
       "      <td>0.0</td>\n",
       "      <td>-61.730000</td>\n",
       "      <td>-782.070007</td>\n",
       "      <td>SYNC_APP</td>\n",
       "      <td>2025-06-10 10:05:49</td>\n",
       "      <td>2025-06-10 15:35:12</td>\n",
       "      <td>2025-04-01</td>\n",
       "      <td>00:00:00</td>\n",
       "    </tr>\n",
       "    <tr>\n",
       "      <th>1534</th>\n",
       "      <td>5801210</td>\n",
       "      <td>2025-04-01</td>\n",
       "      <td>AMR-05</td>\n",
       "      <td>0.0</td>\n",
       "      <td>0.0</td>\n",
       "      <td>0.000000</td>\n",
       "      <td>-782.070007</td>\n",
       "      <td>SYNC_APP</td>\n",
       "      <td>2025-06-10 10:05:49</td>\n",
       "      <td>2025-06-10 15:35:12</td>\n",
       "      <td>2025-04-01</td>\n",
       "      <td>00:00:00</td>\n",
       "    </tr>\n",
       "    <tr>\n",
       "      <th>1593</th>\n",
       "      <td>5801269</td>\n",
       "      <td>2025-04-01</td>\n",
       "      <td>AMR-08</td>\n",
       "      <td>0.0</td>\n",
       "      <td>0.0</td>\n",
       "      <td>25.570000</td>\n",
       "      <td>1152.479980</td>\n",
       "      <td>SYNC_APP</td>\n",
       "      <td>2025-06-10 10:05:49</td>\n",
       "      <td>2025-06-10 15:35:12</td>\n",
       "      <td>2025-04-01</td>\n",
       "      <td>00:00:00</td>\n",
       "    </tr>\n",
       "    <tr>\n",
       "      <th>1652</th>\n",
       "      <td>5801328</td>\n",
       "      <td>2025-04-01</td>\n",
       "      <td>AMR-10</td>\n",
       "      <td>0.0</td>\n",
       "      <td>0.0</td>\n",
       "      <td>37.580002</td>\n",
       "      <td>2217.760010</td>\n",
       "      <td>SYNC_APP</td>\n",
       "      <td>2025-06-10 10:05:49</td>\n",
       "      <td>2025-06-10 15:35:12</td>\n",
       "      <td>2025-04-01</td>\n",
       "      <td>00:00:00</td>\n",
       "    </tr>\n",
       "    <tr>\n",
       "      <th>3776</th>\n",
       "      <td>5803452</td>\n",
       "      <td>2025-04-01</td>\n",
       "      <td>AMR-101</td>\n",
       "      <td>0.0</td>\n",
       "      <td>0.0</td>\n",
       "      <td>0.000000</td>\n",
       "      <td>0.330000</td>\n",
       "      <td>SYNC_APP</td>\n",
       "      <td>2025-06-10 10:06:04</td>\n",
       "      <td>2025-06-10 15:35:27</td>\n",
       "      <td>2025-04-01</td>\n",
       "      <td>00:00:00</td>\n",
       "    </tr>\n",
       "  </tbody>\n",
       "</table>\n",
       "</div>"
      ],
      "text/plain": [
       "           Id LocalTimeCol MeterCode   FR   FV      Today     NetTotal  \\\n",
       "1475  5801151   2025-04-01    AMR-04  0.0  0.0 -61.730000  -782.070007   \n",
       "1534  5801210   2025-04-01    AMR-05  0.0  0.0   0.000000  -782.070007   \n",
       "1593  5801269   2025-04-01    AMR-08  0.0  0.0  25.570000  1152.479980   \n",
       "1652  5801328   2025-04-01    AMR-10  0.0  0.0  37.580002  2217.760010   \n",
       "3776  5803452   2025-04-01   AMR-101  0.0  0.0   0.000000     0.330000   \n",
       "\n",
       "     created_by        creation_date        modified_date        Date  \\\n",
       "1475   SYNC_APP  2025-06-10 10:05:49  2025-06-10 15:35:12  2025-04-01   \n",
       "1534   SYNC_APP  2025-06-10 10:05:49  2025-06-10 15:35:12  2025-04-01   \n",
       "1593   SYNC_APP  2025-06-10 10:05:49  2025-06-10 15:35:12  2025-04-01   \n",
       "1652   SYNC_APP  2025-06-10 10:05:49  2025-06-10 15:35:12  2025-04-01   \n",
       "3776   SYNC_APP  2025-06-10 10:06:04  2025-06-10 15:35:27  2025-04-01   \n",
       "\n",
       "          Time  \n",
       "1475  00:00:00  \n",
       "1534  00:00:00  \n",
       "1593  00:00:00  \n",
       "1652  00:00:00  \n",
       "3776  00:00:00  "
      ]
     },
     "execution_count": 11,
     "metadata": {},
     "output_type": "execute_result"
    }
   ],
   "source": [
    "df = df.sort_values(['LocalTimeCol','MeterCode'])\n",
    "df.head()"
   ]
  },
  {
   "cell_type": "code",
   "execution_count": 12,
   "id": "65605621",
   "metadata": {},
   "outputs": [],
   "source": [
    "df.to_csv(\"../Data/Data_Cleaned.csv\")"
   ]
  },
  {
   "cell_type": "code",
   "execution_count": 13,
   "id": "748d2044",
   "metadata": {},
   "outputs": [],
   "source": [
    "data = df.copy()"
   ]
  },
  {
   "cell_type": "code",
   "execution_count": 14,
   "id": "43ce9c89",
   "metadata": {},
   "outputs": [
    {
     "data": {
      "text/html": [
       "<div>\n",
       "<style scoped>\n",
       "    .dataframe tbody tr th:only-of-type {\n",
       "        vertical-align: middle;\n",
       "    }\n",
       "\n",
       "    .dataframe tbody tr th {\n",
       "        vertical-align: top;\n",
       "    }\n",
       "\n",
       "    .dataframe thead th {\n",
       "        text-align: right;\n",
       "    }\n",
       "</style>\n",
       "<table border=\"1\" class=\"dataframe\">\n",
       "  <thead>\n",
       "    <tr style=\"text-align: right;\">\n",
       "      <th></th>\n",
       "      <th>MeterCode</th>\n",
       "      <th>LocalTimeCol</th>\n",
       "      <th>FV</th>\n",
       "      <th>FR</th>\n",
       "      <th>Today</th>\n",
       "    </tr>\n",
       "  </thead>\n",
       "  <tbody>\n",
       "    <tr>\n",
       "      <th>0</th>\n",
       "      <td>AMR-04</td>\n",
       "      <td>2025-04-01 00:00:00</td>\n",
       "      <td>0.0</td>\n",
       "      <td>0.0</td>\n",
       "      <td>-15.4325</td>\n",
       "    </tr>\n",
       "    <tr>\n",
       "      <th>1</th>\n",
       "      <td>AMR-04</td>\n",
       "      <td>2025-04-01 01:00:00</td>\n",
       "      <td>0.0</td>\n",
       "      <td>0.0</td>\n",
       "      <td>0.0000</td>\n",
       "    </tr>\n",
       "    <tr>\n",
       "      <th>2</th>\n",
       "      <td>AMR-04</td>\n",
       "      <td>2025-04-01 02:00:00</td>\n",
       "      <td>0.0</td>\n",
       "      <td>0.0</td>\n",
       "      <td>0.0000</td>\n",
       "    </tr>\n",
       "    <tr>\n",
       "      <th>3</th>\n",
       "      <td>AMR-04</td>\n",
       "      <td>2025-04-01 03:00:00</td>\n",
       "      <td>0.0</td>\n",
       "      <td>0.0</td>\n",
       "      <td>0.0000</td>\n",
       "    </tr>\n",
       "    <tr>\n",
       "      <th>4</th>\n",
       "      <td>AMR-04</td>\n",
       "      <td>2025-04-01 04:00:00</td>\n",
       "      <td>0.0</td>\n",
       "      <td>0.0</td>\n",
       "      <td>0.0000</td>\n",
       "    </tr>\n",
       "  </tbody>\n",
       "</table>\n",
       "</div>"
      ],
      "text/plain": [
       "  MeterCode        LocalTimeCol   FV   FR    Today\n",
       "0    AMR-04 2025-04-01 00:00:00  0.0  0.0 -15.4325\n",
       "1    AMR-04 2025-04-01 01:00:00  0.0  0.0   0.0000\n",
       "2    AMR-04 2025-04-01 02:00:00  0.0  0.0   0.0000\n",
       "3    AMR-04 2025-04-01 03:00:00  0.0  0.0   0.0000\n",
       "4    AMR-04 2025-04-01 04:00:00  0.0  0.0   0.0000"
      ]
     },
     "execution_count": 14,
     "metadata": {},
     "output_type": "execute_result"
    }
   ],
   "source": [
    "df.set_index('LocalTimeCol', inplace=True)\n",
    "df_hour = (df.groupby('MeterCode').resample('h')['FV','FR','Today'].mean().reset_index())\n",
    "df_hour.head()"
   ]
  },
  {
   "cell_type": "code",
   "execution_count": 15,
   "id": "0835a2fc",
   "metadata": {},
   "outputs": [
    {
     "data": {
      "text/html": [
       "<div>\n",
       "<style scoped>\n",
       "    .dataframe tbody tr th:only-of-type {\n",
       "        vertical-align: middle;\n",
       "    }\n",
       "\n",
       "    .dataframe tbody tr th {\n",
       "        vertical-align: top;\n",
       "    }\n",
       "\n",
       "    .dataframe thead th {\n",
       "        text-align: right;\n",
       "    }\n",
       "</style>\n",
       "<table border=\"1\" class=\"dataframe\">\n",
       "  <thead>\n",
       "    <tr style=\"text-align: right;\">\n",
       "      <th></th>\n",
       "      <th>MeterCode</th>\n",
       "      <th>LocalTimeCol</th>\n",
       "      <th>FV</th>\n",
       "      <th>FR</th>\n",
       "      <th>Today</th>\n",
       "    </tr>\n",
       "  </thead>\n",
       "  <tbody>\n",
       "    <tr>\n",
       "      <th>0</th>\n",
       "      <td>AMR-04</td>\n",
       "      <td>2025-04-01</td>\n",
       "      <td>0.0</td>\n",
       "      <td>-1.521458</td>\n",
       "      <td>-27.563125</td>\n",
       "    </tr>\n",
       "    <tr>\n",
       "      <th>1</th>\n",
       "      <td>AMR-04</td>\n",
       "      <td>2025-04-02</td>\n",
       "      <td>0.0</td>\n",
       "      <td>-2.176979</td>\n",
       "      <td>-22.466354</td>\n",
       "    </tr>\n",
       "    <tr>\n",
       "      <th>2</th>\n",
       "      <td>AMR-04</td>\n",
       "      <td>2025-04-03</td>\n",
       "      <td>0.0</td>\n",
       "      <td>-1.397812</td>\n",
       "      <td>-25.335416</td>\n",
       "    </tr>\n",
       "    <tr>\n",
       "      <th>3</th>\n",
       "      <td>AMR-04</td>\n",
       "      <td>2025-04-04</td>\n",
       "      <td>0.0</td>\n",
       "      <td>-0.935625</td>\n",
       "      <td>-16.968750</td>\n",
       "    </tr>\n",
       "    <tr>\n",
       "      <th>4</th>\n",
       "      <td>AMR-04</td>\n",
       "      <td>2025-04-05</td>\n",
       "      <td>0.0</td>\n",
       "      <td>-3.341667</td>\n",
       "      <td>-43.894272</td>\n",
       "    </tr>\n",
       "  </tbody>\n",
       "</table>\n",
       "</div>"
      ],
      "text/plain": [
       "  MeterCode LocalTimeCol   FV        FR      Today\n",
       "0    AMR-04   2025-04-01  0.0 -1.521458 -27.563125\n",
       "1    AMR-04   2025-04-02  0.0 -2.176979 -22.466354\n",
       "2    AMR-04   2025-04-03  0.0 -1.397812 -25.335416\n",
       "3    AMR-04   2025-04-04  0.0 -0.935625 -16.968750\n",
       "4    AMR-04   2025-04-05  0.0 -3.341667 -43.894272"
      ]
     },
     "execution_count": 15,
     "metadata": {},
     "output_type": "execute_result"
    }
   ],
   "source": [
    "df_day = (df.groupby('MeterCode').resample('D')['FV','FR','Today'].mean().reset_index())\n",
    "df_day.head()"
   ]
  },
  {
   "cell_type": "code",
   "execution_count": 16,
   "id": "3c4eab58",
   "metadata": {},
   "outputs": [
    {
     "data": {
      "text/plain": [
       "MeterCode         0\n",
       "LocalTimeCol      0\n",
       "FV              548\n",
       "FR              548\n",
       "Today           548\n",
       "dtype: int64"
      ]
     },
     "execution_count": 16,
     "metadata": {},
     "output_type": "execute_result"
    }
   ],
   "source": [
    "df_day.isna().sum()"
   ]
  },
  {
   "cell_type": "code",
   "execution_count": 17,
   "id": "4934bcf5",
   "metadata": {},
   "outputs": [],
   "source": [
    "# df_hour.to_excel('Data/Hour_data.xlsx', index=False)\n",
    "# df_day.to_excel('Data/Day_data.xlsx', index=False)"
   ]
  },
  {
   "cell_type": "code",
   "execution_count": 18,
   "id": "94b27201",
   "metadata": {},
   "outputs": [
    {
     "data": {
      "application/vnd.jupyter.widget-view+json": {
       "model_id": "c3a28a26578047d7869002aae2201b69",
       "version_major": 2,
       "version_minor": 0
      },
      "text/plain": [
       "interactive(children=(Dropdown(description='MeterCode:', options=('AMR-04', 'AMR-05', 'AMR-08', 'AMR-10', 'AMR…"
      ]
     },
     "metadata": {},
     "output_type": "display_data"
    },
    {
     "data": {
      "text/plain": [
       "<function __main__.plot_boxplot_fr(meter_code)>"
      ]
     },
     "execution_count": 18,
     "metadata": {},
     "output_type": "execute_result"
    }
   ],
   "source": [
    "# BoxPlot for hourly chart for analyse variation\n",
    "\n",
    "def plot_boxplot_fr(meter_code):\n",
    "    plt.figure(figsize=(16, 6))\n",
    "\n",
    "    data = df_hour[df_hour['MeterCode'] == meter_code].copy()\n",
    "    data['Date'] = pd.to_datetime(data['LocalTimeCol']).dt.date\n",
    "\n",
    "    # 2 rows, 1 column, first plot\n",
    "    plt.subplot(2, 1, 1)\n",
    "    sns.boxplot(x='Date', y='FR', data=data, hue='Date', legend=False)\n",
    "    plt.title(f'Hourly FR Distribution for MeterCode: {meter_code}')\n",
    "    plt.xlabel('Date')\n",
    "    plt.ylabel('FR')\n",
    "    plt.xticks(rotation=45) \n",
    "    plt.grid(True, alpha=0.4)\n",
    "\n",
    "    plt.subplot(2, 1, 2)\n",
    "    sns.boxplot(x='Date', y='FV', data=data, hue='Date', legend=False)\n",
    "    plt.title(f'Hourly FV Distribution for MeterCode: {meter_code}')\n",
    "    plt.xlabel('Date')\n",
    "    plt.ylabel('FV')\n",
    "    plt.xticks(rotation=45)\n",
    "    plt.grid(True, alpha=0.4)\n",
    "\n",
    "    plt.tight_layout()\n",
    "    plt.show()\n",
    "\n",
    "\n",
    "# Create interactive dropdown\n",
    "interact(plot_boxplot_fr, meter_code=Dropdown(options=[str(m) for m in df_hour['MeterCode'].unique()], description='MeterCode:'))"
   ]
  },
  {
   "cell_type": "code",
   "execution_count": 19,
   "id": "5da0059d",
   "metadata": {},
   "outputs": [
    {
     "data": {
      "application/vnd.jupyter.widget-view+json": {
       "model_id": "f25cb96bf19e4ba396d6e70ce7c1d5d8",
       "version_major": 2,
       "version_minor": 0
      },
      "text/plain": [
       "interactive(children=(Dropdown(description='MeterCode:', options=('AMR-04', 'AMR-05', 'AMR-08', 'AMR-10', 'AMR…"
      ]
     },
     "metadata": {},
     "output_type": "display_data"
    },
    {
     "data": {
      "text/plain": [
       "<function __main__.plot_boxplot(meter_code)>"
      ]
     },
     "execution_count": 19,
     "metadata": {},
     "output_type": "execute_result"
    }
   ],
   "source": [
    "\n",
    "# BoxPlot for daily chart for analyse variation\n",
    "def plot_boxplot(meter_code):\n",
    "    plt.figure(figsize=(16, 6))\n",
    "    data = df_day[df_day['MeterCode'] == meter_code]\n",
    "    \n",
    "    plt.subplot(2, 1, 1)\n",
    "    sns.boxplot(x='LocalTimeCol', y='FR', data=data, hue='LocalTimeCol', legend=False)\n",
    "    plt.title(f'Daily FR Distribution for MeterCode: {meter_code}')\n",
    "    plt.xlabel('Date')\n",
    "    plt.ylabel('FR')\n",
    "    plt.xticks(rotation=45)\n",
    "    plt.grid(True, alpha=0.4)\n",
    "\n",
    "    plt.subplot(2, 1, 2)\n",
    "    sns.boxplot(x='LocalTimeCol', y='FV', data=data, hue='LocalTimeCol', legend=False)\n",
    "    plt.title(f'Daily FV Distribution for MeterCode: {meter_code}')\n",
    "    plt.xlabel('Date')\n",
    "    plt.ylabel('FV')\n",
    "    plt.xticks(rotation=45)\n",
    "    plt.grid(True, alpha=0.4)\n",
    "\n",
    "    plt.tight_layout()\n",
    "    plt.show()\n",
    "\n",
    "\n",
    "# Create interactive dropdown\n",
    "interact(plot_boxplot, meter_code=Dropdown(options=[str(m) for m in df_hour['MeterCode'].unique()], description='MeterCode:'))"
   ]
  },
  {
   "cell_type": "code",
   "execution_count": 20,
   "id": "fcd5f30a",
   "metadata": {},
   "outputs": [
    {
     "data": {
      "application/vnd.jupyter.widget-view+json": {
       "model_id": "ff5bfc09accd4e8daf3392b6c6ba6e9e",
       "version_major": 2,
       "version_minor": 0
      },
      "text/plain": [
       "interactive(children=(Dropdown(description='MeterCode:', options=('AMR-04', 'AMR-05', 'AMR-08', 'AMR-10', 'AMR…"
      ]
     },
     "metadata": {},
     "output_type": "display_data"
    },
    {
     "data": {
      "text/plain": [
       "<function __main__.plot_boxplot_fr(meter_code)>"
      ]
     },
     "execution_count": 20,
     "metadata": {},
     "output_type": "execute_result"
    }
   ],
   "source": [
    "# HistPlot for daily chart \n",
    "def plot_boxplot_fr(meter_code):\n",
    "    plt.figure(figsize=(16, 6))\n",
    "    data = df_day[df_day['MeterCode'] == meter_code]\n",
    "    \n",
    "    plt.subplot(2, 1, 1)\n",
    "    sns.histplot(data['FR'], bins=5, kde=True, color='skyblue')\n",
    "    plt.title('Histogram - Hourly FR Distribution')\n",
    "    plt.xlabel('FR Value')\n",
    "    plt.ylabel('Frequency')\n",
    "    # plt.xticks(rotation=45)\n",
    "    plt.grid(True, alpha=0.4)\n",
    "\n",
    "    plt.subplot(2, 1, 2)\n",
    "    sns.histplot(data['FV'], bins=5, kde=True, color='orange')\n",
    "    plt.title('Histogram - Hourly FV Distribution')\n",
    "    plt.xlabel('FV Value')\n",
    "    plt.ylabel('Frequency')\n",
    "    # plt.xticks(rotation=45)\n",
    "    plt.grid(True, alpha=0.4)\n",
    "\n",
    "    plt.tight_layout()\n",
    "    plt.show()\n",
    "\n",
    "\n",
    "# Create interactive dropdown\n",
    "interact(plot_boxplot_fr, meter_code=Dropdown(options=[str(m) for m in df_hour['MeterCode'].unique()], description='MeterCode:'))"
   ]
  },
  {
   "cell_type": "code",
   "execution_count": 21,
   "id": "5a79e4f7",
   "metadata": {},
   "outputs": [
    {
     "data": {
      "application/vnd.jupyter.widget-view+json": {
       "model_id": "0085c9b6c08542c1992e469321c7e2a6",
       "version_major": 2,
       "version_minor": 0
      },
      "text/plain": [
       "interactive(children=(Dropdown(description='MeterCode:', options=('AMR-04', 'AMR-05', 'AMR-08', 'AMR-10', 'AMR…"
      ]
     },
     "metadata": {},
     "output_type": "display_data"
    },
    {
     "data": {
      "text/plain": [
       "<function __main__.plot_boxplot_fr(meter_code)>"
      ]
     },
     "execution_count": 21,
     "metadata": {},
     "output_type": "execute_result"
    }
   ],
   "source": [
    "\n",
    "\n",
    "# HistPlot for daily chart \n",
    "def plot_boxplot_fr(meter_code):\n",
    "    plt.figure(figsize=(16, 6))\n",
    "    data = df_day[df_day['MeterCode'] == meter_code]\n",
    "    \n",
    "    plt.subplot(2, 1, 1)\n",
    "    sns.histplot(data['FR'], bins=5, kde=True, color='skyblue')\n",
    "    plt.title('Histogram - Daily FR Distribution')\n",
    "    plt.xlabel('FR Value')\n",
    "    plt.ylabel('Frequency')\n",
    "    # plt.xticks(rotation=45)\n",
    "    plt.grid(True, alpha=0.4)\n",
    "\n",
    "    plt.subplot(2, 1, 2)\n",
    "    sns.histplot(data['FV'], bins=5, kde=True, color='orange')\n",
    "    plt.title('Histogram - Daily FV Distribution')\n",
    "    plt.xlabel('FV Value')\n",
    "    plt.ylabel('Frequency')\n",
    "    # plt.xticks(rotation=45)\n",
    "    plt.grid(True, alpha=0.4)\n",
    "\n",
    "    plt.tight_layout()\n",
    "    plt.show()\n",
    "\n",
    "\n",
    "# Create interactive dropdown\n",
    "interact(plot_boxplot_fr, meter_code=Dropdown(options=[str(m) for m in df_hour['MeterCode'].unique()], description='MeterCode:'))"
   ]
  },
  {
   "cell_type": "code",
   "execution_count": 22,
   "id": "50748ba4",
   "metadata": {},
   "outputs": [
    {
     "name": "stdout",
     "output_type": "stream",
     "text": [
      "Number of unique MeterCode values: 161\n"
     ]
    }
   ],
   "source": [
    "df_day['LocalTimeCol'] = pd.to_datetime(df_day['LocalTimeCol'])\n",
    "\n",
    "# Get unique MeterCode values\n",
    "meter_codes = df_day['MeterCode'].unique()\n",
    "print(f\"Number of unique MeterCode values: {len(meter_codes)}\")"
   ]
  },
  {
   "cell_type": "code",
   "execution_count": 23,
   "id": "37284714",
   "metadata": {},
   "outputs": [
    {
     "data": {
      "application/vnd.jupyter.widget-view+json": {
       "model_id": "2b1da04d389f438e86939d8e7002c207",
       "version_major": 2,
       "version_minor": 0
      },
      "text/plain": [
       "interactive(children=(Dropdown(description='MeterCode:', options=('AMR-04', 'AMR-05', 'AMR-08', 'AMR-10', 'AMR…"
      ]
     },
     "metadata": {},
     "output_type": "display_data"
    },
    {
     "data": {
      "text/plain": [
       "<function __main__.plot_fv(meter_code)>"
      ]
     },
     "execution_count": 23,
     "metadata": {},
     "output_type": "execute_result"
    }
   ],
   "source": [
    "# Define plotting function\n",
    "def plot_fv(meter_code):\n",
    "    plt.figure(figsize=(16, 6))\n",
    "    meter_data = df_day[df_day['MeterCode'] == meter_code].sort_values('LocalTimeCol')\n",
    "    plt.plot(meter_data['LocalTimeCol'], meter_data['FV'], color='blue', label=f'FV - {meter_code}')\n",
    "    plt.title(f'Daily FV for MeterCode: {meter_code}')\n",
    "    plt.xlabel('Date')\n",
    "    plt.ylabel('FV Value')\n",
    "    plt.legend()\n",
    "    plt.xlim(meter_data['LocalTimeCol'].min(), meter_data['LocalTimeCol'].max())\n",
    "    plt.gca().xaxis.set_major_locator(mdates.DayLocator(interval=2))\n",
    "    plt.gca().xaxis.set_major_formatter(mdates.DateFormatter('%Y-%m-%d'))\n",
    "    plt.xticks(rotation=45)\n",
    "    plt.grid(True, alpha=0.6)\n",
    "    plt.tight_layout()\n",
    "    plt.show()\n",
    "\n",
    "# Create interactive dropdown\n",
    "interact(plot_fv, meter_code=Dropdown(options=[str(m) for m in meter_codes], description='MeterCode:'))"
   ]
  },
  {
   "cell_type": "code",
   "execution_count": 24,
   "id": "982c6986",
   "metadata": {},
   "outputs": [
    {
     "data": {
      "application/vnd.jupyter.widget-view+json": {
       "model_id": "c1988433c66740408f2a8a634278e71c",
       "version_major": 2,
       "version_minor": 0
      },
      "text/plain": [
       "interactive(children=(Dropdown(description='MeterCode:', options=('AMR-04', 'AMR-05', 'AMR-08', 'AMR-10', 'AMR…"
      ]
     },
     "metadata": {},
     "output_type": "display_data"
    },
    {
     "data": {
      "text/plain": [
       "<function __main__.plot_fv(meter_code)>"
      ]
     },
     "execution_count": 24,
     "metadata": {},
     "output_type": "execute_result"
    }
   ],
   "source": [
    "# Define plotting function\n",
    "def plot_fv(meter_code):\n",
    "    plt.figure(figsize=(16, 6))\n",
    "    meter_data = df_day[df_day['MeterCode'] == meter_code].sort_values('LocalTimeCol')\n",
    "    plt.plot(meter_data['LocalTimeCol'], meter_data['FR'], color='blue', label=f'FR - {meter_code}')\n",
    "    plt.title(f'Daily FR for MeterCode: {meter_code}')\n",
    "    plt.xlabel('Date')\n",
    "    plt.ylabel('FR Value')\n",
    "    plt.legend()\n",
    "    plt.xlim(meter_data['LocalTimeCol'].min(), meter_data['LocalTimeCol'].max())\n",
    "    plt.gca().xaxis.set_major_locator(mdates.DayLocator(interval=2))\n",
    "    plt.gca().xaxis.set_major_formatter(mdates.DateFormatter('%Y-%m-%d'))\n",
    "    plt.xticks(rotation=45)\n",
    "    plt.grid(True, alpha=0.6)\n",
    "    plt.tight_layout()\n",
    "    plt.show()\n",
    "\n",
    "# Create interactive dropdown\n",
    "interact(plot_fv, meter_code=Dropdown(options=[str(m) for m in meter_codes], description='MeterCode:'))"
   ]
  },
  {
   "cell_type": "code",
   "execution_count": null,
   "id": "03266418",
   "metadata": {},
   "outputs": [],
   "source": []
  },
  {
   "cell_type": "markdown",
   "id": "b8d1a0d2",
   "metadata": {},
   "source": [
    "####"
   ]
  },
  {
   "cell_type": "code",
   "execution_count": null,
   "id": "f0f1a7aa",
   "metadata": {},
   "outputs": [
    {
     "data": {
      "application/vnd.jupyter.widget-view+json": {
       "model_id": "df85b2f981fe4dcf8c092e7e6178287c",
       "version_major": 2,
       "version_minor": 0
      },
      "text/plain": [
       "interactive(children=(Dropdown(description='MeterCode:', options=('AMR-04', 'AMR-05', 'AMR-08', 'AMR-10', 'AMR…"
      ]
     },
     "metadata": {},
     "output_type": "display_data"
    },
    {
     "data": {
      "text/plain": [
       "<function __main__.plot_fv(meter_code)>"
      ]
     },
     "execution_count": 75,
     "metadata": {},
     "output_type": "execute_result"
    }
   ],
   "source": [
    "# Define plotting function\n",
    "def plot_fv(meter_code):\n",
    "    plt.figure(figsize=(16, 6))\n",
    "    meter_data = df_hour[df_hour['MeterCode'] == meter_code].sort_values('LocalTimeCol')\n",
    "    plt.plot(meter_data['LocalTimeCol'], meter_data['FV'], color='red', label=f'FV - {meter_code}')\n",
    "    plt.title(f'Hourly FV for MeterCode: {meter_code}')\n",
    "    plt.xlabel('Time')\n",
    "    plt.ylabel('FV Value')\n",
    "    plt.legend()\n",
    "    plt.xticks(fontsize=9)\n",
    "    plt.yticks(fontsize=9)\n",
    "    plt.xlim(meter_data['LocalTimeCol'].min(), meter_data['LocalTimeCol'].max())\n",
    "    plt.gca().xaxis.set_major_locator(mdates.HourLocator(interval=96))\n",
    "    plt.gca().xaxis.set_major_formatter(mdates.DateFormatter('%Y-%m-%d'))\n",
    "    plt.xticks(rotation=45)\n",
    "    plt.grid(True)\n",
    "    plt.tight_layout()\n",
    "    plt.show()\n",
    "\n",
    "# Create interactive dropdown\n",
    "interact(plot_fv, meter_code=Dropdown(options=[str(m) for m in meter_codes], description='MeterCode:'))"
   ]
  },
  {
   "cell_type": "code",
   "execution_count": null,
   "id": "b914deb1",
   "metadata": {},
   "outputs": [
    {
     "data": {
      "application/vnd.jupyter.widget-view+json": {
       "model_id": "8f76134ec8ba4466b3c683df978463e7",
       "version_major": 2,
       "version_minor": 0
      },
      "text/plain": [
       "interactive(children=(Dropdown(description='MeterCode:', options=('AMR-04', 'AMR-05', 'AMR-08', 'AMR-10', 'AMR…"
      ]
     },
     "metadata": {},
     "output_type": "display_data"
    },
    {
     "data": {
      "text/plain": [
       "<function __main__.plot_fv(meter_code)>"
      ]
     },
     "execution_count": 74,
     "metadata": {},
     "output_type": "execute_result"
    }
   ],
   "source": [
    "# Define plotting function\n",
    "def plot_fv(meter_code):\n",
    "    plt.figure(figsize=(16, 6))\n",
    "    meter_data = df_day[df_day['MeterCode'] == meter_code].sort_values('LocalTimeCol')\n",
    "    plt.plot(meter_data['LocalTimeCol'], meter_data['FV'], color='red', label=f'FV - {meter_code}')\n",
    "    plt.title(f'Daily FV for MeterCode: {meter_code}')\n",
    "    plt.xlabel('Time')\n",
    "    plt.ylabel('FV Value')\n",
    "    plt.legend()\n",
    "    plt.xticks(fontsize=9)\n",
    "    plt.yticks(fontsize=9)\n",
    "    plt.xlim(meter_data['LocalTimeCol'].min(), meter_data['LocalTimeCol'].max())\n",
    "    plt.gca().xaxis.set_major_locator(mdates.HourLocator(interval=96))\n",
    "    plt.gca().xaxis.set_major_formatter(mdates.DateFormatter('%Y-%m-%d'))\n",
    "    plt.xticks(rotation=45)\n",
    "    plt.grid(True)\n",
    "    plt.tight_layout()\n",
    "    plt.show()\n",
    "\n",
    "# Create interactive dropdown\n",
    "interact(plot_fv, meter_code=Dropdown(options=[str(m) for m in meter_codes], description='MeterCode:'))"
   ]
  },
  {
   "cell_type": "code",
   "execution_count": 73,
   "id": "9f31b724",
   "metadata": {},
   "outputs": [
    {
     "data": {
      "application/vnd.jupyter.widget-view+json": {
       "model_id": "de9c4ef5cd874261a06827b532c94c94",
       "version_major": 2,
       "version_minor": 0
      },
      "text/plain": [
       "interactive(children=(Dropdown(description='MeterCode:', options=('AMR-04', 'AMR-05', 'AMR-08', 'AMR-10', 'AMR…"
      ]
     },
     "metadata": {},
     "output_type": "display_data"
    },
    {
     "data": {
      "text/plain": [
       "<function __main__.plot_fv(meter_code)>"
      ]
     },
     "execution_count": 73,
     "metadata": {},
     "output_type": "execute_result"
    }
   ],
   "source": [
    "# Define plotting function\n",
    "def plot_fv(meter_code):\n",
    "    plt.figure(figsize=(16, 6))\n",
    "    meter_data = df_day[df_day['MeterCode'] == meter_code].sort_values('LocalTimeCol')\n",
    "    plt.plot(meter_data['LocalTimeCol'], meter_data['FR'], color='blue', label=f'FR - {meter_code}')\n",
    "    plt.title(f'Daily FR for MeterCode: {meter_code}')\n",
    "    plt.xlabel('Time')\n",
    "    plt.ylabel('FR Value')\n",
    "    plt.legend()\n",
    "    plt.xticks(fontsize=9)\n",
    "    plt.yticks(fontsize=9)\n",
    "    plt.xlim(meter_data['LocalTimeCol'].min(), meter_data['LocalTimeCol'].max())\n",
    "    plt.gca().xaxis.set_major_locator(mdates.HourLocator(interval=96))\n",
    "    plt.gca().xaxis.set_major_formatter(mdates.DateFormatter('%Y-%m-%d'))\n",
    "    plt.xticks(rotation=45)\n",
    "    plt.grid(True)\n",
    "    plt.tight_layout()\n",
    "    plt.show()\n",
    "\n",
    "# Create interactive dropdown\n",
    "interact(plot_fv, meter_code=Dropdown(options=[str(m) for m in meter_codes], description='MeterCode:'))"
   ]
  },
  {
   "cell_type": "code",
   "execution_count": null,
   "id": "e1a363ae",
   "metadata": {},
   "outputs": [
    {
     "data": {
      "application/vnd.jupyter.widget-view+json": {
       "model_id": "256328d11f244f34ba6bebf0ee061c45",
       "version_major": 2,
       "version_minor": 0
      },
      "text/plain": [
       "interactive(children=(Dropdown(description='MeterCode:', options=('AMR-04', 'AMR-05', 'AMR-08', 'AMR-10', 'AMR…"
      ]
     },
     "metadata": {},
     "output_type": "display_data"
    },
    {
     "data": {
      "text/plain": [
       "<function __main__.plot_fr(meter_code)>"
      ]
     },
     "execution_count": 59,
     "metadata": {},
     "output_type": "execute_result"
    }
   ],
   "source": [
    "# Define plotting function\n",
    "def plot_fr(meter_code):\n",
    "    plt.figure(figsize=(16, 6))\n",
    "    meter_data = df_hour[df_hour['MeterCode'] == meter_code].sort_values('LocalTimeCol')\n",
    "    plt.plot(meter_data['LocalTimeCol'], meter_data['FR'], color='blue', label=f'FR - {meter_code}')\n",
    "    plt.title(f'Hourly FR for MeterCode: {meter_code}')\n",
    "    plt.xlabel('Time')\n",
    "    plt.ylabel('FR Value')\n",
    "    plt.xticks(fontsize=9)\n",
    "    plt.yticks(fontsize=9)\n",
    "    plt.legend()\n",
    "    plt.xlim(meter_data['LocalTimeCol'].min(), meter_data['LocalTimeCol'].max())\n",
    "    plt.gca().xaxis.set_major_locator(mdates.HourLocator(interval=96))\n",
    "    plt.gca().xaxis.set_major_formatter(mdates.DateFormatter('%Y-%m-%d'))\n",
    "    plt.xticks(rotation=45)\n",
    "    plt.grid(True)\n",
    "    plt.tight_layout()\n",
    "    plt.show()\n",
    "\n",
    "# Create interactive dropdown\n",
    "interact(plot_fr, meter_code=Dropdown(options=[str(m) for m in meter_codes], description='MeterCode:'))"
   ]
  },
  {
   "cell_type": "code",
   "execution_count": 71,
   "id": "9517ee1b",
   "metadata": {},
   "outputs": [
    {
     "data": {
      "application/vnd.jupyter.widget-view+json": {
       "model_id": "f79759c8de4c41e29b78f319c097f3c1",
       "version_major": 2,
       "version_minor": 0
      },
      "text/plain": [
       "interactive(children=(Dropdown(description='MeterCode:', options=('AMR-04', 'AMR-05', 'AMR-08', 'AMR-10', 'AMR…"
      ]
     },
     "metadata": {},
     "output_type": "display_data"
    },
    {
     "data": {
      "text/plain": [
       "<function __main__.plot_fr(meter_code)>"
      ]
     },
     "execution_count": 71,
     "metadata": {},
     "output_type": "execute_result"
    }
   ],
   "source": [
    "# Define plotting function\n",
    "def plot_fr(meter_code):\n",
    "    plt.figure(figsize=(16, 6))\n",
    "    meter_data = df_day[df_day['MeterCode'] == meter_code].sort_values('LocalTimeCol')\n",
    "    plt.plot(meter_data['LocalTimeCol'], meter_data['FR'], color='blue', label=f'FR - {meter_code}')\n",
    "    plt.title(f'Daily FR for MeterCode: {meter_code}')\n",
    "    plt.xlabel('Time')\n",
    "    plt.ylabel('FR Value')\n",
    "    plt.xticks(fontsize=9)\n",
    "    plt.yticks(fontsize=9)\n",
    "    plt.legend()\n",
    "    plt.xlim(meter_data['LocalTimeCol'].min(), meter_data['LocalTimeCol'].max())\n",
    "    plt.gca().xaxis.set_major_locator(mdates.HourLocator(interval=96))\n",
    "    plt.gca().xaxis.set_major_formatter(mdates.DateFormatter('%Y-%m-%d'))\n",
    "    plt.xticks(rotation=45)\n",
    "    plt.grid(True)\n",
    "    plt.tight_layout()\n",
    "    plt.show()\n",
    "\n",
    "# Create interactive dropdown\n",
    "interact(plot_fr, meter_code=Dropdown(options=[str(m) for m in meter_codes], description='MeterCode:'))"
   ]
  },
  {
   "cell_type": "code",
   "execution_count": 27,
   "id": "600473eb",
   "metadata": {},
   "outputs": [
    {
     "data": {
      "text/html": [
       "<div>\n",
       "<style scoped>\n",
       "    .dataframe tbody tr th:only-of-type {\n",
       "        vertical-align: middle;\n",
       "    }\n",
       "\n",
       "    .dataframe tbody tr th {\n",
       "        vertical-align: top;\n",
       "    }\n",
       "\n",
       "    .dataframe thead th {\n",
       "        text-align: right;\n",
       "    }\n",
       "</style>\n",
       "<table border=\"1\" class=\"dataframe\">\n",
       "  <thead>\n",
       "    <tr style=\"text-align: right;\">\n",
       "      <th></th>\n",
       "      <th>LocalTimeCol</th>\n",
       "      <th>Id</th>\n",
       "      <th>MeterCode</th>\n",
       "      <th>FR</th>\n",
       "      <th>FV</th>\n",
       "      <th>Today</th>\n",
       "      <th>NetTotal</th>\n",
       "      <th>created_by</th>\n",
       "      <th>creation_date</th>\n",
       "      <th>modified_date</th>\n",
       "      <th>Date</th>\n",
       "      <th>Time</th>\n",
       "    </tr>\n",
       "  </thead>\n",
       "  <tbody>\n",
       "    <tr>\n",
       "      <th>0</th>\n",
       "      <td>2025-04-01</td>\n",
       "      <td>5801151</td>\n",
       "      <td>AMR-04</td>\n",
       "      <td>0.0</td>\n",
       "      <td>0.0</td>\n",
       "      <td>-61.730000</td>\n",
       "      <td>-782.070007</td>\n",
       "      <td>SYNC_APP</td>\n",
       "      <td>2025-06-10 10:05:49</td>\n",
       "      <td>2025-06-10 15:35:12</td>\n",
       "      <td>2025-04-01</td>\n",
       "      <td>00:00:00</td>\n",
       "    </tr>\n",
       "    <tr>\n",
       "      <th>1</th>\n",
       "      <td>2025-04-01</td>\n",
       "      <td>5801210</td>\n",
       "      <td>AMR-05</td>\n",
       "      <td>0.0</td>\n",
       "      <td>0.0</td>\n",
       "      <td>0.000000</td>\n",
       "      <td>-782.070007</td>\n",
       "      <td>SYNC_APP</td>\n",
       "      <td>2025-06-10 10:05:49</td>\n",
       "      <td>2025-06-10 15:35:12</td>\n",
       "      <td>2025-04-01</td>\n",
       "      <td>00:00:00</td>\n",
       "    </tr>\n",
       "    <tr>\n",
       "      <th>2</th>\n",
       "      <td>2025-04-01</td>\n",
       "      <td>5801269</td>\n",
       "      <td>AMR-08</td>\n",
       "      <td>0.0</td>\n",
       "      <td>0.0</td>\n",
       "      <td>25.570000</td>\n",
       "      <td>1152.479980</td>\n",
       "      <td>SYNC_APP</td>\n",
       "      <td>2025-06-10 10:05:49</td>\n",
       "      <td>2025-06-10 15:35:12</td>\n",
       "      <td>2025-04-01</td>\n",
       "      <td>00:00:00</td>\n",
       "    </tr>\n",
       "    <tr>\n",
       "      <th>3</th>\n",
       "      <td>2025-04-01</td>\n",
       "      <td>5801328</td>\n",
       "      <td>AMR-10</td>\n",
       "      <td>0.0</td>\n",
       "      <td>0.0</td>\n",
       "      <td>37.580002</td>\n",
       "      <td>2217.760010</td>\n",
       "      <td>SYNC_APP</td>\n",
       "      <td>2025-06-10 10:05:49</td>\n",
       "      <td>2025-06-10 15:35:12</td>\n",
       "      <td>2025-04-01</td>\n",
       "      <td>00:00:00</td>\n",
       "    </tr>\n",
       "    <tr>\n",
       "      <th>4</th>\n",
       "      <td>2025-04-01</td>\n",
       "      <td>5803452</td>\n",
       "      <td>AMR-101</td>\n",
       "      <td>0.0</td>\n",
       "      <td>0.0</td>\n",
       "      <td>0.000000</td>\n",
       "      <td>0.330000</td>\n",
       "      <td>SYNC_APP</td>\n",
       "      <td>2025-06-10 10:06:04</td>\n",
       "      <td>2025-06-10 15:35:27</td>\n",
       "      <td>2025-04-01</td>\n",
       "      <td>00:00:00</td>\n",
       "    </tr>\n",
       "  </tbody>\n",
       "</table>\n",
       "</div>"
      ],
      "text/plain": [
       "  LocalTimeCol       Id MeterCode   FR   FV      Today     NetTotal  \\\n",
       "0   2025-04-01  5801151    AMR-04  0.0  0.0 -61.730000  -782.070007   \n",
       "1   2025-04-01  5801210    AMR-05  0.0  0.0   0.000000  -782.070007   \n",
       "2   2025-04-01  5801269    AMR-08  0.0  0.0  25.570000  1152.479980   \n",
       "3   2025-04-01  5801328    AMR-10  0.0  0.0  37.580002  2217.760010   \n",
       "4   2025-04-01  5803452   AMR-101  0.0  0.0   0.000000     0.330000   \n",
       "\n",
       "  created_by        creation_date        modified_date        Date      Time  \n",
       "0   SYNC_APP  2025-06-10 10:05:49  2025-06-10 15:35:12  2025-04-01  00:00:00  \n",
       "1   SYNC_APP  2025-06-10 10:05:49  2025-06-10 15:35:12  2025-04-01  00:00:00  \n",
       "2   SYNC_APP  2025-06-10 10:05:49  2025-06-10 15:35:12  2025-04-01  00:00:00  \n",
       "3   SYNC_APP  2025-06-10 10:05:49  2025-06-10 15:35:12  2025-04-01  00:00:00  \n",
       "4   SYNC_APP  2025-06-10 10:06:04  2025-06-10 15:35:27  2025-04-01  00:00:00  "
      ]
     },
     "execution_count": 27,
     "metadata": {},
     "output_type": "execute_result"
    }
   ],
   "source": [
    "df.reset_index('LocalTimeCol', inplace=True)\n",
    "df.head()"
   ]
  },
  {
   "cell_type": "code",
   "execution_count": 54,
   "id": "e02dae59",
   "metadata": {},
   "outputs": [
    {
     "data": {
      "text/plain": [
       "MeterCode       0\n",
       "LocalTimeCol    0\n",
       "FV              0\n",
       "FR              0\n",
       "Today           0\n",
       "dtype: int64"
      ]
     },
     "execution_count": 54,
     "metadata": {},
     "output_type": "execute_result"
    }
   ],
   "source": [
    "# df_day.isna().sum()\n",
    "df_day.fillna(0, inplace=True)\n",
    "df_day.isna().sum()"
   ]
  },
  {
   "cell_type": "code",
   "execution_count": null,
   "id": "f5f0c367",
   "metadata": {},
   "outputs": [
    {
     "name": "stdout",
     "output_type": "stream",
     "text": [
      "seasonal decomposition\n",
      "\n"
     ]
    },
    {
     "data": {
      "application/vnd.jupyter.widget-view+json": {
       "model_id": "adb3f12822104c30bc45883e949de2be",
       "version_major": 2,
       "version_minor": 0
      },
      "text/plain": [
       "interactive(children=(Dropdown(description='MeterCode:', options=('AMR-04', 'AMR-05', 'AMR-08', 'AMR-10', 'AMR…"
      ]
     },
     "metadata": {},
     "output_type": "display_data"
    },
    {
     "data": {
      "text/plain": [
       "<function __main__.plot_fv_decomposition(meter_code)>"
      ]
     },
     "execution_count": 56,
     "metadata": {},
     "output_type": "execute_result"
    }
   ],
   "source": [
    "# Perform seasonal decomposition\n",
    "print(\"seasonal decomposition\\n\")\n",
    "\n",
    "# Define plotting function for seasonal decomposition\n",
    "def plot_fv_decomposition(meter_code):\n",
    "    \n",
    "    meter_data = df_day[df_day['MeterCode'] == meter_code].sort_values('LocalTimeCol')\n",
    "    # print(meter_data)\n",
    "    if len(meter_data) < 6:\n",
    "        print(f\"Warning: Insufficient data for MeterCode {meter_code} (need at least 48 hours)\")\n",
    "        return\n",
    "    \n",
    "    meter_data = meter_data.set_index('LocalTimeCol')\n",
    "    \n",
    "    # Perform seasonal decomposition\n",
    "    try:\n",
    "        decomposition = seasonal_decompose(meter_data['FV'], model='additive', period=24)\n",
    "    except ValueError as e:\n",
    "        print(f\"Error for MeterCode {meter_code}: {e}\")\n",
    "        return\n",
    "    \n",
    "    observed = decomposition.observed\n",
    "    trend = decomposition.trend\n",
    "    seasonal = decomposition.seasonal\n",
    "    residual = decomposition.resid\n",
    "    \n",
    "    # Create subplots for decomposition components\n",
    "    fig, (ax1, ax2, ax3, ax4) = plt.subplots(4, 1, figsize=(10, 8), sharex=True)\n",
    "    \n",
    "    # Plot observed\n",
    "    ax1.plot(observed.index, observed, color='blue')\n",
    "    ax1.set_title(f'FV Decomposition for MeterCode: {meter_code} - Observed')\n",
    "    ax1.set_ylabel('Observed')\n",
    "    ax1.grid(False)\n",
    "    \n",
    "    # Plot trend\n",
    "    ax2.plot(trend.index, trend, color='blue')\n",
    "    ax2.set_title('Trend')\n",
    "    ax2.set_ylabel('Trend')\n",
    "    ax2.grid(False)\n",
    "    \n",
    "    # Plot seasonal\n",
    "    ax3.plot(seasonal.index, seasonal, color='blue')\n",
    "    ax3.set_title('Seasonal')\n",
    "    ax3.set_ylabel('Seasonal')\n",
    "    ax3.grid(False)\n",
    "    \n",
    "    # Plot residual\n",
    "    ax4.plot(residual.index, residual, color='blue')\n",
    "    ax4.set_title('Residual')\n",
    "    ax4.set_ylabel('Residual')\n",
    "    ax4.grid(False)\n",
    "    \n",
    "    # Format x-axis\n",
    "    ax4.xaxis.set_major_locator(mdates.DayLocator(interval=4))\n",
    "    ax4.xaxis.set_major_formatter(mdates.DateFormatter('%Y-%m-%d'))\n",
    "    plt.xticks(rotation=45)\n",
    "    \n",
    "    # Adjust layout\n",
    "    plt.tight_layout()\n",
    "    plt.show()\n",
    "\n",
    "# Create interactive dropdown\n",
    "interact(plot_fv_decomposition, meter_code=Dropdown(options=[str(m) for m in meter_codes], description='MeterCode:'))"
   ]
  },
  {
   "cell_type": "code",
   "execution_count": 58,
   "id": "aa1b1ce5",
   "metadata": {},
   "outputs": [
    {
     "name": "stdout",
     "output_type": "stream",
     "text": [
      "seasonal decomposition\n",
      "\n"
     ]
    },
    {
     "data": {
      "application/vnd.jupyter.widget-view+json": {
       "model_id": "81cc45eda2e248888dd017ea09aecd94",
       "version_major": 2,
       "version_minor": 0
      },
      "text/plain": [
       "interactive(children=(Dropdown(description='MeterCode:', options=('AMR-04', 'AMR-05', 'AMR-08', 'AMR-10', 'AMR…"
      ]
     },
     "metadata": {},
     "output_type": "display_data"
    },
    {
     "data": {
      "text/plain": [
       "<function __main__.plot_fv_decomposition(meter_code)>"
      ]
     },
     "execution_count": 58,
     "metadata": {},
     "output_type": "execute_result"
    }
   ],
   "source": [
    "# Perform seasonal decomposition\n",
    "print(\"seasonal decomposition\\n\")\n",
    "\n",
    "# Define plotting function for seasonal decomposition\n",
    "def plot_fv_decomposition(meter_code):\n",
    "    \n",
    "    meter_data = df_day[df_day['MeterCode'] == meter_code].sort_values('LocalTimeCol')\n",
    "    # print(meter_data)\n",
    "    if len(meter_data) < 6:\n",
    "        print(f\"Warning: Insufficient data for MeterCode {meter_code} (need at least 48 hours)\")\n",
    "        return\n",
    "    \n",
    "    meter_data = meter_data.set_index('LocalTimeCol')\n",
    "    \n",
    "    # Perform seasonal decomposition\n",
    "    try:\n",
    "        decomposition = seasonal_decompose(meter_data['FR'], model='additive', period=24)\n",
    "    except ValueError as e:\n",
    "        print(f\"Error for MeterCode {meter_code}: {e}\")\n",
    "        return\n",
    "    \n",
    "    observed = decomposition.observed\n",
    "    trend = decomposition.trend\n",
    "    seasonal = decomposition.seasonal\n",
    "    residual = decomposition.resid\n",
    "    \n",
    "    # Create subplots for decomposition components\n",
    "    fig, (ax1, ax2, ax3, ax4) = plt.subplots(4, 1, figsize=(10, 8), sharex=True)\n",
    "    \n",
    "    # Plot observed\n",
    "    ax1.plot(observed.index, observed, color='blue')\n",
    "    ax1.set_title(f'FR Decomposition for MeterCode: {meter_code} - Observed')\n",
    "    ax1.set_ylabel('Observed')\n",
    "    ax1.grid(False)\n",
    "    \n",
    "    # Plot trend\n",
    "    ax2.plot(trend.index, trend, color='blue')\n",
    "    ax2.set_title('Trend')\n",
    "    ax2.set_ylabel('Trend')\n",
    "    ax2.grid(False)\n",
    "    \n",
    "    # Plot seasonal\n",
    "    ax3.plot(seasonal.index, seasonal, color='blue')\n",
    "    ax3.set_title('Seasonal')\n",
    "    ax3.set_ylabel('Seasonal')\n",
    "    ax3.grid(False)\n",
    "    \n",
    "    # Plot residual\n",
    "    ax4.plot(residual.index, residual, color='blue')\n",
    "    ax4.set_title('Residual')\n",
    "    ax4.set_ylabel('Residual')\n",
    "    ax4.grid(False)\n",
    "    \n",
    "    # Format x-axis\n",
    "    ax4.xaxis.set_major_locator(mdates.DayLocator(interval=4))\n",
    "    ax4.xaxis.set_major_formatter(mdates.DateFormatter('%Y-%m-%d'))\n",
    "    plt.xticks(rotation=45)\n",
    "    \n",
    "    # Adjust layout\n",
    "    plt.tight_layout()\n",
    "    plt.show()\n",
    "\n",
    "# Create interactive dropdown\n",
    "interact(plot_fv_decomposition, meter_code=Dropdown(options=[str(m) for m in meter_codes], description='MeterCode:'))"
   ]
  },
  {
   "cell_type": "code",
   "execution_count": 30,
   "id": "4bc74e79",
   "metadata": {},
   "outputs": [],
   "source": [
    "# A rolling mean (also called a moving average) is a technique used to smooth out short-term fluctuations and highlight \n",
    "# longer-term trends or cycles in time series data."
   ]
  },
  {
   "cell_type": "code",
   "execution_count": null,
   "id": "1813dda0",
   "metadata": {},
   "outputs": [
    {
     "data": {
      "application/vnd.jupyter.widget-view+json": {
       "model_id": "a863ec6708fe4deaad88f9ce7a31a914",
       "version_major": 2,
       "version_minor": 0
      },
      "text/plain": [
       "interactive(children=(Dropdown(description='MeterCode:', options=('AMR-04', 'AMR-05', 'AMR-08', 'AMR-10', 'AMR…"
      ]
     },
     "metadata": {},
     "output_type": "display_data"
    },
    {
     "data": {
      "text/plain": [
       "<function __main__.plot_fv_rolling_mean(meter_code)>"
      ]
     },
     "execution_count": 79,
     "metadata": {},
     "output_type": "execute_result"
    }
   ],
   "source": [
    "import pandas as pd\n",
    "import matplotlib.pyplot as plt\n",
    "import matplotlib.dates as mdates\n",
    "from ipywidgets import interact, Dropdown\n",
    "\n",
    "# Assuming 'df' is your DataFrame and it's already loaded\n",
    "# df['LocalTimeCol'] = pd.to_datetime(df['LocalTimeCol']) \n",
    "# meter_codes = df['MeterCode'].unique()\n",
    "\n",
    "# Define plotting function for FV with rolling means\n",
    "def plot_fv_rolling_mean(meter_code):\n",
    "    # Filter data for the selected MeterCode\n",
    "    meter_data = df_hour[df_hour['MeterCode'] == meter_code].sort_values('LocalTimeCol')\n",
    "    \n",
    "    # --- ADD THIS BLOCK to filter for the first month ---\n",
    "    if not meter_data.empty:\n",
    "        # Get the first timestamp for the selected meter\n",
    "        start_date = meter_data['LocalTimeCol'].min()\n",
    "        # Calculate the end date as one month after the start date\n",
    "        end_date = start_date + pd.DateOffset(months=1)\n",
    "        # Filter the DataFrame to this one-month period\n",
    "        meter_data = meter_data[meter_data['LocalTimeCol'] < end_date]\n",
    "    # --- END OF ADDED BLOCK ---\n",
    "\n",
    "    # Ensure sufficient data for rolling means\n",
    "    if len(meter_data) < 6:\n",
    "        print(f\"Warning: Insufficient data for MeterCode {meter_code} (need at least 6 hours)\")\n",
    "        return\n",
    "    \n",
    "    # Compute rolling means\n",
    "    meter_data['fv_rolling_6h'] = meter_data['FV'].rolling(window=6, min_periods=1).mean()\n",
    "    meter_data['fv_rolling_12h'] = meter_data['FV'].rolling(window=12, min_periods=1).mean()\n",
    "    \n",
    "    # Create the plot\n",
    "    plt.figure(figsize=(16, 6))\n",
    "    plt.plot(meter_data['LocalTimeCol'], meter_data['FV'], label=\"Actual FV\", color='blue', alpha=0.8)\n",
    "    plt.plot(meter_data['LocalTimeCol'], meter_data['fv_rolling_6h'], label=\"6-Hour Rolling Mean\", color='red', alpha=0.8)\n",
    "    plt.plot(meter_data['LocalTimeCol'], meter_data['fv_rolling_12h'], label=\"12-Hour Rolling Mean\", color='green', alpha=0.8)\n",
    "    \n",
    "    # Set title and labels\n",
    "    plt.title(f\"First Month of Hourly Flow Volume with Rolling Mean for MeterCode: {meter_code}\")\n",
    "    plt.xlabel(\"Time\")\n",
    "    plt.ylabel(\"Flow Volume\")\n",
    "    plt.legend()\n",
    "    \n",
    "    # Format x-axis\n",
    "    plt.gca().xaxis.set_major_locator(mdates.DayLocator(interval=2)) # Adjusted interval for better visibility\n",
    "    plt.gca().xaxis.set_major_formatter(mdates.DateFormatter('%Y-%m-%d'))\n",
    "    plt.xticks(rotation=45)\n",
    "    \n",
    "    # Add grid\n",
    "    plt.grid(True, linestyle='--', alpha=0.4)\n",
    "    \n",
    "    # Adjust layout\n",
    "    plt.tight_layout()\n",
    "    plt.show()\n",
    "\n",
    "# Create interactive dropdown (this part remains the same)\n",
    "interact(plot_fv_rolling_mean, meter_code=Dropdown(options=[str(m) for m in meter_codes], description='MeterCode:'))"
   ]
  },
  {
   "cell_type": "code",
   "execution_count": null,
   "id": "d2ea47c4",
   "metadata": {},
   "outputs": [
    {
     "data": {
      "application/vnd.jupyter.widget-view+json": {
       "model_id": "fd503f8d169b49f2bdbabfb302081fea",
       "version_major": 2,
       "version_minor": 0
      },
      "text/plain": [
       "interactive(children=(Dropdown(description='MeterCode:', options=('AMR-04', 'AMR-05', 'AMR-08', 'AMR-10', 'AMR…"
      ]
     },
     "metadata": {},
     "output_type": "display_data"
    },
    {
     "data": {
      "text/plain": [
       "<function __main__.plot_fv_rolling_mean(meter_code)>"
      ]
     },
     "execution_count": 76,
     "metadata": {},
     "output_type": "execute_result"
    }
   ],
   "source": [
    "# Define plotting function for FV with rolling means\n",
    "def plot_fv_rolling_mean(meter_code):\n",
    "    # Filter data for the selected MeterCode\n",
    "    meter_data = df[df['MeterCode'] == meter_code].sort_values('LocalTimeCol')\n",
    "    \n",
    "    # Ensure sufficient data for rolling means\n",
    "    if len(meter_data) < 6:\n",
    "        print(f\"Warning: Insufficient data for MeterCode {meter_code} (need at least 6 hours)\")\n",
    "        return\n",
    "    \n",
    "    # Compute rolling means\n",
    "    meter_data['fv_rolling_6h'] = meter_data['FV'].rolling(window=6, min_periods=1).mean()\n",
    "    meter_data['fv_rolling_12h'] = meter_data['FV'].rolling(window=12, min_periods=1).mean()\n",
    "    \n",
    "    # Create the plot\n",
    "    plt.figure(figsize=(16, 6))\n",
    "    plt.plot(meter_data['LocalTimeCol'], meter_data['FV'], label=\"Actual FV\", color='blue', alpha=0.8)\n",
    "    plt.plot(meter_data['LocalTimeCol'], meter_data['fv_rolling_6h'], label=\"6-Hour Rolling Mean\", color='red', alpha=0.8)\n",
    "    plt.plot(meter_data['LocalTimeCol'], meter_data['fv_rolling_12h'], label=\"12-Hour Rolling Mean\", color='green', alpha=0.8)\n",
    "    \n",
    "    # Set title and labels\n",
    "    plt.title(f\"Hourly Flow Volume with Rolling Mean for MeterCode: {meter_code}\")\n",
    "    plt.xlabel(\"Time\")\n",
    "    plt.ylabel(\"Flow Volume\")\n",
    "    plt.legend()\n",
    "    \n",
    "    # Format x-axis: one tick per day\n",
    "    plt.gca().xaxis.set_major_locator(mdates.DayLocator(interval=4))\n",
    "    plt.gca().xaxis.set_major_formatter(mdates.DateFormatter('%Y-%m-%d'))\n",
    "    plt.xticks(rotation=45)\n",
    "    \n",
    "    # Add grid\n",
    "    plt.grid(True, linestyle='--', alpha=0.4)\n",
    "    \n",
    "    # Adjust layout\n",
    "    plt.tight_layout()\n",
    "    plt.show()\n",
    "\n",
    "# Create interactive dropdown\n",
    "interact(plot_fv_rolling_mean, meter_code=Dropdown(options=[str(m) for m in meter_codes], description='MeterCode:'))"
   ]
  },
  {
   "cell_type": "code",
   "execution_count": null,
   "id": "a80e9a0b",
   "metadata": {},
   "outputs": [
    {
     "data": {
      "application/vnd.jupyter.widget-view+json": {
       "model_id": "0770c89dc99e4311b5032857a9909d05",
       "version_major": 2,
       "version_minor": 0
      },
      "text/plain": [
       "interactive(children=(Dropdown(description='MeterCode:', options=('AMR-04', 'AMR-05', 'AMR-08', 'AMR-10', 'AMR…"
      ]
     },
     "metadata": {},
     "output_type": "display_data"
    },
    {
     "data": {
      "text/plain": [
       "<function __main__.plot_fv_rolling_mean(meter_code)>"
      ]
     },
     "execution_count": 68,
     "metadata": {},
     "output_type": "execute_result"
    }
   ],
   "source": [
    "# Define plotting function for FV with rolling means\n",
    "def plot_fv_rolling_mean(meter_code):\n",
    "    # Filter data for the selected MeterCode\n",
    "    meter_data = df_day[df_day['MeterCode'] == meter_code].sort_values('LocalTimeCol')\n",
    "    \n",
    "    # Ensure sufficient data for rolling means\n",
    "    if len(meter_data) < 6:\n",
    "        print(f\"Warning: Insufficient data for MeterCode {meter_code} (need at least 6 hours)\")\n",
    "        return\n",
    "    \n",
    "    # Compute rolling means\n",
    "    meter_data['fv_rolling_6h'] = meter_data['FV'].rolling(window=6, min_periods=1).mean()\n",
    "    meter_data['fv_rolling_12h'] = meter_data['FV'].rolling(window=12, min_periods=1).mean()\n",
    "    \n",
    "    # Create the plot\n",
    "    plt.figure(figsize=(16, 6))\n",
    "    plt.plot(meter_data['LocalTimeCol'], meter_data['FV'], label=\"Actual FV\", color='blue', alpha=0.8)\n",
    "    plt.plot(meter_data['LocalTimeCol'], meter_data['fv_rolling_6h'], label=\"6-Hour Rolling Mean\", color='red', alpha=0.8)\n",
    "    plt.plot(meter_data['LocalTimeCol'], meter_data['fv_rolling_12h'], label=\"12-Hour Rolling Mean\", color='green', alpha=0.8)\n",
    "    \n",
    "    # Set title and labels\n",
    "    plt.title(f\"Daily Flow Volume with Rolling Mean for MeterCode: {meter_code}\")\n",
    "    plt.xlabel(\"Time\")\n",
    "    plt.ylabel(\"Flow Volume\")\n",
    "    plt.legend()\n",
    "    \n",
    "    # Format x-axis: one tick per day\n",
    "    plt.gca().xaxis.set_major_locator(mdates.DayLocator(interval=4))\n",
    "    plt.gca().xaxis.set_major_formatter(mdates.DateFormatter('%Y-%m-%d'))\n",
    "    plt.xticks(rotation=45)\n",
    "    \n",
    "    # Add grid\n",
    "    plt.grid(True, linestyle='--', alpha=0.4)\n",
    "    \n",
    "    # Adjust layout\n",
    "    plt.tight_layout()\n",
    "    plt.show()\n",
    "\n",
    "# Create interactive dropdown\n",
    "interact(plot_fv_rolling_mean, meter_code=Dropdown(options=[str(m) for m in meter_codes], description='MeterCode:'))"
   ]
  },
  {
   "cell_type": "code",
   "execution_count": 69,
   "id": "12af6a49",
   "metadata": {},
   "outputs": [
    {
     "data": {
      "text/html": [
       "<div>\n",
       "<style scoped>\n",
       "    .dataframe tbody tr th:only-of-type {\n",
       "        vertical-align: middle;\n",
       "    }\n",
       "\n",
       "    .dataframe tbody tr th {\n",
       "        vertical-align: top;\n",
       "    }\n",
       "\n",
       "    .dataframe thead th {\n",
       "        text-align: right;\n",
       "    }\n",
       "</style>\n",
       "<table border=\"1\" class=\"dataframe\">\n",
       "  <thead>\n",
       "    <tr style=\"text-align: right;\">\n",
       "      <th></th>\n",
       "      <th>MeterCode</th>\n",
       "      <th>LocalTimeCol</th>\n",
       "      <th>FV</th>\n",
       "      <th>FR</th>\n",
       "      <th>Today</th>\n",
       "    </tr>\n",
       "  </thead>\n",
       "  <tbody>\n",
       "    <tr>\n",
       "      <th>0</th>\n",
       "      <td>AMR-04</td>\n",
       "      <td>2025-04-01</td>\n",
       "      <td>0.0</td>\n",
       "      <td>-1.521458</td>\n",
       "      <td>-27.563125</td>\n",
       "    </tr>\n",
       "    <tr>\n",
       "      <th>1</th>\n",
       "      <td>AMR-04</td>\n",
       "      <td>2025-04-02</td>\n",
       "      <td>0.0</td>\n",
       "      <td>-2.176979</td>\n",
       "      <td>-22.466354</td>\n",
       "    </tr>\n",
       "    <tr>\n",
       "      <th>2</th>\n",
       "      <td>AMR-04</td>\n",
       "      <td>2025-04-03</td>\n",
       "      <td>0.0</td>\n",
       "      <td>-1.397812</td>\n",
       "      <td>-25.335416</td>\n",
       "    </tr>\n",
       "    <tr>\n",
       "      <th>3</th>\n",
       "      <td>AMR-04</td>\n",
       "      <td>2025-04-04</td>\n",
       "      <td>0.0</td>\n",
       "      <td>-0.935625</td>\n",
       "      <td>-16.968750</td>\n",
       "    </tr>\n",
       "    <tr>\n",
       "      <th>4</th>\n",
       "      <td>AMR-04</td>\n",
       "      <td>2025-04-05</td>\n",
       "      <td>0.0</td>\n",
       "      <td>-3.341667</td>\n",
       "      <td>-43.894272</td>\n",
       "    </tr>\n",
       "  </tbody>\n",
       "</table>\n",
       "</div>"
      ],
      "text/plain": [
       "  MeterCode LocalTimeCol   FV        FR      Today\n",
       "0    AMR-04   2025-04-01  0.0 -1.521458 -27.563125\n",
       "1    AMR-04   2025-04-02  0.0 -2.176979 -22.466354\n",
       "2    AMR-04   2025-04-03  0.0 -1.397812 -25.335416\n",
       "3    AMR-04   2025-04-04  0.0 -0.935625 -16.968750\n",
       "4    AMR-04   2025-04-05  0.0 -3.341667 -43.894272"
      ]
     },
     "execution_count": 69,
     "metadata": {},
     "output_type": "execute_result"
    }
   ],
   "source": [
    "df_day.head()"
   ]
  },
  {
   "cell_type": "code",
   "execution_count": 70,
   "id": "96c94467",
   "metadata": {},
   "outputs": [
    {
     "data": {
      "application/vnd.jupyter.widget-view+json": {
       "model_id": "cf0d080c71ba48a182cbb36e93f0030d",
       "version_major": 2,
       "version_minor": 0
      },
      "text/plain": [
       "interactive(children=(Dropdown(description='MeterCode:', options=('AMR-04', 'AMR-05', 'AMR-08', 'AMR-10', 'AMR…"
      ]
     },
     "metadata": {},
     "output_type": "display_data"
    },
    {
     "data": {
      "text/plain": [
       "<function __main__.plot_fr_rolling_mean(meter_code)>"
      ]
     },
     "execution_count": 70,
     "metadata": {},
     "output_type": "execute_result"
    }
   ],
   "source": [
    "# Define plotting function for FR with rolling means\n",
    "def plot_fr_rolling_mean(meter_code):\n",
    "    # Filter data for the selected MeterCode\n",
    "    meter_data = df_day[df_day['MeterCode'] == meter_code].sort_values('LocalTimeCol')\n",
    "    \n",
    "    # Ensure sufficient data for rolling means\n",
    "    if len(meter_data) < 6:\n",
    "        print(f\"Warning: Insufficient data for MeterCode {meter_code} (need at least 6 hours)\")\n",
    "        return\n",
    "    \n",
    "    # Compute rolling means\n",
    "    meter_data['fr_rolling_6h'] = meter_data['FR'].rolling(window=6, min_periods=1).mean()\n",
    "    meter_data['fr_rolling_12h'] = meter_data['FR'].rolling(window=12, min_periods=1).mean()\n",
    "    \n",
    "    # Create the plot\n",
    "    plt.figure(figsize=(16, 6))\n",
    "    plt.plot(meter_data['LocalTimeCol'], meter_data['FR'], label=\"Actual FR\", color='blue', alpha=0.8)\n",
    "    plt.plot(meter_data['LocalTimeCol'], meter_data['fr_rolling_6h'], label=\"6-Hour Rolling Mean\", color='red', alpha=0.8)\n",
    "    plt.plot(meter_data['LocalTimeCol'], meter_data['fr_rolling_12h'], label=\"12-Hour Rolling Mean\", color='green', alpha=0.8)\n",
    "\n",
    "    # Set title and labels\n",
    "    plt.title(f\"Daily Flow Rate with Rolling Mean for MeterCode: {meter_code}\")\n",
    "    plt.xlabel(\"Time\")\n",
    "    plt.ylabel(\"Flow Rate\")\n",
    "    plt.legend()\n",
    "    \n",
    "    # Format x-axis: one tick per day\n",
    "    plt.gca().xaxis.set_major_locator(mdates.DayLocator(interval=4))\n",
    "    plt.gca().xaxis.set_major_formatter(mdates.DateFormatter('%Y-%m-%d'))\n",
    "    plt.xticks(rotation=45)\n",
    "    \n",
    "    # Add grid\n",
    "    plt.grid(True, linestyle='--', alpha=0.4)\n",
    "    \n",
    "    # Adjust layout\n",
    "    plt.tight_layout()\n",
    "    plt.show()\n",
    "\n",
    "# Create interactive dropdown\n",
    "interact(plot_fr_rolling_mean, meter_code=Dropdown(options=[str(m) for m in meter_codes], description='MeterCode:'))"
   ]
  },
  {
   "cell_type": "code",
   "execution_count": 32,
   "id": "449273e6",
   "metadata": {},
   "outputs": [
    {
     "name": "stdout",
     "output_type": "stream",
     "text": [
      "Peak Water Usage Times:\n"
     ]
    },
    {
     "data": {
      "text/html": [
       "<div>\n",
       "<style scoped>\n",
       "    .dataframe tbody tr th:only-of-type {\n",
       "        vertical-align: middle;\n",
       "    }\n",
       "\n",
       "    .dataframe tbody tr th {\n",
       "        vertical-align: top;\n",
       "    }\n",
       "\n",
       "    .dataframe thead th {\n",
       "        text-align: right;\n",
       "    }\n",
       "</style>\n",
       "<table border=\"1\" class=\"dataframe\">\n",
       "  <thead>\n",
       "    <tr style=\"text-align: right;\">\n",
       "      <th></th>\n",
       "      <th>MeterCode</th>\n",
       "      <th>Morning_Peak_Hour</th>\n",
       "      <th>Morning_Peak_FV</th>\n",
       "      <th>Night_Peak_Hour</th>\n",
       "      <th>Night_Peak_FV</th>\n",
       "    </tr>\n",
       "  </thead>\n",
       "  <tbody>\n",
       "    <tr>\n",
       "      <th>0</th>\n",
       "      <td>AMR-04</td>\n",
       "      <td>6</td>\n",
       "      <td>0.0</td>\n",
       "      <td>18</td>\n",
       "      <td>0.0</td>\n",
       "    </tr>\n",
       "    <tr>\n",
       "      <th>1</th>\n",
       "      <td>AMR-05</td>\n",
       "      <td>6</td>\n",
       "      <td>0.0</td>\n",
       "      <td>18</td>\n",
       "      <td>0.0</td>\n",
       "    </tr>\n",
       "    <tr>\n",
       "      <th>2</th>\n",
       "      <td>AMR-08</td>\n",
       "      <td>6</td>\n",
       "      <td>0.0</td>\n",
       "      <td>18</td>\n",
       "      <td>0.0</td>\n",
       "    </tr>\n",
       "    <tr>\n",
       "      <th>3</th>\n",
       "      <td>AMR-10</td>\n",
       "      <td>6</td>\n",
       "      <td>0.0</td>\n",
       "      <td>18</td>\n",
       "      <td>0.0</td>\n",
       "    </tr>\n",
       "    <tr>\n",
       "      <th>4</th>\n",
       "      <td>AMR-101</td>\n",
       "      <td>6</td>\n",
       "      <td>0.0</td>\n",
       "      <td>18</td>\n",
       "      <td>0.0</td>\n",
       "    </tr>\n",
       "  </tbody>\n",
       "</table>\n",
       "</div>"
      ],
      "text/plain": [
       "  MeterCode  Morning_Peak_Hour  Morning_Peak_FV  Night_Peak_Hour  \\\n",
       "0    AMR-04                  6              0.0               18   \n",
       "1    AMR-05                  6              0.0               18   \n",
       "2    AMR-08                  6              0.0               18   \n",
       "3    AMR-10                  6              0.0               18   \n",
       "4   AMR-101                  6              0.0               18   \n",
       "\n",
       "   Night_Peak_FV  \n",
       "0            0.0  \n",
       "1            0.0  \n",
       "2            0.0  \n",
       "3            0.0  \n",
       "4            0.0  "
      ]
     },
     "execution_count": 32,
     "metadata": {},
     "output_type": "execute_result"
    }
   ],
   "source": [
    "df_hour['Hour'] = df_hour['LocalTimeCol'].dt.hour\n",
    "\n",
    "hourly_avg = df_hour.groupby(['MeterCode', 'Hour'])['FV'].mean().reset_index()\n",
    "\n",
    "morning_hours = range(6, 12)  # 6:00 AM to 11:59 AM\n",
    "night_hours = range(18, 24)   # 6:00 PM to 11:59 PM\n",
    "\n",
    "peak_times = []\n",
    "\n",
    "# Find peak morning and night hours for each MeterCode\n",
    "for meter in df_hour['MeterCode'].unique():\n",
    "    meter_data = hourly_avg[hourly_avg['MeterCode'] == meter]\n",
    "    \n",
    "    # Morning peak\n",
    "    morning_data = meter_data[meter_data['Hour'].isin(morning_hours)]\n",
    "    morning_peak_hour = morning_data.loc[morning_data['FV'].idxmax(), 'Hour'] if not morning_data.empty else None\n",
    "    morning_peak_value = morning_data['FV'].max() if not morning_data.empty else None\n",
    "    \n",
    "    # Night peak\n",
    "    night_data = meter_data[meter_data['Hour'].isin(night_hours)]\n",
    "    night_peak_hour = night_data.loc[night_data['FV'].idxmax(), 'Hour'] if not night_data.empty else None\n",
    "    night_peak_value = night_data['FV'].max() if not night_data.empty else None\n",
    "    \n",
    "    peak_times.append({\n",
    "        'MeterCode': meter,\n",
    "        'Morning_Peak_Hour': morning_peak_hour,\n",
    "        'Morning_Peak_FV': morning_peak_value,\n",
    "        'Night_Peak_Hour': night_peak_hour,\n",
    "        'Night_Peak_FV': night_peak_value\n",
    "    })\n",
    "\n",
    "# Create DataFrame of peak times\n",
    "peak_df = pd.DataFrame(peak_times)\n",
    "print(\"Peak Water Usage Times:\")\n",
    "peak_df.head()\n",
    "\n"
   ]
  },
  {
   "cell_type": "code",
   "execution_count": null,
   "id": "d8c410e1",
   "metadata": {},
   "outputs": [
    {
     "data": {
      "application/vnd.jupyter.widget-view+json": {
       "model_id": "ac38a5d8ed6e4e9abb76446cec386833",
       "version_major": 2,
       "version_minor": 0
      },
      "text/plain": [
       "interactive(children=(Dropdown(description='MeterCode:', options=('AMR-04', 'AMR-05', 'AMR-08', 'AMR-10', 'AMR…"
      ]
     },
     "metadata": {},
     "output_type": "display_data"
    },
    {
     "data": {
      "text/plain": [
       "<function __main__.plot_fv_peaks(meter_code)>"
      ]
     },
     "execution_count": 62,
     "metadata": {},
     "output_type": "execute_result"
    }
   ],
   "source": [
    "# Define plotting function\n",
    "def plot_fv_peaks(meter_code):\n",
    "   \n",
    "    meter_data = hourly_avg[hourly_avg['MeterCode'] == meter_code]\n",
    "    \n",
    "    # Compute 4-hour rolling mean of hourly averages\n",
    "    meter_data = meter_data.sort_values('Hour')\n",
    "    meter_data['FV_Rolling_4h'] = meter_data['FV'].rolling(window=4, min_periods=1, center=True).mean()\n",
    "    \n",
    "    # Get peak hours for this MeterCode\n",
    "    meter_peaks = peak_df[peak_df['MeterCode'] == meter_code]\n",
    "    morning_peak = meter_peaks['Morning_Peak_Hour'].iloc[0] if not meter_peaks['Morning_Peak_Hour'].isna().iloc[0] else None\n",
    "    night_peak = meter_peaks['Night_Peak_Hour'].iloc[0] if not meter_peaks['Night_Peak_Hour'].isna().iloc[0] else None\n",
    "    \n",
    "    # Create plot\n",
    "    plt.figure(figsize=(12, 4))\n",
    "    plt.plot(meter_data['Hour'], meter_data['FV'], label='Average FV', color='blue', alpha=0.4)\n",
    "    plt.plot(meter_data['Hour'], meter_data['FV_Rolling_4h'], label='4-Hour Rolling Mean', color='red', alpha=0.6)\n",
    "    \n",
    "    # Highlight peak hours\n",
    "    if morning_peak is not None:\n",
    "        plt.axvline(x=morning_peak, color='green', linestyle='--', label='Morning Peak', alpha=0.5)\n",
    "    if night_peak is not None:\n",
    "        plt.axvline(x=night_peak, color='purple', linestyle='--', label='Night Peak', alpha=0.5)\n",
    "    \n",
    "    # Set title and labels\n",
    "    plt.title(f'Hourly Water Usage (FV) for MeterCode: {meter_code}')\n",
    "    plt.xlabel('Hour of Day')\n",
    "    plt.ylabel('Average Flow Volume')\n",
    "    plt.legend()\n",
    "    \n",
    "    # Format x-axis\n",
    "    plt.xticks(range(0, 24))\n",
    "    # plt.subplots_adjust(left=1, right=0.9, top=2, bottom=0.1)\n",
    "    plt.grid(True, linestyle='--', alpha=0.4)\n",
    "    plt.tight_layout()\n",
    "    plt.show()\n",
    "\n",
    "# Create interactive dropdown\n",
    "interact(plot_fv_peaks, meter_code=Dropdown(options=[str(m) for m in df_hour['MeterCode'].unique()], description='MeterCode:'))"
   ]
  },
  {
   "cell_type": "code",
   "execution_count": null,
   "id": "5335f4b4",
   "metadata": {},
   "outputs": [],
   "source": []
  },
  {
   "cell_type": "markdown",
   "id": "1a81bbf1",
   "metadata": {},
   "source": [
    "##### Forecasting with Prophet (week -4)"
   ]
  },
  {
   "cell_type": "code",
   "execution_count": 34,
   "id": "7e1e7444",
   "metadata": {},
   "outputs": [
    {
     "name": "stderr",
     "output_type": "stream",
     "text": [
      "Importing plotly failed. Interactive plots will not work.\n"
     ]
    }
   ],
   "source": [
    "from prophet import Prophet"
   ]
  },
  {
   "cell_type": "code",
   "execution_count": 35,
   "id": "dfa77266",
   "metadata": {},
   "outputs": [],
   "source": [
    "# Function to fit Prophet model and forecast\n",
    "def prophet_forecast(data, freq='h', forecast_periods=168):\n",
    "    # Initialize the Prophet model\n",
    "    model = Prophet(\n",
    "        yearly_seasonality=False,  # No yearly pattern in short dataset\n",
    "        weekly_seasonality=True,   # Weekly patterns (weekdays vs. weekends)\n",
    "        daily_seasonality=True,    # Daily patterns (morning vs. night)\n",
    "        seasonality_mode='additive'  # Additive model for water usage\n",
    "    )\n",
    "    # Fit the model\n",
    "    model.fit(data)\n",
    "    \n",
    "    # Create future dataframe\n",
    "    if freq == 'h':\n",
    "        future = model.make_future_dataframe(periods=forecast_periods, freq='h')\n",
    "    else:\n",
    "        future = model.make_future_dataframe(periods=forecast_periods, freq='D')\n",
    "    \n",
    "    # Forecast\n",
    "    forecast = model.predict(future)\n",
    "    return model, forecast"
   ]
  },
  {
   "cell_type": "code",
   "execution_count": 36,
   "id": "786317b6",
   "metadata": {},
   "outputs": [
    {
     "name": "stderr",
     "output_type": "stream",
     "text": [
      "22:05:25 - cmdstanpy - INFO - Chain [1] start processing\n",
      "22:05:25 - cmdstanpy - INFO - Chain [1] done processing\n",
      "22:05:26 - cmdstanpy - INFO - Chain [1] start processing\n",
      "22:05:26 - cmdstanpy - INFO - Chain [1] done processing\n",
      "22:05:27 - cmdstanpy - INFO - Chain [1] start processing\n",
      "22:05:27 - cmdstanpy - INFO - Chain [1] done processing\n",
      "22:05:29 - cmdstanpy - INFO - Chain [1] start processing\n",
      "22:05:30 - cmdstanpy - INFO - Chain [1] done processing\n",
      "22:05:31 - cmdstanpy - INFO - Chain [1] start processing\n",
      "22:05:32 - cmdstanpy - INFO - Chain [1] done processing\n",
      "22:05:33 - cmdstanpy - INFO - Chain [1] start processing\n",
      "22:05:33 - cmdstanpy - INFO - Chain [1] done processing\n",
      "22:05:35 - cmdstanpy - INFO - Chain [1] start processing\n",
      "22:05:36 - cmdstanpy - INFO - Chain [1] done processing\n",
      "22:05:38 - cmdstanpy - INFO - Chain [1] start processing\n",
      "22:05:39 - cmdstanpy - INFO - Chain [1] done processing\n",
      "22:05:40 - cmdstanpy - INFO - Chain [1] start processing\n",
      "22:05:40 - cmdstanpy - INFO - Chain [1] done processing\n",
      "22:05:41 - cmdstanpy - INFO - Chain [1] start processing\n",
      "22:05:41 - cmdstanpy - INFO - Chain [1] done processing\n",
      "22:05:42 - cmdstanpy - INFO - Chain [1] start processing\n",
      "22:05:42 - cmdstanpy - INFO - Chain [1] done processing\n",
      "22:05:43 - cmdstanpy - INFO - Chain [1] start processing\n",
      "22:05:43 - cmdstanpy - INFO - Chain [1] done processing\n",
      "22:05:44 - cmdstanpy - INFO - Chain [1] start processing\n",
      "22:05:44 - cmdstanpy - INFO - Chain [1] done processing\n",
      "22:05:45 - cmdstanpy - INFO - Chain [1] start processing\n",
      "22:05:46 - cmdstanpy - INFO - Chain [1] done processing\n",
      "22:05:47 - cmdstanpy - INFO - Chain [1] start processing\n",
      "22:05:47 - cmdstanpy - INFO - Chain [1] done processing\n",
      "22:05:48 - cmdstanpy - INFO - Chain [1] start processing\n",
      "22:05:49 - cmdstanpy - INFO - Chain [1] done processing\n",
      "22:05:49 - cmdstanpy - INFO - Chain [1] start processing\n",
      "22:05:50 - cmdstanpy - INFO - Chain [1] done processing\n",
      "22:05:51 - cmdstanpy - INFO - Chain [1] start processing\n",
      "22:05:51 - cmdstanpy - INFO - Chain [1] done processing\n",
      "22:05:52 - cmdstanpy - INFO - Chain [1] start processing\n",
      "22:05:53 - cmdstanpy - INFO - Chain [1] done processing\n",
      "22:05:54 - cmdstanpy - INFO - Chain [1] start processing\n",
      "22:05:54 - cmdstanpy - INFO - Chain [1] done processing\n"
     ]
    },
    {
     "name": "stdout",
     "output_type": "stream",
     "text": [
      "\n",
      "Prophet models fitted for 161 MeterCode values\n"
     ]
    }
   ],
   "source": [
    "# Prepare data and fit Prophet model for each MeterCode\n",
    "h_forecasts = {}\n",
    "h_models = {}\n",
    "\n",
    "for meter in df_hour['MeterCode'].unique():\n",
    "   \n",
    "    meter_data = df_hour[df_hour['MeterCode'] == meter][['LocalTimeCol', 'FV']].copy()\n",
    "    meter_data = meter_data.rename(columns={'LocalTimeCol': 'ds', 'FV': 'y'})\n",
    "    \n",
    "    # Check for sufficient data\n",
    "    if len(meter_data) < 2:\n",
    "        print(f\"Skipping MeterCode {meter}: Insufficient data for Prophet\")\n",
    "        continue\n",
    "    \n",
    "    # Fit Prophet model and forecast\n",
    "    try:\n",
    "        model, forecast = prophet_forecast(meter_data, freq='h', forecast_periods=168)\n",
    "        h_models[meter] = model\n",
    "        h_forecasts[meter] = forecast\n",
    "    except Exception as e:\n",
    "        print(f\"Error for MeterCode {meter}: {e}\")\n",
    "        continue\n",
    "\n",
    "print(f\"\\nProphet models fitted for {len(h_forecasts)} MeterCode values\")"
   ]
  },
  {
   "cell_type": "code",
   "execution_count": 37,
   "id": "b2055521",
   "metadata": {},
   "outputs": [
    {
     "data": {
      "application/vnd.jupyter.widget-view+json": {
       "model_id": "df2b0d61275c49b8a1fee5e4a69d7702",
       "version_major": 2,
       "version_minor": 0
      },
      "text/plain": [
       "interactive(children=(Dropdown(description='MeterCode: ', options=('AMR-04', 'AMR-05', 'AMR-08', 'AMR-10', 'AM…"
      ]
     },
     "metadata": {},
     "output_type": "display_data"
    },
    {
     "data": {
      "text/plain": [
       "<function __main__.plot_forecast(meter_code)>"
      ]
     },
     "execution_count": 37,
     "metadata": {},
     "output_type": "execute_result"
    }
   ],
   "source": [
    "# Define plotting function for forecasts\n",
    "def plot_forecast(meter_code):\n",
    "    \n",
    "    meter_data = df_hour[df_hour['MeterCode'] == meter_code][['LocalTimeCol', 'FV']].copy()\n",
    "    meter_data = meter_data.rename(columns={'LocalTimeCol': 'ds', 'FV': 'y'})\n",
    "    h_forecast = h_forecasts.get(meter_code)\n",
    "    \n",
    "    if h_forecast is None:\n",
    "        print(f\"No forecast available for MeterCode {meter_code}\")\n",
    "        return\n",
    "    \n",
    "    plt.figure(figsize=(12, 6))\n",
    "    \n",
    "    plt.plot(meter_data['ds'], meter_data['y'], label='Historical FV', color='blue', alpha=0.4)\n",
    "    plt.plot(h_forecast['ds'], h_forecast['yhat'], label='Forecast', color='red', alpha=0.6)\n",
    "    \n",
    "    # Plot uncertainty intervals - future values lies in these area\n",
    "    if 'yhat_lower' in h_forecast and 'yhat_upper' in h_forecast:  \n",
    "        plt.fill_between(h_forecast['ds'], h_forecast['yhat_lower'], h_forecast['yhat_upper'], \n",
    "                         color='green', alpha=0.2, label='Uncertainty Interval')\n",
    "    \n",
    "    # Set title and labels\n",
    "    plt.title(f'Hourly FV: Actual vs. Forecast for MeterCode: {meter_code}', pad=20)\n",
    "    plt.xlabel('Date', labelpad=20)\n",
    "    plt.ylabel('Flow Volume', labelpad=20)\n",
    "    \n",
    "    # Position legend below the plot\n",
    "    plt.legend(loc='upper center', bbox_to_anchor=(0.5, -0.5), ncol=3)\n",
    "    \n",
    "    # Format x-axis\n",
    "    plt.gca().xaxis.set_major_locator(mdates.DayLocator(interval=2))\n",
    "    plt.gca().xaxis.set_major_formatter(mdates.DateFormatter('%Y-%m-%d'))\n",
    "    plt.xticks(rotation=45)\n",
    "    \n",
    "    plt.grid(True, linestyle='--', alpha=0.8)\n",
    "    \n",
    "    plt.tight_layout()\n",
    "    plt.show()\n",
    "\n",
    "\n",
    "# Create interactive dropdown\n",
    "interact(plot_forecast, meter_code=Dropdown(options=[str(m) for m in df_hour['MeterCode'].unique()], description='MeterCode: '))"
   ]
  },
  {
   "cell_type": "code",
   "execution_count": 38,
   "id": "6db31cf6",
   "metadata": {},
   "outputs": [
    {
     "data": {
      "application/vnd.jupyter.widget-view+json": {
       "model_id": "ab53725ae76849a28c02d13375a11359",
       "version_major": 2,
       "version_minor": 0
      },
      "text/plain": [
       "interactive(children=(Dropdown(description='MeterCode: ', options=('AMR-04', 'AMR-05', 'AMR-08', 'AMR-10', 'AM…"
      ]
     },
     "metadata": {},
     "output_type": "display_data"
    },
    {
     "data": {
      "text/plain": [
       "<function __main__.hourly_plot_components(meter_code)>"
      ]
     },
     "execution_count": 38,
     "metadata": {},
     "output_type": "execute_result"
    }
   ],
   "source": [
    "def hourly_plot_components(meter_code):\n",
    "    # Get the model and forecast for the selected MeterCode\n",
    "    h_model = h_models[meter_code]\n",
    "    h_forecast = h_forecasts[meter_code]\n",
    "    \n",
    "    # Plot components\n",
    "    \n",
    "    h_model.plot_components(h_forecast,figsize=(12, 6))\n",
    "    plt.suptitle(f'Prophet Forecast Components for MeterCode: {meter_code}')\n",
    "    plt.tight_layout()\n",
    "    plt.show()\n",
    "\n",
    "# Create interactive dropdown\n",
    "interact(hourly_plot_components, meter_code=Dropdown(options=[str(m) for m in df_hour['MeterCode'].unique()], description='MeterCode: '))"
   ]
  },
  {
   "cell_type": "code",
   "execution_count": 39,
   "id": "61b9234d",
   "metadata": {},
   "outputs": [
    {
     "name": "stderr",
     "output_type": "stream",
     "text": [
      "22:06:46 - cmdstanpy - INFO - Chain [1] start processing\n",
      "22:06:46 - cmdstanpy - INFO - Chain [1] done processing\n",
      "22:06:46 - cmdstanpy - INFO - Chain [1] start processing\n",
      "22:06:47 - cmdstanpy - INFO - Chain [1] done processing\n",
      "22:06:47 - cmdstanpy - INFO - Chain [1] start processing\n",
      "22:06:49 - cmdstanpy - INFO - Chain [1] done processing\n",
      "22:06:50 - cmdstanpy - INFO - Chain [1] start processing\n",
      "22:06:52 - cmdstanpy - INFO - Chain [1] done processing\n",
      "22:06:53 - cmdstanpy - INFO - Chain [1] start processing\n",
      "22:06:54 - cmdstanpy - INFO - Chain [1] done processing\n",
      "22:06:55 - cmdstanpy - INFO - Chain [1] start processing\n",
      "22:06:55 - cmdstanpy - INFO - Chain [1] done processing\n",
      "22:06:57 - cmdstanpy - INFO - Chain [1] start processing\n",
      "22:06:58 - cmdstanpy - INFO - Chain [1] done processing\n",
      "22:06:59 - cmdstanpy - INFO - Chain [1] start processing\n",
      "22:07:00 - cmdstanpy - INFO - Chain [1] done processing\n",
      "22:07:00 - cmdstanpy - INFO - Chain [1] start processing\n",
      "22:07:01 - cmdstanpy - INFO - Chain [1] done processing\n",
      "22:07:01 - cmdstanpy - INFO - Chain [1] start processing\n",
      "22:07:02 - cmdstanpy - INFO - Chain [1] done processing\n",
      "22:07:02 - cmdstanpy - INFO - Chain [1] start processing\n",
      "22:07:02 - cmdstanpy - INFO - Chain [1] done processing\n",
      "22:07:03 - cmdstanpy - INFO - Chain [1] start processing\n",
      "22:07:03 - cmdstanpy - INFO - Chain [1] done processing\n",
      "22:07:04 - cmdstanpy - INFO - Chain [1] start processing\n",
      "22:07:04 - cmdstanpy - INFO - Chain [1] done processing\n",
      "22:07:05 - cmdstanpy - INFO - Chain [1] start processing\n",
      "22:07:05 - cmdstanpy - INFO - Chain [1] done processing\n",
      "22:07:06 - cmdstanpy - INFO - Chain [1] start processing\n",
      "22:07:06 - cmdstanpy - INFO - Chain [1] done processing\n",
      "22:07:06 - cmdstanpy - INFO - Chain [1] start processing\n",
      "22:07:07 - cmdstanpy - INFO - Chain [1] done processing\n",
      "22:07:07 - cmdstanpy - INFO - Chain [1] start processing\n",
      "22:07:08 - cmdstanpy - INFO - Chain [1] done processing\n",
      "22:07:08 - cmdstanpy - INFO - Chain [1] start processing\n",
      "22:07:09 - cmdstanpy - INFO - Chain [1] done processing\n",
      "22:07:09 - cmdstanpy - INFO - Chain [1] start processing\n",
      "22:07:10 - cmdstanpy - INFO - Chain [1] done processing\n",
      "22:07:10 - cmdstanpy - INFO - Chain [1] start processing\n",
      "22:07:11 - cmdstanpy - INFO - Chain [1] done processing\n"
     ]
    },
    {
     "name": "stdout",
     "output_type": "stream",
     "text": [
      "\n",
      " Prophet models fitted for 161 MeterCode values\n"
     ]
    }
   ],
   "source": [
    "d_forecasts = {}\n",
    "d_models = {}\n",
    "\n",
    "for meter in df_day['MeterCode'].unique():\n",
    "    meter_data = df_day[df_day['MeterCode'] == meter][['LocalTimeCol', 'FV']].copy()\n",
    "    meter_data['LocalTimeCol'] = pd.to_datetime(meter_data['LocalTimeCol'])\n",
    "    meter_data.dropna(subset=['FV'], inplace=True)\n",
    "    meter_data = meter_data.rename(columns={'LocalTimeCol': 'ds', 'FV': 'y'})\n",
    "\n",
    "    if len(meter_data) < 10:\n",
    "        print(f\"Skipping MeterCode {meter}: Insufficient data for Prophet\")\n",
    "        continue\n",
    "\n",
    "    try:\n",
    "        d_model, d_forecast = prophet_forecast(meter_data, freq='D', forecast_periods=7)\n",
    "        d_models[meter] = d_model\n",
    "        d_forecasts[meter] = d_forecast\n",
    "    except Exception as e:\n",
    "        print(f\"Error for MeterCode {meter}: {e}\")\n",
    "        continue\n",
    "\n",
    "print(f\"\\n Prophet models fitted for {len(d_forecasts)} MeterCode values\")"
   ]
  },
  {
   "cell_type": "code",
   "execution_count": 40,
   "id": "49034694",
   "metadata": {},
   "outputs": [
    {
     "data": {
      "application/vnd.jupyter.widget-view+json": {
       "model_id": "92ccb3a62b644cf8945dab4ae2e93263",
       "version_major": 2,
       "version_minor": 0
      },
      "text/plain": [
       "interactive(children=(Dropdown(description='MeterCode: ', options=('AMR-04', 'AMR-05', 'AMR-08', 'AMR-10', 'AM…"
      ]
     },
     "metadata": {},
     "output_type": "display_data"
    },
    {
     "data": {
      "text/plain": [
       "<function __main__.daily_plot_forecast(meter_code)>"
      ]
     },
     "execution_count": 40,
     "metadata": {},
     "output_type": "execute_result"
    }
   ],
   "source": [
    "def daily_plot_forecast(meter_code):\n",
    "    meter_data = df_day[df_day['MeterCode'] == meter_code][['LocalTimeCol', 'FV']].copy()\n",
    "    meter_data = meter_data.rename(columns={'LocalTimeCol': 'ds', 'FV': 'y'})\n",
    "\n",
    "    forecast_data = d_forecasts.get(meter_code)\n",
    "\n",
    "    if forecast_data is None:\n",
    "        print(f\"No forecast available for MeterCode {meter_code}\")\n",
    "        return\n",
    "\n",
    "    plt.figure(figsize=(12, 5))\n",
    "\n",
    "    plt.plot(meter_data['ds'], meter_data['y'], label='Historical FV', color='blue', alpha=0.6)\n",
    "    plt.plot(forecast_data['ds'], forecast_data['yhat'], label='Forecast', color='red', alpha=0.8)\n",
    "\n",
    "    if 'yhat_lower' in forecast_data and 'yhat_upper' in forecast_data:\n",
    "        plt.fill_between(forecast_data['ds'], forecast_data['yhat_lower'], forecast_data['yhat_upper'],\n",
    "                         color='green', alpha=0.2, label='Uncertainty Interval')\n",
    "\n",
    "    plt.title(f'Daily FV: Actual vs Forecast for MeterCode: {meter_code}', fontsize=14)\n",
    "    plt.xlabel('Date', fontsize=12)\n",
    "    plt.ylabel('Flow Volume', fontsize=12)\n",
    "\n",
    "    plt.xticks(rotation=45, fontsize=10)\n",
    "    plt.yticks(fontsize=10)\n",
    "\n",
    "    # Use major ticks only for clarity\n",
    "    plt.gca().xaxis.set_major_locator(mdates.DayLocator(interval=2))\n",
    "    plt.gca().xaxis.set_major_formatter(mdates.DateFormatter('%Y-%m-%d'))\n",
    "\n",
    "    plt.legend(loc='upper center', bbox_to_anchor=(0.5, -0.4), ncol=3)\n",
    "    plt.grid(True, linestyle='--', alpha=0.7)\n",
    "\n",
    "    plt.tight_layout()\n",
    "    plt.show()\n",
    "\n",
    "\n",
    "# Create interactive dropdown\n",
    "interact(daily_plot_forecast, meter_code=Dropdown(options=[str(m) for m in df_day['MeterCode'].unique()], description='MeterCode: '))"
   ]
  },
  {
   "cell_type": "code",
   "execution_count": 41,
   "id": "05867df7",
   "metadata": {},
   "outputs": [
    {
     "data": {
      "application/vnd.jupyter.widget-view+json": {
       "model_id": "a7ed5cdd0f2e444aac3719404a2db494",
       "version_major": 2,
       "version_minor": 0
      },
      "text/plain": [
       "interactive(children=(Dropdown(description='MeterCode: ', options=('AMR-04', 'AMR-05', 'AMR-08', 'AMR-10', 'AM…"
      ]
     },
     "metadata": {},
     "output_type": "display_data"
    },
    {
     "data": {
      "text/plain": [
       "<function __main__.daily_plot_components(meter_code)>"
      ]
     },
     "execution_count": 41,
     "metadata": {},
     "output_type": "execute_result"
    }
   ],
   "source": [
    "def daily_plot_components(meter_code):\n",
    "    # Get the model and forecast for the selected MeterCode\n",
    "    d_model = d_models[meter_code]\n",
    "    d_forecast = d_forecasts[meter_code]\n",
    "    \n",
    "    # Plot components\n",
    "    \n",
    "    d_model.plot_components(d_forecast,figsize=(12, 6))\n",
    "    plt.suptitle(f'Prophet Forecast Components for MeterCode: {meter_code}')\n",
    "    plt.tight_layout()\n",
    "    plt.xticks(rotation=45)\n",
    "    plt.show()\n",
    "\n",
    "\n",
    "\n",
    "# Create interactive dropdown\n",
    "interact(daily_plot_components, meter_code=Dropdown(options=[str(m) for m in df_day['MeterCode'].unique()], description='MeterCode: '))"
   ]
  },
  {
   "cell_type": "code",
   "execution_count": 42,
   "id": "47fdd6e6",
   "metadata": {},
   "outputs": [],
   "source": [
    "from sklearn.metrics import mean_squared_error, mean_absolute_error"
   ]
  },
  {
   "cell_type": "code",
   "execution_count": 43,
   "id": "00a76a6b",
   "metadata": {},
   "outputs": [],
   "source": [
    "import numpy as np\n",
    "from sklearn.metrics import mean_squared_error, mean_absolute_error\n",
    "\n",
    "def evaluate_forecast(actual, predicted):\n",
    "\n",
    "    # Calculate standard metrics\n",
    "    mse = mean_squared_error(actual, predicted)\n",
    "    rmse = np.sqrt(mse)\n",
    "    mae = mean_absolute_error(actual, predicted)\n",
    "    \n",
    "    # Create a mask to select elements where the actual value is not zero\n",
    "    mask = actual != 0\n",
    "    \n",
    "    # Check if there are any non-zero actuals to avoid division by zero\n",
    "    if not np.any(mask):\n",
    "        mape = np.nan # Return NaN if all actuals are zero, as MAPE is undefined\n",
    "    else:\n",
    "        # Calculate MAPE only for the non-zero elements\n",
    "        mape = np.mean(np.abs((actual[mask] - predicted[mask]) / actual[mask])) * 100\n",
    "\n",
    "    return rmse, mae, mape"
   ]
  },
  {
   "cell_type": "code",
   "execution_count": 44,
   "id": "f2414362",
   "metadata": {},
   "outputs": [],
   "source": [
    "meter_codes = df['MeterCode'].unique()"
   ]
  },
  {
   "cell_type": "code",
   "execution_count": 45,
   "id": "5da8cb24",
   "metadata": {},
   "outputs": [
    {
     "ename": "ValueError",
     "evalue": "Input contains NaN.",
     "output_type": "error",
     "traceback": [
      "\u001b[31m---------------------------------------------------------------------------\u001b[39m",
      "\u001b[31mValueError\u001b[39m                                Traceback (most recent call last)",
      "\u001b[36mCell\u001b[39m\u001b[36m \u001b[39m\u001b[32mIn[45]\u001b[39m\u001b[32m, line 6\u001b[39m\n\u001b[32m      4\u001b[39m actual = df_hour[df_hour[\u001b[33m'\u001b[39m\u001b[33mMeterCode\u001b[39m\u001b[33m'\u001b[39m] == meter][\u001b[33m'\u001b[39m\u001b[33mFV\u001b[39m\u001b[33m'\u001b[39m]\n\u001b[32m      5\u001b[39m forecast = h_forecasts[meter][\u001b[33m'\u001b[39m\u001b[33myhat\u001b[39m\u001b[33m'\u001b[39m].head(\u001b[38;5;28mlen\u001b[39m(actual))  \n\u001b[32m----> \u001b[39m\u001b[32m6\u001b[39m rmse, mae, mape = \u001b[43mevaluate_forecast\u001b[49m\u001b[43m(\u001b[49m\u001b[43mactual\u001b[49m\u001b[43m,\u001b[49m\u001b[43m \u001b[49m\u001b[43mforecast\u001b[49m\u001b[43m)\u001b[49m\n\u001b[32m      7\u001b[39m hour_metrics[meter] = {\u001b[33m'\u001b[39m\u001b[33mRMSE\u001b[39m\u001b[33m'\u001b[39m: rmse, \u001b[33m'\u001b[39m\u001b[33mMAE\u001b[39m\u001b[33m'\u001b[39m: mae, \u001b[33m'\u001b[39m\u001b[33mMAPE\u001b[39m\u001b[33m'\u001b[39m: mape}\n",
      "\u001b[36mCell\u001b[39m\u001b[36m \u001b[39m\u001b[32mIn[43]\u001b[39m\u001b[32m, line 7\u001b[39m, in \u001b[36mevaluate_forecast\u001b[39m\u001b[34m(actual, predicted)\u001b[39m\n\u001b[32m      4\u001b[39m \u001b[38;5;28;01mdef\u001b[39;00m\u001b[38;5;250m \u001b[39m\u001b[34mevaluate_forecast\u001b[39m(actual, predicted):\n\u001b[32m      5\u001b[39m \n\u001b[32m      6\u001b[39m     \u001b[38;5;66;03m# Calculate standard metrics\u001b[39;00m\n\u001b[32m----> \u001b[39m\u001b[32m7\u001b[39m     mse = \u001b[43mmean_squared_error\u001b[49m\u001b[43m(\u001b[49m\u001b[43mactual\u001b[49m\u001b[43m,\u001b[49m\u001b[43m \u001b[49m\u001b[43mpredicted\u001b[49m\u001b[43m)\u001b[49m\n\u001b[32m      8\u001b[39m     rmse = np.sqrt(mse)\n\u001b[32m      9\u001b[39m     mae = mean_absolute_error(actual, predicted)\n",
      "\u001b[36mFile \u001b[39m\u001b[32mc:\\Users\\Home_Pc\\Desktop\\Intership_project\\venv\\Lib\\site-packages\\sklearn\\utils\\_param_validation.py:218\u001b[39m, in \u001b[36mvalidate_params.<locals>.decorator.<locals>.wrapper\u001b[39m\u001b[34m(*args, **kwargs)\u001b[39m\n\u001b[32m    212\u001b[39m \u001b[38;5;28;01mtry\u001b[39;00m:\n\u001b[32m    213\u001b[39m     \u001b[38;5;28;01mwith\u001b[39;00m config_context(\n\u001b[32m    214\u001b[39m         skip_parameter_validation=(\n\u001b[32m    215\u001b[39m             prefer_skip_nested_validation \u001b[38;5;129;01mor\u001b[39;00m global_skip_validation\n\u001b[32m    216\u001b[39m         )\n\u001b[32m    217\u001b[39m     ):\n\u001b[32m--> \u001b[39m\u001b[32m218\u001b[39m         \u001b[38;5;28;01mreturn\u001b[39;00m \u001b[43mfunc\u001b[49m\u001b[43m(\u001b[49m\u001b[43m*\u001b[49m\u001b[43margs\u001b[49m\u001b[43m,\u001b[49m\u001b[43m \u001b[49m\u001b[43m*\u001b[49m\u001b[43m*\u001b[49m\u001b[43mkwargs\u001b[49m\u001b[43m)\u001b[49m\n\u001b[32m    219\u001b[39m \u001b[38;5;28;01mexcept\u001b[39;00m InvalidParameterError \u001b[38;5;28;01mas\u001b[39;00m e:\n\u001b[32m    220\u001b[39m     \u001b[38;5;66;03m# When the function is just a wrapper around an estimator, we allow\u001b[39;00m\n\u001b[32m    221\u001b[39m     \u001b[38;5;66;03m# the function to delegate validation to the estimator, but we replace\u001b[39;00m\n\u001b[32m    222\u001b[39m     \u001b[38;5;66;03m# the name of the estimator by the name of the function in the error\u001b[39;00m\n\u001b[32m    223\u001b[39m     \u001b[38;5;66;03m# message to avoid confusion.\u001b[39;00m\n\u001b[32m    224\u001b[39m     msg = re.sub(\n\u001b[32m    225\u001b[39m         \u001b[33mr\u001b[39m\u001b[33m\"\u001b[39m\u001b[33mparameter of \u001b[39m\u001b[33m\\\u001b[39m\u001b[33mw+ must be\u001b[39m\u001b[33m\"\u001b[39m,\n\u001b[32m    226\u001b[39m         \u001b[33mf\u001b[39m\u001b[33m\"\u001b[39m\u001b[33mparameter of \u001b[39m\u001b[38;5;132;01m{\u001b[39;00mfunc.\u001b[34m__qualname__\u001b[39m\u001b[38;5;132;01m}\u001b[39;00m\u001b[33m must be\u001b[39m\u001b[33m\"\u001b[39m,\n\u001b[32m    227\u001b[39m         \u001b[38;5;28mstr\u001b[39m(e),\n\u001b[32m    228\u001b[39m     )\n",
      "\u001b[36mFile \u001b[39m\u001b[32mc:\\Users\\Home_Pc\\Desktop\\Intership_project\\venv\\Lib\\site-packages\\sklearn\\metrics\\_regression.py:580\u001b[39m, in \u001b[36mmean_squared_error\u001b[39m\u001b[34m(y_true, y_pred, sample_weight, multioutput)\u001b[39m\n\u001b[32m    530\u001b[39m \u001b[38;5;250m\u001b[39m\u001b[33;03m\"\"\"Mean squared error regression loss.\u001b[39;00m\n\u001b[32m    531\u001b[39m \n\u001b[32m    532\u001b[39m \u001b[33;03mRead more in the :ref:`User Guide <mean_squared_error>`.\u001b[39;00m\n\u001b[32m   (...)\u001b[39m\u001b[32m    576\u001b[39m \u001b[33;03m0.825...\u001b[39;00m\n\u001b[32m    577\u001b[39m \u001b[33;03m\"\"\"\u001b[39;00m\n\u001b[32m    578\u001b[39m xp, _ = get_namespace(y_true, y_pred, sample_weight, multioutput)\n\u001b[32m    579\u001b[39m _, y_true, y_pred, sample_weight, multioutput = (\n\u001b[32m--> \u001b[39m\u001b[32m580\u001b[39m     \u001b[43m_check_reg_targets_with_floating_dtype\u001b[49m\u001b[43m(\u001b[49m\n\u001b[32m    581\u001b[39m \u001b[43m        \u001b[49m\u001b[43my_true\u001b[49m\u001b[43m,\u001b[49m\u001b[43m \u001b[49m\u001b[43my_pred\u001b[49m\u001b[43m,\u001b[49m\u001b[43m \u001b[49m\u001b[43msample_weight\u001b[49m\u001b[43m,\u001b[49m\u001b[43m \u001b[49m\u001b[43mmultioutput\u001b[49m\u001b[43m,\u001b[49m\u001b[43m \u001b[49m\u001b[43mxp\u001b[49m\u001b[43m=\u001b[49m\u001b[43mxp\u001b[49m\n\u001b[32m    582\u001b[39m \u001b[43m    \u001b[49m\u001b[43m)\u001b[49m\n\u001b[32m    583\u001b[39m )\n\u001b[32m    584\u001b[39m output_errors = _average((y_true - y_pred) ** \u001b[32m2\u001b[39m, axis=\u001b[32m0\u001b[39m, weights=sample_weight)\n\u001b[32m    586\u001b[39m \u001b[38;5;28;01mif\u001b[39;00m \u001b[38;5;28misinstance\u001b[39m(multioutput, \u001b[38;5;28mstr\u001b[39m):\n",
      "\u001b[36mFile \u001b[39m\u001b[32mc:\\Users\\Home_Pc\\Desktop\\Intership_project\\venv\\Lib\\site-packages\\sklearn\\metrics\\_regression.py:209\u001b[39m, in \u001b[36m_check_reg_targets_with_floating_dtype\u001b[39m\u001b[34m(y_true, y_pred, sample_weight, multioutput, xp)\u001b[39m\n\u001b[32m    160\u001b[39m \u001b[38;5;250m\u001b[39m\u001b[33;03m\"\"\"Ensures y_true, y_pred, and sample_weight correspond to same regression task.\u001b[39;00m\n\u001b[32m    161\u001b[39m \n\u001b[32m    162\u001b[39m \u001b[33;03mExtends `_check_reg_targets` by automatically selecting a suitable floating-point\u001b[39;00m\n\u001b[32m   (...)\u001b[39m\u001b[32m    205\u001b[39m \u001b[33;03m    correct keyword.\u001b[39;00m\n\u001b[32m    206\u001b[39m \u001b[33;03m\"\"\"\u001b[39;00m\n\u001b[32m    207\u001b[39m dtype_name = _find_matching_floating_dtype(y_true, y_pred, sample_weight, xp=xp)\n\u001b[32m--> \u001b[39m\u001b[32m209\u001b[39m y_type, y_true, y_pred, sample_weight, multioutput = \u001b[43m_check_reg_targets\u001b[49m\u001b[43m(\u001b[49m\n\u001b[32m    210\u001b[39m \u001b[43m    \u001b[49m\u001b[43my_true\u001b[49m\u001b[43m,\u001b[49m\u001b[43m \u001b[49m\u001b[43my_pred\u001b[49m\u001b[43m,\u001b[49m\u001b[43m \u001b[49m\u001b[43msample_weight\u001b[49m\u001b[43m,\u001b[49m\u001b[43m \u001b[49m\u001b[43mmultioutput\u001b[49m\u001b[43m,\u001b[49m\u001b[43m \u001b[49m\u001b[43mdtype\u001b[49m\u001b[43m=\u001b[49m\u001b[43mdtype_name\u001b[49m\u001b[43m,\u001b[49m\u001b[43m \u001b[49m\u001b[43mxp\u001b[49m\u001b[43m=\u001b[49m\u001b[43mxp\u001b[49m\n\u001b[32m    211\u001b[39m \u001b[43m\u001b[49m\u001b[43m)\u001b[49m\n\u001b[32m    213\u001b[39m \u001b[38;5;28;01mreturn\u001b[39;00m y_type, y_true, y_pred, sample_weight, multioutput\n",
      "\u001b[36mFile \u001b[39m\u001b[32mc:\\Users\\Home_Pc\\Desktop\\Intership_project\\venv\\Lib\\site-packages\\sklearn\\metrics\\_regression.py:115\u001b[39m, in \u001b[36m_check_reg_targets\u001b[39m\u001b[34m(y_true, y_pred, sample_weight, multioutput, dtype, xp)\u001b[39m\n\u001b[32m    112\u001b[39m xp, _ = get_namespace(y_true, y_pred, multioutput, xp=xp)\n\u001b[32m    114\u001b[39m check_consistent_length(y_true, y_pred, sample_weight)\n\u001b[32m--> \u001b[39m\u001b[32m115\u001b[39m y_true = \u001b[43mcheck_array\u001b[49m\u001b[43m(\u001b[49m\u001b[43my_true\u001b[49m\u001b[43m,\u001b[49m\u001b[43m \u001b[49m\u001b[43mensure_2d\u001b[49m\u001b[43m=\u001b[49m\u001b[38;5;28;43;01mFalse\u001b[39;49;00m\u001b[43m,\u001b[49m\u001b[43m \u001b[49m\u001b[43mdtype\u001b[49m\u001b[43m=\u001b[49m\u001b[43mdtype\u001b[49m\u001b[43m)\u001b[49m\n\u001b[32m    116\u001b[39m y_pred = check_array(y_pred, ensure_2d=\u001b[38;5;28;01mFalse\u001b[39;00m, dtype=dtype)\n\u001b[32m    117\u001b[39m \u001b[38;5;28;01mif\u001b[39;00m sample_weight \u001b[38;5;129;01mis\u001b[39;00m \u001b[38;5;129;01mnot\u001b[39;00m \u001b[38;5;28;01mNone\u001b[39;00m:\n",
      "\u001b[36mFile \u001b[39m\u001b[32mc:\\Users\\Home_Pc\\Desktop\\Intership_project\\venv\\Lib\\site-packages\\sklearn\\utils\\validation.py:1105\u001b[39m, in \u001b[36mcheck_array\u001b[39m\u001b[34m(array, accept_sparse, accept_large_sparse, dtype, order, copy, force_writeable, force_all_finite, ensure_all_finite, ensure_non_negative, ensure_2d, allow_nd, ensure_min_samples, ensure_min_features, estimator, input_name)\u001b[39m\n\u001b[32m   1099\u001b[39m     \u001b[38;5;28;01mraise\u001b[39;00m \u001b[38;5;167;01mValueError\u001b[39;00m(\n\u001b[32m   1100\u001b[39m         \u001b[33mf\u001b[39m\u001b[33m\"\u001b[39m\u001b[33mFound array with dim \u001b[39m\u001b[38;5;132;01m{\u001b[39;00marray.ndim\u001b[38;5;132;01m}\u001b[39;00m\u001b[33m,\u001b[39m\u001b[33m\"\u001b[39m\n\u001b[32m   1101\u001b[39m         \u001b[33mf\u001b[39m\u001b[33m\"\u001b[39m\u001b[33m while dim <= 2 is required\u001b[39m\u001b[38;5;132;01m{\u001b[39;00mcontext\u001b[38;5;132;01m}\u001b[39;00m\u001b[33m.\u001b[39m\u001b[33m\"\u001b[39m\n\u001b[32m   1102\u001b[39m     )\n\u001b[32m   1104\u001b[39m \u001b[38;5;28;01mif\u001b[39;00m ensure_all_finite:\n\u001b[32m-> \u001b[39m\u001b[32m1105\u001b[39m     \u001b[43m_assert_all_finite\u001b[49m\u001b[43m(\u001b[49m\n\u001b[32m   1106\u001b[39m \u001b[43m        \u001b[49m\u001b[43marray\u001b[49m\u001b[43m,\u001b[49m\n\u001b[32m   1107\u001b[39m \u001b[43m        \u001b[49m\u001b[43minput_name\u001b[49m\u001b[43m=\u001b[49m\u001b[43minput_name\u001b[49m\u001b[43m,\u001b[49m\n\u001b[32m   1108\u001b[39m \u001b[43m        \u001b[49m\u001b[43mestimator_name\u001b[49m\u001b[43m=\u001b[49m\u001b[43mestimator_name\u001b[49m\u001b[43m,\u001b[49m\n\u001b[32m   1109\u001b[39m \u001b[43m        \u001b[49m\u001b[43mallow_nan\u001b[49m\u001b[43m=\u001b[49m\u001b[43mensure_all_finite\u001b[49m\u001b[43m \u001b[49m\u001b[43m==\u001b[49m\u001b[43m \u001b[49m\u001b[33;43m\"\u001b[39;49m\u001b[33;43mallow-nan\u001b[39;49m\u001b[33;43m\"\u001b[39;49m\u001b[43m,\u001b[49m\n\u001b[32m   1110\u001b[39m \u001b[43m    \u001b[49m\u001b[43m)\u001b[49m\n\u001b[32m   1112\u001b[39m \u001b[38;5;28;01mif\u001b[39;00m copy:\n\u001b[32m   1113\u001b[39m     \u001b[38;5;28;01mif\u001b[39;00m _is_numpy_namespace(xp):\n\u001b[32m   1114\u001b[39m         \u001b[38;5;66;03m# only make a copy if `array` and `array_orig` may share memory`\u001b[39;00m\n",
      "\u001b[36mFile \u001b[39m\u001b[32mc:\\Users\\Home_Pc\\Desktop\\Intership_project\\venv\\Lib\\site-packages\\sklearn\\utils\\validation.py:120\u001b[39m, in \u001b[36m_assert_all_finite\u001b[39m\u001b[34m(X, allow_nan, msg_dtype, estimator_name, input_name)\u001b[39m\n\u001b[32m    117\u001b[39m \u001b[38;5;28;01mif\u001b[39;00m first_pass_isfinite:\n\u001b[32m    118\u001b[39m     \u001b[38;5;28;01mreturn\u001b[39;00m\n\u001b[32m--> \u001b[39m\u001b[32m120\u001b[39m \u001b[43m_assert_all_finite_element_wise\u001b[49m\u001b[43m(\u001b[49m\n\u001b[32m    121\u001b[39m \u001b[43m    \u001b[49m\u001b[43mX\u001b[49m\u001b[43m,\u001b[49m\n\u001b[32m    122\u001b[39m \u001b[43m    \u001b[49m\u001b[43mxp\u001b[49m\u001b[43m=\u001b[49m\u001b[43mxp\u001b[49m\u001b[43m,\u001b[49m\n\u001b[32m    123\u001b[39m \u001b[43m    \u001b[49m\u001b[43mallow_nan\u001b[49m\u001b[43m=\u001b[49m\u001b[43mallow_nan\u001b[49m\u001b[43m,\u001b[49m\n\u001b[32m    124\u001b[39m \u001b[43m    \u001b[49m\u001b[43mmsg_dtype\u001b[49m\u001b[43m=\u001b[49m\u001b[43mmsg_dtype\u001b[49m\u001b[43m,\u001b[49m\n\u001b[32m    125\u001b[39m \u001b[43m    \u001b[49m\u001b[43mestimator_name\u001b[49m\u001b[43m=\u001b[49m\u001b[43mestimator_name\u001b[49m\u001b[43m,\u001b[49m\n\u001b[32m    126\u001b[39m \u001b[43m    \u001b[49m\u001b[43minput_name\u001b[49m\u001b[43m=\u001b[49m\u001b[43minput_name\u001b[49m\u001b[43m,\u001b[49m\n\u001b[32m    127\u001b[39m \u001b[43m\u001b[49m\u001b[43m)\u001b[49m\n",
      "\u001b[36mFile \u001b[39m\u001b[32mc:\\Users\\Home_Pc\\Desktop\\Intership_project\\venv\\Lib\\site-packages\\sklearn\\utils\\validation.py:169\u001b[39m, in \u001b[36m_assert_all_finite_element_wise\u001b[39m\u001b[34m(X, xp, allow_nan, msg_dtype, estimator_name, input_name)\u001b[39m\n\u001b[32m    152\u001b[39m \u001b[38;5;28;01mif\u001b[39;00m estimator_name \u001b[38;5;129;01mand\u001b[39;00m input_name == \u001b[33m\"\u001b[39m\u001b[33mX\u001b[39m\u001b[33m\"\u001b[39m \u001b[38;5;129;01mand\u001b[39;00m has_nan_error:\n\u001b[32m    153\u001b[39m     \u001b[38;5;66;03m# Improve the error message on how to handle missing values in\u001b[39;00m\n\u001b[32m    154\u001b[39m     \u001b[38;5;66;03m# scikit-learn.\u001b[39;00m\n\u001b[32m    155\u001b[39m     msg_err += (\n\u001b[32m    156\u001b[39m         \u001b[33mf\u001b[39m\u001b[33m\"\u001b[39m\u001b[38;5;130;01m\\n\u001b[39;00m\u001b[38;5;132;01m{\u001b[39;00mestimator_name\u001b[38;5;132;01m}\u001b[39;00m\u001b[33m does not accept missing values\u001b[39m\u001b[33m\"\u001b[39m\n\u001b[32m    157\u001b[39m         \u001b[33m\"\u001b[39m\u001b[33m encoded as NaN natively. For supervised learning, you might want\u001b[39m\u001b[33m\"\u001b[39m\n\u001b[32m   (...)\u001b[39m\u001b[32m    167\u001b[39m         \u001b[33m\"\u001b[39m\u001b[33m#estimators-that-handle-nan-values\u001b[39m\u001b[33m\"\u001b[39m\n\u001b[32m    168\u001b[39m     )\n\u001b[32m--> \u001b[39m\u001b[32m169\u001b[39m \u001b[38;5;28;01mraise\u001b[39;00m \u001b[38;5;167;01mValueError\u001b[39;00m(msg_err)\n",
      "\u001b[31mValueError\u001b[39m: Input contains NaN."
     ]
    }
   ],
   "source": [
    "# Calculate hourly metrics for each MeterCode\n",
    "hour_metrics = {}\n",
    "for meter in meter_codes:\n",
    "    actual = df_hour[df_hour['MeterCode'] == meter]['FV']\n",
    "    forecast = h_forecasts[meter]['yhat'].head(len(actual))  \n",
    "    rmse, mae, mape = evaluate_forecast(actual, forecast)\n",
    "    hour_metrics[meter] = {'RMSE': rmse, 'MAE': mae, 'MAPE': mape}"
   ]
  },
  {
   "cell_type": "code",
   "execution_count": null,
   "id": "66ac8aff",
   "metadata": {},
   "outputs": [],
   "source": [
    "# Summary table\n",
    "metrics_df = pd.DataFrame.from_dict(hour_metrics, orient='index')\n",
    "print(\"\\nSummary of Evaluation hourly Metrics Across All MeterCodes:\")\n",
    "print(metrics_df.describe())"
   ]
  },
  {
   "cell_type": "code",
   "execution_count": null,
   "id": "cbd896c4",
   "metadata": {},
   "outputs": [],
   "source": [
    "# Define plotting and metrics display function\n",
    "def plot_and_evaluate(meter_code):\n",
    "\n",
    "    # Display metrics\n",
    "    metric_values = hour_metrics[meter_code]\n",
    "    print(f\"Evaluation Hourly Metrics for MeterCode: {meter_code}\")\n",
    "    print(f\"RMSE: {metric_values['RMSE']:.4f}\")\n",
    "    print(f\"MAE: {metric_values['MAE']:.4f}\")\n",
    "    print(f\"MAPE: {metric_values['MAPE']:.2f}%\")\n",
    "\n",
    "# Create interactive dropdown\n",
    "interact(plot_and_evaluate, meter_code=Dropdown(options=[str(m) for m in meter_codes], description='MeterCode:'))"
   ]
  },
  {
   "cell_type": "code",
   "execution_count": null,
   "id": "8f43c974",
   "metadata": {},
   "outputs": [],
   "source": [
    "# df_fv_daily = df_hour.groupby([pd.Grouper(key='LocalTimeCol', freq='D'), 'MeterCode'])['FV'].sum().reset_index()"
   ]
  },
  {
   "cell_type": "code",
   "execution_count": null,
   "id": "a1aaa8a4",
   "metadata": {},
   "outputs": [],
   "source": [
    "# # Calculate daily metrics for each MeterCode\n",
    "daily_metrics = {}\n",
    "for meter in meter_codes:\n",
    "    actual = df_day[df_day['MeterCode'] == meter]['FV']\n",
    "    forecast = d_forecasts.get(meter, pd.DataFrame())\n",
    "    if forecast.empty:\n",
    "        print(f\"No forecast for {meter}, skipping...\")\n",
    "        continue\n",
    "    merged = pd.merge(df_day[df_day['MeterCode'] == meter][['LocalTimeCol', 'FV']], \n",
    "                      forecast.rename(columns={'ds': 'LocalTimeCol'}), \n",
    "                      on='LocalTimeCol', how='left')\n",
    "    actual = merged['FV']\n",
    "    predicted = merged['yhat'].fillna(0)\n",
    "    if len(actual) == 0 or len(predicted) == 0:\n",
    "        print(f\"No matching data for {meter}, skipping...\")\n",
    "        continue\n",
    "    rmse, mae, mape = evaluate_forecast(actual, predicted)\n",
    "    daily_metrics[meter] = {'RMSE': rmse, 'MAE': mae, 'MAPE': mape}"
   ]
  },
  {
   "cell_type": "code",
   "execution_count": null,
   "id": "2a3ed36f",
   "metadata": {},
   "outputs": [],
   "source": [
    "# Summary table\n",
    "metrics_df = pd.DataFrame.from_dict(daily_metrics, orient='index')\n",
    "print(\"\\n Summary of Evaluation Metrics Across All MeterCodes:\")\n",
    "print(metrics_df.describe())"
   ]
  },
  {
   "cell_type": "code",
   "execution_count": null,
   "id": "41559465",
   "metadata": {},
   "outputs": [],
   "source": [
    "# Define daily plotting and metrics display function\n",
    "def plot_and_evaluate(meter_code):\n",
    "\n",
    "    # Display metrics\n",
    "    metric_values = daily_metrics[meter_code]\n",
    "    print(f\"Evaluation Daily Metrics for MeterCode: {meter_code}\")\n",
    "    print(f\"RMSE: {metric_values['RMSE']:.4f}\")\n",
    "    print(f\"MAE: {metric_values['MAE']:.4f}\")\n",
    "    print(f\"MAPE: {metric_values['MAPE']:.2f}%\")\n",
    "\n",
    "# Create interactive dropdown\n",
    "interact(plot_and_evaluate, meter_code=Dropdown(options=[str(m) for m in meter_codes], description='MeterCode:'))"
   ]
  },
  {
   "cell_type": "code",
   "execution_count": null,
   "id": "2ee2b3e1",
   "metadata": {},
   "outputs": [],
   "source": []
  },
  {
   "cell_type": "code",
   "execution_count": null,
   "id": "c1ec84f5",
   "metadata": {},
   "outputs": [],
   "source": [
    "# Split at a chosen date\n",
    "split_date = '2025-05-01'"
   ]
  },
  {
   "cell_type": "code",
   "execution_count": null,
   "id": "5cc47f3b",
   "metadata": {},
   "outputs": [],
   "source": [
    "# train_data = df_hour[df_hour['LocalTimeCol'] <= split_date].copy()\n",
    "# test_data = df_hour[df_hour['LocalTimeCol'] > split_date].copy()"
   ]
  },
  {
   "cell_type": "code",
   "execution_count": null,
   "id": "0aa07b4f",
   "metadata": {},
   "outputs": [],
   "source": [
    "# Function to calculate evaluation metrics\n",
    "def evaluate_forecast_for_split_date(actual, predicted):\n",
    "\n",
    "    actual = np.array(actual, dtype=float)\n",
    "    predicted = np.array(predicted, dtype=float)\n",
    "    \n",
    "     # Compute errors\n",
    "    mse = mean_squared_error(actual, predicted)\n",
    "    rmse = np.sqrt(mse)\n",
    "    mae = mean_absolute_error(actual, predicted)\n",
    "\n",
    "    # Mask to avoid division by zero in MAPE\n",
    "    mask = (actual != 0) & (~np.isnan(actual))\n",
    "    if mask.sum() > 0:\n",
    "        mape = np.mean(np.abs((actual[mask] - predicted[mask]) / actual[mask])) * 100\n",
    "    else:\n",
    "        mape = np.nan\n",
    "\n",
    "    return rmse, mae, mape"
   ]
  },
  {
   "cell_type": "code",
   "execution_count": null,
   "id": "05a09152",
   "metadata": {},
   "outputs": [],
   "source": [
    "def split_and_forecast(train_data, test_data, freq='h'):\n",
    "    model = Prophet(\n",
    "        yearly_seasonality=False,\n",
    "        weekly_seasonality=True,\n",
    "        daily_seasonality=True,\n",
    "        seasonality_mode='additive'\n",
    "    )\n",
    "\n",
    "    model.fit(train_data)\n",
    "    \n",
    "    # Create future dataframe\n",
    "    if freq == 'h':\n",
    "        future = model.make_future_dataframe(periods=len(test_data),freq=freq)\n",
    "    else:\n",
    "        future = model.make_future_dataframe(periods=len(test_data),freq=freq)\n",
    "    \n",
    "    forecast = model.predict(future)\n",
    "\n",
    "    # Extract predictions for the test period\n",
    "    forecasted_test = forecast.tail(len(test_data))\n",
    "    return model, forecast, forecasted_test"
   ]
  },
  {
   "cell_type": "code",
   "execution_count": null,
   "metadata": {},
   "outputs": [],
   "source": [
    "# Prepare data and fit Prophet model for each MeterCode\n",
    "hr_forecasts = {}\n",
    "hr_forecast_test = {}\n",
    "hr_models = {}\n",
    "hr_metrics = {}\n",
    "\n",
    "for meter in df_hour['MeterCode'].unique():\n",
    "   \n",
    "    meter_data = df_hour[df_hour['MeterCode'] == meter].copy()\n",
    "\n",
    "    train_data = meter_data[meter_data['LocalTimeCol'] <= split_date].copy()\n",
    "    test_data = meter_data[meter_data['LocalTimeCol'] > split_date].copy()\n",
    "\n",
    "    train_meter_fv_data = train_data[train_data['MeterCode'] == meter][['LocalTimeCol', 'FV']].copy()\n",
    "    train_meter_fv_data = train_meter_fv_data.rename(columns={'LocalTimeCol': 'ds', 'FV': 'y'})\n",
    "\n",
    "    test_meter_fv_data = test_data[test_data['MeterCode'] == meter][['LocalTimeCol', 'FV']].copy()\n",
    "    test_meter_fv_data = test_meter_fv_data.rename(columns={'LocalTimeCol': 'ds', 'FV': 'y'})\n",
    "    \n",
    "    # Check for sufficient data\n",
    "    if train_meter_fv_data.empty or len(train_meter_fv_data) < 2 or test_meter_fv_data.empty:\n",
    "        print(f\"Skipping MeterCode {meter}: Insufficient data for Prophet\")\n",
    "        continue\n",
    "    \n",
    "    # Fit Prophet model and forecast\n",
    "    try:\n",
    "        model, forecast, forecast_test = split_and_forecast(train_meter_fv_data, test_meter_fv_data, freq='h')\n",
    "        hr_models[meter] = model\n",
    "        hr_forecasts[meter] = forecast\n",
    "        hr_forecast_test[meter] = forecast_test\n",
    "    except Exception as e:\n",
    "        print(f\"Error for MeterCode {meter}: {e}\")\n",
    "        continue\n",
    "\n",
    "\n",
    "    # Check alignment\n",
    "    if len(forecast_test) != len(test_meter_fv_data):\n",
    "        print(f\"Length mismatch for MeterCode {meter}: forecast_test={len(forecast_test)}, test_data={len(test_meter_fv_data)}\")\n",
    "\n",
    "    # Evaluate metrics\n",
    "    actual = test_meter_fv_data['y']\n",
    "    predicted = forecast_test['yhat']\n",
    "    # print(f\"predicted length for MeterCode {meter}: {len(predicted)}\")\n",
    "    if len(actual) > 0 and len(predicted) > 0:\n",
    "        rmse, mae, mape = evaluate_forecast_for_split_date(actual, predicted)\n",
    "        hr_metrics[meter] = {'RMSE': rmse, 'MAE': mae, 'MAPE': mape}\n",
    "\n",
    "print(f\"\\nProphet models fitted for {len(hr_forecasts)} MeterCode values\")"
   ]
  },
  {
   "cell_type": "code",
   "execution_count": null,
   "id": "68af92c4",
   "metadata": {},
   "outputs": [],
   "source": [
    "# Define daily plotting and metrics display function\n",
    "def plot_and_evaluate(meter_code):\n",
    "\n",
    "    # Display metrics\n",
    "    metric_values = hr_metrics[meter_code]\n",
    "    print(f\"Evaluation hourly Metrics based on split date for MeterCode: {meter_code}\")\n",
    "    print(f\"RMSE: {metric_values['RMSE']:.4f}\")\n",
    "    print(f\"MAE: {metric_values['MAE']:.4f}\")\n",
    "    print(f\"MAPE: {metric_values['MAPE']:.2f}%\")\n",
    "\n",
    "# Create interactive dropdown\n",
    "interact(plot_and_evaluate, meter_code=Dropdown(options=[str(m) for m in meter_codes], description='MeterCode:'))"
   ]
  },
  {
   "cell_type": "code",
   "execution_count": null,
   "id": "3e6ac3de",
   "metadata": {},
   "outputs": [],
   "source": []
  },
  {
   "cell_type": "code",
   "execution_count": null,
   "id": "eb6ed769",
   "metadata": {},
   "outputs": [],
   "source": [
    "# Prepare data and fit Prophet model for each MeterCode\n",
    "dy_forecasts = {}\n",
    "dy_forecast_test = {}\n",
    "dy_models = {}\n",
    "dy_metrics = {}\n",
    "\n",
    "for meter in df_day['MeterCode'].unique():\n",
    "   \n",
    "    meter_data = df_day[df_day['MeterCode'] == meter].copy()\n",
    "\n",
    "    train_data = meter_data[meter_data['LocalTimeCol'] <= split_date].copy()\n",
    "    test_data = meter_data[meter_data['LocalTimeCol'] > split_date].copy()\n",
    "\n",
    "    train_meter_fv_data = train_data[train_data['MeterCode'] == meter][['LocalTimeCol', 'FV']].copy()\n",
    "    train_meter_fv_data = train_meter_fv_data.rename(columns={'LocalTimeCol': 'ds', 'FV': 'y'})\n",
    "\n",
    "    test_meter_fv_data = test_data[test_data['MeterCode'] == meter][['LocalTimeCol', 'FV']].copy()\n",
    "    test_meter_fv_data = test_meter_fv_data.rename(columns={'LocalTimeCol': 'ds', 'FV': 'y'})\n",
    "    \n",
    "    # Check for sufficient data\n",
    "    if train_meter_fv_data.empty or len(train_meter_fv_data) < 2 or test_meter_fv_data.empty:\n",
    "        print(f\"Skipping MeterCode {meter}: Insufficient data for Prophet\")\n",
    "        continue\n",
    "    \n",
    "    # Fit Prophet model and forecast\n",
    "    try:\n",
    "        model, forecast, forecast_test = split_and_forecast(train_meter_fv_data, test_meter_fv_data, freq='h')\n",
    "        dy_models[meter] = model\n",
    "        dy_forecasts[meter] = forecast\n",
    "        dy_forecast_test[meter] = forecast_test\n",
    "    except Exception as e:\n",
    "        print(f\"Error for MeterCode {meter}: {e}\")\n",
    "        continue\n",
    "\n",
    "\n",
    "    # Check alignment\n",
    "    if len(forecast_test) != len(test_meter_fv_data):\n",
    "        print(f\"Length mismatch for MeterCode {meter}: forecast_test={len(forecast_test)}, test_data={len(test_meter_fv_data)}\")\n",
    "\n",
    "    # Evaluate metrics\n",
    "    actual = test_meter_fv_data['y']\n",
    "    predicted = forecast_test['yhat']\n",
    "    # print(f\"predicted length for MeterCode {meter}: {len(predicted)}\")\n",
    "    if len(actual) > 0 and len(predicted) > 0:\n",
    "        rmse, mae, mape = evaluate_forecast_for_split_date(actual, predicted)\n",
    "        dy_metrics[meter] = {'RMSE': rmse, 'MAE': mae, 'MAPE': mape}\n",
    "\n",
    "print(f\"\\nProphet models fitted for {len(hr_forecasts)} MeterCode values\")"
   ]
  },
  {
   "cell_type": "code",
   "execution_count": null,
   "id": "75bb659d",
   "metadata": {},
   "outputs": [],
   "source": [
    "# Define daily plotting and metrics display function\n",
    "def plot_and_evaluate(meter_code):\n",
    "\n",
    "    # Display metrics\n",
    "    metric_values = dy_metrics[meter_code]\n",
    "    print(f\"Evaluation daily Metrics based on split date for MeterCode: {meter_code}\")\n",
    "    print(f\"RMSE: {metric_values['RMSE']:.4f}\")\n",
    "    print(f\"MAE: {metric_values['MAE']:.4f}\")\n",
    "    print(f\"MAPE: {metric_values['MAPE']:.2f}%\")\n",
    "\n",
    "# Create interactive dropdown\n",
    "interact(plot_and_evaluate, meter_code=Dropdown(options=[str(m) for m in meter_codes], description='MeterCode:'))"
   ]
  },
  {
   "cell_type": "code",
   "execution_count": null,
   "id": "9d9c63d5",
   "metadata": {},
   "outputs": [],
   "source": [
    "df_hour"
   ]
  },
  {
   "cell_type": "code",
   "execution_count": null,
   "id": "7a6df161",
   "metadata": {},
   "outputs": [],
   "source": [
    "df_hour.MeterCode.value_counts()"
   ]
  },
  {
   "cell_type": "code",
   "execution_count": null,
   "id": "74468566",
   "metadata": {},
   "outputs": [],
   "source": [
    "# Custom function to train, forecast, and evaluate with tuning\n",
    "def train_forecast_evaluate_tuned(train_data, test_data, freq='h', changepoint_prior_scale=0.05, holidays=None):\n",
    "    model = Prophet(\n",
    "        yearly_seasonality=False,\n",
    "        weekly_seasonality=True,\n",
    "        daily_seasonality=True,\n",
    "        seasonality_mode='additive',\n",
    "        changepoint_prior_scale=changepoint_prior_scale,\n",
    "        holidays=holidays\n",
    "    )\n",
    "   \n",
    "    model.fit(train_data)\n",
    "    if freq == 'h':\n",
    "        future = model.make_future_dataframe(periods=len(test_data), freq=freq)\n",
    "    else:\n",
    "        future = model.make_future_dataframe(periods=len(test_data), freq=freq)\n",
    "    \n",
    "    forecast = model.predict(future)\n",
    "    forecast_test = forecast.tail(len(test_data))\n",
    "    \n",
    "    actual = test_data['y']\n",
    "    predicted = forecast_test['yhat']\n",
    "    if len(actual) > 0 and len(predicted) > 0:\n",
    "        rmse, mae, mape = evaluate_forecast_for_split_date(actual, predicted)\n",
    "    else:\n",
    "        rmse, mae, mape = np.nan, np.nan, np.nan\n",
    "    \n",
    "    return model, forecast, forecast_test, rmse, mae, mape"
   ]
  },
  {
   "cell_type": "code",
   "execution_count": null,
   "id": "2808bc51",
   "metadata": {},
   "outputs": [],
   "source": [
    "# Define holidays\n",
    "holidays = pd.DataFrame({\n",
    "    'holiday': ['labour day', 'shutdown'],\n",
    "    'ds': pd.to_datetime(['2025-05-01',  # Labor Day\n",
    "                          '2025-05-10'  # shutdown\n",
    "                        ]), \n",
    "    'lower_window': 0,\n",
    "    'upper_window': 0\n",
    "})"
   ]
  },
  {
   "cell_type": "code",
   "execution_count": null,
   "id": "2808bc51",
   "metadata": {},
   "outputs": [],
   "source": []
  },
  {
   "cell_type": "code",
   "execution_count": null,
   "id": "6027bab4",
   "metadata": {},
   "outputs": [],
   "source": [
    "# Ensure LocalTimeCol is in datetime format\n",
    "df_hour['LocalTimeCol'] = pd.to_datetime(df_hour['LocalTimeCol'])"
   ]
  },
  {
   "cell_type": "code",
   "execution_count": null,
   "id": "5fbab1b9",
   "metadata": {},
   "outputs": [],
   "source": [
    "\n",
    "# Identify meters with mostly zero values\n",
    "zero_proportions = df_hour.groupby('MeterCode')['FV'].apply(lambda x: (x == 0).mean()).reset_index(name='zero_proportion')\n",
    "meters_with_high_zeros = zero_proportions[zero_proportions['zero_proportion'] > 0.8]"
   ]
  },
  {
   "cell_type": "code",
   "execution_count": null,
   "id": "1fcc245d",
   "metadata": {},
   "outputs": [],
   "source": [
    "zero_proportions.head()"
   ]
  },
  {
   "cell_type": "code",
   "execution_count": null,
   "id": "20edec41",
   "metadata": {},
   "outputs": [],
   "source": [
    "# Identify meters with insufficient data\n",
    "start_time = df_hour['LocalTimeCol'].min()\n",
    "end_time = df_hour['LocalTimeCol'].max()\n",
    "expected_hours = pd.date_range(start=start_time, end=end_time, freq='h').size\n",
    "print(f\"Expected hours based on data range: {expected_hours} (from {start_time} to {end_time})\")\n",
    "timestamp_coverage = df_hour.groupby('MeterCode').agg(\n",
    "    total_points=('FV', 'count'),\n",
    "    unique_timestamps=('LocalTimeCol', 'nunique')\n",
    ").reset_index()\n",
    "timestamp_coverage['coverage_percentage'] = (timestamp_coverage['unique_timestamps'] / expected_hours) * 100\n",
    "meters_with_insufficient_data = timestamp_coverage[timestamp_coverage['coverage_percentage'] < 50]\n",
    "\n",
    "# Combine problematic meters\n",
    "problematic_meters = set(meters_with_high_zeros['MeterCode']).union(set(meters_with_insufficient_data['MeterCode']))\n",
    "print(f\"Total problematic MeterCode values to exclude: {len(problematic_meters)}\")\n",
    "print(f\"Problematic MeterCodes: {problematic_meters}\")\n",
    "\n",
    "# Filter df_hour to exclude problematic meters\n",
    "df_clean = df_hour[~df_hour['MeterCode'].isin(problematic_meters)].copy()\n",
    "print(f\"Remaining MeterCode values after exclusion: {df_clean['MeterCode'].nunique()}\")\n"
   ]
  }
 ],
 "metadata": {
  "kernelspec": {
   "display_name": "venv",
   "language": "python",
   "name": "python3"
  },
  "language_info": {
   "codemirror_mode": {
    "name": "ipython",
    "version": 3
   },
   "file_extension": ".py",
   "mimetype": "text/x-python",
   "name": "python",
   "nbconvert_exporter": "python",
   "pygments_lexer": "ipython3",
   "version": "3.13.2"
  }
 },
 "nbformat": 4,
 "nbformat_minor": 5
}
